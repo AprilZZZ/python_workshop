{
 "cells": [
  {
   "cell_type": "markdown",
   "id": "8f52377a",
   "metadata": {},
   "source": [
    "# Working with dates and time"
   ]
  },
  {
   "cell_type": "code",
   "execution_count": 63,
   "id": "c4fa4bc3",
   "metadata": {},
   "outputs": [],
   "source": [
    "import calendar\n",
    "from datetime import date\n",
    "from datetime import timedelta\n",
    "from datetime import time as dtime\n",
    "from datetime import datetime as dt\n",
    "import time\n",
    "import dateutil\n",
    "import datetime"
   ]
  },
  {
   "cell_type": "markdown",
   "id": "bfda05bc",
   "metadata": {},
   "source": [
    "## Calendar module"
   ]
  },
  {
   "cell_type": "code",
   "execution_count": 3,
   "id": "859d126d",
   "metadata": {},
   "outputs": [
    {
     "data": {
      "text/plain": [
       "False"
      ]
     },
     "execution_count": 3,
     "metadata": {},
     "output_type": "execute_result"
    }
   ],
   "source": [
    "# високосный год\n",
    "calendar.isleap(2022)"
   ]
  },
  {
   "cell_type": "code",
   "execution_count": 4,
   "id": "b1188792",
   "metadata": {},
   "outputs": [
    {
     "data": {
      "text/plain": [
       "True"
      ]
     },
     "execution_count": 4,
     "metadata": {},
     "output_type": "execute_result"
    }
   ],
   "source": [
    "calendar.isleap(2000)"
   ]
  },
  {
   "cell_type": "markdown",
   "id": "be8fdadb",
   "metadata": {},
   "source": [
    "## Datetime module and it's 4 classes\n",
    "\n",
    "### datetime.date\n",
    "\n",
    "Attributes: `year`, `month`, and `day`."
   ]
  },
  {
   "cell_type": "code",
   "execution_count": 9,
   "id": "87c013b2",
   "metadata": {},
   "outputs": [
    {
     "name": "stdout",
     "output_type": "stream",
     "text": [
      "halloween=datetime.date(2019, 10, 31)\n",
      "halloween.day=31\n",
      "halloween.month=10\n",
      "halloween.year=2019\n"
     ]
    }
   ],
   "source": [
    "# date object\n",
    "halloween = date(2019, 10, 31)\n",
    "print(f'{halloween=}')\n",
    "print(f'{halloween.day=}')\n",
    "print(f'{halloween.month=}')\n",
    "print(f'{halloween.year=}')"
   ]
  },
  {
   "cell_type": "code",
   "execution_count": 136,
   "id": "179fedd1",
   "metadata": {},
   "outputs": [
    {
     "data": {
      "text/plain": [
       "datetime.date(2022, 11, 15)"
      ]
     },
     "execution_count": 136,
     "metadata": {},
     "output_type": "execute_result"
    }
   ],
   "source": [
    "# Return the local date corresponding to the POSIX timestamp, such as is returned by time.time().\n",
    "date.fromtimestamp(time.time())"
   ]
  },
  {
   "cell_type": "code",
   "execution_count": 134,
   "id": "c2a53836",
   "metadata": {},
   "outputs": [
    {
     "data": {
      "text/plain": [
       "datetime.date(1, 1, 14)"
      ]
     },
     "execution_count": 134,
     "metadata": {},
     "output_type": "execute_result"
    }
   ],
   "source": [
    "# Return the date corresponding to the proleptic Gregorian ordinal, where January 1 of year 1 has ordinal 1.\n",
    "date.fromordinal(14)"
   ]
  },
  {
   "cell_type": "code",
   "execution_count": 137,
   "id": "9ee94187",
   "metadata": {},
   "outputs": [
    {
     "data": {
      "text/plain": [
       "datetime.date(2019, 12, 4)"
      ]
     },
     "execution_count": 137,
     "metadata": {},
     "output_type": "execute_result"
    }
   ],
   "source": [
    "# Return a date corresponding to a date_string given in any valid ISO 8601 format\n",
    "date.fromisoformat('2019-12-04')"
   ]
  },
  {
   "cell_type": "code",
   "execution_count": 10,
   "id": "87bdd0a8",
   "metadata": {},
   "outputs": [
    {
     "data": {
      "text/plain": [
       "'2019-10-31'"
      ]
     },
     "execution_count": 10,
     "metadata": {},
     "output_type": "execute_result"
    }
   ],
   "source": [
    "# формат ISO 8601 удобен для сортировки дат: сначала идет год\n",
    "halloween.isoformat()"
   ]
  },
  {
   "cell_type": "code",
   "execution_count": 11,
   "id": "7826fe8b",
   "metadata": {},
   "outputs": [
    {
     "data": {
      "text/plain": [
       "datetime.date(2022, 11, 15)"
      ]
     },
     "execution_count": 11,
     "metadata": {},
     "output_type": "execute_result"
    }
   ],
   "source": [
    "# получить сегодняшнюю дату\n",
    "now = date.today()\n",
    "now"
   ]
  },
  {
   "cell_type": "code",
   "execution_count": 123,
   "id": "95edc79a",
   "metadata": {},
   "outputs": [
    {
     "data": {
      "text/plain": [
       "'2023-04-14'"
      ]
     },
     "execution_count": 123,
     "metadata": {},
     "output_type": "execute_result"
    }
   ],
   "source": [
    "d = date(2022, 4, 14)\n",
    "d.replace(year=2023).isoformat()"
   ]
  },
  {
   "cell_type": "code",
   "execution_count": 124,
   "id": "e58d727c",
   "metadata": {},
   "outputs": [
    {
     "data": {
      "text/plain": [
       "datetime.timedelta(days=103)"
      ]
     },
     "execution_count": 124,
     "metadata": {},
     "output_type": "execute_result"
    }
   ],
   "source": [
    "new_year = date(2022, 1, 1)\n",
    "d - new_year"
   ]
  },
  {
   "cell_type": "code",
   "execution_count": 125,
   "id": "6ff51dec",
   "metadata": {},
   "outputs": [
    {
     "name": "stdout",
     "output_type": "stream",
     "text": [
      "today=datetime.date(2022, 11, 15)\n",
      "birthday=datetime.date(2023, 4, 14)\n",
      "My birthday will come in: 150 days, 0:00:00\n"
     ]
    }
   ],
   "source": [
    "# timedelta\n",
    "today = date.today()\n",
    "print(f'{today=}')\n",
    "birthday = date(2023, 4, 14)\n",
    "print(f'{birthday=}')\n",
    "print(f'My birthday will come in: {birthday-today}')"
   ]
  },
  {
   "cell_type": "code",
   "execution_count": 140,
   "id": "098e1bbb",
   "metadata": {},
   "outputs": [
    {
     "name": "stdout",
     "output_type": "stream",
     "text": [
      "4\n",
      "5\n"
     ]
    }
   ],
   "source": [
    "# день недели\n",
    "birthday = date(2023, 4, 14)\n",
    "# Return the day of the week as an integer, where Monday is 0 and Sunday is 6.\n",
    "print(birthday.weekday())\n",
    "# Return the day of the week as an integer, where Monday is 1 and Sunday is 7. \n",
    "print(birthday.isoweekday())"
   ]
  },
  {
   "cell_type": "code",
   "execution_count": 141,
   "id": "b9555335",
   "metadata": {},
   "outputs": [
    {
     "data": {
      "text/plain": [
       "'Wed Dec  4 00:00:00 2002'"
      ]
     },
     "execution_count": 141,
     "metadata": {},
     "output_type": "execute_result"
    }
   ],
   "source": [
    "# Return a string representing the date\n",
    "date(2002, 12, 4).ctime()"
   ]
  },
  {
   "cell_type": "markdown",
   "id": "7b9e500a",
   "metadata": {},
   "source": [
    "### datetime.timedelta\n",
    "\n",
    "A duration expressing the difference between two date, time, or datetime instances to microsecond resolution.\n",
    "\n",
    "`datetime.timedelta(days=0, seconds=0, microseconds=0, milliseconds=0, minutes=0, hours=0, weeks=0)`\n",
    "\n",
    "Istance attributes (read-only):\n",
    "- `days`\n",
    "- `seconds`\n",
    "- `microseconds`"
   ]
  },
  {
   "cell_type": "code",
   "execution_count": 127,
   "id": "bc9fd1a8",
   "metadata": {},
   "outputs": [
    {
     "data": {
      "text/plain": [
       "datetime.date(2022, 11, 16)"
      ]
     },
     "execution_count": 127,
     "metadata": {},
     "output_type": "execute_result"
    }
   ],
   "source": [
    "# получить смещение даты объект timedelta() модуля datetime\n",
    "today = date.today()\n",
    "one_day = timedelta(days=1)\n",
    "tomorrow = today + one_day\n",
    "tomorrow"
   ]
  },
  {
   "cell_type": "code",
   "execution_count": 128,
   "id": "290b668d",
   "metadata": {},
   "outputs": [
    {
     "data": {
      "text/plain": [
       "datetime.date(2023, 11, 15)"
      ]
     },
     "execution_count": 128,
     "metadata": {},
     "output_type": "execute_result"
    }
   ],
   "source": [
    "year = timedelta(days=365)\n",
    "date.today() + year"
   ]
  },
  {
   "cell_type": "code",
   "execution_count": 130,
   "id": "aa72afed",
   "metadata": {},
   "outputs": [
    {
     "data": {
      "text/plain": [
       "datetime.date(2032, 11, 12)"
      ]
     },
     "execution_count": 130,
     "metadata": {},
     "output_type": "execute_result"
    }
   ],
   "source": [
    "ten_years = timedelta(days=365) * 10\n",
    "date.today() + ten_years"
   ]
  },
  {
   "cell_type": "code",
   "execution_count": 131,
   "id": "b3c6e644",
   "metadata": {},
   "outputs": [
    {
     "data": {
      "text/plain": [
       "10"
      ]
     },
     "execution_count": 131,
     "metadata": {},
     "output_type": "execute_result"
    }
   ],
   "source": [
    "ten_years.days // 365"
   ]
  },
  {
   "cell_type": "markdown",
   "id": "447f4ba6",
   "metadata": {},
   "source": [
    "### datetime.time\n",
    "\n",
    "Attributes: `hour`, `minute`, `second`, `microsecond`, and `tzinfo`."
   ]
  },
  {
   "cell_type": "code",
   "execution_count": 112,
   "id": "e8e96b20",
   "metadata": {},
   "outputs": [
    {
     "name": "stdout",
     "output_type": "stream",
     "text": [
      "12:00:00\n",
      "12\n",
      "0\n",
      "0\n",
      "0\n"
     ]
    }
   ],
   "source": [
    "# получить время, объект time модуля datetime\n",
    "noon = dtime(12, 0, 0)\n",
    "print(noon)\n",
    "print(noon.hour)\n",
    "print(noon.minute)\n",
    "print(noon.second)\n",
    "print(noon.microsecond)"
   ]
  },
  {
   "cell_type": "markdown",
   "id": "b11213c0",
   "metadata": {},
   "source": [
    "### datetime.datetime\n",
    "\n",
    "Attributes: `year`, `month`, `day`, `hour`, `minute`, `second`, `microsecond`, and `tzinfo`."
   ]
  },
  {
   "cell_type": "code",
   "execution_count": 69,
   "id": "62e2347a",
   "metadata": {},
   "outputs": [
    {
     "data": {
      "text/plain": [
       "'2019-01-02T03:04:05.000006'"
      ]
     },
     "execution_count": 69,
     "metadata": {},
     "output_type": "execute_result"
    }
   ],
   "source": [
    "# дата и время объект datetime модуля datetime\n",
    "some_day = dt(2019, 1, 2, 3, 4, 5, 6)\n",
    "some_day.isoformat()"
   ]
  },
  {
   "cell_type": "code",
   "execution_count": 70,
   "id": "915dd81f",
   "metadata": {},
   "outputs": [
    {
     "name": "stdout",
     "output_type": "stream",
     "text": [
      "now is: 2022-11-15T18:40:55.614491\n",
      "current year is: 2022\n",
      "current month is: 11\n",
      "current date is: 15\n",
      "current hour is: 18\n",
      "current minute is: 40\n"
     ]
    }
   ],
   "source": [
    "# текущие дата и время\n",
    "now = dt.now()\n",
    "print(f'now is: {now.isoformat()}')\n",
    "print(f'current year is: {now.year}')\n",
    "print(f'current month is: {now.month}')\n",
    "print(f'current date is: {now.day}')\n",
    "print(f'current hour is: {now.hour}')\n",
    "print(f'current minute is: {now.minute}')"
   ]
  },
  {
   "cell_type": "code",
   "execution_count": 121,
   "id": "bdde3746",
   "metadata": {},
   "outputs": [
    {
     "data": {
      "text/plain": [
       "'2022-11-15T15:09:36.651999'"
      ]
     },
     "execution_count": 121,
     "metadata": {},
     "output_type": "execute_result"
    }
   ],
   "source": [
    "dt.fromtimestamp(1668514176.651999).isoformat()"
   ]
  },
  {
   "cell_type": "code",
   "execution_count": 122,
   "id": "cd951f15",
   "metadata": {},
   "outputs": [
    {
     "data": {
      "text/plain": [
       "'13 September'"
      ]
     },
     "execution_count": 122,
     "metadata": {},
     "output_type": "execute_result"
    }
   ],
   "source": [
    "dt.fromordinal(256).strftime('%d %B')"
   ]
  },
  {
   "cell_type": "code",
   "execution_count": 147,
   "id": "3428a15b",
   "metadata": {},
   "outputs": [
    {
     "data": {
      "text/plain": [
       "datetime.datetime(2006, 7, 13, 12, 30)"
      ]
     },
     "execution_count": 147,
     "metadata": {},
     "output_type": "execute_result"
    }
   ],
   "source": [
    "# combining date and time\n",
    "d = date(2006, 7, 13)\n",
    "t = dtime(12, 30)\n",
    "dt.combine(d, t)"
   ]
  },
  {
   "cell_type": "markdown",
   "id": "07e764fe",
   "metadata": {},
   "source": [
    "## Time module"
   ]
  },
  {
   "cell_type": "code",
   "execution_count": 38,
   "id": "1f5ee297",
   "metadata": {},
   "outputs": [
    {
     "data": {
      "text/plain": [
       "1668514176.651999"
      ]
     },
     "execution_count": 38,
     "metadata": {},
     "output_type": "execute_result"
    }
   ],
   "source": [
    "# время в Unix-формате модуль time\n",
    "now = time.time()\n",
    "now"
   ]
  },
  {
   "cell_type": "code",
   "execution_count": 116,
   "id": "ad968ac9",
   "metadata": {},
   "outputs": [
    {
     "data": {
      "text/plain": [
       "'Tue Nov 15 22:09:46 2022'"
      ]
     },
     "execution_count": 116,
     "metadata": {},
     "output_type": "execute_result"
    }
   ],
   "source": [
    "# преобразовать значение epoch в строку\n",
    "time.ctime()"
   ]
  },
  {
   "cell_type": "code",
   "execution_count": 117,
   "id": "3cca7f3d",
   "metadata": {},
   "outputs": [
    {
     "data": {
      "text/plain": [
       "time.struct_time(tm_year=2022, tm_mon=11, tm_mday=15, tm_hour=22, tm_min=9, tm_sec=53, tm_wday=1, tm_yday=319, tm_isdst=0)"
      ]
     },
     "execution_count": 117,
     "metadata": {},
     "output_type": "execute_result"
    }
   ],
   "source": [
    "# в локальном часовом поясе\n",
    "time.localtime()"
   ]
  },
  {
   "cell_type": "code",
   "execution_count": 118,
   "id": "d41b3121",
   "metadata": {},
   "outputs": [
    {
     "data": {
      "text/plain": [
       "time.struct_time(tm_year=2022, tm_mon=11, tm_mday=15, tm_hour=19, tm_min=10, tm_sec=4, tm_wday=1, tm_yday=319, tm_isdst=0)"
      ]
     },
     "execution_count": 118,
     "metadata": {},
     "output_type": "execute_result"
    }
   ],
   "source": [
    "# в UTC\n",
    "time.gmtime()"
   ]
  },
  {
   "cell_type": "code",
   "execution_count": 119,
   "id": "4ee1ace2",
   "metadata": {},
   "outputs": [
    {
     "data": {
      "text/plain": [
       "1668539412.0"
      ]
     },
     "execution_count": 119,
     "metadata": {},
     "output_type": "execute_result"
    }
   ],
   "source": [
    "# преобразование в Unix-время\n",
    "tm = time.localtime()\n",
    "time.mktime(tm)"
   ]
  },
  {
   "cell_type": "markdown",
   "id": "b59abffe",
   "metadata": {},
   "source": [
    "## Converting datetime to string and vice versa\n",
    "\n",
    "`strftime()` and `strptime()`"
   ]
  },
  {
   "cell_type": "code",
   "execution_count": 113,
   "id": "06dd4804",
   "metadata": {},
   "outputs": [
    {
     "data": {
      "text/plain": [
       "\"It's Tuesday, November, 15, 2022, local time: 09:58:14PM\""
      ]
     },
     "execution_count": 113,
     "metadata": {},
     "output_type": "execute_result"
    }
   ],
   "source": [
    "# форматирование даты и времени функцией strftime модуля time\n",
    "fmt = 'It\\'s %A, %B, %d, %Y, local time: %I:%M:%S%p'\n",
    "t = time.localtime()\n",
    "time.strftime(fmt, t)"
   ]
  },
  {
   "cell_type": "code",
   "execution_count": 47,
   "id": "e44c32c1",
   "metadata": {},
   "outputs": [
    {
     "data": {
      "text/plain": [
       "\"It's February 24, 2022, local time 12:00:00AM\""
      ]
     },
     "execution_count": 47,
     "metadata": {},
     "output_type": "execute_result"
    }
   ],
   "source": [
    "# форматирование даты методом strftime объекта date, время устанавливается в полночь\n",
    "some_day = date(2022, 2, 24)\n",
    "fmt = 'It\\'s %B %d, %Y, local time %I:%M:%S%p'\n",
    "some_day.strftime(fmt)"
   ]
  },
  {
   "cell_type": "code",
   "execution_count": 48,
   "id": "11a55666",
   "metadata": {},
   "outputs": [
    {
     "data": {
      "text/plain": [
       "\"It's January 01, 1900, local time 10:35:00AM\""
      ]
     },
     "execution_count": 48,
     "metadata": {},
     "output_type": "execute_result"
    }
   ],
   "source": [
    "# форматирование времени методом strftime объекта time, дата устанавливается в дефолтное значение\n",
    "some_time = dt(10, 35)\n",
    "some_time.strftime(fmt)"
   ]
  },
  {
   "cell_type": "code",
   "execution_count": 120,
   "id": "9971b75b",
   "metadata": {},
   "outputs": [
    {
     "data": {
      "text/plain": [
       "\"It's Tuesday, November, 15, 2022, local time: 10:11:18PM\""
      ]
     },
     "execution_count": 120,
     "metadata": {},
     "output_type": "execute_result"
    }
   ],
   "source": [
    "# форматирование времени методом strftime объекта datetime\n",
    "nice_day = dt.now()\n",
    "nice_day.strftime(fmt)"
   ]
  },
  {
   "cell_type": "code",
   "execution_count": 114,
   "id": "1a3817f1",
   "metadata": {},
   "outputs": [
    {
     "data": {
      "text/plain": [
       "datetime.datetime(2022, 4, 14, 0, 0)"
      ]
     },
     "execution_count": 114,
     "metadata": {},
     "output_type": "execute_result"
    }
   ],
   "source": [
    "# парсинг даты\n",
    "dt.strptime('14/04/2022', '%d/%m/%Y')"
   ]
  },
  {
   "cell_type": "code",
   "execution_count": 115,
   "id": "b95990a9",
   "metadata": {},
   "outputs": [
    {
     "data": {
      "text/plain": [
       "datetime.datetime(1990, 1, 7, 0, 0)"
      ]
     },
     "execution_count": 115,
     "metadata": {},
     "output_type": "execute_result"
    }
   ],
   "source": [
    "dt.strptime('7 Jan 1990', '%d %b %Y')"
   ]
  },
  {
   "cell_type": "code",
   "execution_count": null,
   "id": "c52f7268",
   "metadata": {},
   "outputs": [],
   "source": []
  },
  {
   "cell_type": "code",
   "execution_count": null,
   "id": "727d7f96",
   "metadata": {},
   "outputs": [],
   "source": []
  },
  {
   "cell_type": "code",
   "execution_count": null,
   "id": "f773f5d1",
   "metadata": {},
   "outputs": [],
   "source": []
  },
  {
   "cell_type": "code",
   "execution_count": null,
   "id": "3e3bcb97",
   "metadata": {},
   "outputs": [],
   "source": []
  },
  {
   "cell_type": "code",
   "execution_count": null,
   "id": "8f32a0ba",
   "metadata": {},
   "outputs": [],
   "source": []
  },
  {
   "cell_type": "code",
   "execution_count": null,
   "id": "95dd4f40",
   "metadata": {},
   "outputs": [],
   "source": []
  },
  {
   "cell_type": "code",
   "execution_count": null,
   "id": "2716a8eb",
   "metadata": {},
   "outputs": [],
   "source": []
  },
  {
   "cell_type": "code",
   "execution_count": null,
   "id": "f7f1efc4",
   "metadata": {},
   "outputs": [],
   "source": []
  },
  {
   "cell_type": "code",
   "execution_count": null,
   "id": "8646e4ed",
   "metadata": {},
   "outputs": [],
   "source": []
  },
  {
   "cell_type": "code",
   "execution_count": null,
   "id": "407d1609",
   "metadata": {},
   "outputs": [],
   "source": []
  },
  {
   "cell_type": "code",
   "execution_count": null,
   "id": "88b152ee",
   "metadata": {},
   "outputs": [],
   "source": []
  }
 ],
 "metadata": {
  "kernelspec": {
   "display_name": "Python 3 (ipykernel)",
   "language": "python",
   "name": "python3"
  },
  "language_info": {
   "codemirror_mode": {
    "name": "ipython",
    "version": 3
   },
   "file_extension": ".py",
   "mimetype": "text/x-python",
   "name": "python",
   "nbconvert_exporter": "python",
   "pygments_lexer": "ipython3",
   "version": "3.9.7"
  },
  "toc": {
   "base_numbering": 1,
   "nav_menu": {},
   "number_sections": true,
   "sideBar": true,
   "skip_h1_title": false,
   "title_cell": "Table of Contents",
   "title_sidebar": "Contents",
   "toc_cell": false,
   "toc_position": {},
   "toc_section_display": true,
   "toc_window_display": false
  }
 },
 "nbformat": 4,
 "nbformat_minor": 5
}
