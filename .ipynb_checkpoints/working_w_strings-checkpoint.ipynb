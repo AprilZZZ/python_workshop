{
 "cells": [
  {
   "cell_type": "markdown",
   "id": "887947b3",
   "metadata": {},
   "source": [
    "# Working with strings\n",
    "## Strings formatting"
   ]
  },
  {
   "cell_type": "code",
   "execution_count": null,
   "id": "c4accaf8",
   "metadata": {},
   "outputs": [],
   "source": []
  },
  {
   "cell_type": "code",
   "execution_count": null,
   "id": "778ac854",
   "metadata": {},
   "outputs": [],
   "source": []
  },
  {
   "cell_type": "code",
   "execution_count": null,
   "id": "7d817e9c",
   "metadata": {},
   "outputs": [],
   "source": []
  },
  {
   "cell_type": "code",
   "execution_count": null,
   "id": "03c9c9c5",
   "metadata": {},
   "outputs": [],
   "source": []
  },
  {
   "cell_type": "markdown",
   "id": "7924620d",
   "metadata": {},
   "source": [
    "## Regular expressions\n",
    "\n",
    "Основные функции:\n",
    "- `match()` - ищет шаблон в начале источника, возвращает **экземпляр объекта соответствия**\n",
    "- `search()` - возвращает первое совпадение в любом месте с начала строки, возвращает **экземпляр объекта соответствия**\n",
    "- `findall()` - возвращает **список** всех непересекающихся совпадений\n",
    "- `split()` - разбивает источник по совпадению и возвращает список всех фрагментов строки\n",
    "- `sub()` - принимает аргумент для замены и заменяет все части источника, совпавшие с шаблоном\n",
    "\n",
    "### Шаблоны\n",
    "\n",
    "Специальные символы\n",
    "- `.` - любой символ\n",
    "- `\\d` - цифра\n",
    "- `\\D` - не цифра\n",
    "- `\\w` - буква/ цифра/ подчеркивание\n",
    "- `\\W` - **не** буква/ цифра/ подчеркивание\n",
    "- `\\s` - пробел\n",
    "- `\\S` - **не** пробел\n",
    "- `\\b` - граница слова\n",
    "- `\\B` - **не** граница слова\n",
    "- `^` - начало строки\n",
    "- `$`- конец сроки\n",
    "- `[a-z]` - буква нижнего регистра\n",
    "- `[A-Z]` - буква верхнего регистра\n",
    "- `[...]` - диапазон символов\n",
    "- `[^...]` - символы, отсутствующие в наборе\n",
    "- `|` - альтернатива (ИЛИ)\n",
    "- `()` - создает группу, сохраняет совпавшую подстроку\n",
    "\n",
    "Квантификаторы\n",
    "- `+` - одно или более повторение\n",
    "- `*` - ноль или более повторений\n",
    "- `?` - ноль или одно повторение\n",
    "- `{m}` - m повторений\n",
    "- `{m, n}` - от m до n повторений\n",
    "- `+?`, `*?`, `??`, `{m, n}` - минимальные (не жадные) квантификаторы, ищут min возможное число совпадений"
   ]
  },
  {
   "cell_type": "code",
   "execution_count": 1,
   "id": "5fa4df25",
   "metadata": {},
   "outputs": [],
   "source": [
    "import re"
   ]
  },
  {
   "cell_type": "code",
   "execution_count": 3,
   "id": "5118b663",
   "metadata": {},
   "outputs": [
    {
     "name": "stdout",
     "output_type": "stream",
     "text": [
      "You\n"
     ]
    }
   ],
   "source": [
    "# найти вхождение в начале строки-источника\n",
    "source = 'Young Frankenshtein'\n",
    "m = re.match('You', source)\n",
    "if m:\n",
    "    print(m.group())"
   ]
  },
  {
   "cell_type": "code",
   "execution_count": 10,
   "id": "d79011f1",
   "metadata": {},
   "outputs": [
    {
     "name": "stdout",
     "output_type": "stream",
     "text": [
      "Frank\n"
     ]
    }
   ],
   "source": [
    "# найти вхождение после любого кол-ва символов с начала строки-источника\n",
    "m = re.match('.*(Frank)', source)\n",
    "if m:\n",
    "    print(m.group(1))"
   ]
  },
  {
   "cell_type": "code",
   "execution_count": 11,
   "id": "58d8720b",
   "metadata": {},
   "outputs": [
    {
     "name": "stdout",
     "output_type": "stream",
     "text": [
      "Frank\n"
     ]
    }
   ],
   "source": [
    "# найти шаблон 'Frank' в любом месте строки-источника\n",
    "m = re.search('Frank', source)\n",
    "if m:\n",
    "    print(m.group())"
   ]
  },
  {
   "cell_type": "code",
   "execution_count": 14,
   "id": "f04a4e01",
   "metadata": {},
   "outputs": [
    {
     "name": "stdout",
     "output_type": "stream",
     "text": [
      "['n', 'n', 'n', 'n']\n",
      "Found 4 matches\n"
     ]
    }
   ],
   "source": [
    "# найти все вхождения\n",
    "m = re.findall('n', source)\n",
    "print(m)\n",
    "print('Found', len(m), 'matches')"
   ]
  },
  {
   "cell_type": "code",
   "execution_count": 15,
   "id": "dbbc8857",
   "metadata": {},
   "outputs": [
    {
     "name": "stdout",
     "output_type": "stream",
     "text": [
      "['ng', 'nk', 'ns']\n"
     ]
    }
   ],
   "source": [
    "m = re.findall('n.', source)\n",
    "print(m)"
   ]
  },
  {
   "cell_type": "code",
   "execution_count": 16,
   "id": "0458ec8c",
   "metadata": {},
   "outputs": [
    {
     "data": {
      "text/plain": [
       "['You', 'g Fra', 'ke', 'shtei', '']"
      ]
     },
     "execution_count": 16,
     "metadata": {},
     "output_type": "execute_result"
    }
   ],
   "source": [
    "# разбить совпадения\n",
    "m = re.split('n', source)\n",
    "m"
   ]
  },
  {
   "cell_type": "code",
   "execution_count": 17,
   "id": "6fb5bdca",
   "metadata": {},
   "outputs": [
    {
     "data": {
      "text/plain": [
       "'You?g Fra?ke?shtei?'"
      ]
     },
     "execution_count": 17,
     "metadata": {},
     "output_type": "execute_result"
    }
   ],
   "source": [
    "# заменить совпадения\n",
    "m = re.sub('n', '?', source)\n",
    "m"
   ]
  },
  {
   "cell_type": "markdown",
   "id": "487fa475",
   "metadata": {},
   "source": [
    "### Использование константы printable для тестирования РВ"
   ]
  },
  {
   "cell_type": "code",
   "execution_count": 20,
   "id": "5d357973",
   "metadata": {},
   "outputs": [
    {
     "name": "stdout",
     "output_type": "stream",
     "text": [
      "100\n"
     ]
    },
    {
     "data": {
      "text/plain": [
       "'0123456789abcdefghijklmnopqrstuvwxyzABCDEFGHIJKLMNOPQRSTUVWXYZ!\"#$%&\\'()*+,-./:;<=>?@[\\\\]^_`{|}~ \\t\\n\\r\\x0b\\x0c'"
      ]
     },
     "execution_count": 20,
     "metadata": {},
     "output_type": "execute_result"
    }
   ],
   "source": [
    "import string\n",
    "\n",
    "printable = string.printable\n",
    "print(len(printable))\n",
    "printable"
   ]
  },
  {
   "cell_type": "code",
   "execution_count": 23,
   "id": "a0279ed5",
   "metadata": {},
   "outputs": [
    {
     "data": {
      "text/plain": [
       "['0', '1', '2', '3', '4', '5', '6', '7', '8', '9']"
      ]
     },
     "execution_count": 23,
     "metadata": {},
     "output_type": "execute_result"
    }
   ],
   "source": [
    "re.findall('\\d', printable)"
   ]
  },
  {
   "cell_type": "code",
   "execution_count": 25,
   "id": "c1828ce1",
   "metadata": {},
   "outputs": [
    {
     "name": "stdout",
     "output_type": "stream",
     "text": [
      "['0', '1', '2', '3', '4', '5', '6', '7', '8', '9', 'a', 'b', 'c', 'd', 'e', 'f', 'g', 'h', 'i', 'j', 'k', 'l', 'm', 'n', 'o', 'p', 'q', 'r', 's', 't', 'u', 'v', 'w', 'x', 'y', 'z', 'A', 'B', 'C', 'D', 'E', 'F', 'G', 'H', 'I', 'J', 'K', 'L', 'M', 'N', 'O', 'P', 'Q', 'R', 'S', 'T', 'U', 'V', 'W', 'X', 'Y', 'Z', '_']\n"
     ]
    }
   ],
   "source": [
    "print(re.findall('\\w', printable))"
   ]
  },
  {
   "cell_type": "code",
   "execution_count": 27,
   "id": "1c348f17",
   "metadata": {},
   "outputs": [
    {
     "data": {
      "text/plain": [
       "[' ', '\\t', '\\n', '\\r', '\\x0b', '\\x0c']"
      ]
     },
     "execution_count": 27,
     "metadata": {},
     "output_type": "execute_result"
    }
   ],
   "source": [
    "re.findall('\\s', printable)"
   ]
  },
  {
   "cell_type": "markdown",
   "id": "a0f4ba23",
   "metadata": {},
   "source": [
    "### Протестируем разные шаблоны РВ"
   ]
  },
  {
   "cell_type": "code",
   "execution_count": 28,
   "id": "911e0aa4",
   "metadata": {},
   "outputs": [
    {
     "data": {
      "text/plain": [
       "'I wish I may, I wish I might\\nHave a dish of fish tonight.'"
      ]
     },
     "execution_count": 28,
     "metadata": {},
     "output_type": "execute_result"
    }
   ],
   "source": [
    "source = '''I wish I may, I wish I might\n",
    "... Have a dish of fish tonight.'''\n",
    "source"
   ]
  },
  {
   "cell_type": "code",
   "execution_count": 29,
   "id": "3a01aa74",
   "metadata": {},
   "outputs": [
    {
     "data": {
      "text/plain": [
       "['wish', 'wish']"
      ]
     },
     "execution_count": 29,
     "metadata": {},
     "output_type": "execute_result"
    }
   ],
   "source": [
    "re.findall('wish', source)"
   ]
  },
  {
   "cell_type": "code",
   "execution_count": 30,
   "id": "d8367ab3",
   "metadata": {},
   "outputs": [
    {
     "data": {
      "text/plain": [
       "['wish', 'wish', 'fish']"
      ]
     },
     "execution_count": 30,
     "metadata": {},
     "output_type": "execute_result"
    }
   ],
   "source": [
    "re.findall('wish|fish', source)"
   ]
  },
  {
   "cell_type": "code",
   "execution_count": 31,
   "id": "c95e5918",
   "metadata": {},
   "outputs": [
    {
     "data": {
      "text/plain": [
       "[]"
      ]
     },
     "execution_count": 31,
     "metadata": {},
     "output_type": "execute_result"
    }
   ],
   "source": [
    "re.findall('^wish', source)"
   ]
  },
  {
   "cell_type": "code",
   "execution_count": 32,
   "id": "db294132",
   "metadata": {},
   "outputs": [
    {
     "data": {
      "text/plain": [
       "['I wish']"
      ]
     },
     "execution_count": 32,
     "metadata": {},
     "output_type": "execute_result"
    }
   ],
   "source": [
    "re.findall('^I wish', source)"
   ]
  },
  {
   "cell_type": "code",
   "execution_count": 33,
   "id": "28b62c1c",
   "metadata": {},
   "outputs": [
    {
     "data": {
      "text/plain": [
       "[]"
      ]
     },
     "execution_count": 33,
     "metadata": {},
     "output_type": "execute_result"
    }
   ],
   "source": [
    "re.findall('fish$', source)"
   ]
  },
  {
   "cell_type": "code",
   "execution_count": 34,
   "id": "d71d984d",
   "metadata": {},
   "outputs": [
    {
     "data": {
      "text/plain": [
       "['fish tonight.']"
      ]
     },
     "execution_count": 34,
     "metadata": {},
     "output_type": "execute_result"
    }
   ],
   "source": [
    "re.findall('fish tonight.$', source)"
   ]
  },
  {
   "cell_type": "code",
   "execution_count": 36,
   "id": "7bea017e",
   "metadata": {},
   "outputs": [
    {
     "data": {
      "text/plain": [
       "['w', 's', 'h', 'w', 's', 'h', 'h', 's', 'h', 's', 'h', 'h']"
      ]
     },
     "execution_count": 36,
     "metadata": {},
     "output_type": "execute_result"
    }
   ],
   "source": [
    "re.findall('[wf]ish', source)"
   ]
  },
  {
   "cell_type": "code",
   "execution_count": 38,
   "id": "aeefc059",
   "metadata": {},
   "outputs": [
    {
     "data": {
      "text/plain": [
       "['w', 'sh', 'w', 'sh', 'h', 'sh', 'sh', 'h']"
      ]
     },
     "execution_count": 38,
     "metadata": {},
     "output_type": "execute_result"
    }
   ],
   "source": [
    "re.findall('[wsh]+', source)"
   ]
  },
  {
   "cell_type": "code",
   "execution_count": 39,
   "id": "0fe4da17",
   "metadata": {},
   "outputs": [
    {
     "data": {
      "text/plain": [
       "['i', 'a', 'i', 'i', 'a', 'e', 'a', 'i', 'o', 'i', 'o', 'i']"
      ]
     },
     "execution_count": 39,
     "metadata": {},
     "output_type": "execute_result"
    }
   ],
   "source": [
    "re.findall('[aouei]+', source)"
   ]
  },
  {
   "cell_type": "markdown",
   "id": "13a0906c",
   "metadata": {},
   "source": [
    "### Сырые строки"
   ]
  },
  {
   "cell_type": "code",
   "execution_count": 40,
   "id": "f0f2c41f",
   "metadata": {},
   "outputs": [
    {
     "data": {
      "text/plain": [
       "[]"
      ]
     },
     "execution_count": 40,
     "metadata": {},
     "output_type": "execute_result"
    }
   ],
   "source": [
    "# шаблон должен совпасть с любым словом, которое начинается с fish\n",
    "re.findall('\\bfish', source)"
   ]
  },
  {
   "cell_type": "markdown",
   "id": "91fef90f",
   "metadata": {},
   "source": [
    "Шаблон не найден, потому что конфликтует с escape-последовательностью Python \\b (возврат на шаг). Решение - использовать *неформатированные строки* Python при определении шаблона регулярного выражения. \n",
    "\n",
    "Всегда размещайте символ r перед строкой шаблона регулярного выражения, и escape-последовательности Python будут отключены."
   ]
  },
  {
   "cell_type": "code",
   "execution_count": 41,
   "id": "c44adc50",
   "metadata": {},
   "outputs": [
    {
     "data": {
      "text/plain": [
       "['fish']"
      ]
     },
     "execution_count": 41,
     "metadata": {},
     "output_type": "execute_result"
    }
   ],
   "source": [
    "re.findall(r'\\bfish', source)"
   ]
  },
  {
   "cell_type": "markdown",
   "id": "28bb05fe",
   "metadata": {},
   "source": [
    "### Способы вывода совпадений\n",
    "\n",
    "Все совпадения можно получить из объекта результата, вызвав метод `group()`. Если вы заключите шаблон в круглые скобки, совпадения будут сохранены в отдельную группу, а кортеж, состоящий из них, окажется доступен благодаря вызову метода `groups()`."
   ]
  },
  {
   "cell_type": "code",
   "execution_count": 65,
   "id": "beb2bcda",
   "metadata": {},
   "outputs": [
    {
     "name": "stdout",
     "output_type": "stream",
     "text": [
      "a dish of fish\n",
      "('a dish', 'fish')\n"
     ]
    }
   ],
   "source": [
    "m = re.search(r'(. dish\\b).*(\\bfish)', source)\n",
    "print(m.group())\n",
    "print(m.groups())"
   ]
  },
  {
   "cell_type": "markdown",
   "id": "31bf7c70",
   "metadata": {},
   "source": [
    "Можно сохранять совпадения в именованные элементы: (?P<имя> выр )."
   ]
  },
  {
   "cell_type": "code",
   "execution_count": 48,
   "id": "4cd58bd2",
   "metadata": {},
   "outputs": [
    {
     "name": "stdout",
     "output_type": "stream",
     "text": [
      "a dish of fish\n",
      "('a dish', 'fish')\n",
      "a dish\n",
      "fish\n"
     ]
    }
   ],
   "source": [
    "m = re.search(r'(?P<DISH>. dish\\b).*(?P<FISH>\\bfish)', source)\n",
    "print(m.group())\n",
    "print(m.groups())\n",
    "print(m.group('DISH'))\n",
    "print(m.group('FISH'))"
   ]
  },
  {
   "cell_type": "code",
   "execution_count": 49,
   "id": "38dd04eb",
   "metadata": {},
   "outputs": [
    {
     "data": {
      "text/plain": [
       "'a dish of fish'"
      ]
     },
     "execution_count": 49,
     "metadata": {},
     "output_type": "execute_result"
    }
   ],
   "source": [
    "m.group(0)"
   ]
  },
  {
   "cell_type": "code",
   "execution_count": 70,
   "id": "739afa0d",
   "metadata": {},
   "outputs": [
    {
     "data": {
      "text/plain": [
       "'might'"
      ]
     },
     "execution_count": 70,
     "metadata": {},
     "output_type": "execute_result"
    }
   ],
   "source": [
    "m = re.search(r'(?:may).*(might)', source)\n",
    "m.group(1)"
   ]
  },
  {
   "cell_type": "markdown",
   "id": "690f2455",
   "metadata": {},
   "source": [
    "### Дополнительные примеры шаблонов"
   ]
  },
  {
   "cell_type": "code",
   "execution_count": 74,
   "id": "647d9666",
   "metadata": {},
   "outputs": [
    {
     "name": "stdout",
     "output_type": "stream",
     "text": [
      "ABCD\n"
     ]
    }
   ],
   "source": [
    "pattern, string = 'A.C.', 'xxABCDxx'\n",
    "m = re.search(pattern, string)\n",
    "if m:\n",
    "    print(m.group(0))"
   ]
  },
  {
   "cell_type": "code",
   "execution_count": 75,
   "id": "5b593c3b",
   "metadata": {},
   "outputs": [
    {
     "data": {
      "text/plain": [
       "'ABCDxx'"
      ]
     },
     "execution_count": 75,
     "metadata": {},
     "output_type": "execute_result"
    }
   ],
   "source": [
    "m = re.search('A.*C.*', string)\n",
    "m.group(0)"
   ]
  },
  {
   "cell_type": "code",
   "execution_count": 76,
   "id": "4a5b7599",
   "metadata": {},
   "outputs": [
    {
     "data": {
      "text/plain": [
       "'ABCDEFG\\t'"
      ]
     },
     "execution_count": 76,
     "metadata": {},
     "output_type": "execute_result"
    }
   ],
   "source": [
    "source = '..ABCDEFG\\t..'\n",
    "m = re.search(' *A.C[DE][D-F][^G-ZE]G\\t+?', source)\n",
    "m.group(0)"
   ]
  },
  {
   "cell_type": "code",
   "execution_count": 78,
   "id": "6afb1d6d",
   "metadata": {},
   "outputs": [
    {
     "data": {
      "text/plain": [
       "['A', 'C', '']"
      ]
     },
     "execution_count": 78,
     "metadata": {},
     "output_type": "execute_result"
    }
   ],
   "source": [
    "pattern.split('.')"
   ]
  },
  {
   "cell_type": "markdown",
   "id": "5981fd64",
   "metadata": {},
   "source": [
    "## Методы строк"
   ]
  },
  {
   "cell_type": "code",
   "execution_count": 79,
   "id": "777522f6",
   "metadata": {},
   "outputs": [
    {
     "data": {
      "text/plain": [
       "['__add__',\n",
       " '__class__',\n",
       " '__contains__',\n",
       " '__delattr__',\n",
       " '__dir__',\n",
       " '__doc__',\n",
       " '__eq__',\n",
       " '__format__',\n",
       " '__ge__',\n",
       " '__getattribute__',\n",
       " '__getitem__',\n",
       " '__getnewargs__',\n",
       " '__gt__',\n",
       " '__hash__',\n",
       " '__init__',\n",
       " '__init_subclass__',\n",
       " '__iter__',\n",
       " '__le__',\n",
       " '__len__',\n",
       " '__lt__',\n",
       " '__mod__',\n",
       " '__mul__',\n",
       " '__ne__',\n",
       " '__new__',\n",
       " '__reduce__',\n",
       " '__reduce_ex__',\n",
       " '__repr__',\n",
       " '__rmod__',\n",
       " '__rmul__',\n",
       " '__setattr__',\n",
       " '__sizeof__',\n",
       " '__str__',\n",
       " '__subclasshook__',\n",
       " 'capitalize',\n",
       " 'casefold',\n",
       " 'center',\n",
       " 'count',\n",
       " 'encode',\n",
       " 'endswith',\n",
       " 'expandtabs',\n",
       " 'find',\n",
       " 'format',\n",
       " 'format_map',\n",
       " 'index',\n",
       " 'isalnum',\n",
       " 'isalpha',\n",
       " 'isascii',\n",
       " 'isdecimal',\n",
       " 'isdigit',\n",
       " 'isidentifier',\n",
       " 'islower',\n",
       " 'isnumeric',\n",
       " 'isprintable',\n",
       " 'isspace',\n",
       " 'istitle',\n",
       " 'isupper',\n",
       " 'join',\n",
       " 'ljust',\n",
       " 'lower',\n",
       " 'lstrip',\n",
       " 'maketrans',\n",
       " 'partition',\n",
       " 'removeprefix',\n",
       " 'removesuffix',\n",
       " 'replace',\n",
       " 'rfind',\n",
       " 'rindex',\n",
       " 'rjust',\n",
       " 'rpartition',\n",
       " 'rsplit',\n",
       " 'rstrip',\n",
       " 'split',\n",
       " 'splitlines',\n",
       " 'startswith',\n",
       " 'strip',\n",
       " 'swapcase',\n",
       " 'title',\n",
       " 'translate',\n",
       " 'upper',\n",
       " 'zfill']"
      ]
     },
     "execution_count": 79,
     "metadata": {},
     "output_type": "execute_result"
    }
   ],
   "source": [
    "dir(str)"
   ]
  },
  {
   "cell_type": "code",
   "execution_count": 81,
   "id": "d6b33842",
   "metadata": {},
   "outputs": [
    {
     "name": "stdout",
     "output_type": "stream",
     "text": [
      "Help on method_descriptor:\n",
      "\n",
      "zfill(self, width, /)\n",
      "    Pad a numeric string with zeros on the left, to fill a field of the given width.\n",
      "    \n",
      "    The string is never truncated.\n",
      "\n"
     ]
    }
   ],
   "source": [
    "help(str.zfill)"
   ]
  },
  {
   "cell_type": "code",
   "execution_count": 84,
   "id": "41329a6a",
   "metadata": {},
   "outputs": [
    {
     "data": {
      "text/plain": [
       "'...'"
      ]
     },
     "execution_count": 84,
     "metadata": {},
     "output_type": "execute_result"
    }
   ],
   "source": [
    "source = '6789iujk...uilkhj'\n",
    "m = re.search(r'\\.{3}', source)\n",
    "m.group()"
   ]
  },
  {
   "cell_type": "code",
   "execution_count": 85,
   "id": "0776b183",
   "metadata": {},
   "outputs": [
    {
     "data": {
      "text/plain": [
       "'72'"
      ]
     },
     "execution_count": 85,
     "metadata": {},
     "output_type": "execute_result"
    }
   ],
   "source": [
    "source = '7277 Surrey Ave.1111'\n",
    "m = re.search(r'(94[1-9]|[95-99]\\d{1}|\\d{4,})', source)\n",
    "m.group()"
   ]
  },
  {
   "cell_type": "code",
   "execution_count": 91,
   "id": "f2544484",
   "metadata": {},
   "outputs": [
    {
     "name": "stdout",
     "output_type": "stream",
     "text": [
      "date: 12\n",
      "month: 05\n",
      "year: 2002\n"
     ]
    }
   ],
   "source": [
    "source = '12/05/2002'\n",
    "m = re.search(r'(?P<date>\\d{2})/(?P<month>\\d{2})/(?P<year>\\d{4})', source)\n",
    "print('date:', m.group('date'))\n",
    "print('month:', m.group('month'))\n",
    "print('year:', m.group('year'))"
   ]
  },
  {
   "cell_type": "code",
   "execution_count": 107,
   "id": "d5dc70b1",
   "metadata": {},
   "outputs": [
    {
     "data": {
      "text/plain": [
       "' Surrey Ave.'"
      ]
     },
     "execution_count": 107,
     "metadata": {},
     "output_type": "execute_result"
    }
   ],
   "source": [
    "source = '9910 Surrey Ave.'\n",
    "m = re.search(r'(\\D.*)', source)\n",
    "m.group()"
   ]
  },
  {
   "cell_type": "code",
   "execution_count": null,
   "id": "05eb1489",
   "metadata": {},
   "outputs": [],
   "source": []
  }
 ],
 "metadata": {
  "kernelspec": {
   "display_name": "Python 3 (ipykernel)",
   "language": "python",
   "name": "python3"
  },
  "language_info": {
   "codemirror_mode": {
    "name": "ipython",
    "version": 3
   },
   "file_extension": ".py",
   "mimetype": "text/x-python",
   "name": "python",
   "nbconvert_exporter": "python",
   "pygments_lexer": "ipython3",
   "version": "3.9.7"
  },
  "toc": {
   "base_numbering": 1,
   "nav_menu": {},
   "number_sections": true,
   "sideBar": true,
   "skip_h1_title": false,
   "title_cell": "Table of Contents",
   "title_sidebar": "Contents",
   "toc_cell": false,
   "toc_position": {},
   "toc_section_display": true,
   "toc_window_display": false
  }
 },
 "nbformat": 4,
 "nbformat_minor": 5
}
