{
 "cells": [
  {
   "cell_type": "markdown",
   "id": "2bcebf4a",
   "metadata": {},
   "source": [
    "# Working with strings\n",
    "## Strings formatting"
   ]
  },
  {
   "cell_type": "code",
   "execution_count": null,
   "id": "d7d872e6",
   "metadata": {},
   "outputs": [],
   "source": []
  },
  {
   "cell_type": "code",
   "execution_count": null,
   "id": "0c0d545f",
   "metadata": {},
   "outputs": [],
   "source": []
  },
  {
   "cell_type": "code",
   "execution_count": null,
   "id": "63b65b43",
   "metadata": {},
   "outputs": [],
   "source": []
  },
  {
   "cell_type": "code",
   "execution_count": null,
   "id": "b5cf3be6",
   "metadata": {},
   "outputs": [],
   "source": []
  },
  {
   "cell_type": "markdown",
   "id": "2fb89e6f",
   "metadata": {},
   "source": [
    "## Regular expressions\n",
    "\n",
    "[Regular Expression Operations](https://docs.python.org/3/library/re.html)\n",
    "\n",
    "[Regex101: build, test and debug regex](https://regex101.com/)\n",
    "\n",
    "Основные функции:\n",
    "- `match()` - ищет шаблон в начале источника, возвращает **экземпляр объекта соответствия**\n",
    "- `search()` - возвращает первое совпадение в любом месте с начала строки, возвращает **экземпляр объекта соответствия**\n",
    "- `findall()` - возвращает **список** всех непересекающихся совпадений\n",
    "- `split()` - разбивает источник по совпадению и возвращает список всех фрагментов строки\n",
    "- `sub()` - принимает аргумент для замены и заменяет все части источника, совпавшие с шаблоном\n",
    "\n",
    "### Шаблоны\n",
    "\n",
    "Специальные символы\n",
    "- `.` - любой символ\n",
    "- `\\d` - цифра\n",
    "- `\\D` - не цифра\n",
    "- `\\w` - буква/ цифра/ подчеркивание\n",
    "- `\\W` - **не** буква/ цифра/ подчеркивание\n",
    "- `\\s` - пробел\n",
    "- `\\S` - **не** пробел\n",
    "- `\\b` - граница слова\n",
    "- `\\B` - **не** граница слова\n",
    "- `^` - начало строки\n",
    "- `$`- конец сроки\n",
    "- `[a-z]` - буква нижнего регистра\n",
    "- `[A-Z]` - буква верхнего регистра\n",
    "- `[...]` - диапазон символов\n",
    "- `[^...]` - символы, отсутствующие в наборе\n",
    "- `|` - альтернатива (ИЛИ)\n",
    "- `()` - создает группу, сохраняет совпавшую подстроку\n",
    "\n",
    "Квантификаторы\n",
    "- `+` - одно или более повторение\n",
    "- `*` - ноль или более повторений\n",
    "- `?` - ноль или одно повторение\n",
    "- `{m}` - m повторений\n",
    "- `{m, n}` - от m до n повторений\n",
    "- `+?`, `*?`, `??`, `{m, n}` - минимальные (не жадные) квантификаторы, ищут min возможное число совпадений"
   ]
  },
  {
   "cell_type": "code",
   "execution_count": 1,
   "id": "c1c9e991",
   "metadata": {},
   "outputs": [],
   "source": [
    "import re"
   ]
  },
  {
   "cell_type": "code",
   "execution_count": 3,
   "id": "b4d6b9a6",
   "metadata": {},
   "outputs": [
    {
     "name": "stdout",
     "output_type": "stream",
     "text": [
      "You\n"
     ]
    }
   ],
   "source": [
    "# найти вхождение в начале строки-источника\n",
    "source = 'Young Frankenshtein'\n",
    "m = re.match('You', source)\n",
    "if m:\n",
    "    print(m.group())"
   ]
  },
  {
   "cell_type": "code",
   "execution_count": 10,
   "id": "5c5e12ec",
   "metadata": {},
   "outputs": [
    {
     "name": "stdout",
     "output_type": "stream",
     "text": [
      "Frank\n"
     ]
    }
   ],
   "source": [
    "# найти вхождение после любого кол-ва символов с начала строки-источника\n",
    "m = re.match('.*(Frank)', source)\n",
    "if m:\n",
    "    print(m.group(1))"
   ]
  },
  {
   "cell_type": "code",
   "execution_count": 11,
   "id": "14ce2ab8",
   "metadata": {},
   "outputs": [
    {
     "name": "stdout",
     "output_type": "stream",
     "text": [
      "Frank\n"
     ]
    }
   ],
   "source": [
    "# найти шаблон 'Frank' в любом месте строки-источника\n",
    "m = re.search('Frank', source)\n",
    "if m:\n",
    "    print(m.group())"
   ]
  },
  {
   "cell_type": "code",
   "execution_count": 14,
   "id": "8dba6bef",
   "metadata": {},
   "outputs": [
    {
     "name": "stdout",
     "output_type": "stream",
     "text": [
      "['n', 'n', 'n', 'n']\n",
      "Found 4 matches\n"
     ]
    }
   ],
   "source": [
    "# найти все вхождения\n",
    "m = re.findall('n', source)\n",
    "print(m)\n",
    "print('Found', len(m), 'matches')"
   ]
  },
  {
   "cell_type": "code",
   "execution_count": 15,
   "id": "32803523",
   "metadata": {},
   "outputs": [
    {
     "name": "stdout",
     "output_type": "stream",
     "text": [
      "['ng', 'nk', 'ns']\n"
     ]
    }
   ],
   "source": [
    "m = re.findall('n.', source)\n",
    "print(m)"
   ]
  },
  {
   "cell_type": "code",
   "execution_count": 16,
   "id": "a12636f5",
   "metadata": {},
   "outputs": [
    {
     "data": {
      "text/plain": [
       "['You', 'g Fra', 'ke', 'shtei', '']"
      ]
     },
     "execution_count": 16,
     "metadata": {},
     "output_type": "execute_result"
    }
   ],
   "source": [
    "# разбить совпадения\n",
    "m = re.split('n', source)\n",
    "m"
   ]
  },
  {
   "cell_type": "code",
   "execution_count": 17,
   "id": "7f00ee4d",
   "metadata": {},
   "outputs": [
    {
     "data": {
      "text/plain": [
       "'You?g Fra?ke?shtei?'"
      ]
     },
     "execution_count": 17,
     "metadata": {},
     "output_type": "execute_result"
    }
   ],
   "source": [
    "# заменить совпадения\n",
    "m = re.sub('n', '?', source)\n",
    "m"
   ]
  },
  {
   "cell_type": "markdown",
   "id": "358b0584",
   "metadata": {},
   "source": [
    "### Использование константы printable для тестирования РВ"
   ]
  },
  {
   "cell_type": "code",
   "execution_count": 20,
   "id": "93ee5acc",
   "metadata": {},
   "outputs": [
    {
     "name": "stdout",
     "output_type": "stream",
     "text": [
      "100\n"
     ]
    },
    {
     "data": {
      "text/plain": [
       "'0123456789abcdefghijklmnopqrstuvwxyzABCDEFGHIJKLMNOPQRSTUVWXYZ!\"#$%&\\'()*+,-./:;<=>?@[\\\\]^_`{|}~ \\t\\n\\r\\x0b\\x0c'"
      ]
     },
     "execution_count": 20,
     "metadata": {},
     "output_type": "execute_result"
    }
   ],
   "source": [
    "import string\n",
    "\n",
    "printable = string.printable\n",
    "print(len(printable))\n",
    "printable"
   ]
  },
  {
   "cell_type": "code",
   "execution_count": 23,
   "id": "c1aaf823",
   "metadata": {},
   "outputs": [
    {
     "data": {
      "text/plain": [
       "['0', '1', '2', '3', '4', '5', '6', '7', '8', '9']"
      ]
     },
     "execution_count": 23,
     "metadata": {},
     "output_type": "execute_result"
    }
   ],
   "source": [
    "re.findall('\\d', printable)"
   ]
  },
  {
   "cell_type": "code",
   "execution_count": 25,
   "id": "d3c6c07f",
   "metadata": {},
   "outputs": [
    {
     "name": "stdout",
     "output_type": "stream",
     "text": [
      "['0', '1', '2', '3', '4', '5', '6', '7', '8', '9', 'a', 'b', 'c', 'd', 'e', 'f', 'g', 'h', 'i', 'j', 'k', 'l', 'm', 'n', 'o', 'p', 'q', 'r', 's', 't', 'u', 'v', 'w', 'x', 'y', 'z', 'A', 'B', 'C', 'D', 'E', 'F', 'G', 'H', 'I', 'J', 'K', 'L', 'M', 'N', 'O', 'P', 'Q', 'R', 'S', 'T', 'U', 'V', 'W', 'X', 'Y', 'Z', '_']\n"
     ]
    }
   ],
   "source": [
    "print(re.findall('\\w', printable))"
   ]
  },
  {
   "cell_type": "code",
   "execution_count": 27,
   "id": "319e9ea2",
   "metadata": {},
   "outputs": [
    {
     "data": {
      "text/plain": [
       "[' ', '\\t', '\\n', '\\r', '\\x0b', '\\x0c']"
      ]
     },
     "execution_count": 27,
     "metadata": {},
     "output_type": "execute_result"
    }
   ],
   "source": [
    "re.findall('\\s', printable)"
   ]
  },
  {
   "cell_type": "markdown",
   "id": "de0ea95d",
   "metadata": {},
   "source": [
    "### Протестируем разные шаблоны РВ"
   ]
  },
  {
   "cell_type": "code",
   "execution_count": 28,
   "id": "7880540b",
   "metadata": {},
   "outputs": [
    {
     "data": {
      "text/plain": [
       "'I wish I may, I wish I might\\nHave a dish of fish tonight.'"
      ]
     },
     "execution_count": 28,
     "metadata": {},
     "output_type": "execute_result"
    }
   ],
   "source": [
    "source = '''I wish I may, I wish I might\n",
    "... Have a dish of fish tonight.'''\n",
    "source"
   ]
  },
  {
   "cell_type": "code",
   "execution_count": 29,
   "id": "45f67327",
   "metadata": {},
   "outputs": [
    {
     "data": {
      "text/plain": [
       "['wish', 'wish']"
      ]
     },
     "execution_count": 29,
     "metadata": {},
     "output_type": "execute_result"
    }
   ],
   "source": [
    "re.findall('wish', source)"
   ]
  },
  {
   "cell_type": "code",
   "execution_count": 30,
   "id": "00fd6104",
   "metadata": {},
   "outputs": [
    {
     "data": {
      "text/plain": [
       "['wish', 'wish', 'fish']"
      ]
     },
     "execution_count": 30,
     "metadata": {},
     "output_type": "execute_result"
    }
   ],
   "source": [
    "re.findall('wish|fish', source)"
   ]
  },
  {
   "cell_type": "code",
   "execution_count": 31,
   "id": "5e23936b",
   "metadata": {},
   "outputs": [
    {
     "data": {
      "text/plain": [
       "[]"
      ]
     },
     "execution_count": 31,
     "metadata": {},
     "output_type": "execute_result"
    }
   ],
   "source": [
    "re.findall('^wish', source)"
   ]
  },
  {
   "cell_type": "code",
   "execution_count": 32,
   "id": "387a656c",
   "metadata": {},
   "outputs": [
    {
     "data": {
      "text/plain": [
       "['I wish']"
      ]
     },
     "execution_count": 32,
     "metadata": {},
     "output_type": "execute_result"
    }
   ],
   "source": [
    "re.findall('^I wish', source)"
   ]
  },
  {
   "cell_type": "code",
   "execution_count": 33,
   "id": "5212be25",
   "metadata": {},
   "outputs": [
    {
     "data": {
      "text/plain": [
       "[]"
      ]
     },
     "execution_count": 33,
     "metadata": {},
     "output_type": "execute_result"
    }
   ],
   "source": [
    "re.findall('fish$', source)"
   ]
  },
  {
   "cell_type": "code",
   "execution_count": 34,
   "id": "88fcc0b7",
   "metadata": {},
   "outputs": [
    {
     "data": {
      "text/plain": [
       "['fish tonight.']"
      ]
     },
     "execution_count": 34,
     "metadata": {},
     "output_type": "execute_result"
    }
   ],
   "source": [
    "re.findall('fish tonight.$', source)"
   ]
  },
  {
   "cell_type": "code",
   "execution_count": 36,
   "id": "1d6d2f4f",
   "metadata": {},
   "outputs": [
    {
     "data": {
      "text/plain": [
       "['w', 's', 'h', 'w', 's', 'h', 'h', 's', 'h', 's', 'h', 'h']"
      ]
     },
     "execution_count": 36,
     "metadata": {},
     "output_type": "execute_result"
    }
   ],
   "source": [
    "re.findall('[wf]ish', source)"
   ]
  },
  {
   "cell_type": "code",
   "execution_count": 38,
   "id": "e4a485a8",
   "metadata": {},
   "outputs": [
    {
     "data": {
      "text/plain": [
       "['w', 'sh', 'w', 'sh', 'h', 'sh', 'sh', 'h']"
      ]
     },
     "execution_count": 38,
     "metadata": {},
     "output_type": "execute_result"
    }
   ],
   "source": [
    "re.findall('[wsh]+', source)"
   ]
  },
  {
   "cell_type": "code",
   "execution_count": 39,
   "id": "b88ff94b",
   "metadata": {},
   "outputs": [
    {
     "data": {
      "text/plain": [
       "['i', 'a', 'i', 'i', 'a', 'e', 'a', 'i', 'o', 'i', 'o', 'i']"
      ]
     },
     "execution_count": 39,
     "metadata": {},
     "output_type": "execute_result"
    }
   ],
   "source": [
    "re.findall('[aouei]+', source)"
   ]
  },
  {
   "cell_type": "markdown",
   "id": "745eb1c1",
   "metadata": {},
   "source": [
    "### Сырые строки"
   ]
  },
  {
   "cell_type": "code",
   "execution_count": 40,
   "id": "9c7f0cc3",
   "metadata": {},
   "outputs": [
    {
     "data": {
      "text/plain": [
       "[]"
      ]
     },
     "execution_count": 40,
     "metadata": {},
     "output_type": "execute_result"
    }
   ],
   "source": [
    "# шаблон должен совпасть с любым словом, которое начинается с fish\n",
    "re.findall('\\bfish', source)"
   ]
  },
  {
   "cell_type": "markdown",
   "id": "6ea41371",
   "metadata": {},
   "source": [
    "Шаблон не найден, потому что конфликтует с escape-последовательностью Python \\b (возврат на шаг). Решение - использовать *неформатированные строки* Python при определении шаблона регулярного выражения. \n",
    "\n",
    "Всегда размещайте символ r перед строкой шаблона регулярного выражения, и escape-последовательности Python будут отключены."
   ]
  },
  {
   "cell_type": "code",
   "execution_count": 41,
   "id": "61ad4319",
   "metadata": {},
   "outputs": [
    {
     "data": {
      "text/plain": [
       "['fish']"
      ]
     },
     "execution_count": 41,
     "metadata": {},
     "output_type": "execute_result"
    }
   ],
   "source": [
    "re.findall(r'\\bfish', source)"
   ]
  },
  {
   "cell_type": "markdown",
   "id": "9ee08748",
   "metadata": {},
   "source": [
    "### Способы вывода совпадений\n",
    "\n",
    "Все совпадения можно получить из объекта результата, вызвав метод `group()`. Если вы заключите шаблон в круглые скобки, совпадения будут сохранены в отдельную группу, а кортеж, состоящий из них, окажется доступен благодаря вызову метода `groups()`."
   ]
  },
  {
   "cell_type": "code",
   "execution_count": 65,
   "id": "0cf546d1",
   "metadata": {},
   "outputs": [
    {
     "name": "stdout",
     "output_type": "stream",
     "text": [
      "a dish of fish\n",
      "('a dish', 'fish')\n"
     ]
    }
   ],
   "source": [
    "m = re.search(r'(. dish\\b).*(\\bfish)', source)\n",
    "print(m.group())\n",
    "print(m.groups())"
   ]
  },
  {
   "cell_type": "markdown",
   "id": "ea8f030d",
   "metadata": {},
   "source": [
    "Можно сохранять совпадения в именованные элементы: (?P<имя> выр )."
   ]
  },
  {
   "cell_type": "code",
   "execution_count": 48,
   "id": "12d125de",
   "metadata": {},
   "outputs": [
    {
     "name": "stdout",
     "output_type": "stream",
     "text": [
      "a dish of fish\n",
      "('a dish', 'fish')\n",
      "a dish\n",
      "fish\n"
     ]
    }
   ],
   "source": [
    "m = re.search(r'(?P<DISH>. dish\\b).*(?P<FISH>\\bfish)', source)\n",
    "print(m.group())\n",
    "print(m.groups())\n",
    "print(m.group('DISH'))\n",
    "print(m.group('FISH'))"
   ]
  },
  {
   "cell_type": "code",
   "execution_count": 49,
   "id": "c95e6e7c",
   "metadata": {},
   "outputs": [
    {
     "data": {
      "text/plain": [
       "'a dish of fish'"
      ]
     },
     "execution_count": 49,
     "metadata": {},
     "output_type": "execute_result"
    }
   ],
   "source": [
    "m.group(0)"
   ]
  },
  {
   "cell_type": "code",
   "execution_count": 70,
   "id": "202a4c34",
   "metadata": {},
   "outputs": [
    {
     "data": {
      "text/plain": [
       "'might'"
      ]
     },
     "execution_count": 70,
     "metadata": {},
     "output_type": "execute_result"
    }
   ],
   "source": [
    "m = re.search(r'(?:may).*(might)', source)\n",
    "m.group(1)"
   ]
  },
  {
   "cell_type": "markdown",
   "id": "d698e974",
   "metadata": {},
   "source": [
    "### Использование предварительно скомпилированного шаблона\n",
    "\n",
    "Целесообразно для многократного поиска по одному и тому же шаблону. Работает быстрее."
   ]
  },
  {
   "cell_type": "code",
   "execution_count": 141,
   "id": "b88c12d3",
   "metadata": {},
   "outputs": [
    {
     "data": {
      "text/plain": [
       "'11/27/2012'"
      ]
     },
     "execution_count": 141,
     "metadata": {},
     "output_type": "execute_result"
    }
   ],
   "source": [
    "datetext = '11/27/2012'\n",
    "pattern = re.compile(r'\\d+/\\d+/\\d+')\n",
    "pattern.match(datetext).group()"
   ]
  },
  {
   "cell_type": "markdown",
   "id": "feccd0d8",
   "metadata": {},
   "source": [
    "### Дополнительные примеры шаблонов"
   ]
  },
  {
   "cell_type": "code",
   "execution_count": 74,
   "id": "94f39a1f",
   "metadata": {},
   "outputs": [
    {
     "name": "stdout",
     "output_type": "stream",
     "text": [
      "ABCD\n"
     ]
    }
   ],
   "source": [
    "pattern, string = 'A.C.', 'xxABCDxx'\n",
    "m = re.search(pattern, string)\n",
    "if m:\n",
    "    print(m.group(0))"
   ]
  },
  {
   "cell_type": "code",
   "execution_count": 75,
   "id": "0e46a039",
   "metadata": {},
   "outputs": [
    {
     "data": {
      "text/plain": [
       "'ABCDxx'"
      ]
     },
     "execution_count": 75,
     "metadata": {},
     "output_type": "execute_result"
    }
   ],
   "source": [
    "m = re.search('A.*C.*', string)\n",
    "m.group(0)"
   ]
  },
  {
   "cell_type": "code",
   "execution_count": 76,
   "id": "2bf6c8ef",
   "metadata": {},
   "outputs": [
    {
     "data": {
      "text/plain": [
       "'ABCDEFG\\t'"
      ]
     },
     "execution_count": 76,
     "metadata": {},
     "output_type": "execute_result"
    }
   ],
   "source": [
    "source = '..ABCDEFG\\t..'\n",
    "m = re.search(' *A.C[DE][D-F][^G-ZE]G\\t+?', source)\n",
    "m.group(0)"
   ]
  },
  {
   "cell_type": "code",
   "execution_count": 108,
   "id": "aa96979e",
   "metadata": {},
   "outputs": [
    {
     "data": {
      "text/plain": [
       "'...'"
      ]
     },
     "execution_count": 108,
     "metadata": {},
     "output_type": "execute_result"
    }
   ],
   "source": [
    "source = '6789iujk...uilkhj'\n",
    "m = re.search(r'\\.{3}', source)\n",
    "m.group()"
   ]
  },
  {
   "cell_type": "code",
   "execution_count": 112,
   "id": "a794321d",
   "metadata": {},
   "outputs": [
    {
     "name": "stdout",
     "output_type": "stream",
     "text": [
      "date: 12\n",
      "month: 05\n",
      "year: 2002\n"
     ]
    }
   ],
   "source": [
    "source = '12/05/2002'\n",
    "m = re.search(r'(?P<date>\\d{2})/(?P<month>\\d{2})/(?P<year>\\d{4})', source)\n",
    "print('date:', m.group('date'))\n",
    "print('month:', m.group('month'))\n",
    "print('year:', m.group('year'))"
   ]
  },
  {
   "cell_type": "code",
   "execution_count": 126,
   "id": "d16af2b4",
   "metadata": {},
   "outputs": [
    {
     "name": "stdout",
     "output_type": "stream",
     "text": [
      "fields=['asdf', ' ', 'fjdk', ';', 'afed', ',', 'fjek', ',', 'asdf', ',', 'foo']\n",
      "values=['asdf', 'fjdk', 'afed', 'fjek', 'asdf', 'foo']\n",
      "delimeters=[' ', ';', ',', ',', ',', '']\n",
      "reconstruction= asdf fjdk;afed,fjek,asdf,foo\n"
     ]
    }
   ],
   "source": [
    "# Разбить строку и получить список символов-разделителей\n",
    "line = 'asdf fjdk; afed, fjek,asdf, foo'\n",
    "re.split(r'[;,\\s]\\s*', line)\n",
    "fields = re.split(r'(;|,|\\s)\\s*', line)\n",
    "print(f'{fields=}')\n",
    "# символы-разделители могут потребоваться, чтобы пересобрать строку\n",
    "values = fields[::2]\n",
    "delimeters = fields[1::2] + ['']\n",
    "print(f'{values=}')\n",
    "print(f'{delimeters=}')\n",
    "print(f'reconstruction= {\"\".join(v + d for v, d in zip(values, delimeters))}')"
   ]
  },
  {
   "cell_type": "code",
   "execution_count": 145,
   "id": "8b303edc",
   "metadata": {},
   "outputs": [
    {
     "data": {
      "text/plain": [
       "'Today is 2012-11-27. PyCon starts 2013-3-13.'"
      ]
     },
     "execution_count": 145,
     "metadata": {},
     "output_type": "execute_result"
    }
   ],
   "source": [
    "# перестановка частей строки по шаблону\n",
    "# цифры, перед которыми поставлен обратный слеш, такие как \\3, ссылаются на номера захватывающих групп в шаблоне\n",
    "text = 'Today is 11/27/2012. PyCon starts 3/13/2013.'\n",
    "re.sub(r'(\\d+)/(\\d+)/(\\d+)', r'\\3-\\1-\\2', text)"
   ]
  },
  {
   "cell_type": "code",
   "execution_count": 146,
   "id": "4f6ccd8b",
   "metadata": {},
   "outputs": [
    {
     "data": {
      "text/plain": [
       "'Today is 27 Nov 2012. PyCon starts 13 Mar 2013.'"
      ]
     },
     "execution_count": 146,
     "metadata": {},
     "output_type": "execute_result"
    }
   ],
   "source": [
    "# в случае сложных подстановок можно определить подстановочную функцию обратного вызова (callback)\n",
    "# на вход подстановочной функции обратного вызова в аргументе передается объект поиска совпадений, \n",
    "# возвращенный функцией match() или find()\n",
    "\n",
    "from calendar import month_abbr\n",
    "\n",
    "def change_date(m):\n",
    "    mon_name = month_abbr[int(m.group(1))]\n",
    "    return '{} {} {}'.format(m.group(2), mon_name, m.group(3))\n",
    "\n",
    "datepat = re.compile(r'(\\d+)/(\\d+)/(\\d+)')\n",
    "datepat.sub(change_date, text)"
   ]
  },
  {
   "cell_type": "code",
   "execution_count": 148,
   "id": "5cb051c7",
   "metadata": {},
   "outputs": [
    {
     "name": "stdout",
     "output_type": "stream",
     "text": [
      "newtext='Today is 2012-11-27. PyCon starts 2013-3-13.', n=2\n"
     ]
    }
   ],
   "source": [
    "# подсчет количества выполненных замен\n",
    "newtext, n = datepat.subn(r'\\3-\\1-\\2', text)\n",
    "print(f'{newtext=}, {n=}')"
   ]
  },
  {
   "cell_type": "code",
   "execution_count": 150,
   "id": "dcc6d7fb",
   "metadata": {},
   "outputs": [
    {
     "data": {
      "text/plain": [
       "'UPPER snake, lower snake, Mixed snake'"
      ]
     },
     "execution_count": 150,
     "metadata": {},
     "output_type": "execute_result"
    }
   ],
   "source": [
    "# поиск и замена без учета регистра с помощью флага re.IGNORECASE\n",
    "text = 'UPPER PYTHON, lower python, Mixed Python'\n",
    "re.findall(r'python', text, flags=re.IGNORECASE)\n",
    "re.sub('python', 'snake', text, flags=re.IGNORECASE)"
   ]
  },
  {
   "cell_type": "code",
   "execution_count": 151,
   "id": "f78873a2",
   "metadata": {},
   "outputs": [
    {
     "data": {
      "text/plain": [
       "'UPPER SNAKE, lower snake, Mixed Snake'"
      ]
     },
     "execution_count": 151,
     "metadata": {},
     "output_type": "execute_result"
    }
   ],
   "source": [
    "# для замены в том же регистре понадобится функция поддержки\n",
    "def matchcase(word):\n",
    "    def replace(m):\n",
    "        text = m.group()\n",
    "        if text.isupper():\n",
    "            return word.upper()\n",
    "        elif text.islower():\n",
    "            return word.lower()\n",
    "        elif text[0].isupper():\n",
    "            return word.capitalize()\n",
    "        else:\n",
    "            return word\n",
    "    return replace\n",
    "\n",
    "re.sub('python', matchcase('snake'), text, flags=re.IGNORECASE)"
   ]
  },
  {
   "cell_type": "code",
   "execution_count": 156,
   "id": "d1c53cfc",
   "metadata": {},
   "outputs": [
    {
     "name": "stdout",
     "output_type": "stream",
     "text": [
      "['no.']\n",
      "['no.\" Phone says \"yes.']\n",
      "['no.', 'yes.']\n"
     ]
    }
   ],
   "source": [
    "# поиск кратчайшего совпадения\n",
    "str_pat = re.compile(r'\\\"(.*)\\\"')\n",
    "text1 = 'Computer says \"no.\"'\n",
    "print(str_pat.findall(text1))\n",
    "\n",
    "# оператор * в регулярном выражении является жадным, поэтому поиск получается \n",
    "# поиском самого длинного из возможных совпадений\n",
    "text2 = 'Computer says \"no.\" Phone says \"yes.\"'\n",
    "print(str_pat.findall(text2))\n",
    "\n",
    "# решение: нужно добавить модификатор ? после * в шаблоне\n",
    "str_pat = re.compile(r'\\\"(.*?)\\\"')\n",
    "print(str_pat.findall(text2))"
   ]
  },
  {
   "cell_type": "code",
   "execution_count": 159,
   "id": "6cbe9a71",
   "metadata": {},
   "outputs": [
    {
     "data": {
      "text/plain": [
       "[' this is a\\n... multiline comment']"
      ]
     },
     "execution_count": 159,
     "metadata": {},
     "output_type": "execute_result"
    }
   ],
   "source": [
    "# многострочные шаблоны\n",
    "# нужно добавить поддержку символов новой строки\n",
    "# (?:.|\\n) определяет незахватывающую группу (то есть выражение определяет группу для целей поиска совпадений,\n",
    "# но эта группа не захватывается и не подсчитывается)\n",
    "\n",
    "text = '''/* this is a\n",
    "... multiline comment*/\n",
    "...'''\n",
    "comment = re.compile(r'/\\*((?:.|\\n)*?)\\*/')\n",
    "comment.findall(text)"
   ]
  },
  {
   "cell_type": "code",
   "execution_count": null,
   "id": "73b7dffd",
   "metadata": {},
   "outputs": [],
   "source": []
  },
  {
   "cell_type": "code",
   "execution_count": null,
   "id": "dc43f6b5",
   "metadata": {},
   "outputs": [],
   "source": []
  },
  {
   "cell_type": "code",
   "execution_count": null,
   "id": "efdca513",
   "metadata": {},
   "outputs": [],
   "source": []
  },
  {
   "cell_type": "code",
   "execution_count": null,
   "id": "006db875",
   "metadata": {},
   "outputs": [],
   "source": []
  },
  {
   "cell_type": "code",
   "execution_count": null,
   "id": "b52dc01f",
   "metadata": {},
   "outputs": [],
   "source": []
  },
  {
   "cell_type": "markdown",
   "id": "64d843d3",
   "metadata": {},
   "source": [
    "## Методы строк"
   ]
  },
  {
   "cell_type": "code",
   "execution_count": 78,
   "id": "fc7e5d3c",
   "metadata": {},
   "outputs": [
    {
     "data": {
      "text/plain": [
       "['A', 'C', '']"
      ]
     },
     "execution_count": 78,
     "metadata": {},
     "output_type": "execute_result"
    }
   ],
   "source": [
    "pattern.split('.')"
   ]
  },
  {
   "cell_type": "code",
   "execution_count": 79,
   "id": "892c7c72",
   "metadata": {},
   "outputs": [
    {
     "data": {
      "text/plain": [
       "['__add__',\n",
       " '__class__',\n",
       " '__contains__',\n",
       " '__delattr__',\n",
       " '__dir__',\n",
       " '__doc__',\n",
       " '__eq__',\n",
       " '__format__',\n",
       " '__ge__',\n",
       " '__getattribute__',\n",
       " '__getitem__',\n",
       " '__getnewargs__',\n",
       " '__gt__',\n",
       " '__hash__',\n",
       " '__init__',\n",
       " '__init_subclass__',\n",
       " '__iter__',\n",
       " '__le__',\n",
       " '__len__',\n",
       " '__lt__',\n",
       " '__mod__',\n",
       " '__mul__',\n",
       " '__ne__',\n",
       " '__new__',\n",
       " '__reduce__',\n",
       " '__reduce_ex__',\n",
       " '__repr__',\n",
       " '__rmod__',\n",
       " '__rmul__',\n",
       " '__setattr__',\n",
       " '__sizeof__',\n",
       " '__str__',\n",
       " '__subclasshook__',\n",
       " 'capitalize',\n",
       " 'casefold',\n",
       " 'center',\n",
       " 'count',\n",
       " 'encode',\n",
       " 'endswith',\n",
       " 'expandtabs',\n",
       " 'find',\n",
       " 'format',\n",
       " 'format_map',\n",
       " 'index',\n",
       " 'isalnum',\n",
       " 'isalpha',\n",
       " 'isascii',\n",
       " 'isdecimal',\n",
       " 'isdigit',\n",
       " 'isidentifier',\n",
       " 'islower',\n",
       " 'isnumeric',\n",
       " 'isprintable',\n",
       " 'isspace',\n",
       " 'istitle',\n",
       " 'isupper',\n",
       " 'join',\n",
       " 'ljust',\n",
       " 'lower',\n",
       " 'lstrip',\n",
       " 'maketrans',\n",
       " 'partition',\n",
       " 'removeprefix',\n",
       " 'removesuffix',\n",
       " 'replace',\n",
       " 'rfind',\n",
       " 'rindex',\n",
       " 'rjust',\n",
       " 'rpartition',\n",
       " 'rsplit',\n",
       " 'rstrip',\n",
       " 'split',\n",
       " 'splitlines',\n",
       " 'startswith',\n",
       " 'strip',\n",
       " 'swapcase',\n",
       " 'title',\n",
       " 'translate',\n",
       " 'upper',\n",
       " 'zfill']"
      ]
     },
     "execution_count": 79,
     "metadata": {},
     "output_type": "execute_result"
    }
   ],
   "source": [
    "dir(str)"
   ]
  },
  {
   "cell_type": "code",
   "execution_count": 81,
   "id": "b1235360",
   "metadata": {},
   "outputs": [
    {
     "name": "stdout",
     "output_type": "stream",
     "text": [
      "Help on method_descriptor:\n",
      "\n",
      "zfill(self, width, /)\n",
      "    Pad a numeric string with zeros on the left, to fill a field of the given width.\n",
      "    \n",
      "    The string is never truncated.\n",
      "\n"
     ]
    }
   ],
   "source": [
    "help(str.zfill)"
   ]
  },
  {
   "cell_type": "code",
   "execution_count": 129,
   "id": "6114912c",
   "metadata": {},
   "outputs": [
    {
     "data": {
      "text/plain": [
       "True"
      ]
     },
     "execution_count": 129,
     "metadata": {},
     "output_type": "execute_result"
    }
   ],
   "source": [
    "# поиск текста в начале и в конце строки: str.startswith() и str.endswith()\n",
    "filename = 'spam.txt'\n",
    "filename.endswith('txt')\n",
    "url = 'http://www.python.org'\n",
    "url.startswith('http:')"
   ]
  },
  {
   "cell_type": "code",
   "execution_count": 136,
   "id": "45092e26",
   "metadata": {},
   "outputs": [
    {
     "name": "stdout",
     "output_type": "stream",
     "text": [
      "files: ['.ipynb_checkpoints', '.git', 'working_w_strings.ipynb']\n",
      "python notebooks: working_w_strings.ipynb\n"
     ]
    },
    {
     "data": {
      "text/plain": [
       "[None]"
      ]
     },
     "execution_count": 136,
     "metadata": {},
     "output_type": "execute_result"
    }
   ],
   "source": [
    "import os\n",
    "\n",
    "filenames = os.listdir(\".\")\n",
    "print(f'files: {filenames}')\n",
    "[print(f'python notebooks: {name}') for name in filenames if name.endswith('ipynb')]"
   ]
  },
  {
   "cell_type": "code",
   "execution_count": 138,
   "id": "7e1d9401",
   "metadata": {},
   "outputs": [
    {
     "data": {
      "text/plain": [
       "True"
      ]
     },
     "execution_count": 138,
     "metadata": {},
     "output_type": "execute_result"
    }
   ],
   "source": [
    "# для выбора из неск. вариантов нужно передавать кортеж\n",
    "choices = ['http:', 'ftp:']\n",
    "url.startswith(tuple(choices))"
   ]
  },
  {
   "cell_type": "code",
   "execution_count": 139,
   "id": "3c02d2d7",
   "metadata": {},
   "outputs": [
    {
     "data": {
      "text/plain": [
       "10"
      ]
     },
     "execution_count": 139,
     "metadata": {},
     "output_type": "execute_result"
    }
   ],
   "source": [
    "# поиск первого вхождения подстроки\n",
    "text = 'yeah, but no, but yeah, but no, but yeah'\n",
    "text.find('no')"
   ]
  },
  {
   "cell_type": "code",
   "execution_count": 143,
   "id": "3707d7ae",
   "metadata": {},
   "outputs": [
    {
     "data": {
      "text/plain": [
       "'yep, but no, but yep, but no, but yep'"
      ]
     },
     "execution_count": 143,
     "metadata": {},
     "output_type": "execute_result"
    }
   ],
   "source": [
    "# поиск и замена текста \n",
    "text.replace('yeah', 'yep')"
   ]
  },
  {
   "cell_type": "code",
   "execution_count": 161,
   "id": "fa7c7a1b",
   "metadata": {},
   "outputs": [
    {
     "data": {
      "text/plain": [
       "'Spicy Jalapeño'"
      ]
     },
     "execution_count": 161,
     "metadata": {},
     "output_type": "execute_result"
    }
   ],
   "source": [
    "# unicode-символы\n",
    "'Spicy Jalape\\u00f1o'"
   ]
  },
  {
   "cell_type": "code",
   "execution_count": 170,
   "id": "2f255a95",
   "metadata": {},
   "outputs": [
    {
     "name": "stdout",
     "output_type": "stream",
     "text": [
      "hello world\n",
      "hello world \n",
      "\n",
      "hello world\n",
      "hello=====\n",
      "hello\n",
      "blah-blah-blah\n"
     ]
    }
   ],
   "source": [
    "# срезание нежелательных символов из строк, по умолчанию - пробел\n",
    "\n",
    "s = 'hello world \\n'\n",
    "print(s.strip())\n",
    "print(s.lstrip())\n",
    "print(s.rstrip())\n",
    "t = '-----hello====='\n",
    "print(t.lstrip('-'))\n",
    "print(t.strip('-='))\n",
    "u = '\"blah-blah-blah\"'\n",
    "print(u.strip('\"\"'))"
   ]
  },
  {
   "cell_type": "code",
   "execution_count": 188,
   "id": "b5fd23f8",
   "metadata": {},
   "outputs": [
    {
     "name": "stdout",
     "output_type": "stream",
     "text": [
      "Hello World         \n",
      "         Hello World\n",
      "    Hello World     \n",
      "****Hello World*****\n",
      "         Hello World\n",
      "Hello World         \n",
      "    Hello World     \n",
      "=========Hello World\n",
      "****Hello World*****\n",
      "    1.2345\n",
      "   1.23   \n"
     ]
    }
   ],
   "source": [
    "# выравнивание строк\n",
    "\n",
    "text = 'Hello World'\n",
    "print(text.ljust(20))\n",
    "print(text.rjust(20))\n",
    "print(text.center(20))\n",
    "\n",
    "# с символом заполнения\n",
    "\n",
    "print(text.center(20, '*'))\n",
    "\n",
    "# функцией format\n",
    "\n",
    "print(format(text, '>20'))\n",
    "print(format(text, '<20'))\n",
    "print(format(text, '^20'))\n",
    "\n",
    "# и символом заполнения\n",
    "\n",
    "print(format(text, '=>20s'))\n",
    "print(format(text, '*^20s'))\n",
    "'{:>10s} {:>10s}'.format('Hello', 'World')\n",
    "\n",
    "# можно использовать не только со строками, но и с числами\n",
    "\n",
    "x = 1.2345\n",
    "print(format(x, '>10'))\n",
    "print(format(x, '^10.2f'))"
   ]
  },
  {
   "cell_type": "code",
   "execution_count": 189,
   "id": "d9a46438",
   "metadata": {},
   "outputs": [
    {
     "data": {
      "text/plain": [
       "'Is Chicago Not Chicago?'"
      ]
     },
     "execution_count": 189,
     "metadata": {},
     "output_type": "execute_result"
    }
   ],
   "source": [
    "# объединение и конкатенация\n",
    "\n",
    "parts = ['Is', 'Chicago', 'Not', 'Chicago?']\n",
    "' '.join(parts)"
   ]
  },
  {
   "cell_type": "code",
   "execution_count": null,
   "id": "5bbc8eb9",
   "metadata": {},
   "outputs": [],
   "source": []
  }
 ],
 "metadata": {
  "kernelspec": {
   "display_name": "Python 3 (ipykernel)",
   "language": "python",
   "name": "python3"
  },
  "language_info": {
   "codemirror_mode": {
    "name": "ipython",
    "version": 3
   },
   "file_extension": ".py",
   "mimetype": "text/x-python",
   "name": "python",
   "nbconvert_exporter": "python",
   "pygments_lexer": "ipython3",
   "version": "3.9.7"
  },
  "toc": {
   "base_numbering": 1,
   "nav_menu": {},
   "number_sections": true,
   "sideBar": true,
   "skip_h1_title": false,
   "title_cell": "Table of Contents",
   "title_sidebar": "Contents",
   "toc_cell": false,
   "toc_position": {},
   "toc_section_display": true,
   "toc_window_display": false
  }
 },
 "nbformat": 4,
 "nbformat_minor": 5
}
