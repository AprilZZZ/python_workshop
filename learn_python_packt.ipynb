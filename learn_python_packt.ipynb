{
 "cells": [
  {
   "cell_type": "markdown",
   "metadata": {},
   "source": [
    "# Learn Python Programming (Packt)"
   ]
  },
  {
   "cell_type": "markdown",
   "metadata": {},
   "source": [
    "## Built-in data types"
   ]
  },
  {
   "cell_type": "code",
   "execution_count": 1,
   "metadata": {},
   "outputs": [
    {
     "name": "stdout",
     "output_type": "stream",
     "text": [
      "Python 3.9.7\r\n"
     ]
    }
   ],
   "source": [
    "! python --version"
   ]
  },
  {
   "cell_type": "code",
   "execution_count": 2,
   "metadata": {},
   "outputs": [
    {
     "data": {
      "text/plain": [
       "140196859538448"
      ]
     },
     "execution_count": 2,
     "metadata": {},
     "output_type": "execute_result"
    }
   ],
   "source": [
    "age = 24\n",
    "id(age)"
   ]
  },
  {
   "cell_type": "code",
   "execution_count": 3,
   "metadata": {},
   "outputs": [
    {
     "data": {
      "text/plain": [
       "140196859538608"
      ]
     },
     "execution_count": 3,
     "metadata": {},
     "output_type": "execute_result"
    }
   ],
   "source": [
    "age = age + 5\n",
    "id(age)"
   ]
  },
  {
   "cell_type": "markdown",
   "metadata": {},
   "source": [
    "In fact, we did not change that 42 to 43—we actually just **pointed** age to a different location, which is the new int object whose value is 43."
   ]
  },
  {
   "cell_type": "code",
   "execution_count": 4,
   "metadata": {},
   "outputs": [],
   "source": [
    "class Person:\n",
    "    def __init__(self, age):\n",
    "        self.age = age"
   ]
  },
  {
   "cell_type": "code",
   "execution_count": 5,
   "metadata": {},
   "outputs": [
    {
     "name": "stdout",
     "output_type": "stream",
     "text": [
      "object: 140196879271344, property: 140196859539024, property value: 42\n"
     ]
    }
   ],
   "source": [
    "fabrizzio = Person(42)\n",
    "print(f'object: {id(fabrizzio)}, property: {id(fabrizzio.age)}, property value: {fabrizzio.age}')"
   ]
  },
  {
   "cell_type": "code",
   "execution_count": 6,
   "metadata": {},
   "outputs": [
    {
     "name": "stdout",
     "output_type": "stream",
     "text": [
      "object: 140196879271344, property: 140196859538480, property value: 25\n"
     ]
    }
   ],
   "source": [
    "fabrizzio.age = 25\n",
    "print(f'object: {id(fabrizzio)}, property: {id(fabrizzio.age)}, property value: {fabrizzio.age}')"
   ]
  },
  {
   "cell_type": "markdown",
   "metadata": {},
   "source": [
    "Notice that, even after we change age to be 25, the ID of fab stays the same (while the ID of age has changed, of course). Custom objects in Python are mutable (unless you code them not to be)."
   ]
  },
  {
   "cell_type": "markdown",
   "metadata": {},
   "source": [
    "### Numbers"
   ]
  },
  {
   "cell_type": "markdown",
   "metadata": {},
   "source": [
    "**Numbers are immutable objects.**\n",
    "\n",
    "#### Integers\n",
    "\n",
    "Python integers have an unlimited range, subject only to the available virtual memory. This means that it doesn't really matter how big a number you want to store is—as long as it can fit in your computer's memory, Python will take care of it.\n"
   ]
  },
  {
   "cell_type": "code",
   "execution_count": 7,
   "metadata": {},
   "outputs": [
    {
     "name": "stdout",
     "output_type": "stream",
     "text": [
      "modulo operation: 13 % 4 = 1,\n",
      "integer devision: 13 // 4 = 3\n",
      "7/4: 1.75, 7//4: 1\n",
      "positive numbers: -7 / 4 = -1.75, \n",
      "negative numbers: -7 // 4 = -2\n"
     ]
    }
   ],
   "source": [
    "# division\n",
    "\n",
    "a = 13\n",
    "b = 4\n",
    "print(f'modulo operation: 13 % 4 = {a%b},\\ninteger devision: 13 // 4 = {a//b}')\n",
    "print(f'7/4: {7/4}, 7//4: {7//4}')\n",
    "print(f'positive numbers: -7 / 4 = {-7/4}, \\nnegative numbers: -7 // 4 = {-7//4}')"
   ]
  },
  {
   "cell_type": "code",
   "execution_count": 8,
   "metadata": {},
   "outputs": [
    {
     "data": {
      "text/plain": [
       "-1"
      ]
     },
     "execution_count": 8,
     "metadata": {},
     "output_type": "execute_result"
    }
   ],
   "source": [
    "# Integer division in Python is always rounded toward minus infinity. \n",
    "# If, instead of flooring, you want to truncate a number to an integer, you can use the built-in int() function.\\\n",
    "\n",
    "int(-7/4)"
   ]
  },
  {
   "cell_type": "code",
   "execution_count": 9,
   "metadata": {},
   "outputs": [
    {
     "data": {
      "text/plain": [
       "1024"
      ]
     },
     "execution_count": 9,
     "metadata": {},
     "output_type": "execute_result"
    }
   ],
   "source": [
    "# one nice features\n",
    "n = 1_024\n",
    "n"
   ]
  },
  {
   "cell_type": "markdown",
   "metadata": {},
   "source": [
    "#### Booleans\n",
    "\n",
    "Booleans are a subclass of integers, so True and False behave respectively like 1 and 0. \n",
    "\n",
    "Every built-in Python object has a value in the Boolean context, which means they basically evaluate to either True or False when fed to the bool function.\n"
   ]
  },
  {
   "cell_type": "code",
   "execution_count": 10,
   "metadata": {},
   "outputs": [
    {
     "name": "stdout",
     "output_type": "stream",
     "text": [
      "1 + True = 2, \n",
      "False + 42 = 42,\n",
      "7 - True = 6\n"
     ]
    }
   ],
   "source": [
    "# Upcasting is a type conversion operation that goes from a subclass to its parent. \n",
    "# True and False, which belong to a class derived from the integer class, are converted back \n",
    "# to integers when needed\n",
    "\n",
    "print(f'1 + True = {1 + True}, \\nFalse + 42 = {False + 42},\\n7 - True = {7 - True}')"
   ]
  },
  {
   "cell_type": "markdown",
   "metadata": {},
   "source": [
    "#### Real numbers\n",
    "\n",
    "Real numbers, or floating point numbers, are represented in Python according to the IEEE 754 double-precision binary floating point format, which is stored in 64 bits of information divided into three sections: \n",
    "- sign \n",
    "- exponent\n",
    "- mantissa\n",
    "\n",
    "http://en.wikipedia.org/wiki/Double-precision_floating-point_format"
   ]
  },
  {
   "cell_type": "code",
   "execution_count": 11,
   "metadata": {},
   "outputs": [
    {
     "data": {
      "text/plain": [
       "sys.float_info(max=1.7976931348623157e+308, max_exp=1024, max_10_exp=308, min=2.2250738585072014e-308, min_exp=-1021, min_10_exp=-307, dig=15, mant_dig=53, epsilon=2.220446049250313e-16, radix=2, rounds=1)"
      ]
     },
     "execution_count": 11,
     "metadata": {},
     "output_type": "execute_result"
    }
   ],
   "source": [
    "# The sys.float_info sequence holds information about how floating point numbers will behave on your system. \n",
    "\n",
    "import sys\n",
    "\n",
    "sys.float_info"
   ]
  },
  {
   "cell_type": "code",
   "execution_count": 12,
   "metadata": {},
   "outputs": [
    {
     "data": {
      "text/plain": [
       "-5.551115123125783e-17"
      ]
     },
     "execution_count": 12,
     "metadata": {},
     "output_type": "execute_result"
    }
   ],
   "source": [
    "# Double precision numbers suffer from approximation issues even when it comes to simple numbers like 0.1 or 0.3. \n",
    "\n",
    "0.3 - 0.1 * 3 # Oops!"
   ]
  },
  {
   "cell_type": "markdown",
   "metadata": {},
   "source": [
    "#### Complex numbers\n",
    "\n",
    "Python gives you complex numbers support out of the box.\n",
    "It is perhaps unlikely that you will use them, unless you're coding something scientific."
   ]
  },
  {
   "cell_type": "code",
   "execution_count": 13,
   "metadata": {},
   "outputs": [
    {
     "name": "stdout",
     "output_type": "stream",
     "text": [
      "c.real = 3.14, \n",
      "c.imag = 2.73, \n",
      "conjugate of A + Bj is A - Bj: (3.14-2.73j)       \n",
      "multiplication is allowed: (6.28+5.46j) \n",
      "power operation as well: (2.4067000000000007+17.1444j)      \n",
      "addition and subtraction as well: d = 1 + 1j\n"
     ]
    }
   ],
   "source": [
    "c = 3.14 + 2.73j\n",
    "c = complex(3.14, 2.73)  # same as above\n",
    "\n",
    "print(f'c.real = {c.real}, \\nc.imag = {c.imag}, \\nconjugate of A + Bj is A - Bj: {c.conjugate()} \\\n",
    "      \\nmultiplication is allowed: {c * 2} \\npower operation as well: {c ** 2}\\\n",
    "      \\naddition and subtraction as well: d = 1 + 1j')\n"
   ]
  },
  {
   "cell_type": "markdown",
   "metadata": {},
   "source": [
    "### Immutable sequences\n",
    "\n",
    "Strings, tuples, and bytes."
   ]
  },
  {
   "cell_type": "markdown",
   "metadata": {},
   "source": [
    "#### Strings"
   ]
  },
  {
   "cell_type": "code",
   "execution_count": 14,
   "metadata": {},
   "outputs": [
    {
     "name": "stdout",
     "output_type": "stream",
     "text": [
      "s.removeprefix(\"Hell\"): o There \n",
      "s.removesuffix(\"here\") Hello T\n"
     ]
    },
    {
     "data": {
      "text/plain": [
       "'erehT olleH'"
      ]
     },
     "execution_count": 14,
     "metadata": {},
     "output_type": "execute_result"
    }
   ],
   "source": [
    "# new functions in python 3.9\n",
    "s = 'Hello There'\n",
    "print(f's.removeprefix(\"Hell\"): {s.removeprefix(\"Hell\")} \\ns.removesuffix(\"here\") {s.removesuffix(\"here\")}')\n",
    "s[::-1]"
   ]
  },
  {
   "cell_type": "code",
   "execution_count": 15,
   "metadata": {},
   "outputs": [
    {
     "name": "stdout",
     "output_type": "stream",
     "text": [
      " s[0]      T # indexing at position 0, which is the first char       \n",
      " s[:4]     The  # slicing, we specify only the stop position       \n",
      " s[4:]     trouble is you think you have time. # slicing, we specify only the start position       \n",
      " s[2:14]   e trouble is # slicing, both start and stop positions       \n",
      " s[2:14:3] erb  # slicing, start, stop and step (every 3 chars)       \n",
      " s[:]      The trouble is you think you have time. # quick way of making a copy\n"
     ]
    }
   ],
   "source": [
    "# indexing and slicing\n",
    "\n",
    "s = \"The trouble is you think you have time.\"\n",
    "print(f' s[0]      {s[0]} # indexing at position 0, which is the first char \\\n",
    "      \\n s[:4]     {s[:4]} # slicing, we specify only the stop position \\\n",
    "      \\n s[4:]     {s[4:]} # slicing, we specify only the start position \\\n",
    "      \\n s[2:14]   {s[2:14]} # slicing, both start and stop positions \\\n",
    "      \\n s[2:14:3] {s[2:14:3]} # slicing, start, stop and step (every 3 chars) \\\n",
    "      \\n s[:]      {s[:]} # quick way of making a copy')"
   ]
  },
  {
   "cell_type": "code",
   "execution_count": 16,
   "metadata": {},
   "outputs": [
    {
     "name": "stdout",
     "output_type": "stream",
     "text": [
      " s[0]      = 'T' # indexing at position 0, which is the first char       \n",
      " s[:4]     = 'The ' # slicing, we specify only the stop position       \n",
      " s[4:]     = 'trouble is you think you have time.' # slicing, we specify only the start position       \n",
      " s[2:14]   = 'e trouble is' # slicing, both start and stop positions       \n",
      " s[2:14:3] = 'erb ' # slicing, start, stop and step (every 3 chars)       \n",
      " s[:]      = 'The trouble is you think you have time.' # quick way of making a copy\n"
     ]
    }
   ],
   "source": [
    "# much nicer %)\n",
    "\n",
    "s = \"The trouble is you think you have time.\"\n",
    "print(f' {s[0]      = } # indexing at position 0, which is the first char \\\n",
    "      \\n {s[:4]     = } # slicing, we specify only the stop position \\\n",
    "      \\n {s[4:]     = } # slicing, we specify only the start position \\\n",
    "      \\n {s[2:14]   = } # slicing, both start and stop positions \\\n",
    "      \\n {s[2:14:3] = } # slicing, start, stop and step (every 3 chars) \\\n",
    "      \\n {s[:]      = } # quick way of making a copy')"
   ]
  },
  {
   "cell_type": "code",
   "execution_count": 17,
   "metadata": {},
   "outputs": [
    {
     "data": {
      "text/plain": [
       "'.emit evah uoy kniht uoy si elbuort ehT'"
      ]
     },
     "execution_count": 17,
     "metadata": {},
     "output_type": "execute_result"
    }
   ],
   "source": [
    "s[::-1]"
   ]
  },
  {
   "cell_type": "code",
   "execution_count": 18,
   "metadata": {},
   "outputs": [
    {
     "data": {
      "text/plain": [
       "'Hello April!'"
      ]
     },
     "execution_count": 18,
     "metadata": {},
     "output_type": "execute_result"
    }
   ],
   "source": [
    "greetings = 'Hello {}!'\n",
    "greetings.format('April')"
   ]
  },
  {
   "cell_type": "code",
   "execution_count": 19,
   "metadata": {},
   "outputs": [
    {
     "data": {
      "text/plain": [
       "'Hello April Spring!'"
      ]
     },
     "execution_count": 19,
     "metadata": {},
     "output_type": "execute_result"
    }
   ],
   "source": [
    "greetings = 'Hello {} {}!'\n",
    "greetings.format('April', 'Spring')"
   ]
  },
  {
   "cell_type": "code",
   "execution_count": 20,
   "metadata": {},
   "outputs": [
    {
     "data": {
      "text/plain": [
       "'Hello, my name is Fabrizio Romano'"
      ]
     },
     "execution_count": 20,
     "metadata": {},
     "output_type": "execute_result"
    }
   ],
   "source": [
    "keyword = 'Hello, my name is {name} {last_name}'\n",
    "keyword.format(name='Fabrizio', last_name='Romano')"
   ]
  },
  {
   "cell_type": "markdown",
   "metadata": {},
   "source": [
    "#### Tuples\n",
    "\n",
    "Tuples usually contain a heterogeneous sequence of elements while, on the other hand, lists are, most of the time, homogeneous. Moreover, tuples are normally accessed via unpacking or indexing, while lists are usually iterated over."
   ]
  },
  {
   "cell_type": "code",
   "execution_count": 21,
   "metadata": {},
   "outputs": [
    {
     "data": {
      "text/plain": [
       "True"
      ]
     },
     "execution_count": 21,
     "metadata": {},
     "output_type": "execute_result"
    }
   ],
   "source": [
    "one_element_tuple = (42, )  # you need the comma!\n",
    "my_tuple = 1, 2, 3\n",
    "# or\n",
    "my_tuple = (1, 2, 3)\n",
    "a, b, c = 1, 2, 3  # tuple for multiple assignment\n",
    "a, b, c  # implicit tuple to print with one instruction\n",
    "3 in my_tuple  # membership test"
   ]
  },
  {
   "cell_type": "code",
   "execution_count": 22,
   "metadata": {},
   "outputs": [
    {
     "data": {
      "text/plain": [
       "(1, 0)"
      ]
     },
     "execution_count": 22,
     "metadata": {},
     "output_type": "execute_result"
    }
   ],
   "source": [
    "# tuple assignment allows us to do is one-line swaps, with no need for a third temporary variable\n",
    "a, b = 0, 1\n",
    "a, b = b, a\n",
    "a, b"
   ]
  },
  {
   "cell_type": "markdown",
   "metadata": {},
   "source": [
    "### Mutable sequences\n",
    "\n",
    "There are two mutable sequence types in Python: lists and byte arrays.\n",
    "\n",
    "Bytearrays expose most of the usual methods of mutable sequences as well as most of the methods of the bytes type. Items in a bytearray are integers in the range [0, 256)."
   ]
  },
  {
   "cell_type": "code",
   "execution_count": 23,
   "metadata": {},
   "outputs": [
    {
     "name": "stdout",
     "output_type": "stream",
     "text": [
      "['h', 'e', 'l', 'l', 'o'] [1, 2, 3, 4, 5, 6, 7]\n"
     ]
    }
   ],
   "source": [
    "a = list('hello')\n",
    "b = [1, 2, 3, 4, 5, 6, 7]\n",
    "print(a, b)"
   ]
  },
  {
   "cell_type": "code",
   "execution_count": 24,
   "metadata": {},
   "outputs": [
    {
     "name": "stdout",
     "output_type": "stream",
     "text": [
      "[1, 2, 3, 4, 5, 6, 7, 13]\n",
      "1\n",
      "[1, 2, 3, 4, 5, 6, 7, 13, 5, 7]\n",
      "7\n",
      "[17, 1, 2, 3, 4, 5, 6, 7, 13, 5, 7]\n",
      "7\n",
      "3\n",
      "[1, 2, 4, 5, 6, 7, 13, 5]\n",
      "[5, 13, 7, 6, 5, 4, 2, 1]\n",
      "[1, 2, 4, 5, 5, 6, 7, 13]\n",
      "8\n",
      "1\n",
      "13\n",
      "43\n",
      "['h', 'e', 'l', 'l', 'o', 1, 2, 4, 5, 5, 6, 7, 13]\n",
      "109200\n",
      "[1, 2, 4, 5, 5, 6, 7, 13, 1, 2, 4, 5, 5, 6, 7, 13]\n",
      "[]\n"
     ]
    }
   ],
   "source": [
    "# the main methods of lists\n",
    "\n",
    "b.append(13) # we can append anything at the end\n",
    "print(b)\n",
    "\n",
    "print(b.count(13)) # how many `ls` are there in the list?\n",
    "\n",
    "b.extend([5, 7])  # extend the list by another (or sequence)\n",
    "print(b)\n",
    "\n",
    "print(b.index(13))  # position of `13` in the list (0-based indexing)\n",
    "\n",
    "b.insert(0, 17)  # insert `17` at position 0\n",
    "print(b)\n",
    "\n",
    "print(b.pop())  # pop (remove and return) last element\n",
    "\n",
    "print(b.pop(3))  # pop element at position 3\n",
    "\n",
    "b.remove(17)  # remove `17` from the list\n",
    "print(b)\n",
    "\n",
    "b.reverse()  # reverse the order of the elements in the list\n",
    "print(b)\n",
    "\n",
    "b.sort()  # sort the list\n",
    "print(b)\n",
    "\n",
    "print(len(b))\n",
    "print(min(b))\n",
    "print(max(b))\n",
    "print(sum(b))\n",
    "\n",
    "print(a + b) # `+` with list means concatenation\n",
    "\n",
    "from math import prod\n",
    "print(prod(b))  # product of all values in the list\n",
    "\n",
    "print(b * 2)\n",
    "\n",
    "b.clear()  # remove all elements from the list\n",
    "print(b)"
   ]
  },
  {
   "cell_type": "code",
   "execution_count": 25,
   "metadata": {},
   "outputs": [
    {
     "data": {
      "text/plain": [
       "'l'"
      ]
     },
     "execution_count": 25,
     "metadata": {},
     "output_type": "execute_result"
    }
   ],
   "source": [
    "a[3]"
   ]
  },
  {
   "cell_type": "markdown",
   "metadata": {},
   "source": [
    "### Set types\n",
    "\n",
    "The **set** type is mutable, while **frozenset** is immutable. "
   ]
  },
  {
   "cell_type": "code",
   "execution_count": 26,
   "metadata": {},
   "outputs": [
    {
     "name": "stdout",
     "output_type": "stream",
     "text": [
      "small primes set: {2, 3, 5}\n",
      "look what I've done, 1 is not a prime! {1, 2, 3, 5}\n",
      "so let's remove it: {2, 3, 5}\n",
      "membership test: 3 in small_primes = True\n",
      "trying to add 3 again: {2, 3, 5}, but no change, duplication is not allowed\n",
      "bigger primes set: {13, 11, 5, 7}\n",
      "small_primes | bigger_primes = {2, 3, 5, 7, 11, 13} - union operator `|`\n",
      "small_primes & bigger_primes = {5} - intersection operator `&`\n",
      "{2, 3} = difference operator `-`\n",
      "{2, 3, 5}\n"
     ]
    }
   ],
   "source": [
    "small_primes = set()\n",
    "small_primes.add(2)\n",
    "small_primes.add(3)\n",
    "small_primes.add(5)\n",
    "print(f'small primes set: {small_primes}')\n",
    "\n",
    "small_primes.add(1)\n",
    "print(f'look what I\\'ve done, 1 is not a prime! {small_primes}')\n",
    "small_primes.remove(1)  # so let's remove it\n",
    "print(f'so let\\'s remove it: {small_primes}')\n",
    "\n",
    "print(f'membership test: {3 in small_primes = }')\n",
    "\n",
    "small_primes.add(3)  # trying to add 3 again\n",
    "print(f'trying to add 3 again: {small_primes}, but no change, duplication is not allowed')\n",
    "\n",
    "bigger_primes = set([5, 7, 11, 13])  # faster creation\n",
    "print(f'bigger primes set: {bigger_primes}')\n",
    "\n",
    "print(f'{small_primes | bigger_primes = } - union operator `|`')\n",
    "print(f'{small_primes & bigger_primes = } - intersection operator `&`')\n",
    "print(f'{small_primes - bigger_primes} = difference operator `-`')\n",
    "\n",
    "small_primes_2 = {2, 3, 5, 5, 3}\n",
    "print(small_primes_2) # the resulting set won't have duplication"
   ]
  },
  {
   "cell_type": "code",
   "execution_count": 27,
   "metadata": {},
   "outputs": [
    {
     "ename": "AttributeError",
     "evalue": "'frozenset' object has no attribute 'add'",
     "output_type": "error",
     "traceback": [
      "\u001b[0;31m---------------------------------------------------------------------------\u001b[0m",
      "\u001b[0;31mAttributeError\u001b[0m                            Traceback (most recent call last)",
      "\u001b[0;32m/var/folders/lq/8xyjvtzs5m74h82472673s0h0000gn/T/ipykernel_35479/57738311.py\u001b[0m in \u001b[0;36m<module>\u001b[0;34m\u001b[0m\n\u001b[1;32m      2\u001b[0m \u001b[0;34m\u001b[0m\u001b[0m\n\u001b[1;32m      3\u001b[0m \u001b[0msmall_primes_frozen\u001b[0m \u001b[0;34m=\u001b[0m \u001b[0mfrozenset\u001b[0m\u001b[0;34m(\u001b[0m\u001b[0;34m[\u001b[0m\u001b[0;36m2\u001b[0m\u001b[0;34m,\u001b[0m \u001b[0;36m3\u001b[0m\u001b[0;34m,\u001b[0m \u001b[0;36m5\u001b[0m\u001b[0;34m,\u001b[0m \u001b[0;36m7\u001b[0m\u001b[0;34m]\u001b[0m\u001b[0;34m)\u001b[0m\u001b[0;34m\u001b[0m\u001b[0;34m\u001b[0m\u001b[0m\n\u001b[0;32m----> 4\u001b[0;31m \u001b[0msmall_primes_frozen\u001b[0m\u001b[0;34m.\u001b[0m\u001b[0madd\u001b[0m\u001b[0;34m(\u001b[0m\u001b[0;36m11\u001b[0m\u001b[0;34m)\u001b[0m \u001b[0;31m# we cannot add to a frozenset\u001b[0m\u001b[0;34m\u001b[0m\u001b[0;34m\u001b[0m\u001b[0m\n\u001b[0m",
      "\u001b[0;31mAttributeError\u001b[0m: 'frozenset' object has no attribute 'add'"
     ]
    }
   ],
   "source": [
    "# let's look on the frozenset\n",
    "\n",
    "small_primes_frozen = frozenset([2, 3, 5, 7])\n",
    "small_primes_frozen.add(11) # we cannot add to a frozenset"
   ]
  },
  {
   "cell_type": "code",
   "execution_count": 28,
   "metadata": {},
   "outputs": [
    {
     "ename": "AttributeError",
     "evalue": "'frozenset' object has no attribute 'remove'",
     "output_type": "error",
     "traceback": [
      "\u001b[0;31m---------------------------------------------------------------------------\u001b[0m",
      "\u001b[0;31mAttributeError\u001b[0m                            Traceback (most recent call last)",
      "\u001b[0;32m/var/folders/lq/8xyjvtzs5m74h82472673s0h0000gn/T/ipykernel_35479/4030250709.py\u001b[0m in \u001b[0;36m<module>\u001b[0;34m\u001b[0m\n\u001b[0;32m----> 1\u001b[0;31m \u001b[0msmall_primes_frozen\u001b[0m\u001b[0;34m.\u001b[0m\u001b[0mremove\u001b[0m\u001b[0;34m(\u001b[0m\u001b[0;36m2\u001b[0m\u001b[0;34m)\u001b[0m  \u001b[0;31m# nor can we remove\u001b[0m\u001b[0;34m\u001b[0m\u001b[0;34m\u001b[0m\u001b[0m\n\u001b[0m",
      "\u001b[0;31mAttributeError\u001b[0m: 'frozenset' object has no attribute 'remove'"
     ]
    }
   ],
   "source": [
    "small_primes_frozen.remove(2)  # nor can we remove"
   ]
  },
  {
   "cell_type": "code",
   "execution_count": 29,
   "metadata": {},
   "outputs": [
    {
     "data": {
      "text/plain": [
       "frozenset({5, 7})"
      ]
     },
     "execution_count": 29,
     "metadata": {},
     "output_type": "execute_result"
    }
   ],
   "source": [
    "bigger_primes_frozen = frozenset([5, 7, 11])\n",
    "small_primes_frozen & bigger_primes_frozen  # intersect, union, etc. allowed"
   ]
  },
  {
   "cell_type": "markdown",
   "metadata": {},
   "source": [
    "### Mapping types: dictionaries"
   ]
  },
  {
   "cell_type": "code",
   "execution_count": 30,
   "metadata": {},
   "outputs": [
    {
     "data": {
      "text/plain": [
       "{'A': 1, 'Z': -1}"
      ]
     },
     "execution_count": 30,
     "metadata": {},
     "output_type": "execute_result"
    }
   ],
   "source": [
    "a = dict(A=1, Z=-1)\n",
    "b = {'A': 1, 'Z': -1}\n",
    "c = dict(zip(['A', 'Z'], [1, -1]))\n",
    "d = dict([('A', 1), ('Z', -1)])\n",
    "e = dict({'Z': -1, 'A': 1})\n",
    "a == b == c == d == e  # are they all the same?\n",
    "a"
   ]
  },
  {
   "cell_type": "code",
   "execution_count": 31,
   "metadata": {},
   "outputs": [
    {
     "data": {
      "text/plain": [
       "[('h', 1), ('e', 2), ('l', 3), ('l', 4), ('o', 5)]"
      ]
     },
     "execution_count": 31,
     "metadata": {},
     "output_type": "execute_result"
    }
   ],
   "source": [
    "list(zip(['h', 'e', 'l', 'l', 'o'], [1, 2, 3, 4, 5]))\n",
    "[('h', 1), ('e', 2), ('l', 3), ('l', 4), ('o', 5)]"
   ]
  },
  {
   "cell_type": "code",
   "execution_count": 32,
   "metadata": {},
   "outputs": [
    {
     "data": {
      "text/plain": [
       "[('h', 1), ('e', 2), ('l', 3), ('l', 4), ('o', 5)]"
      ]
     },
     "execution_count": 32,
     "metadata": {},
     "output_type": "execute_result"
    }
   ],
   "source": [
    "list(zip('hello', range(1, 6)))  # equivalent, more pythonic\n",
    "[('h', 1), ('e', 2), ('l', 3), ('l', 4), ('o', 5)]"
   ]
  },
  {
   "cell_type": "code",
   "execution_count": 33,
   "metadata": {},
   "outputs": [
    {
     "data": {
      "text/plain": [
       "{'h': 1, 'e': 2, 'l': 4, 'o': 5}"
      ]
     },
     "execution_count": 33,
     "metadata": {},
     "output_type": "execute_result"
    }
   ],
   "source": [
    "f = dict(zip('hello', range(1, 6)))\n",
    "f"
   ]
  },
  {
   "cell_type": "code",
   "execution_count": 34,
   "metadata": {},
   "outputs": [
    {
     "data": {
      "text/plain": [
       "dict_keys(['h', 'e', 'l', 'o'])"
      ]
     },
     "execution_count": 34,
     "metadata": {},
     "output_type": "execute_result"
    }
   ],
   "source": [
    "f.keys()"
   ]
  },
  {
   "cell_type": "code",
   "execution_count": 35,
   "metadata": {},
   "outputs": [
    {
     "name": "stdout",
     "output_type": "stream",
     "text": [
      "h\n",
      "e\n",
      "l\n",
      "o\n"
     ]
    },
    {
     "data": {
      "text/plain": [
       "[None, None, None, None]"
      ]
     },
     "execution_count": 35,
     "metadata": {},
     "output_type": "execute_result"
    }
   ],
   "source": [
    "[print(k) for k in f.keys()]"
   ]
  },
  {
   "cell_type": "code",
   "execution_count": 36,
   "metadata": {},
   "outputs": [
    {
     "data": {
      "text/plain": [
       "dict_values([1, 2, 4, 5])"
      ]
     },
     "execution_count": 36,
     "metadata": {},
     "output_type": "execute_result"
    }
   ],
   "source": [
    "f.values()"
   ]
  },
  {
   "cell_type": "code",
   "execution_count": 37,
   "metadata": {},
   "outputs": [
    {
     "name": "stdout",
     "output_type": "stream",
     "text": [
      "1\n",
      "2\n",
      "4\n",
      "5\n"
     ]
    },
    {
     "data": {
      "text/plain": [
       "[None, None, None, None]"
      ]
     },
     "execution_count": 37,
     "metadata": {},
     "output_type": "execute_result"
    }
   ],
   "source": [
    "[print(k) for k in f.values()]"
   ]
  },
  {
   "cell_type": "code",
   "execution_count": 38,
   "metadata": {},
   "outputs": [
    {
     "data": {
      "text/plain": [
       "{'Z': -1, 'A': 1, 'a': 1, 'b': 3}"
      ]
     },
     "execution_count": 38,
     "metadata": {},
     "output_type": "execute_result"
    }
   ],
   "source": [
    "e['a'] = 1\n",
    "e['b'] = 3\n",
    "e"
   ]
  },
  {
   "cell_type": "code",
   "execution_count": 39,
   "metadata": {},
   "outputs": [
    {
     "data": {
      "text/plain": [
       "4"
      ]
     },
     "execution_count": 39,
     "metadata": {},
     "output_type": "execute_result"
    }
   ],
   "source": [
    "len(e)"
   ]
  },
  {
   "cell_type": "code",
   "execution_count": 40,
   "metadata": {},
   "outputs": [
    {
     "data": {
      "text/plain": [
       "{'Z': -1, 'A': 1, 'a': 1}"
      ]
     },
     "execution_count": 40,
     "metadata": {},
     "output_type": "execute_result"
    }
   ],
   "source": [
    "del e['b']\n",
    "e"
   ]
  },
  {
   "cell_type": "code",
   "execution_count": 41,
   "metadata": {},
   "outputs": [
    {
     "data": {
      "text/plain": [
       "True"
      ]
     },
     "execution_count": 41,
     "metadata": {},
     "output_type": "execute_result"
    }
   ],
   "source": [
    "'Z' in e"
   ]
  },
  {
   "cell_type": "code",
   "execution_count": 42,
   "metadata": {},
   "outputs": [
    {
     "data": {
      "text/plain": [
       "{}"
      ]
     },
     "execution_count": 42,
     "metadata": {},
     "output_type": "execute_result"
    }
   ],
   "source": [
    "e.clear()\n",
    "e"
   ]
  },
  {
   "cell_type": "code",
   "execution_count": 43,
   "metadata": {},
   "outputs": [
    {
     "data": {
      "text/plain": [
       "{'t': 1, 'a': 4, 'g': 3, 'n': 5, 'r': 6, 'o': 7}"
      ]
     },
     "execution_count": 43,
     "metadata": {},
     "output_type": "execute_result"
    }
   ],
   "source": [
    "keys = 'taganrog'\n",
    "e = dict(zip(keys, range(1, len(keys))))\n",
    "e"
   ]
  },
  {
   "cell_type": "code",
   "execution_count": 44,
   "metadata": {},
   "outputs": [
    {
     "data": {
      "text/plain": [
       "('o', 7)"
      ]
     },
     "execution_count": 44,
     "metadata": {},
     "output_type": "execute_result"
    }
   ],
   "source": [
    "e.popitem() # removes a random item (useful in algorithms)"
   ]
  },
  {
   "cell_type": "code",
   "execution_count": 45,
   "metadata": {},
   "outputs": [
    {
     "data": {
      "text/plain": [
       "{'t': 1, 'g': 3, 'n': 5, 'r': 6}"
      ]
     },
     "execution_count": 45,
     "metadata": {},
     "output_type": "execute_result"
    }
   ],
   "source": [
    "e.pop('a') # remove item with key l\n",
    "e"
   ]
  },
  {
   "cell_type": "code",
   "execution_count": 46,
   "metadata": {},
   "outputs": [
    {
     "data": {
      "text/plain": [
       "{'t': 1, 'g': 3, 'n': 5, 'r': 6, 'o': 7}"
      ]
     },
     "execution_count": 46,
     "metadata": {},
     "output_type": "execute_result"
    }
   ],
   "source": [
    "e.update(o = 7)\n",
    "e"
   ]
  },
  {
   "cell_type": "code",
   "execution_count": 47,
   "metadata": {},
   "outputs": [
    {
     "data": {
      "text/plain": [
       "1"
      ]
     },
     "execution_count": 47,
     "metadata": {},
     "output_type": "execute_result"
    }
   ],
   "source": [
    "d = {}\n",
    "d.setdefault('a', 1) # 'a' is missing, we get default value"
   ]
  },
  {
   "cell_type": "code",
   "execution_count": 48,
   "metadata": {},
   "outputs": [
    {
     "data": {
      "text/plain": [
       "{'a': 1}"
      ]
     },
     "execution_count": 48,
     "metadata": {},
     "output_type": "execute_result"
    }
   ],
   "source": [
    "d # also, the key/value pair ('a', 1) has now been added"
   ]
  },
  {
   "cell_type": "code",
   "execution_count": 49,
   "metadata": {},
   "outputs": [],
   "source": [
    "f = {}\n",
    "f.setdefault('a', {}).setdefault('b', []).append(1)"
   ]
  },
  {
   "cell_type": "code",
   "execution_count": 50,
   "metadata": {},
   "outputs": [
    {
     "data": {
      "text/plain": [
       "{'a': {'b': [1]}}"
      ]
     },
     "execution_count": 50,
     "metadata": {},
     "output_type": "execute_result"
    }
   ],
   "source": [
    "f"
   ]
  },
  {
   "cell_type": "code",
   "execution_count": 51,
   "metadata": {},
   "outputs": [
    {
     "data": {
      "text/plain": [
       "{}"
      ]
     },
     "execution_count": 51,
     "metadata": {},
     "output_type": "execute_result"
    }
   ],
   "source": [
    "f.setdefault('e', {})"
   ]
  },
  {
   "cell_type": "code",
   "execution_count": 52,
   "metadata": {},
   "outputs": [
    {
     "data": {
      "text/plain": [
       "{'a': {'b': [1]}, 'e': {}}"
      ]
     },
     "execution_count": 52,
     "metadata": {},
     "output_type": "execute_result"
    }
   ],
   "source": [
    "f"
   ]
  },
  {
   "cell_type": "code",
   "execution_count": 53,
   "metadata": {},
   "outputs": [],
   "source": [
    "f['e'].setdefault('l')"
   ]
  },
  {
   "cell_type": "code",
   "execution_count": 54,
   "metadata": {},
   "outputs": [
    {
     "data": {
      "text/plain": [
       "{'a': {'b': [1]}, 'e': {'l': None}}"
      ]
     },
     "execution_count": 54,
     "metadata": {},
     "output_type": "execute_result"
    }
   ],
   "source": [
    "f"
   ]
  },
  {
   "cell_type": "markdown",
   "metadata": {},
   "source": [
    "Python 3.9 sports a brand-new union operator available for dict objects, which was introduced by PEP 584. When it comes to applying union to dict objects, we need to remember that union for them is not commutative. This becomes evident when the two dict objects we're merging have one or more keys in common. "
   ]
  },
  {
   "cell_type": "code",
   "execution_count": 55,
   "metadata": {},
   "outputs": [
    {
     "data": {
      "text/plain": [
       "{'a': 'A', 'b': 8, 'c': 'C'}"
      ]
     },
     "execution_count": 55,
     "metadata": {},
     "output_type": "execute_result"
    }
   ],
   "source": [
    "# when we merge them with e on the righthand side of the union operator, |, the value in e overrides the one in d. \n",
    "# The opposite happens, of course, when we swap the positions of those objects in relation to the union operator.\n",
    "d = {'a': 'A', 'b': 'B'}\n",
    "e = {'b': 8, 'c': 'C'}\n",
    "d | e"
   ]
  },
  {
   "cell_type": "code",
   "execution_count": 56,
   "metadata": {},
   "outputs": [
    {
     "data": {
      "text/plain": [
       "{'b': 'B', 'c': 'C', 'a': 'A'}"
      ]
     },
     "execution_count": 56,
     "metadata": {},
     "output_type": "execute_result"
    }
   ],
   "source": [
    "e | d"
   ]
  },
  {
   "cell_type": "code",
   "execution_count": 57,
   "metadata": {},
   "outputs": [
    {
     "data": {
      "text/plain": [
       "{'a': 'A', 'b': 8, 'c': 'C'}"
      ]
     },
     "execution_count": 57,
     "metadata": {},
     "output_type": "execute_result"
    }
   ],
   "source": [
    "{**d, **e}"
   ]
  },
  {
   "cell_type": "code",
   "execution_count": 58,
   "metadata": {},
   "outputs": [
    {
     "data": {
      "text/plain": [
       "{'b': 'B', 'c': 'C', 'a': 'A'}"
      ]
     },
     "execution_count": 58,
     "metadata": {},
     "output_type": "execute_result"
    }
   ],
   "source": [
    "{**e, **d}"
   ]
  },
  {
   "cell_type": "code",
   "execution_count": 59,
   "metadata": {},
   "outputs": [],
   "source": [
    "d |= e"
   ]
  },
  {
   "cell_type": "code",
   "execution_count": 60,
   "metadata": {},
   "outputs": [
    {
     "data": {
      "text/plain": [
       "{'a': 'A', 'b': 8, 'c': 'C'}"
      ]
     },
     "execution_count": 60,
     "metadata": {},
     "output_type": "execute_result"
    }
   ],
   "source": [
    "d"
   ]
  },
  {
   "cell_type": "markdown",
   "metadata": {},
   "source": [
    "### Data types\n",
    "\n",
    "https://docs.python.org/3/library/datatypes.html\n",
    "\n",
    "From the standard library, the main modules that are used to handle dates and times are **datetime**, **calendar**, **zoneinfo**, and **time**. \n",
    "\n",
    "Date and time objects may be categorized as **aware** if they include time zone information, or **naïve** if they don't."
   ]
  },
  {
   "cell_type": "code",
   "execution_count": 61,
   "metadata": {},
   "outputs": [],
   "source": [
    "from datetime import date, datetime, timedelta, timezone\n",
    "import time\n",
    "import calendar as cal\n",
    "from zoneinfo import ZoneInfo"
   ]
  },
  {
   "cell_type": "code",
   "execution_count": 62,
   "metadata": {},
   "outputs": [
    {
     "data": {
      "text/plain": [
       "datetime.date(2022, 7, 19)"
      ]
     },
     "execution_count": 62,
     "metadata": {},
     "output_type": "execute_result"
    }
   ],
   "source": [
    "today = date.today()\n",
    "today\n",
    "# it's an instance of the datetime.date class"
   ]
  },
  {
   "cell_type": "code",
   "execution_count": 63,
   "metadata": {},
   "outputs": [
    {
     "data": {
      "text/plain": [
       "('Tue Jul 19 00:00:00 2022', '2022-07-19')"
      ]
     },
     "execution_count": 63,
     "metadata": {},
     "output_type": "execute_result"
    }
   ],
   "source": [
    "# c format, iso8601 format\n",
    "today.ctime(), today.isoformat()"
   ]
  },
  {
   "cell_type": "code",
   "execution_count": 64,
   "metadata": {},
   "outputs": [
    {
     "data": {
      "text/plain": [
       "(1, 'Tuesday')"
      ]
     },
     "execution_count": 64,
     "metadata": {},
     "output_type": "execute_result"
    }
   ],
   "source": [
    "# days are numbered 0 to 6 (representing Monday to Sunday)\n",
    "today.weekday(), cal.day_name[today.weekday()]"
   ]
  },
  {
   "cell_type": "code",
   "execution_count": 65,
   "metadata": {},
   "outputs": [
    {
     "data": {
      "text/plain": [
       "(19, 7, 2022)"
      ]
     },
     "execution_count": 65,
     "metadata": {},
     "output_type": "execute_result"
    }
   ],
   "source": [
    "today.day, today.month, today.year"
   ]
  },
  {
   "cell_type": "code",
   "execution_count": 66,
   "metadata": {},
   "outputs": [
    {
     "data": {
      "text/plain": [
       "'Tue Jul 19 08:28:37 2022'"
      ]
     },
     "execution_count": 66,
     "metadata": {},
     "output_type": "execute_result"
    }
   ],
   "source": [
    "time.ctime()"
   ]
  },
  {
   "cell_type": "code",
   "execution_count": 67,
   "metadata": {},
   "outputs": [
    {
     "data": {
      "text/plain": [
       "(time.struct_time(tm_year=2022, tm_mon=7, tm_mday=19, tm_hour=5, tm_min=28, tm_sec=38, tm_wday=1, tm_yday=200, tm_isdst=0),\n",
       " time.struct_time(tm_year=1970, tm_mon=1, tm_mday=1, tm_hour=0, tm_min=0, tm_sec=0, tm_wday=3, tm_yday=1, tm_isdst=0),\n",
       " time.struct_time(tm_year=2022, tm_mon=7, tm_mday=19, tm_hour=8, tm_min=28, tm_sec=38, tm_wday=1, tm_yday=200, tm_isdst=0))"
      ]
     },
     "execution_count": 67,
     "metadata": {},
     "output_type": "execute_result"
    }
   ],
   "source": [
    "time.gmtime(), time.gmtime(0), time.localtime()"
   ]
  },
  {
   "cell_type": "code",
   "execution_count": 68,
   "metadata": {},
   "outputs": [
    {
     "data": {
      "text/plain": [
       "1658208519.49007"
      ]
     },
     "execution_count": 68,
     "metadata": {},
     "output_type": "execute_result"
    }
   ],
   "source": [
    "# the number of seconds from the epoch expressed as a float number \n",
    "time.time()"
   ]
  },
  {
   "cell_type": "code",
   "execution_count": 69,
   "metadata": {},
   "outputs": [
    {
     "data": {
      "text/plain": [
       "datetime.datetime(2022, 7, 19, 8, 28, 40, 299732)"
      ]
     },
     "execution_count": 69,
     "metadata": {},
     "output_type": "execute_result"
    }
   ],
   "source": [
    "now = datetime.now()\n",
    "now"
   ]
  },
  {
   "cell_type": "code",
   "execution_count": 70,
   "metadata": {},
   "outputs": [
    {
     "data": {
      "text/plain": [
       "(datetime.date(2022, 7, 19), datetime.time(8, 28, 40, 299732), 19, 7, 2022)"
      ]
     },
     "execution_count": 70,
     "metadata": {},
     "output_type": "execute_result"
    }
   ],
   "source": [
    "now.date(), now.time(), now.day, now.month, now.year"
   ]
  },
  {
   "cell_type": "code",
   "execution_count": 71,
   "metadata": {},
   "outputs": [
    {
     "data": {
      "text/plain": [
       "(8, 28, 40, 299732)"
      ]
     },
     "execution_count": 71,
     "metadata": {},
     "output_type": "execute_result"
    }
   ],
   "source": [
    "now.hour, now.minute, now.second, now.microsecond"
   ]
  },
  {
   "cell_type": "code",
   "execution_count": 72,
   "metadata": {},
   "outputs": [
    {
     "data": {
      "text/plain": [
       "('Tue Jul 19 08:28:40 2022', '2022-07-19T08:28:40.299732')"
      ]
     },
     "execution_count": 72,
     "metadata": {},
     "output_type": "execute_result"
    }
   ],
   "source": [
    "now.ctime(), now.isoformat()"
   ]
  },
  {
   "cell_type": "code",
   "execution_count": 73,
   "metadata": {},
   "outputs": [
    {
     "data": {
      "text/plain": [
       "time.struct_time(tm_year=2022, tm_mon=7, tm_mday=19, tm_hour=8, tm_min=28, tm_sec=40, tm_wday=1, tm_yday=200, tm_isdst=-1)"
      ]
     },
     "execution_count": 73,
     "metadata": {},
     "output_type": "execute_result"
    }
   ],
   "source": [
    "now.timetuple()"
   ]
  },
  {
   "cell_type": "code",
   "execution_count": 74,
   "metadata": {},
   "outputs": [],
   "source": [
    "my_bday = datetime(\n",
    "    1977, 4, 14, 14, 0, tzinfo=ZoneInfo('Europe/Moscow')\n",
    "    )"
   ]
  },
  {
   "cell_type": "code",
   "execution_count": 75,
   "metadata": {},
   "outputs": [
    {
     "data": {
      "text/plain": [
       "datetime.datetime(1977, 4, 14, 14, 0, tzinfo=zoneinfo.ZoneInfo(key='Europe/Moscow'))"
      ]
     },
     "execution_count": 75,
     "metadata": {},
     "output_type": "execute_result"
    }
   ],
   "source": [
    "my_bday"
   ]
  },
  {
   "cell_type": "code",
   "execution_count": 76,
   "metadata": {},
   "outputs": [
    {
     "data": {
      "text/plain": [
       "datetime.datetime(2022, 7, 19, 8, 28, 40, 299732)"
      ]
     },
     "execution_count": 76,
     "metadata": {},
     "output_type": "execute_result"
    }
   ],
   "source": [
    "now"
   ]
  },
  {
   "cell_type": "markdown",
   "metadata": {},
   "source": [
    "## Conditionals and Iteration\n",
    "\n",
    "In order to control the flow of a program, we have two main weapons: conditional programming (also known as branching) and looping."
   ]
  },
  {
   "cell_type": "code",
   "execution_count": 77,
   "metadata": {},
   "outputs": [
    {
     "name": "stdout",
     "output_type": "stream",
     "text": [
      "1\n",
      "2\n",
      "3\n",
      "4\n",
      "5\n",
      "6\n"
     ]
    }
   ],
   "source": [
    "number = list(range(0,6))\n",
    "for n in number:\n",
    "    n = n+1\n",
    "    print(n)"
   ]
  },
  {
   "cell_type": "code",
   "execution_count": 78,
   "metadata": {},
   "outputs": [
    {
     "name": "stdout",
     "output_type": "stream",
     "text": [
      "R\n",
      "u\n",
      "s\n",
      "s\n",
      "i\n",
      "a\n",
      "n\n",
      "s\n",
      " \n",
      "a\n",
      "r\n",
      "e\n",
      " \n",
      "a\n",
      "g\n",
      "a\n",
      "i\n",
      "n\n",
      "s\n",
      "t\n",
      " \n",
      "w\n",
      "a\n",
      "r\n"
     ]
    }
   ],
   "source": [
    "string = 'Russians are against war'\n",
    "for s in string:\n",
    "    print(s)"
   ]
  },
  {
   "cell_type": "code",
   "execution_count": 79,
   "metadata": {},
   "outputs": [
    {
     "data": {
      "text/plain": [
       "[10, 20, 30, 40, 50, 60, 70, 80, 90]"
      ]
     },
     "execution_count": 79,
     "metadata": {},
     "output_type": "execute_result"
    }
   ],
   "source": [
    "m = list(range(10, 100, 10))\n",
    "m"
   ]
  },
  {
   "cell_type": "code",
   "execution_count": 80,
   "metadata": {},
   "outputs": [
    {
     "name": "stdout",
     "output_type": "stream",
     "text": [
      "5 10\n",
      "6 20\n",
      "7 30\n",
      "8 40\n",
      "9 50\n",
      "10 60\n",
      "11 70\n",
      "12 80\n",
      "13 90\n"
     ]
    }
   ],
   "source": [
    "for num, mum in enumerate(m, 5):\n",
    "    print(num, mum)"
   ]
  },
  {
   "cell_type": "code",
   "execution_count": 81,
   "metadata": {},
   "outputs": [
    {
     "name": "stdout",
     "output_type": "stream",
     "text": [
      "Nick 23 Drums\n",
      "Rick 24 Keyboards\n",
      "Roger 23 Bass\n",
      "Syd 21 Guitar\n"
     ]
    }
   ],
   "source": [
    "people = ['Nick', 'Rick', 'Roger', 'Syd']\n",
    "ages = [23, 24, 23, 21]\n",
    "instruments = ['Drums', 'Keyboards', 'Bass', 'Guitar']\n",
    "\n",
    "for person, age, instrument in zip(people, ages, instruments):\n",
    "    print(person, age, instrument)"
   ]
  },
  {
   "cell_type": "code",
   "execution_count": 82,
   "metadata": {},
   "outputs": [
    {
     "name": "stdout",
     "output_type": "stream",
     "text": [
      "('Nick', 23, 'Drums')\n",
      "('Rick', 24, 'Keyboards')\n",
      "('Roger', 23, 'Bass')\n",
      "('Syd', 21, 'Guitar')\n"
     ]
    }
   ],
   "source": [
    "for data in zip(people, ages, instruments):\n",
    "    print(data)"
   ]
  },
  {
   "cell_type": "code",
   "execution_count": 83,
   "metadata": {},
   "outputs": [
    {
     "data": {
      "text/plain": [
       "{0: 'R',\n",
       " 1: 'u',\n",
       " 2: 's',\n",
       " 3: 's',\n",
       " 4: 'i',\n",
       " 5: 'a',\n",
       " 6: 'n',\n",
       " 7: 's',\n",
       " 8: ' ',\n",
       " 9: 'a',\n",
       " 10: 'r',\n",
       " 11: 'e',\n",
       " 12: ' ',\n",
       " 13: 'a',\n",
       " 14: 'g',\n",
       " 15: 'a',\n",
       " 16: 'i',\n",
       " 17: 'n',\n",
       " 18: 's',\n",
       " 19: 't',\n",
       " 20: ' ',\n",
       " 21: 'w',\n",
       " 22: 'a',\n",
       " 23: 'r'}"
      ]
     },
     "execution_count": 83,
     "metadata": {},
     "output_type": "execute_result"
    }
   ],
   "source": [
    "s = 'Russians are against war'\n",
    "s_dict = dict(zip(range(len(s)), s))\n",
    "s_dict"
   ]
  },
  {
   "cell_type": "code",
   "execution_count": 84,
   "metadata": {},
   "outputs": [
    {
     "data": {
      "text/plain": [
       "{'R': 0,\n",
       " 'u': 1,\n",
       " 's': 18,\n",
       " 'i': 16,\n",
       " 'a': 22,\n",
       " 'n': 17,\n",
       " ' ': 20,\n",
       " 'r': 23,\n",
       " 'e': 11,\n",
       " 'g': 14,\n",
       " 't': 19,\n",
       " 'w': 21}"
      ]
     },
     "execution_count": 84,
     "metadata": {},
     "output_type": "execute_result"
    }
   ],
   "source": [
    "l = 'Russians are against war'\n",
    "l_dict = dict(zip(l, range(len(l))))\n",
    "l_dict"
   ]
  },
  {
   "cell_type": "code",
   "execution_count": 85,
   "metadata": {},
   "outputs": [
    {
     "data": {
      "text/plain": [
       "20"
      ]
     },
     "execution_count": 85,
     "metadata": {},
     "output_type": "execute_result"
    }
   ],
   "source": [
    "l_dict[' ']"
   ]
  },
  {
   "cell_type": "code",
   "execution_count": 86,
   "metadata": {},
   "outputs": [
    {
     "name": "stdout",
     "output_type": "stream",
     "text": [
      "19 1\n",
      "9 1\n",
      "4 1\n",
      "2 0\n",
      "1 0\n",
      "0 1\n",
      "[1, 0, 0, 1, 1, 1]\n"
     ]
    }
   ],
   "source": [
    "n = 39\n",
    "reminders = []\n",
    "while n > 0:\n",
    "    reminder = n % 2 \n",
    "    reminders.append(reminder)\n",
    "    n //= 2\n",
    "    print(n, reminder)\n",
    "reminders.reverse()\n",
    "print(reminders)"
   ]
  },
  {
   "cell_type": "code",
   "execution_count": 87,
   "metadata": {},
   "outputs": [
    {
     "name": "stdout",
     "output_type": "stream",
     "text": [
      "19 1\n",
      "9 1\n",
      "4 1\n",
      "2 1\n",
      "1 1\n",
      "0 1\n",
      "[1, 1, 1, 1, 1, 1]\n"
     ]
    }
   ],
   "source": [
    "n = 39\n",
    "reminders = []\n",
    "while n > 0:\n",
    "    n, remainder = divmod(n, 2)\n",
    "    reminders.append(reminder)\n",
    "    print(n, reminder)\n",
    "reminders.reverse()\n",
    "print(reminders)"
   ]
  },
  {
   "cell_type": "code",
   "execution_count": 88,
   "metadata": {},
   "outputs": [
    {
     "data": {
      "text/plain": [
       "0"
      ]
     },
     "execution_count": 88,
     "metadata": {},
     "output_type": "execute_result"
    }
   ],
   "source": [
    "n, m = divmod(4, 2)\n",
    "m"
   ]
  },
  {
   "cell_type": "code",
   "execution_count": 89,
   "metadata": {},
   "outputs": [
    {
     "name": "stdout",
     "output_type": "stream",
     "text": [
      "Not divisible! The reminder is 1\n"
     ]
    }
   ],
   "source": [
    "value = 40\n",
    "modulus = 3\n",
    "if reminder := value % modulus: # walrus operator\n",
    "    print(f'Not divisible! The reminder is {reminder}')"
   ]
  },
  {
   "cell_type": "code",
   "execution_count": 92,
   "metadata": {},
   "outputs": [
    {
     "name": "stdout",
     "output_type": "stream",
     "text": [
      "['pistachio', 'malaga', 'vanilla', 'chocolate', 'strawberry']\n",
      "Choose your flavor: vanilla\n",
      "You chose 'vanilla'.\n"
     ]
    }
   ],
   "source": [
    "flavors = [\"pistachio\", \"malaga\", \"vanilla\", \"chocolate\", \"strawberry\"]\n",
    "prompt = \"Choose your flavor: \"\n",
    "print(flavors)\n",
    "while True:\n",
    "    choice = input(prompt)\n",
    "    if choice in flavors:\n",
    "        break\n",
    "    print(f\"Sorry, '{choice}' is not a valid option.\")\n",
    "print(f\"You chose '{choice}'.\")"
   ]
  },
  {
   "cell_type": "code",
   "execution_count": 93,
   "metadata": {},
   "outputs": [
    {
     "name": "stdout",
     "output_type": "stream",
     "text": [
      "['pistachio', 'malaga', 'vanilla', 'chocolate', 'strawberry']\n",
      "Choose your flavor: chocolate\n",
      "You chose chocolate.\n"
     ]
    }
   ],
   "source": [
    "chflavors = [\"pistachio\", \"malaga\", \"vanilla\", \"chocolate\", \"strawberry\"]\n",
    "prompt = \"Choose your flavor: \"\n",
    "print(flavors)\n",
    "while (choice := input(prompt)) not in flavors:\n",
    "    print(f'Sorry, {choice} is not a valid option.')\n",
    "print(f'You chose {choice}.')"
   ]
  },
  {
   "cell_type": "code",
   "execution_count": 94,
   "metadata": {},
   "outputs": [
    {
     "name": "stdout",
     "output_type": "stream",
     "text": [
      "[2, 3, 5, 7, 11, 13, 17, 19, 23, 29, 31, 37, 41, 43, 47, 53, 59, 61, 67, 71, 73, 79, 83, 89, 97]\n",
      "25\n"
     ]
    }
   ],
   "source": [
    "primes = []\n",
    "upto = 100\n",
    "for n in range(2, upto + 1):\n",
    "    is_prime = True\n",
    "    for divisor in range(2, n):\n",
    "        if n % divisor == 0:\n",
    "            is_prime = False\n",
    "            break\n",
    "    if is_prime:\n",
    "        primes.append(n)\n",
    "print(primes)\n",
    "print(len(primes))"
   ]
  },
  {
   "cell_type": "code",
   "execution_count": 95,
   "metadata": {},
   "outputs": [],
   "source": [
    "for n in range(2, 2):\n",
    "    print(n)"
   ]
  },
  {
   "cell_type": "code",
   "execution_count": 96,
   "metadata": {},
   "outputs": [
    {
     "name": "stdout",
     "output_type": "stream",
     "text": [
      "[2, 3, 5, 7, 11, 13, 17, 19, 23, 29, 31, 37, 41, 43, 47, 53, 59, 61, 67, 71, 73, 79, 83, 89, 97]\n"
     ]
    }
   ],
   "source": [
    "primes = []\n",
    "upto = 100\n",
    "for n in range(2, upto + 1):\n",
    "    for divisor in range(2, n):\n",
    "        if n % divisor == 0:\n",
    "            break\n",
    "    else:\n",
    "        primes.append(n)\n",
    "print(primes)"
   ]
  },
  {
   "cell_type": "code",
   "execution_count": 97,
   "metadata": {},
   "outputs": [
    {
     "name": "stdout",
     "output_type": "stream",
     "text": [
      "Input todays day number6\n",
      "Saturday\n"
     ]
    }
   ],
   "source": [
    "prompt = 'Input todays day number'\n",
    "day_number = int(input(prompt))\n",
    "if 1 <= day_number <=5:\n",
    "    day = 'Weekday'\n",
    "elif day_number == 6:\n",
    "    day = 'Saturday'\n",
    "elif day_number == 0:\n",
    "    day = 'Sunday'\n",
    "else:\n",
    "    day = ''\n",
    "    raise ValueError(str(day_number) + ' is not a valid day number.')\n",
    "print(day)"
   ]
  },
  {
   "cell_type": "code",
   "execution_count": 98,
   "metadata": {},
   "outputs": [],
   "source": [
    "discounts = {\n",
    "'F20': (0.0, 20.0), # each value is (percent, fixed)\n",
    "'P30': (0.3, 0.0),\n",
    "'P50': (0.5, 0.0),\n",
    "'F15': (0.0, 15.0),\n",
    "}"
   ]
  },
  {
   "cell_type": "code",
   "execution_count": 99,
   "metadata": {},
   "outputs": [
    {
     "data": {
      "text/plain": [
       "{'F20': (0.0, 20.0), 'P30': (0.3, 0.0), 'P50': (0.5, 0.0), 'F15': (0.0, 15.0)}"
      ]
     },
     "execution_count": 99,
     "metadata": {},
     "output_type": "execute_result"
    }
   ],
   "source": [
    "discounts"
   ]
  },
  {
   "cell_type": "code",
   "execution_count": 100,
   "metadata": {},
   "outputs": [
    {
     "name": "stdout",
     "output_type": "stream",
     "text": [
      "0.0 20.0\n",
      "0.3 0.0\n",
      "0.5 0.0\n",
      "0.0 15.0\n"
     ]
    }
   ],
   "source": [
    "for code in discounts.keys():\n",
    "    percent, fixed = discounts.get(code, (0.0, 0.0))\n",
    "    print(percent, fixed)"
   ]
  },
  {
   "cell_type": "code",
   "execution_count": 101,
   "metadata": {},
   "outputs": [
    {
     "data": {
      "text/plain": [
       "dict_keys(['F20', 'P30', 'P50', 'F15'])"
      ]
     },
     "execution_count": 101,
     "metadata": {},
     "output_type": "execute_result"
    }
   ],
   "source": [
    "discounts.keys()"
   ]
  },
  {
   "cell_type": "markdown",
   "metadata": {},
   "source": [
    "## Functions"
   ]
  },
  {
   "cell_type": "code",
   "execution_count": 1,
   "metadata": {},
   "outputs": [
    {
     "name": "stdout",
     "output_type": "stream",
     "text": [
      "inner: 2\n",
      "outer: 1\n",
      "global: 0\n"
     ]
    }
   ],
   "source": [
    "# scopes\n",
    "def outer():\n",
    "    test = 1 # outer scope\n",
    "    def inner():\n",
    "        test = 2 # inner scope\n",
    "        print('inner:', test)\n",
    "    inner()\n",
    "    print('outer:', test)\n",
    "test = 0 # global scope\n",
    "outer()\n",
    "print('global:', test)"
   ]
  },
  {
   "cell_type": "code",
   "execution_count": 2,
   "metadata": {},
   "outputs": [
    {
     "name": "stdout",
     "output_type": "stream",
     "text": [
      "[1, 42, 3]\n"
     ]
    }
   ],
   "source": [
    "x = [1, 2, 3]\n",
    "def func(x):\n",
    "    x[1] = 42 # this affects the 'x' argument!\n",
    "func(x)\n",
    "print(x) # prints: [1, 42, 3]"
   ]
  },
  {
   "cell_type": "code",
   "execution_count": 3,
   "metadata": {},
   "outputs": [
    {
     "name": "stdout",
     "output_type": "stream",
     "text": [
      "[1, 42, 3]\n",
      "something else\n",
      "[1, 42, 3]\n"
     ]
    }
   ],
   "source": [
    "x = [1, 2, 3]\n",
    "def func(x):\n",
    "    x[1] = 42 # this changes the original 'x' argument!\n",
    "    print(x)\n",
    "    x = 'something else' # this points x to a new string object\n",
    "    print(x)\n",
    "func(x)\n",
    "print(x) # still prints: [1, 42, 3]"
   ]
  },
  {
   "cell_type": "code",
   "execution_count": 4,
   "metadata": {},
   "outputs": [],
   "source": [
    "def minimum(*n):\n",
    "    print(type(n))\n",
    "    if n:\n",
    "        mn = n[0]\n",
    "        for value in n[1:]:\n",
    "            if value < mn:\n",
    "                mn = value\n",
    "        print(mn)        "
   ]
  },
  {
   "cell_type": "code",
   "execution_count": 5,
   "metadata": {},
   "outputs": [
    {
     "name": "stdout",
     "output_type": "stream",
     "text": [
      "<class 'tuple'>\n",
      "-49\n"
     ]
    }
   ],
   "source": [
    "minimum(1, 10, 0, -5, -49)"
   ]
  },
  {
   "cell_type": "code",
   "execution_count": 6,
   "metadata": {},
   "outputs": [
    {
     "name": "stdout",
     "output_type": "stream",
     "text": [
      "<class 'tuple'>\n"
     ]
    }
   ],
   "source": [
    "minimum()"
   ]
  },
  {
   "cell_type": "code",
   "execution_count": 7,
   "metadata": {},
   "outputs": [],
   "source": [
    "def minimum(*n):\n",
    "    mn = n[0]\n",
    "    for value in n[1:]:\n",
    "        if value < mn:\n",
    "            mn = value\n",
    "    print(mn)   "
   ]
  },
  {
   "cell_type": "code",
   "execution_count": 8,
   "metadata": {},
   "outputs": [
    {
     "name": "stdout",
     "output_type": "stream",
     "text": [
      "-49\n"
     ]
    }
   ],
   "source": [
    "minimum(1, 10, 0, -5, -49)"
   ]
  },
  {
   "cell_type": "code",
   "execution_count": 13,
   "metadata": {},
   "outputs": [
    {
     "name": "stdout",
     "output_type": "stream",
     "text": [
      "{'host': '127.0.0.1', 'port': 5432, 'user': '', 'pwd': ''}\n",
      "127.0.0.1\n",
      "{'host': '127.0.0.42', 'port': 5433, 'user': '', 'pwd': ''}\n",
      "127.0.0.42\n",
      "{'host': '127.0.0.1', 'port': 5431, 'user': 'fab', 'pwd': 'gandalf'}\n",
      "127.0.0.1\n"
     ]
    }
   ],
   "source": [
    "def connect(**options):\n",
    "    conn_params = {\n",
    "        'host': options.get('host', '127.0.0.1'),\n",
    "        'port': options.get('port', 5432),\n",
    "        'user': options.get('user', ''),\n",
    "        'pwd': options.get('pwd', ''),\n",
    "    }\n",
    "    print(conn_params)\n",
    "    print(conn_params['host'])\n",
    "# we then connect to the db (commented out)\n",
    "# db.connect(**conn_params)\n",
    "connect()\n",
    "connect(host='127.0.0.42', port=5433)\n",
    "connect(port=5431, user='fab', pwd='gandalf')"
   ]
  },
  {
   "cell_type": "code",
   "execution_count": 14,
   "metadata": {},
   "outputs": [],
   "source": [
    "dictionary = {'run': 'бежать', 'walk': 'идти', 'stay': 'стоять', 'sit': 'сидеть'}"
   ]
  },
  {
   "cell_type": "code",
   "execution_count": 17,
   "metadata": {},
   "outputs": [
    {
     "data": {
      "text/plain": [
       "'неопознанное слово'"
      ]
     },
     "execution_count": 17,
     "metadata": {},
     "output_type": "execute_result"
    }
   ],
   "source": [
    "dictionary.get('play', 'неопознанное слово')"
   ]
  },
  {
   "cell_type": "code",
   "execution_count": 18,
   "metadata": {},
   "outputs": [
    {
     "data": {
      "text/plain": [
       "'идти'"
      ]
     },
     "execution_count": 18,
     "metadata": {},
     "output_type": "execute_result"
    }
   ],
   "source": [
    "dictionary.get('walk', 'неопознанное слово')"
   ]
  },
  {
   "cell_type": "code",
   "execution_count": 19,
   "metadata": {},
   "outputs": [],
   "source": [
    "def func(a, b, c=7, *args, **kwargs):\n",
    "    print('a, b, c:', a, b, c)\n",
    "    print('args:', args)\n",
    "    print('kwargs:', kwargs)"
   ]
  },
  {
   "cell_type": "code",
   "execution_count": 20,
   "metadata": {},
   "outputs": [
    {
     "name": "stdout",
     "output_type": "stream",
     "text": [
      "a, b, c: 1 2 3\n",
      "args: (5, 7, 9)\n",
      "kwargs: {'A': 'a', 'B': 'b'}\n"
     ]
    }
   ],
   "source": [
    "func(1, 2, 3, 5, 7, 9, A='a', B='b')"
   ]
  },
  {
   "cell_type": "code",
   "execution_count": 21,
   "metadata": {},
   "outputs": [],
   "source": [
    "def allparams(a, /, b, c=42, *args, d=256, e, **kwargs):\n",
    "    print('a, b, c:', a, b, c)\n",
    "    print('d, e:', d, e)\n",
    "    print('args:', args)\n",
    "    print('kwargs:', kwargs)"
   ]
  },
  {
   "cell_type": "code",
   "execution_count": 22,
   "metadata": {},
   "outputs": [
    {
     "name": "stdout",
     "output_type": "stream",
     "text": [
      "a, b, c: 1 2 3\n",
      "d, e: 256 7\n",
      "args: (4, 5, 6)\n",
      "kwargs: {'f': 9, 'g': 10}\n"
     ]
    }
   ],
   "source": [
    "allparams(1, 2, 3, 4, 5, 6, e=7, f=9, g=10)"
   ]
  },
  {
   "cell_type": "code",
   "execution_count": 23,
   "metadata": {},
   "outputs": [],
   "source": [
    "def func(a=[], b={}):\n",
    "    print(a)\n",
    "    print(b)\n",
    "    print('#' * 12)\n",
    "    a.append(len(a)) # this will affect a's default value\n",
    "    b[len(a)] = len(a) # and this will affect b's one"
   ]
  },
  {
   "cell_type": "code",
   "execution_count": 24,
   "metadata": {},
   "outputs": [
    {
     "name": "stdout",
     "output_type": "stream",
     "text": [
      "[]\n",
      "{}\n",
      "############\n"
     ]
    }
   ],
   "source": [
    "func()"
   ]
  },
  {
   "cell_type": "code",
   "execution_count": 25,
   "metadata": {},
   "outputs": [
    {
     "name": "stdout",
     "output_type": "stream",
     "text": [
      "[0]\n",
      "{1: 1}\n",
      "############\n"
     ]
    }
   ],
   "source": [
    "func()"
   ]
  },
  {
   "cell_type": "code",
   "execution_count": 26,
   "metadata": {},
   "outputs": [
    {
     "name": "stdout",
     "output_type": "stream",
     "text": [
      "[0, 1]\n",
      "{1: 1, 2: 2}\n",
      "############\n"
     ]
    }
   ],
   "source": [
    "func()"
   ]
  },
  {
   "cell_type": "code",
   "execution_count": 27,
   "metadata": {},
   "outputs": [],
   "source": [
    "def moddiv(a, b):\n",
    "    return a // b, a % b"
   ]
  },
  {
   "cell_type": "code",
   "execution_count": 31,
   "metadata": {},
   "outputs": [
    {
     "name": "stdout",
     "output_type": "stream",
     "text": [
      "result = 11, reminder = 0\n"
     ]
    }
   ],
   "source": [
    "result, reminder = moddiv(55, 5)\n",
    "print(f'{result = }, {reminder = }')"
   ]
  },
  {
   "cell_type": "code",
   "execution_count": 32,
   "metadata": {},
   "outputs": [],
   "source": [
    "def factorial(n):\n",
    "    if n in (0, 1): # base case\n",
    "        return 1\n",
    "    return factorial(n-1) * n # recursive case"
   ]
  },
  {
   "cell_type": "code",
   "execution_count": 37,
   "metadata": {},
   "outputs": [
    {
     "data": {
      "text/plain": [
       "1307674368000"
      ]
     },
     "execution_count": 37,
     "metadata": {},
     "output_type": "execute_result"
    }
   ],
   "source": [
    "factorial(15)"
   ]
  },
  {
   "cell_type": "code",
   "execution_count": 39,
   "metadata": {},
   "outputs": [
    {
     "data": {
      "text/plain": [
       "3000"
      ]
     },
     "execution_count": 39,
     "metadata": {},
     "output_type": "execute_result"
    }
   ],
   "source": [
    "import sys\n",
    "sys.getrecursionlimit()"
   ]
  },
  {
   "cell_type": "code",
   "execution_count": 5,
   "metadata": {},
   "outputs": [
    {
     "data": {
      "text/plain": [
       "[5, 6, 7, 8, 9, 10, 11, 12, 13, 14]"
      ]
     },
     "execution_count": 5,
     "metadata": {},
     "output_type": "execute_result"
    }
   ],
   "source": [
    "l = []\n",
    "for k in range(10):\n",
    "    res = lambda k: k + 5\n",
    "    l.append(res(k))\n",
    "l"
   ]
  },
  {
   "cell_type": "code",
   "execution_count": 3,
   "metadata": {},
   "outputs": [
    {
     "data": {
      "text/plain": [
       "6"
      ]
     },
     "execution_count": 3,
     "metadata": {},
     "output_type": "execute_result"
    }
   ],
   "source": [
    "adder_lambda = lambda x: x + 1\n",
    "adder_lambda(5)"
   ]
  },
  {
   "cell_type": "code",
   "execution_count": 2,
   "metadata": {},
   "outputs": [
    {
     "name": "stdout",
     "output_type": "stream",
     "text": [
      "__doc__ -> Return a multiplied by b. \n",
      "__name__ -> multiplication\n",
      "__qualname__ -> multiplication\n",
      "__module__ -> __main__\n",
      "__defaults__ -> (1,)\n",
      "__code__ -> <code object multiplication at 0x7fbbf0592660, file \"/var/folders/lq/8xyjvtzs5m74h82472673s0h0000gn/T/ipykernel_6608/60227765.py\", line 1>\n",
      "__globals__ -> {'__name__': '__main__', '__doc__': 'Automatically created module for IPython interactive environment', '__package__': None, '__loader__': None, '__spec__': None, '__builtin__': <module 'builtins' (built-in)>, '__builtins__': <module 'builtins' (built-in)>, '_ih': ['', 'getattr(multiplication)', 'def multiplication(a, b=1):\\n    \"\"\"Return a multiplied by b. \"\"\"\\n    return a * b\\nif __name__ == \"__main__\":\\n    special_attributes = [\\n        \"__doc__\", \"__name__\", \"__qualname__\", \"__module__\",\\n        \"__defaults__\", \"__code__\", \"__globals__\", \"__dict__\",\\n        \"__closure__\", \"__annotations__\", \"__kwdefaults__\",\\n    ]\\nfor attribute in special_attributes:\\n    print(attribute, \\'->\\', getattr(multiplication, attribute))'], '_oh': {}, '_dh': ['/Users/April/Projects/! new_wave/python/learn_python'], 'In': ['', 'getattr(multiplication)', 'def multiplication(a, b=1):\\n    \"\"\"Return a multiplied by b. \"\"\"\\n    return a * b\\nif __name__ == \"__main__\":\\n    special_attributes = [\\n        \"__doc__\", \"__name__\", \"__qualname__\", \"__module__\",\\n        \"__defaults__\", \"__code__\", \"__globals__\", \"__dict__\",\\n        \"__closure__\", \"__annotations__\", \"__kwdefaults__\",\\n    ]\\nfor attribute in special_attributes:\\n    print(attribute, \\'->\\', getattr(multiplication, attribute))'], 'Out': {}, 'get_ipython': <bound method InteractiveShell.get_ipython of <ipykernel.zmqshell.ZMQInteractiveShell object at 0x7fbbe146a7c0>>, 'exit': <IPython.core.autocall.ZMQExitAutocall object at 0x7fbbe81fc400>, 'quit': <IPython.core.autocall.ZMQExitAutocall object at 0x7fbbe81fc400>, '_': '', '__': '', '___': '', '_i': 'getattr(multiplication)', '_ii': '', '_iii': '', '_i1': 'getattr(multiplication)', '_i2': 'def multiplication(a, b=1):\\n    \"\"\"Return a multiplied by b. \"\"\"\\n    return a * b\\nif __name__ == \"__main__\":\\n    special_attributes = [\\n        \"__doc__\", \"__name__\", \"__qualname__\", \"__module__\",\\n        \"__defaults__\", \"__code__\", \"__globals__\", \"__dict__\",\\n        \"__closure__\", \"__annotations__\", \"__kwdefaults__\",\\n    ]\\nfor attribute in special_attributes:\\n    print(attribute, \\'->\\', getattr(multiplication, attribute))', 'multiplication': <function multiplication at 0x7fbbf05fd8b0>, 'special_attributes': ['__doc__', '__name__', '__qualname__', '__module__', '__defaults__', '__code__', '__globals__', '__dict__', '__closure__', '__annotations__', '__kwdefaults__'], 'attribute': '__globals__'}\n",
      "__dict__ -> {}\n",
      "__closure__ -> None\n",
      "__annotations__ -> {}\n",
      "__kwdefaults__ -> None\n"
     ]
    }
   ],
   "source": [
    "def multiplication(a, b=1):\n",
    "    \"\"\"Return a multiplied by b. \"\"\"\n",
    "    return a * b\n",
    "if __name__ == \"__main__\":\n",
    "    special_attributes = [\n",
    "        \"__doc__\", \"__name__\", \"__qualname__\", \"__module__\",\n",
    "        \"__defaults__\", \"__code__\", \"__globals__\", \"__dict__\",\n",
    "        \"__closure__\", \"__annotations__\", \"__kwdefaults__\",\n",
    "    ]\n",
    "for attribute in special_attributes:\n",
    "    print(attribute, '->', getattr(multiplication, attribute))"
   ]
  },
  {
   "cell_type": "code",
   "execution_count": 5,
   "metadata": {},
   "outputs": [
    {
     "data": {
      "text/plain": [
       "'Return a multiplied by b. '"
      ]
     },
     "execution_count": 5,
     "metadata": {},
     "output_type": "execute_result"
    }
   ],
   "source": [
    "getattr(multiplication, '__doc__')"
   ]
  },
  {
   "cell_type": "code",
   "execution_count": 7,
   "metadata": {},
   "outputs": [
    {
     "data": {
      "text/plain": [
       "['__annotations__',\n",
       " '__call__',\n",
       " '__class__',\n",
       " '__closure__',\n",
       " '__code__',\n",
       " '__defaults__',\n",
       " '__delattr__',\n",
       " '__dict__',\n",
       " '__dir__',\n",
       " '__doc__',\n",
       " '__eq__',\n",
       " '__format__',\n",
       " '__ge__',\n",
       " '__get__',\n",
       " '__getattribute__',\n",
       " '__globals__',\n",
       " '__gt__',\n",
       " '__hash__',\n",
       " '__init__',\n",
       " '__init_subclass__',\n",
       " '__kwdefaults__',\n",
       " '__le__',\n",
       " '__lt__',\n",
       " '__module__',\n",
       " '__name__',\n",
       " '__ne__',\n",
       " '__new__',\n",
       " '__qualname__',\n",
       " '__reduce__',\n",
       " '__reduce_ex__',\n",
       " '__repr__',\n",
       " '__setattr__',\n",
       " '__sizeof__',\n",
       " '__str__',\n",
       " '__subclasshook__']"
      ]
     },
     "execution_count": 7,
     "metadata": {},
     "output_type": "execute_result"
    }
   ],
   "source": [
    "# Function attributes\n",
    "dir(multiplication)"
   ]
  },
  {
   "cell_type": "code",
   "execution_count": 9,
   "metadata": {},
   "outputs": [
    {
     "data": {
      "text/plain": [
       "['ArithmeticError',\n",
       " 'AssertionError',\n",
       " 'AttributeError',\n",
       " 'BaseException',\n",
       " 'BlockingIOError',\n",
       " 'BrokenPipeError',\n",
       " 'BufferError',\n",
       " 'BytesWarning',\n",
       " 'ChildProcessError',\n",
       " 'ConnectionAbortedError',\n",
       " 'ConnectionError',\n",
       " 'ConnectionRefusedError',\n",
       " 'ConnectionResetError',\n",
       " 'DeprecationWarning',\n",
       " 'EOFError',\n",
       " 'Ellipsis',\n",
       " 'EnvironmentError',\n",
       " 'Exception',\n",
       " 'False',\n",
       " 'FileExistsError',\n",
       " 'FileNotFoundError',\n",
       " 'FloatingPointError',\n",
       " 'FutureWarning',\n",
       " 'GeneratorExit',\n",
       " 'IOError',\n",
       " 'ImportError',\n",
       " 'ImportWarning',\n",
       " 'IndentationError',\n",
       " 'IndexError',\n",
       " 'InterruptedError',\n",
       " 'IsADirectoryError',\n",
       " 'KeyError',\n",
       " 'KeyboardInterrupt',\n",
       " 'LookupError',\n",
       " 'MemoryError',\n",
       " 'ModuleNotFoundError',\n",
       " 'NameError',\n",
       " 'None',\n",
       " 'NotADirectoryError',\n",
       " 'NotImplemented',\n",
       " 'NotImplementedError',\n",
       " 'OSError',\n",
       " 'OverflowError',\n",
       " 'PendingDeprecationWarning',\n",
       " 'PermissionError',\n",
       " 'ProcessLookupError',\n",
       " 'RecursionError',\n",
       " 'ReferenceError',\n",
       " 'ResourceWarning',\n",
       " 'RuntimeError',\n",
       " 'RuntimeWarning',\n",
       " 'StopAsyncIteration',\n",
       " 'StopIteration',\n",
       " 'SyntaxError',\n",
       " 'SyntaxWarning',\n",
       " 'SystemError',\n",
       " 'SystemExit',\n",
       " 'TabError',\n",
       " 'TimeoutError',\n",
       " 'True',\n",
       " 'TypeError',\n",
       " 'UnboundLocalError',\n",
       " 'UnicodeDecodeError',\n",
       " 'UnicodeEncodeError',\n",
       " 'UnicodeError',\n",
       " 'UnicodeTranslateError',\n",
       " 'UnicodeWarning',\n",
       " 'UserWarning',\n",
       " 'ValueError',\n",
       " 'Warning',\n",
       " 'ZeroDivisionError',\n",
       " '__IPYTHON__',\n",
       " '__build_class__',\n",
       " '__debug__',\n",
       " '__doc__',\n",
       " '__import__',\n",
       " '__loader__',\n",
       " '__name__',\n",
       " '__package__',\n",
       " '__spec__',\n",
       " 'abs',\n",
       " 'all',\n",
       " 'any',\n",
       " 'ascii',\n",
       " 'bin',\n",
       " 'bool',\n",
       " 'breakpoint',\n",
       " 'bytearray',\n",
       " 'bytes',\n",
       " 'callable',\n",
       " 'chr',\n",
       " 'classmethod',\n",
       " 'compile',\n",
       " 'complex',\n",
       " 'copyright',\n",
       " 'credits',\n",
       " 'delattr',\n",
       " 'dict',\n",
       " 'dir',\n",
       " 'display',\n",
       " 'divmod',\n",
       " 'enumerate',\n",
       " 'eval',\n",
       " 'exec',\n",
       " 'execfile',\n",
       " 'filter',\n",
       " 'float',\n",
       " 'format',\n",
       " 'frozenset',\n",
       " 'get_ipython',\n",
       " 'getattr',\n",
       " 'globals',\n",
       " 'hasattr',\n",
       " 'hash',\n",
       " 'help',\n",
       " 'hex',\n",
       " 'id',\n",
       " 'input',\n",
       " 'int',\n",
       " 'isinstance',\n",
       " 'issubclass',\n",
       " 'iter',\n",
       " 'len',\n",
       " 'license',\n",
       " 'list',\n",
       " 'locals',\n",
       " 'map',\n",
       " 'max',\n",
       " 'memoryview',\n",
       " 'min',\n",
       " 'next',\n",
       " 'object',\n",
       " 'oct',\n",
       " 'open',\n",
       " 'ord',\n",
       " 'pow',\n",
       " 'print',\n",
       " 'property',\n",
       " 'range',\n",
       " 'repr',\n",
       " 'reversed',\n",
       " 'round',\n",
       " 'runfile',\n",
       " 'set',\n",
       " 'setattr',\n",
       " 'slice',\n",
       " 'sorted',\n",
       " 'staticmethod',\n",
       " 'str',\n",
       " 'sum',\n",
       " 'super',\n",
       " 'tuple',\n",
       " 'type',\n",
       " 'vars',\n",
       " 'zip']"
      ]
     },
     "execution_count": 9,
     "metadata": {},
     "output_type": "execute_result"
    }
   ],
   "source": [
    "# Built-in functions\n",
    "dir(__builtins__)"
   ]
  },
  {
   "cell_type": "markdown",
   "metadata": {},
   "source": [
    "You can find a list of built-in functions in the official documentation, here:\n",
    "https://docs.python.org/3/library/functions.html."
   ]
  },
  {
   "cell_type": "code",
   "execution_count": 10,
   "metadata": {},
   "outputs": [],
   "source": [
    "# docstrings for documentation of code\n",
    "# a one-liner\n",
    "def square(n):\n",
    "    '''Return the square of a number n.'''\n",
    "    return n ** 2"
   ]
  },
  {
   "cell_type": "code",
   "execution_count": 11,
   "metadata": {},
   "outputs": [
    {
     "data": {
      "text/plain": [
       "144"
      ]
     },
     "execution_count": 11,
     "metadata": {},
     "output_type": "execute_result"
    }
   ],
   "source": [
    "square(12)"
   ]
  },
  {
   "cell_type": "code",
   "execution_count": 13,
   "metadata": {},
   "outputs": [],
   "source": [
    "# multiline using the Sphiinx notation\n",
    "def connect(host, port, user, password):\n",
    "    \"\"\"Connect to a database.\n",
    "    Connect to a PostgreSQL database directly, using the given parameters.\n",
    "    :param host: The host IP.\n",
    "    :param port: The desired port.\n",
    "    :param user: The connection username.\n",
    "    :param password: The connection password.\n",
    "    :return: The connection object.\"\"\"\n",
    "    # body of the function here...\n",
    "    return connection\n",
    "# Sphinx is one of the most widely used tools for creating Python documentation"
   ]
  },
  {
   "cell_type": "code",
   "execution_count": 14,
   "metadata": {},
   "outputs": [
    {
     "name": "stdout",
     "output_type": "stream",
     "text": [
      "Help on function connect in module __main__:\n",
      "\n",
      "connect(host, port, user, password)\n",
      "    Connect to a database.\n",
      "    Connect to a PostgreSQL database directly, using the given parameters.\n",
      "    :param host: The host IP.\n",
      "    :param port: The desired port.\n",
      "    :param user: The connection username.\n",
      "    :param password: The connection password.\n",
      "    :return: The connection object.\n",
      "\n"
     ]
    }
   ],
   "source": [
    "# to get the documentation on functions\n",
    "help(connect)"
   ]
  },
  {
   "cell_type": "markdown",
   "metadata": {},
   "source": [
    "#### Importing objects\n",
    "\n",
    "The most common ways to import objects are: \n",
    "\n",
    "**import module_name**\n",
    "\n",
    "and\n",
    "\n",
    "**from module_name import function_name**\n",
    "\n",
    "**from** mymodule **import** myfunc **as** better_named_func\n",
    "\n",
    "from core.models import ( # multiline import\n",
    "\n",
    "    Exam,\n",
    "  \n",
    "    Exercise,\n",
    "    \n",
    "    Solution,\n",
    ")"
   ]
  },
  {
   "cell_type": "code",
   "execution_count": 31,
   "metadata": {},
   "outputs": [],
   "source": [
    "from math import sqrt, ceil\n",
    "def get_primes(n):\n",
    "    \"\"\"Calculate a list of primes up to n (included). \"\"\"\n",
    "    primelist = []\n",
    "    for candidate in range(2, n + 1):\n",
    "        is_prime = True\n",
    "        root = ceil(sqrt(candidate)) # division limit\n",
    "        print(f'{candidate = } {root= }')\n",
    "        for prime in primelist: # we try only the primes\n",
    "            print(f'{prime = }')\n",
    "            if prime > root: # no need to check any further\n",
    "                print(f'that is {prime}')\n",
    "                break\n",
    "            if candidate % prime == 0:\n",
    "                is_prime = False\n",
    "                break\n",
    "        if is_prime:\n",
    "            primelist.append(candidate)\n",
    "    return primelist"
   ]
  },
  {
   "cell_type": "code",
   "execution_count": 32,
   "metadata": {},
   "outputs": [
    {
     "name": "stdout",
     "output_type": "stream",
     "text": [
      "candidate = 2 root= 2\n",
      "candidate = 3 root= 2\n",
      "prime = 2\n",
      "candidate = 4 root= 2\n",
      "prime = 2\n",
      "candidate = 5 root= 3\n",
      "prime = 2\n",
      "prime = 3\n",
      "candidate = 6 root= 3\n",
      "prime = 2\n",
      "candidate = 7 root= 3\n",
      "prime = 2\n",
      "prime = 3\n",
      "prime = 5\n",
      "that is 5\n",
      "candidate = 8 root= 3\n",
      "prime = 2\n",
      "candidate = 9 root= 3\n",
      "prime = 2\n",
      "prime = 3\n",
      "candidate = 10 root= 4\n",
      "prime = 2\n",
      "candidate = 11 root= 4\n",
      "prime = 2\n",
      "prime = 3\n",
      "prime = 5\n",
      "that is 5\n",
      "candidate = 12 root= 4\n",
      "prime = 2\n",
      "candidate = 13 root= 4\n",
      "prime = 2\n",
      "prime = 3\n",
      "prime = 5\n",
      "that is 5\n",
      "candidate = 14 root= 4\n",
      "prime = 2\n",
      "candidate = 15 root= 4\n",
      "prime = 2\n",
      "prime = 3\n",
      "candidate = 16 root= 4\n",
      "prime = 2\n",
      "candidate = 17 root= 5\n",
      "prime = 2\n",
      "prime = 3\n",
      "prime = 5\n",
      "prime = 7\n",
      "that is 7\n",
      "candidate = 18 root= 5\n",
      "prime = 2\n",
      "candidate = 19 root= 5\n",
      "prime = 2\n",
      "prime = 3\n",
      "prime = 5\n",
      "prime = 7\n",
      "that is 7\n",
      "candidate = 20 root= 5\n",
      "prime = 2\n",
      "candidate = 21 root= 5\n",
      "prime = 2\n",
      "prime = 3\n",
      "candidate = 22 root= 5\n",
      "prime = 2\n",
      "candidate = 23 root= 5\n",
      "prime = 2\n",
      "prime = 3\n",
      "prime = 5\n",
      "prime = 7\n",
      "that is 7\n",
      "candidate = 24 root= 5\n",
      "prime = 2\n",
      "candidate = 25 root= 5\n",
      "prime = 2\n",
      "prime = 3\n",
      "prime = 5\n",
      "candidate = 26 root= 6\n",
      "prime = 2\n",
      "candidate = 27 root= 6\n",
      "prime = 2\n",
      "prime = 3\n",
      "candidate = 28 root= 6\n",
      "prime = 2\n",
      "candidate = 29 root= 6\n",
      "prime = 2\n",
      "prime = 3\n",
      "prime = 5\n",
      "prime = 7\n",
      "that is 7\n",
      "candidate = 30 root= 6\n",
      "prime = 2\n",
      "candidate = 31 root= 6\n",
      "prime = 2\n",
      "prime = 3\n",
      "prime = 5\n",
      "prime = 7\n",
      "that is 7\n",
      "candidate = 32 root= 6\n",
      "prime = 2\n",
      "candidate = 33 root= 6\n",
      "prime = 2\n",
      "prime = 3\n",
      "candidate = 34 root= 6\n",
      "prime = 2\n",
      "candidate = 35 root= 6\n",
      "prime = 2\n",
      "prime = 3\n",
      "prime = 5\n",
      "candidate = 36 root= 6\n",
      "prime = 2\n",
      "candidate = 37 root= 7\n",
      "prime = 2\n",
      "prime = 3\n",
      "prime = 5\n",
      "prime = 7\n",
      "prime = 11\n",
      "that is 11\n",
      "candidate = 38 root= 7\n",
      "prime = 2\n",
      "candidate = 39 root= 7\n",
      "prime = 2\n",
      "prime = 3\n",
      "candidate = 40 root= 7\n",
      "prime = 2\n",
      "candidate = 41 root= 7\n",
      "prime = 2\n",
      "prime = 3\n",
      "prime = 5\n",
      "prime = 7\n",
      "prime = 11\n",
      "that is 11\n",
      "candidate = 42 root= 7\n",
      "prime = 2\n",
      "candidate = 43 root= 7\n",
      "prime = 2\n",
      "prime = 3\n",
      "prime = 5\n",
      "prime = 7\n",
      "prime = 11\n",
      "that is 11\n",
      "candidate = 44 root= 7\n",
      "prime = 2\n",
      "candidate = 45 root= 7\n",
      "prime = 2\n",
      "prime = 3\n",
      "candidate = 46 root= 7\n",
      "prime = 2\n",
      "candidate = 47 root= 7\n",
      "prime = 2\n",
      "prime = 3\n",
      "prime = 5\n",
      "prime = 7\n",
      "prime = 11\n",
      "that is 11\n",
      "candidate = 48 root= 7\n",
      "prime = 2\n",
      "candidate = 49 root= 7\n",
      "prime = 2\n",
      "prime = 3\n",
      "prime = 5\n",
      "prime = 7\n",
      "candidate = 50 root= 8\n",
      "prime = 2\n",
      "candidate = 51 root= 8\n",
      "prime = 2\n",
      "prime = 3\n",
      "candidate = 52 root= 8\n",
      "prime = 2\n",
      "candidate = 53 root= 8\n",
      "prime = 2\n",
      "prime = 3\n",
      "prime = 5\n",
      "prime = 7\n",
      "prime = 11\n",
      "that is 11\n",
      "candidate = 54 root= 8\n",
      "prime = 2\n",
      "candidate = 55 root= 8\n",
      "prime = 2\n",
      "prime = 3\n",
      "prime = 5\n",
      "candidate = 56 root= 8\n",
      "prime = 2\n",
      "candidate = 57 root= 8\n",
      "prime = 2\n",
      "prime = 3\n",
      "candidate = 58 root= 8\n",
      "prime = 2\n",
      "candidate = 59 root= 8\n",
      "prime = 2\n",
      "prime = 3\n",
      "prime = 5\n",
      "prime = 7\n",
      "prime = 11\n",
      "that is 11\n",
      "candidate = 60 root= 8\n",
      "prime = 2\n",
      "candidate = 61 root= 8\n",
      "prime = 2\n",
      "prime = 3\n",
      "prime = 5\n",
      "prime = 7\n",
      "prime = 11\n",
      "that is 11\n",
      "candidate = 62 root= 8\n",
      "prime = 2\n",
      "candidate = 63 root= 8\n",
      "prime = 2\n",
      "prime = 3\n",
      "candidate = 64 root= 8\n",
      "prime = 2\n",
      "candidate = 65 root= 9\n",
      "prime = 2\n",
      "prime = 3\n",
      "prime = 5\n",
      "candidate = 66 root= 9\n",
      "prime = 2\n",
      "candidate = 67 root= 9\n",
      "prime = 2\n",
      "prime = 3\n",
      "prime = 5\n",
      "prime = 7\n",
      "prime = 11\n",
      "that is 11\n",
      "candidate = 68 root= 9\n",
      "prime = 2\n",
      "candidate = 69 root= 9\n",
      "prime = 2\n",
      "prime = 3\n",
      "candidate = 70 root= 9\n",
      "prime = 2\n",
      "candidate = 71 root= 9\n",
      "prime = 2\n",
      "prime = 3\n",
      "prime = 5\n",
      "prime = 7\n",
      "prime = 11\n",
      "that is 11\n",
      "candidate = 72 root= 9\n",
      "prime = 2\n",
      "candidate = 73 root= 9\n",
      "prime = 2\n",
      "prime = 3\n",
      "prime = 5\n",
      "prime = 7\n",
      "prime = 11\n",
      "that is 11\n",
      "candidate = 74 root= 9\n",
      "prime = 2\n",
      "candidate = 75 root= 9\n",
      "prime = 2\n",
      "prime = 3\n",
      "candidate = 76 root= 9\n",
      "prime = 2\n",
      "candidate = 77 root= 9\n",
      "prime = 2\n",
      "prime = 3\n",
      "prime = 5\n",
      "prime = 7\n",
      "candidate = 78 root= 9\n",
      "prime = 2\n",
      "candidate = 79 root= 9\n",
      "prime = 2\n",
      "prime = 3\n",
      "prime = 5\n",
      "prime = 7\n",
      "prime = 11\n",
      "that is 11\n",
      "candidate = 80 root= 9\n",
      "prime = 2\n",
      "candidate = 81 root= 9\n",
      "prime = 2\n",
      "prime = 3\n",
      "candidate = 82 root= 10\n",
      "prime = 2\n",
      "candidate = 83 root= 10\n",
      "prime = 2\n",
      "prime = 3\n",
      "prime = 5\n",
      "prime = 7\n",
      "prime = 11\n",
      "that is 11\n",
      "candidate = 84 root= 10\n",
      "prime = 2\n",
      "candidate = 85 root= 10\n",
      "prime = 2\n",
      "prime = 3\n",
      "prime = 5\n",
      "candidate = 86 root= 10\n",
      "prime = 2\n",
      "candidate = 87 root= 10\n",
      "prime = 2\n",
      "prime = 3\n",
      "candidate = 88 root= 10\n",
      "prime = 2\n",
      "candidate = 89 root= 10\n",
      "prime = 2\n",
      "prime = 3\n",
      "prime = 5\n",
      "prime = 7\n",
      "prime = 11\n",
      "that is 11\n",
      "candidate = 90 root= 10\n",
      "prime = 2\n",
      "candidate = 91 root= 10\n",
      "prime = 2\n",
      "prime = 3\n",
      "prime = 5\n",
      "prime = 7\n",
      "candidate = 92 root= 10\n",
      "prime = 2\n",
      "candidate = 93 root= 10\n",
      "prime = 2\n",
      "prime = 3\n",
      "candidate = 94 root= 10\n",
      "prime = 2\n",
      "candidate = 95 root= 10\n",
      "prime = 2\n",
      "prime = 3\n",
      "prime = 5\n",
      "candidate = 96 root= 10\n",
      "prime = 2\n",
      "candidate = 97 root= 10\n",
      "prime = 2\n",
      "prime = 3\n",
      "prime = 5\n",
      "prime = 7\n",
      "prime = 11\n",
      "that is 11\n",
      "candidate = 98 root= 10\n",
      "prime = 2\n",
      "candidate = 99 root= 10\n",
      "prime = 2\n",
      "prime = 3\n",
      "candidate = 100 root= 10\n",
      "prime = 2\n"
     ]
    },
    {
     "data": {
      "text/plain": [
       "[2,\n",
       " 3,\n",
       " 5,\n",
       " 7,\n",
       " 11,\n",
       " 13,\n",
       " 17,\n",
       " 19,\n",
       " 23,\n",
       " 29,\n",
       " 31,\n",
       " 37,\n",
       " 41,\n",
       " 43,\n",
       " 47,\n",
       " 53,\n",
       " 59,\n",
       " 61,\n",
       " 67,\n",
       " 71,\n",
       " 73,\n",
       " 79,\n",
       " 83,\n",
       " 89,\n",
       " 97]"
      ]
     },
     "execution_count": 32,
     "metadata": {},
     "output_type": "execute_result"
    }
   ],
   "source": [
    "get_primes(100)"
   ]
  },
  {
   "cell_type": "markdown",
   "metadata": {},
   "source": [
    "## Comprehensions and Generators"
   ]
  },
  {
   "cell_type": "code",
   "execution_count": 7,
   "metadata": {},
   "outputs": [
    {
     "data": {
      "text/plain": [
       "[('h', 1), ('e', 2), ('l', 3), ('l', 4), ('o', 5)]"
      ]
     },
     "execution_count": 7,
     "metadata": {},
     "output_type": "execute_result"
    }
   ],
   "source": [
    "s = zip(['h', 'e', 'l', 'l', 'o'], [1, 2, 3, 4, 5])\n",
    "list(s)"
   ]
  },
  {
   "cell_type": "code",
   "execution_count": 8,
   "metadata": {},
   "outputs": [
    {
     "data": {
      "text/plain": [
       "[(0,), (1,), (2,)]"
      ]
     },
     "execution_count": 8,
     "metadata": {},
     "output_type": "execute_result"
    }
   ],
   "source": [
    "list(map(lambda *a: a, range(3)))"
   ]
  },
  {
   "cell_type": "code",
   "execution_count": 9,
   "metadata": {},
   "outputs": [
    {
     "data": {
      "text/plain": [
       "[(0, 'a'), (1, 'b'), (2, 'c')]"
      ]
     },
     "execution_count": 9,
     "metadata": {},
     "output_type": "execute_result"
    }
   ],
   "source": [
    "list(map(lambda *a: a, range(3), 'abc'))"
   ]
  },
  {
   "cell_type": "code",
   "execution_count": 10,
   "metadata": {},
   "outputs": [
    {
     "data": {
      "text/plain": [
       "[(0, 'a', 4), (1, 'b', 5), (2, 'c', 6)]"
      ]
     },
     "execution_count": 10,
     "metadata": {},
     "output_type": "execute_result"
    }
   ],
   "source": [
    "list(map(lambda *a: a, range(3), 'abc', range(4, 7)))"
   ]
  },
  {
   "cell_type": "code",
   "execution_count": 11,
   "metadata": {},
   "outputs": [
    {
     "data": {
      "text/plain": [
       "[]"
      ]
     },
     "execution_count": 11,
     "metadata": {},
     "output_type": "execute_result"
    }
   ],
   "source": [
    "# map stops at the shortest iterator\n",
    "list(map(lambda *a: a, (), 'abc')) # empty tuple is shortest"
   ]
  },
  {
   "cell_type": "code",
   "execution_count": 12,
   "metadata": {},
   "outputs": [
    {
     "data": {
      "text/plain": [
       "[(1, 'a'), (2, 'b')]"
      ]
     },
     "execution_count": 12,
     "metadata": {},
     "output_type": "execute_result"
    }
   ],
   "source": [
    "list(map(lambda *a: a, (1, 2), 'abc')) # (1, 2) shortest"
   ]
  },
  {
   "cell_type": "code",
   "execution_count": 20,
   "metadata": {},
   "outputs": [
    {
     "data": {
      "text/plain": [
       "[{'id': 2, 'credits': {'history': 8, 'physics': 9, 'chemistry': 10}},\n",
       " {'id': 1, 'credits': {'math': 6, 'physics': 7, 'latin': 10}},\n",
       " {'id': 0, 'credits': {'math': 9, 'physics': 6, 'history': 7}},\n",
       " {'id': 3, 'credits': {'math': 5, 'physics': 5, 'geography': 7}}]"
      ]
     },
     "execution_count": 20,
     "metadata": {},
     "output_type": "execute_result"
    }
   ],
   "source": [
    "# decorate-sort-undecorate idiom\n",
    "# Sorting HOW TO section of the official Python documentation:\n",
    "# https://docs.python.org/3.9/howto/sorting.html#the-old-way-using-decorate-sortundecorate\n",
    "students = [\n",
    "    dict(id=0, credits=dict(math=9, physics=6, history=7)),\n",
    "    dict(id=1, credits=dict(math=6, physics=7, latin=10)),\n",
    "    dict(id=2, credits=dict(history=8, physics=9, chemistry=10)),\n",
    "    dict(id=3, credits=dict(math=5, physics=5, geography=7)),\n",
    "    ]\n",
    "\n",
    "def decorate(student):\n",
    "    '''Create a 2-tuple (sum of credits, student) from student dict'''\n",
    "    return (sum(student['credits'].values()), student)\n",
    "\n",
    "def undecorate(decorated_student):\n",
    "    '''Discard sum of credits, return original student dict'''\n",
    "    return decorated_student[1]\n",
    "\n",
    "students = sorted(map(decorate, students), reverse=True)\n",
    "students = list(map(undecorate, students))\n",
    "students"
   ]
  },
  {
   "cell_type": "code",
   "execution_count": 14,
   "metadata": {},
   "outputs": [
    {
     "name": "stdout",
     "output_type": "stream",
     "text": [
      "Help on class map in module builtins:\n",
      "\n",
      "class map(object)\n",
      " |  map(func, *iterables) --> map object\n",
      " |  \n",
      " |  Make an iterator that computes the function using arguments from\n",
      " |  each of the iterables.  Stops when the shortest iterable is exhausted.\n",
      " |  \n",
      " |  Methods defined here:\n",
      " |  \n",
      " |  __getattribute__(self, name, /)\n",
      " |      Return getattr(self, name).\n",
      " |  \n",
      " |  __iter__(self, /)\n",
      " |      Implement iter(self).\n",
      " |  \n",
      " |  __next__(self, /)\n",
      " |      Implement next(self).\n",
      " |  \n",
      " |  __reduce__(...)\n",
      " |      Return state information for pickling.\n",
      " |  \n",
      " |  ----------------------------------------------------------------------\n",
      " |  Static methods defined here:\n",
      " |  \n",
      " |  __new__(*args, **kwargs) from builtins.type\n",
      " |      Create and return a new object.  See help(type) for accurate signature.\n",
      "\n"
     ]
    }
   ],
   "source": [
    "help(map)"
   ]
  },
  {
   "cell_type": "code",
   "execution_count": 21,
   "metadata": {},
   "outputs": [
    {
     "data": {
      "text/plain": [
       "[(22, 18), (21, 23), (29, 20), (24, 27)]"
      ]
     },
     "execution_count": 21,
     "metadata": {},
     "output_type": "execute_result"
    }
   ],
   "source": [
    "grades = [18, 23, 20, 27]\n",
    "avgs = [22, 21, 29, 24]\n",
    "list(zip(avgs, grades))"
   ]
  },
  {
   "cell_type": "code",
   "execution_count": 22,
   "metadata": {},
   "outputs": [
    {
     "data": {
      "text/plain": [
       "[(22, 18), (21, 23), (29, 20), (24, 27)]"
      ]
     },
     "execution_count": 22,
     "metadata": {},
     "output_type": "execute_result"
    }
   ],
   "source": [
    "list(map(lambda *a: a, avgs, grades)) # equivalent to zip"
   ]
  },
  {
   "cell_type": "code",
   "execution_count": 29,
   "metadata": {},
   "outputs": [
    {
     "data": {
      "text/plain": [
       "[6, 9, 2, 9, 7]"
      ]
     },
     "execution_count": 29,
     "metadata": {},
     "output_type": "execute_result"
    }
   ],
   "source": [
    "a = [5, 9, 2, 4, 7]\n",
    "b = [3, 7, 1, 9, 2]\n",
    "c = [6, 8, 0, 5, 3]\n",
    "\n",
    "maxs = map(lambda n: max(n), zip(a, b, c))\n",
    "list(maxs)"
   ]
  },
  {
   "cell_type": "code",
   "execution_count": 25,
   "metadata": {},
   "outputs": [
    {
     "data": {
      "text/plain": [
       "[(5, 3, 6), (9, 7, 8), (2, 1, 0), (4, 9, 5), (7, 2, 3)]"
      ]
     },
     "execution_count": 25,
     "metadata": {},
     "output_type": "execute_result"
    }
   ],
   "source": [
    "list(zip(a, b, c))"
   ]
  },
  {
   "cell_type": "code",
   "execution_count": 30,
   "metadata": {},
   "outputs": [
    {
     "data": {
      "text/plain": [
       "[5, 8]"
      ]
     },
     "execution_count": 30,
     "metadata": {},
     "output_type": "execute_result"
    }
   ],
   "source": [
    "test = [2, 5, 8, 0, 0, 1, 0]\n",
    "list(filter(lambda x: x > 4, test)) # keep only items > 4"
   ]
  },
  {
   "cell_type": "code",
   "execution_count": 31,
   "metadata": {},
   "outputs": [
    {
     "data": {
      "text/plain": [
       "[2, 5, 8, 1]"
      ]
     },
     "execution_count": 31,
     "metadata": {},
     "output_type": "execute_result"
    }
   ],
   "source": [
    "list(filter(None, test)) # keep only True elements of test"
   ]
  },
  {
   "cell_type": "code",
   "execution_count": 32,
   "metadata": {},
   "outputs": [
    {
     "data": {
      "text/plain": [
       "[0, 1, 4, 9, 16, 25, 36, 49, 64, 81]"
      ]
     },
     "execution_count": 32,
     "metadata": {},
     "output_type": "execute_result"
    }
   ],
   "source": [
    "[n ** 2 for n in range(10)]"
   ]
  },
  {
   "cell_type": "code",
   "execution_count": 34,
   "metadata": {},
   "outputs": [
    {
     "data": {
      "text/plain": [
       "[0, 4, 16, 36, 64]"
      ]
     },
     "execution_count": 34,
     "metadata": {},
     "output_type": "execute_result"
    }
   ],
   "source": [
    "list(map(lambda n: n ** 2, filter(lambda n: not n % 2, range(10))))"
   ]
  },
  {
   "cell_type": "code",
   "execution_count": 35,
   "metadata": {},
   "outputs": [
    {
     "data": {
      "text/plain": [
       "[0, 4, 16, 36, 64]"
      ]
     },
     "execution_count": 35,
     "metadata": {},
     "output_type": "execute_result"
    }
   ],
   "source": [
    "[n ** 2 for n in range(10) if not n % 2]"
   ]
  },
  {
   "cell_type": "code",
   "execution_count": 38,
   "metadata": {},
   "outputs": [
    {
     "data": {
      "text/plain": [
       "[('A', 'A'),\n",
       " ('A', 'B'),\n",
       " ('A', 'C'),\n",
       " ('A', 'D'),\n",
       " ('B', 'B'),\n",
       " ('B', 'C'),\n",
       " ('B', 'D'),\n",
       " ('C', 'C'),\n",
       " ('C', 'D'),\n",
       " ('D', 'D')]"
      ]
     },
     "execution_count": 38,
     "metadata": {},
     "output_type": "execute_result"
    }
   ],
   "source": [
    "# collect all pairs without duplication\n",
    "\n",
    "items = 'ABCD'\n",
    "pairs = []\n",
    "for a in range(len(items)):\n",
    "    for b in range(a, len(items)):\n",
    "        pairs.append((items[a], items[b]))\n",
    "\n",
    "pairs"
   ]
  },
  {
   "cell_type": "code",
   "execution_count": 39,
   "metadata": {},
   "outputs": [
    {
     "data": {
      "text/plain": [
       "[('A', 'A'),\n",
       " ('A', 'B'),\n",
       " ('A', 'C'),\n",
       " ('A', 'D'),\n",
       " ('B', 'B'),\n",
       " ('B', 'C'),\n",
       " ('B', 'D'),\n",
       " ('C', 'C'),\n",
       " ('C', 'D'),\n",
       " ('D', 'D')]"
      ]
     },
     "execution_count": 39,
     "metadata": {},
     "output_type": "execute_result"
    }
   ],
   "source": [
    "# using a list comprehension\n",
    "\n",
    "pairs2 = [(items[a], items[b]) for a in range(len(items)) for b in range(a, len(items))]\n",
    "pairs2"
   ]
  },
  {
   "cell_type": "code",
   "execution_count": 56,
   "metadata": {},
   "outputs": [],
   "source": [
    "# let's find all Pythagorean triples under 10\n",
    "from math import sqrt\n",
    "mx = 10\n",
    "# generate all possible pairs\n",
    "triples = [(a, b, sqrt(a ** 2 + b ** 2)) for a in range(1, mx) for b in range(a, mx)]"
   ]
  },
  {
   "cell_type": "code",
   "execution_count": 46,
   "metadata": {},
   "outputs": [],
   "source": [
    "# filter out all non-Pythagorean triples\n",
    "triples = list(filter(lambda triple: triple[2].is_integer(), triples))"
   ]
  },
  {
   "cell_type": "code",
   "execution_count": 53,
   "metadata": {},
   "outputs": [],
   "source": [
    "triples = list(map(lambda triple: triple[:2] + (int(triple[2]), ), triples))"
   ]
  },
  {
   "cell_type": "code",
   "execution_count": 54,
   "metadata": {},
   "outputs": [
    {
     "data": {
      "text/plain": [
       "[(3, 4, 5), (6, 8, 10)]"
      ]
     },
     "execution_count": 54,
     "metadata": {},
     "output_type": "execute_result"
    }
   ],
   "source": [
    "triples"
   ]
  },
  {
   "cell_type": "code",
   "execution_count": 57,
   "metadata": {},
   "outputs": [
    {
     "data": {
      "text/plain": [
       "[(3, 4, 5), (6, 8, 10)]"
      ]
     },
     "execution_count": 57,
     "metadata": {},
     "output_type": "execute_result"
    }
   ],
   "source": [
    "# here we combine filter and map in one CLEAN list comprehension\n",
    "[(a, b, int(c)) for a, b, c in triples if c.is_integer()]"
   ]
  },
  {
   "cell_type": "code",
   "execution_count": 58,
   "metadata": {},
   "outputs": [
    {
     "data": {
      "text/plain": [
       "[(3, 4, 5), (6, 8, 10)]"
      ]
     },
     "execution_count": 58,
     "metadata": {},
     "output_type": "execute_result"
    }
   ],
   "source": [
    "# We can combine generating and filtering in one comprehension\n",
    "\n",
    "[(a, b, int(c)) for a in range(1, mx) for b in range(a, mx) if (c := sqrt(a ** 2 + b ** 2)).is_integer()]"
   ]
  },
  {
   "cell_type": "code",
   "execution_count": 74,
   "metadata": {},
   "outputs": [
    {
     "name": "stdout",
     "output_type": "stream",
     "text": [
      "[0, 1, 4, 9, 16, 25, 36, 49, 64, 81]\n",
      "[0, 1, 4, 9, 16, 25, 36, 49, 64, 81]\n"
     ]
    }
   ],
   "source": [
    "# classic function approach\n",
    "def get_squares(n):\n",
    "    return [x ** 2 for x in range(n)]\n",
    "print(get_squares(10))\n",
    "\n",
    "# generator approach\n",
    "def get_squares_gen(n):\n",
    "    for x in range(n):\n",
    "        yield x ** 2 \n",
    "print(list(get_squares_gen(10)))"
   ]
  },
  {
   "cell_type": "code",
   "execution_count": 88,
   "metadata": {},
   "outputs": [
    {
     "name": "stdout",
     "output_type": "stream",
     "text": [
      "0\n",
      "1\n",
      "4\n",
      "9\n",
      "16\n",
      "25\n",
      "36\n",
      "49\n",
      "64\n",
      "81\n"
     ]
    },
    {
     "ename": "StopIteration",
     "evalue": "",
     "output_type": "error",
     "traceback": [
      "\u001b[0;31m---------------------------------------------------------------------------\u001b[0m",
      "\u001b[0;31mStopIteration\u001b[0m                             Traceback (most recent call last)",
      "\u001b[0;32m/var/folders/lq/8xyjvtzs5m74h82472673s0h0000gn/T/ipykernel_6608/3030176586.py\u001b[0m in \u001b[0;36m<module>\u001b[0;34m\u001b[0m\n\u001b[1;32m     10\u001b[0m \u001b[0mprint\u001b[0m\u001b[0;34m(\u001b[0m\u001b[0mnext\u001b[0m\u001b[0;34m(\u001b[0m\u001b[0msquares\u001b[0m\u001b[0;34m)\u001b[0m\u001b[0;34m)\u001b[0m\u001b[0;34m\u001b[0m\u001b[0;34m\u001b[0m\u001b[0m\n\u001b[1;32m     11\u001b[0m \u001b[0mprint\u001b[0m\u001b[0;34m(\u001b[0m\u001b[0mnext\u001b[0m\u001b[0;34m(\u001b[0m\u001b[0msquares\u001b[0m\u001b[0;34m)\u001b[0m\u001b[0;34m)\u001b[0m\u001b[0;34m\u001b[0m\u001b[0;34m\u001b[0m\u001b[0m\n\u001b[0;32m---> 12\u001b[0;31m \u001b[0mprint\u001b[0m\u001b[0;34m(\u001b[0m\u001b[0mnext\u001b[0m\u001b[0;34m(\u001b[0m\u001b[0msquares\u001b[0m\u001b[0;34m)\u001b[0m\u001b[0;34m)\u001b[0m\u001b[0;34m\u001b[0m\u001b[0;34m\u001b[0m\u001b[0m\n\u001b[0m",
      "\u001b[0;31mStopIteration\u001b[0m: "
     ]
    }
   ],
   "source": [
    "squares = get_squares_gen(10)\n",
    "print(next(squares))\n",
    "print(next(squares))\n",
    "print(next(squares))\n",
    "print(next(squares))\n",
    "print(next(squares))\n",
    "print(next(squares))\n",
    "print(next(squares))\n",
    "print(next(squares))\n",
    "print(next(squares))\n",
    "print(next(squares))\n",
    "print(next(squares))"
   ]
  },
  {
   "cell_type": "code",
   "execution_count": 92,
   "metadata": {},
   "outputs": [
    {
     "name": "stdout",
     "output_type": "stream",
     "text": [
      "<class 'list'> [0, 1, 8, 27, 64, 125, 216, 343, 512, 729]\n",
      "<class 'generator'> <generator object <genexpr> at 0x7fbbc8014270> [0, 1, 8, 27, 64, 125, 216, 343, 512, 729]\n"
     ]
    }
   ],
   "source": [
    "# generator expression\n",
    "\n",
    "cubes = [k **3 for k in range(10)] # regular list\n",
    "print(type(cubes), cubes)\n",
    "\n",
    "cubes_gen = (k **3 for k in range(10)) # the difference is only in brackets\n",
    "print(type(cubes_gen), cubes_gen, list(cubes_gen))"
   ]
  },
  {
   "cell_type": "code",
   "execution_count": 94,
   "metadata": {},
   "outputs": [
    {
     "data": {
      "text/plain": [
       "[]"
      ]
     },
     "execution_count": 94,
     "metadata": {},
     "output_type": "execute_result"
    }
   ],
   "source": [
    "# generators allow for one iteration only, then they will be exhausted\n",
    "list(cubes_gen) # nothing more to give"
   ]
  },
  {
   "cell_type": "code",
   "execution_count": 108,
   "metadata": {},
   "outputs": [
    {
     "name": "stdout",
     "output_type": "stream",
     "text": [
      "0\n",
      "1\n",
      "8\n",
      "27\n",
      "64\n",
      "125\n",
      "216\n",
      "343\n",
      "512\n",
      "729\n"
     ]
    },
    {
     "ename": "StopIteration",
     "evalue": "",
     "output_type": "error",
     "traceback": [
      "\u001b[0;31m---------------------------------------------------------------------------\u001b[0m",
      "\u001b[0;31mStopIteration\u001b[0m                             Traceback (most recent call last)",
      "\u001b[0;32m/var/folders/lq/8xyjvtzs5m74h82472673s0h0000gn/T/ipykernel_6608/1658373024.py\u001b[0m in \u001b[0;36m<module>\u001b[0;34m\u001b[0m\n\u001b[1;32m     10\u001b[0m \u001b[0mprint\u001b[0m\u001b[0;34m(\u001b[0m\u001b[0mnext\u001b[0m\u001b[0;34m(\u001b[0m\u001b[0mcubes_gen_new\u001b[0m\u001b[0;34m)\u001b[0m\u001b[0;34m)\u001b[0m\u001b[0;34m\u001b[0m\u001b[0;34m\u001b[0m\u001b[0m\n\u001b[1;32m     11\u001b[0m \u001b[0mprint\u001b[0m\u001b[0;34m(\u001b[0m\u001b[0mnext\u001b[0m\u001b[0;34m(\u001b[0m\u001b[0mcubes_gen_new\u001b[0m\u001b[0;34m)\u001b[0m\u001b[0;34m)\u001b[0m\u001b[0;34m\u001b[0m\u001b[0;34m\u001b[0m\u001b[0m\n\u001b[0;32m---> 12\u001b[0;31m \u001b[0mprint\u001b[0m\u001b[0;34m(\u001b[0m\u001b[0mnext\u001b[0m\u001b[0;34m(\u001b[0m\u001b[0mcubes_gen_new\u001b[0m\u001b[0;34m)\u001b[0m\u001b[0;34m)\u001b[0m\u001b[0;34m\u001b[0m\u001b[0;34m\u001b[0m\u001b[0m\n\u001b[0m",
      "\u001b[0;31mStopIteration\u001b[0m: "
     ]
    }
   ],
   "source": [
    "cubes_gen_new = (k **3 for k in range(10))\n",
    "# the same approach as with function generator\n",
    "print(next(cubes_gen_new))\n",
    "print(next(cubes_gen_new))\n",
    "print(next(cubes_gen_new))\n",
    "print(next(cubes_gen_new))\n",
    "print(next(cubes_gen_new))\n",
    "print(next(cubes_gen_new))\n",
    "print(next(cubes_gen_new))\n",
    "print(next(cubes_gen_new))\n",
    "print(next(cubes_gen_new))\n",
    "print(next(cubes_gen_new))\n",
    "print(next(cubes_gen_new))"
   ]
  },
  {
   "cell_type": "code",
   "execution_count": 113,
   "metadata": {},
   "outputs": [
    {
     "name": "stdout",
     "output_type": "stream",
     "text": [
      "10000\n",
      "10000\n"
     ]
    }
   ],
   "source": [
    "# how to reproduce map() function using generator expression\n",
    "def adder(*n):\n",
    "    return sum(n)\n",
    "\n",
    "s1 = sum(map(adder, range(100), range(1, 101))) # using map()\n",
    "print(s1)\n",
    "s2 = sum(adder(*n) for n in zip(range(100), range(1, 101))) # using generator expression\n",
    "print(s2)"
   ]
  },
  {
   "cell_type": "code",
   "execution_count": 142,
   "metadata": {},
   "outputs": [
    {
     "name": "stdout",
     "output_type": "stream",
     "text": [
      "[0, 1, 8, 27, 64, 125, 216, 343, 512, 729]\n",
      "<class 'filter'> [1, 27, 125, 343, 729]\n",
      "<class 'generator'> [1, 27, 125, 343, 729]\n"
     ]
    }
   ],
   "source": [
    "# how to reproduce filter() function using generator expression\n",
    "cubes = [x ** 3 for x in range(10)]\n",
    "odd_cubes1 = filter(lambda cube: cube % 2, cubes)\n",
    "odd_cubes2 = (cube for cube in cubes if cube % 2)\n",
    "print(cubes)\n",
    "print(type(odd_cubes1), list(odd_cubes1))\n",
    "print(type(odd_cubes2), list(odd_cubes2))"
   ]
  },
  {
   "cell_type": "markdown",
   "metadata": {},
   "source": [
    "### Some performance considerations\n",
    "\n",
    "So, we've seen that we have many different ways of achieving the same result. We can use any combination of map() , zip() , and filter() , or choose to go with a comprehension or a generator. We may even decide to go with for loops; when the logic to apply to each running parameter isn't simple, these may be the best option.\n",
    "\n",
    "Besides readability concerns, though, let's also talk about performance. When it comes to performance, usually there are two factors that play a major role: space and time.\n",
    "\n",
    "Space means the size of the memory that a data structure is going to take up. The best way to choose is to ask yourself if you really need a list (or tuple), or whether a simple generator function would work instead.\n",
    "\n",
    "If the answer is yes to the latter, go with the generator, as it will save a lot of space. The same goes for functions: if you don't actually need them to return a list or tuple, then you can transform them into generator functions as well.\n",
    "\n",
    "Sometimes, you will have to use lists (or tuples); for example, there are algorithms that scan sequences using multiple pointers, or maybe they run over the sequence more than once. A generator function (or expression) can be iterated over only once and then it's exhausted, so in these situations it wouldn't be the right choice.\n",
    "\n",
    "Time is a bit more complicated than space because it depends on more variables, and therefore it isn't possible to state that X is faster than Y with absolute certainty for all cases. However, based on tests run on Python today, we can say that on average, map() exhibits performance similar to comprehensions and generator expressions, while for loops are consistently slower."
   ]
  },
  {
   "cell_type": "code",
   "execution_count": 143,
   "metadata": {},
   "outputs": [
    {
     "name": "stdout",
     "output_type": "stream",
     "text": [
      "for loop: 2.4395 s\n"
     ]
    }
   ],
   "source": [
    "from time import time\n",
    "mx = 5000\n",
    "t = time() # start time for the for loop\n",
    "floop = []\n",
    "for a in range(1, mx):\n",
    "        floop.append(divmod(a, b))\n",
    "print('for loop: {:.4f} s'.format(time() - t)) # elapsed time"
   ]
  },
  {
   "cell_type": "code",
   "execution_count": 144,
   "metadata": {},
   "outputs": [
    {
     "name": "stdout",
     "output_type": "stream",
     "text": [
      "list comprehension: 1.7135 s\n"
     ]
    }
   ],
   "source": [
    "t = time() # start time for the list comprehension\n",
    "compr = [divmod(a, b) for a in range(1, mx) for b in range(a, mx)]\n",
    "print('list comprehension: {:.4f} s'.format(time() - t))"
   ]
  },
  {
   "cell_type": "code",
   "execution_count": 145,
   "metadata": {},
   "outputs": [
    {
     "name": "stdout",
     "output_type": "stream",
     "text": [
      "generator expression: 1.7606 s\n"
     ]
    }
   ],
   "source": [
    "t = time() # start time for the generator expression\n",
    "gener = list(divmod(a, b) for a in range(1, mx) for b in range(a, mx))\n",
    "print('generator expression: {:.4f} s'.format(time() - t))"
   ]
  },
  {
   "cell_type": "markdown",
   "metadata": {},
   "source": [
    "Don't overdo comprehensions and generators"
   ]
  },
  {
   "cell_type": "code",
   "execution_count": 146,
   "metadata": {},
   "outputs": [
    {
     "name": "stderr",
     "output_type": "stream",
     "text": [
      "IOPub data rate exceeded.\n",
      "The notebook server will temporarily stop sending output\n",
      "to the client in order to avoid crashing it.\n",
      "To change this limit, set the config variable\n",
      "`--NotebookApp.iopub_data_rate_limit`.\n",
      "\n",
      "Current values:\n",
      "NotebookApp.iopub_data_rate_limit=1000000.0 (bytes/sec)\n",
      "NotebookApp.rate_limit_window=3.0 (secs)\n",
      "\n"
     ]
    }
   ],
   "source": [
    "print(globals())"
   ]
  },
  {
   "cell_type": "code",
   "execution_count": 147,
   "metadata": {},
   "outputs": [
    {
     "data": {
      "text/plain": [
       "1650955489.160697"
      ]
     },
     "execution_count": 147,
     "metadata": {},
     "output_type": "execute_result"
    }
   ],
   "source": [
    "t"
   ]
  },
  {
   "cell_type": "markdown",
   "metadata": {},
   "source": [
    "## Decorators"
   ]
  },
  {
   "cell_type": "code",
   "execution_count": 187,
   "metadata": {},
   "outputs": [],
   "source": [
    "from time import sleep, time"
   ]
  },
  {
   "cell_type": "code",
   "execution_count": 188,
   "metadata": {},
   "outputs": [],
   "source": [
    "def f():\n",
    "    sleep(.3)\n",
    "def g():\n",
    "    sleep(.5)\n",
    "\n",
    "def measure(func):\n",
    "    t = time()\n",
    "    func()\n",
    "    print(func.__name__, 'took:', time() - t)"
   ]
  },
  {
   "cell_type": "code",
   "execution_count": 189,
   "metadata": {},
   "outputs": [
    {
     "name": "stdout",
     "output_type": "stream",
     "text": [
      "f took: 0.3037576675415039\n",
      "g took: 0.5000982284545898\n"
     ]
    }
   ],
   "source": [
    "measure(f)\n",
    "measure(g)"
   ]
  },
  {
   "cell_type": "code",
   "execution_count": 190,
   "metadata": {},
   "outputs": [],
   "source": [
    "# let's improve the approach above and remove duplicated function g()\n",
    "def f(sleep_time=0.1):\n",
    "    sleep(sleep_time)\n",
    "\n",
    "def measure(func, *args, **kwargs):\n",
    "    t = time()\n",
    "    func(*args, **kwargs)\n",
    "    print(func.__name__, 'took:', time() - t)"
   ]
  },
  {
   "cell_type": "code",
   "execution_count": 191,
   "metadata": {},
   "outputs": [
    {
     "name": "stdout",
     "output_type": "stream",
     "text": [
      "f took: 0.8002920150756836\n",
      "f took: 0.5050699710845947\n"
     ]
    }
   ],
   "source": [
    "measure(f, 0.8)\n",
    "measure(f, sleep_time=0.5)"
   ]
  },
  {
   "cell_type": "code",
   "execution_count": 192,
   "metadata": {},
   "outputs": [],
   "source": [
    "def measure(func):\n",
    "    def wrapper(*args, **kwargs):\n",
    "        t = time()\n",
    "        func(*args, **kwargs)\n",
    "        print(func.__name__, 'took:', time() - t)\n",
    "    return wrapper"
   ]
  },
  {
   "cell_type": "code",
   "execution_count": 193,
   "metadata": {},
   "outputs": [
    {
     "name": "stdout",
     "output_type": "stream",
     "text": [
      "f took: 0.2026660442352295\n",
      "f took: 0.30347275733947754\n",
      "wrapper\n"
     ]
    }
   ],
   "source": [
    "# We basically reassign f() with whatever is returned by measure() when we call it with f as an argument.\n",
    "# after the decoration point, when we call f() , we're actually calling wrapper()\n",
    "\n",
    "f = measure(f) # decoration point\n",
    "f(0.2)\n",
    "f(sleep_time=0.3)\n",
    "print(f.__name__)"
   ]
  },
  {
   "cell_type": "code",
   "execution_count": 211,
   "metadata": {},
   "outputs": [],
   "source": [
    "from functools import wraps\n",
    "\n",
    "def measure(func):\n",
    "    @wraps(func) # to keep metadata of decorated function\n",
    "    def wrapper(*args, **kwargs):\n",
    "        t = time()\n",
    "        result = func(*args, **kwargs)\n",
    "        print(func.__name__, 'took:', time() - t)\n",
    "        return result\n",
    "    return wrapper\n",
    "\n",
    "def max_result(func):\n",
    "    @wraps(func)\n",
    "    def wrapper(*args, **kwargs):\n",
    "        result = func(*args, **kwargs)\n",
    "        if result > 100:\n",
    "            print(f'Result is too big ({result}). Max allowed is 100.')\n",
    "        return result\n",
    "    return wrapper"
   ]
  },
  {
   "cell_type": "code",
   "execution_count": 213,
   "metadata": {},
   "outputs": [],
   "source": [
    "@measure\n",
    "@max_result #applied first\n",
    "def cube(n):\n",
    "    return n ** 3"
   ]
  },
  {
   "cell_type": "code",
   "execution_count": 214,
   "metadata": {},
   "outputs": [
    {
     "name": "stdout",
     "output_type": "stream",
     "text": [
      "cube took: 5.9604644775390625e-06\n",
      "8\n",
      "Result is too big (125). Max allowed is 100.\n",
      "cube took: 4.792213439941406e-05\n",
      "125\n"
     ]
    }
   ],
   "source": [
    "print(cube(2))\n",
    "print(cube(5))"
   ]
  },
  {
   "cell_type": "code",
   "execution_count": 218,
   "metadata": {},
   "outputs": [],
   "source": [
    "# a decorator factory\n",
    "\n",
    "def max_result(threshold):\n",
    "    def decorator(func):\n",
    "        @wraps(func)\n",
    "        def wrapper(*args, **kwargs):\n",
    "            result = func(*args, **kwargs)\n",
    "            if result > threshold:\n",
    "                print(f'Result is too big ({result}). Max allowed is {threshold}.')\n",
    "            return result\n",
    "        return wrapper\n",
    "    return decorator"
   ]
  },
  {
   "cell_type": "code",
   "execution_count": 219,
   "metadata": {},
   "outputs": [],
   "source": [
    "@max_result(75)\n",
    "def cube(n):\n",
    "    return n ** 3"
   ]
  },
  {
   "cell_type": "code",
   "execution_count": 220,
   "metadata": {},
   "outputs": [
    {
     "name": "stdout",
     "output_type": "stream",
     "text": [
      "Result is too big (125). Max allowed is 75.\n",
      "125\n"
     ]
    }
   ],
   "source": [
    "print(cube(5))"
   ]
  },
  {
   "cell_type": "code",
   "execution_count": 157,
   "metadata": {},
   "outputs": [
    {
     "data": {
      "text/plain": [
       "'/Users/April/Projects/! new_wave/python/learn_python'"
      ]
     },
     "execution_count": 157,
     "metadata": {},
     "output_type": "execute_result"
    }
   ],
   "source": [
    "from os import getcwd\n",
    "\n",
    "getcwd()"
   ]
  },
  {
   "cell_type": "code",
   "execution_count": 159,
   "metadata": {},
   "outputs": [
    {
     "name": "stdout",
     "output_type": "stream",
     "text": [
      "Help on method randint in module random:\n",
      "\n",
      "randint(a, b) method of random.Random instance\n",
      "    Return random integer in range [a, b], including both end points.\n",
      "\n"
     ]
    }
   ],
   "source": [
    "import random\n",
    "help(random.randint)"
   ]
  },
  {
   "cell_type": "code",
   "execution_count": 160,
   "metadata": {},
   "outputs": [
    {
     "name": "stdout",
     "output_type": "stream",
     "text": [
      "Help on class list in module builtins:\n",
      "\n",
      "class list(object)\n",
      " |  list(iterable=(), /)\n",
      " |  \n",
      " |  Built-in mutable sequence.\n",
      " |  \n",
      " |  If no argument is given, the constructor creates a new empty list.\n",
      " |  The argument must be an iterable if specified.\n",
      " |  \n",
      " |  Methods defined here:\n",
      " |  \n",
      " |  __add__(self, value, /)\n",
      " |      Return self+value.\n",
      " |  \n",
      " |  __contains__(self, key, /)\n",
      " |      Return key in self.\n",
      " |  \n",
      " |  __delitem__(self, key, /)\n",
      " |      Delete self[key].\n",
      " |  \n",
      " |  __eq__(self, value, /)\n",
      " |      Return self==value.\n",
      " |  \n",
      " |  __ge__(self, value, /)\n",
      " |      Return self>=value.\n",
      " |  \n",
      " |  __getattribute__(self, name, /)\n",
      " |      Return getattr(self, name).\n",
      " |  \n",
      " |  __getitem__(...)\n",
      " |      x.__getitem__(y) <==> x[y]\n",
      " |  \n",
      " |  __gt__(self, value, /)\n",
      " |      Return self>value.\n",
      " |  \n",
      " |  __iadd__(self, value, /)\n",
      " |      Implement self+=value.\n",
      " |  \n",
      " |  __imul__(self, value, /)\n",
      " |      Implement self*=value.\n",
      " |  \n",
      " |  __init__(self, /, *args, **kwargs)\n",
      " |      Initialize self.  See help(type(self)) for accurate signature.\n",
      " |  \n",
      " |  __iter__(self, /)\n",
      " |      Implement iter(self).\n",
      " |  \n",
      " |  __le__(self, value, /)\n",
      " |      Return self<=value.\n",
      " |  \n",
      " |  __len__(self, /)\n",
      " |      Return len(self).\n",
      " |  \n",
      " |  __lt__(self, value, /)\n",
      " |      Return self<value.\n",
      " |  \n",
      " |  __mul__(self, value, /)\n",
      " |      Return self*value.\n",
      " |  \n",
      " |  __ne__(self, value, /)\n",
      " |      Return self!=value.\n",
      " |  \n",
      " |  __repr__(self, /)\n",
      " |      Return repr(self).\n",
      " |  \n",
      " |  __reversed__(self, /)\n",
      " |      Return a reverse iterator over the list.\n",
      " |  \n",
      " |  __rmul__(self, value, /)\n",
      " |      Return value*self.\n",
      " |  \n",
      " |  __setitem__(self, key, value, /)\n",
      " |      Set self[key] to value.\n",
      " |  \n",
      " |  __sizeof__(self, /)\n",
      " |      Return the size of the list in memory, in bytes.\n",
      " |  \n",
      " |  append(self, object, /)\n",
      " |      Append object to the end of the list.\n",
      " |  \n",
      " |  clear(self, /)\n",
      " |      Remove all items from list.\n",
      " |  \n",
      " |  copy(self, /)\n",
      " |      Return a shallow copy of the list.\n",
      " |  \n",
      " |  count(self, value, /)\n",
      " |      Return number of occurrences of value.\n",
      " |  \n",
      " |  extend(self, iterable, /)\n",
      " |      Extend list by appending elements from the iterable.\n",
      " |  \n",
      " |  index(self, value, start=0, stop=9223372036854775807, /)\n",
      " |      Return first index of value.\n",
      " |      \n",
      " |      Raises ValueError if the value is not present.\n",
      " |  \n",
      " |  insert(self, index, object, /)\n",
      " |      Insert object before index.\n",
      " |  \n",
      " |  pop(self, index=-1, /)\n",
      " |      Remove and return item at index (default last).\n",
      " |      \n",
      " |      Raises IndexError if list is empty or index is out of range.\n",
      " |  \n",
      " |  remove(self, value, /)\n",
      " |      Remove first occurrence of value.\n",
      " |      \n",
      " |      Raises ValueError if the value is not present.\n",
      " |  \n",
      " |  reverse(self, /)\n",
      " |      Reverse *IN PLACE*.\n",
      " |  \n",
      " |  sort(self, /, *, key=None, reverse=False)\n",
      " |      Sort the list in ascending order and return None.\n",
      " |      \n",
      " |      The sort is in-place (i.e. the list itself is modified) and stable (i.e. the\n",
      " |      order of two equal elements is maintained).\n",
      " |      \n",
      " |      If a key function is given, apply it once to each list item and sort them,\n",
      " |      ascending or descending, according to their function values.\n",
      " |      \n",
      " |      The reverse flag can be set to sort in descending order.\n",
      " |  \n",
      " |  ----------------------------------------------------------------------\n",
      " |  Class methods defined here:\n",
      " |  \n",
      " |  __class_getitem__(...) from builtins.type\n",
      " |      See PEP 585\n",
      " |  \n",
      " |  ----------------------------------------------------------------------\n",
      " |  Static methods defined here:\n",
      " |  \n",
      " |  __new__(*args, **kwargs) from builtins.type\n",
      " |      Create and return a new object.  See help(type) for accurate signature.\n",
      " |  \n",
      " |  ----------------------------------------------------------------------\n",
      " |  Data and other attributes defined here:\n",
      " |  \n",
      " |  __hash__ = None\n",
      "\n"
     ]
    }
   ],
   "source": [
    "help(list)"
   ]
  },
  {
   "cell_type": "code",
   "execution_count": 162,
   "metadata": {},
   "outputs": [
    {
     "data": {
      "text/plain": [
       "['D', 'o', 'n', \"'\", 't', ' ', 'p', 'a', 'n', 'i', 'c', '!']"
      ]
     },
     "execution_count": 162,
     "metadata": {},
     "output_type": "execute_result"
    }
   ],
   "source": [
    "saying = 'Don\\'t panic!'\n",
    "letters = list(saying)\n",
    "letters"
   ]
  },
  {
   "cell_type": "code",
   "execution_count": 163,
   "metadata": {},
   "outputs": [
    {
     "data": {
      "text/plain": [
       "'!'"
      ]
     },
     "execution_count": 163,
     "metadata": {},
     "output_type": "execute_result"
    }
   ],
   "source": [
    "letters[-1]\n"
   ]
  },
  {
   "cell_type": "code",
   "execution_count": 165,
   "metadata": {},
   "outputs": [
    {
     "data": {
      "text/plain": [
       "\"Don't panic!\""
      ]
     },
     "execution_count": 165,
     "metadata": {},
     "output_type": "execute_result"
    }
   ],
   "source": [
    "''.join(letters)"
   ]
  },
  {
   "cell_type": "code",
   "execution_count": 166,
   "metadata": {},
   "outputs": [
    {
     "name": "stdout",
     "output_type": "stream",
     "text": [
      "Collecting pytest-pep8\n",
      "  Downloading pytest-pep8-1.0.6.tar.gz (7.3 kB)\n",
      "Collecting pytest-cache\n",
      "  Downloading pytest-cache-1.0.tar.gz (16 kB)\n",
      "Requirement already satisfied: pytest>=2.4.2 in /Users/April/opt/anaconda3/lib/python3.9/site-packages (from pytest-pep8) (6.2.4)\n",
      "Requirement already satisfied: pep8>=1.3 in /Users/April/opt/anaconda3/lib/python3.9/site-packages (from pytest-pep8) (1.7.1)\n",
      "Requirement already satisfied: attrs>=19.2.0 in /Users/April/opt/anaconda3/lib/python3.9/site-packages (from pytest>=2.4.2->pytest-pep8) (21.2.0)\n",
      "Requirement already satisfied: iniconfig in /Users/April/opt/anaconda3/lib/python3.9/site-packages (from pytest>=2.4.2->pytest-pep8) (1.1.1)\n",
      "Requirement already satisfied: packaging in /Users/April/opt/anaconda3/lib/python3.9/site-packages (from pytest>=2.4.2->pytest-pep8) (21.0)\n",
      "Requirement already satisfied: pluggy<1.0.0a1,>=0.12 in /Users/April/opt/anaconda3/lib/python3.9/site-packages (from pytest>=2.4.2->pytest-pep8) (0.13.1)\n",
      "Requirement already satisfied: py>=1.8.2 in /Users/April/opt/anaconda3/lib/python3.9/site-packages (from pytest>=2.4.2->pytest-pep8) (1.10.0)\n",
      "Requirement already satisfied: toml in /Users/April/opt/anaconda3/lib/python3.9/site-packages (from pytest>=2.4.2->pytest-pep8) (0.10.2)\n",
      "Requirement already satisfied: pyparsing>=2.0.2 in /Users/April/opt/anaconda3/lib/python3.9/site-packages (from packaging->pytest>=2.4.2->pytest-pep8) (3.0.4)\n",
      "Collecting execnet>=1.1.dev1\n",
      "  Downloading execnet-1.9.0-py2.py3-none-any.whl (39 kB)\n",
      "Building wheels for collected packages: pytest-pep8, pytest-cache\n",
      "  Building wheel for pytest-pep8 (setup.py) ... \u001b[?25ldone\n",
      "\u001b[?25h  Created wheel for pytest-pep8: filename=pytest_pep8-1.0.6-py3-none-any.whl size=5611 sha256=bbae6c5121a05c8932c4079fce60b1b16de24f28c00f96e1b3fd85b794536101\n",
      "  Stored in directory: /Users/April/Library/Caches/pip/wheels/8e/95/c5/5ce4d2883b5efc0b914a25a472918133068eba2c310fbc3bc2\n",
      "  Building wheel for pytest-cache (setup.py) ... \u001b[?25ldone\n",
      "\u001b[?25h  Created wheel for pytest-cache: filename=pytest_cache-1.0-py3-none-any.whl size=6950 sha256=8f093c1c9523b497330932490cd21498d20959fdbcb92d56f3edecd3c90f9d99\n",
      "  Stored in directory: /Users/April/Library/Caches/pip/wheels/85/f5/26/50738269bebd6fd61dc554be19fa0c52171deb8bc5da8bec21\n",
      "Successfully built pytest-pep8 pytest-cache\n",
      "Installing collected packages: execnet, pytest-cache, pytest-pep8\n",
      "Successfully installed execnet-1.9.0 pytest-cache-1.0 pytest-pep8-1.0.6\n"
     ]
    }
   ],
   "source": [
    "!pip install pytest-pep8"
   ]
  },
  {
   "cell_type": "code",
   "execution_count": 167,
   "metadata": {},
   "outputs": [
    {
     "name": "stdout",
     "output_type": "stream",
     "text": [
      "Requirement already satisfied: flask in /Users/April/opt/anaconda3/lib/python3.9/site-packages (1.1.2)\n",
      "Requirement already satisfied: Werkzeug>=0.15 in /Users/April/opt/anaconda3/lib/python3.9/site-packages (from flask) (2.0.2)\n",
      "Requirement already satisfied: itsdangerous>=0.24 in /Users/April/opt/anaconda3/lib/python3.9/site-packages (from flask) (2.0.1)\n",
      "Requirement already satisfied: Jinja2>=2.10.1 in /Users/April/opt/anaconda3/lib/python3.9/site-packages (from flask) (2.11.3)\n",
      "Requirement already satisfied: click>=5.1 in /Users/April/opt/anaconda3/lib/python3.9/site-packages (from flask) (8.0.3)\n",
      "Requirement already satisfied: MarkupSafe>=0.23 in /Users/April/opt/anaconda3/lib/python3.9/site-packages (from Jinja2>=2.10.1->flask) (1.1.1)\n"
     ]
    }
   ],
   "source": [
    "!pip install flask"
   ]
  },
  {
   "cell_type": "code",
   "execution_count": 170,
   "metadata": {},
   "outputs": [],
   "source": [
    "# функции можно передавать в качестве параметра в другие функции\n",
    "# функции yell (bark), whisper - форматируют текст\n",
    "# функция greet - печатает\n",
    "\n",
    "def yell(text):\n",
    "    return text.upper() + '!'\n",
    "\n",
    "def greet(func): \n",
    "    greeting = func('Привет! Я — программа Python')\n",
    "    print(greeting)\n",
    "    \n",
    "bark = yell"
   ]
  },
  {
   "cell_type": "code",
   "execution_count": 171,
   "metadata": {},
   "outputs": [
    {
     "data": {
      "text/plain": [
       "'HEY!'"
      ]
     },
     "execution_count": 171,
     "metadata": {},
     "output_type": "execute_result"
    }
   ],
   "source": [
    "bark('hey')"
   ]
  },
  {
   "cell_type": "code",
   "execution_count": 172,
   "metadata": {},
   "outputs": [
    {
     "name": "stdout",
     "output_type": "stream",
     "text": [
      "ПРИВЕТ! Я — ПРОГРАММА PYTHON!\n"
     ]
    }
   ],
   "source": [
    "greet(bark)"
   ]
  },
  {
   "cell_type": "code",
   "execution_count": 173,
   "metadata": {},
   "outputs": [
    {
     "name": "stdout",
     "output_type": "stream",
     "text": [
      "привет! я — программа python...\n"
     ]
    }
   ],
   "source": [
    "def whisper(text):\n",
    "    return text.lower() + '...'\n",
    "\n",
    "greet(whisper)"
   ]
  },
  {
   "cell_type": "code",
   "execution_count": 174,
   "metadata": {},
   "outputs": [],
   "source": [
    "# функции whisper и yell называются \"лексическими замыканиями\", или просто \"замыканиями\"\n",
    "def get_speak_func(text, volume):\n",
    "    def whisper():\n",
    "        return text.lower() + '...'\n",
    "    def yell():\n",
    "        return text.upper() + '!'\n",
    "    if volume > 0.5:\n",
    "        return yell\n",
    "    else:\n",
    "        return whisper"
   ]
  },
  {
   "cell_type": "code",
   "execution_count": 178,
   "metadata": {},
   "outputs": [
    {
     "data": {
      "text/plain": [
       "'hello world...'"
      ]
     },
     "execution_count": 178,
     "metadata": {},
     "output_type": "execute_result"
    }
   ],
   "source": [
    "get_speak_func('hello world', 0.3)()"
   ]
  },
  {
   "cell_type": "code",
   "execution_count": 179,
   "metadata": {},
   "outputs": [],
   "source": [
    "def make_adder(n):\n",
    "    def add(x):\n",
    "        return x + n\n",
    "    return add"
   ]
  },
  {
   "cell_type": "code",
   "execution_count": 182,
   "metadata": {},
   "outputs": [
    {
     "data": {
      "text/plain": [
       "7"
      ]
     },
     "execution_count": 182,
     "metadata": {},
     "output_type": "execute_result"
    }
   ],
   "source": [
    "plus_3 = make_adder(3)\n",
    "plus_3(4)"
   ]
  },
  {
   "cell_type": "code",
   "execution_count": 184,
   "metadata": {},
   "outputs": [],
   "source": [
    "def uppercase(func):\n",
    "    def wrapper():\n",
    "        original_res = func()\n",
    "        modified_res = original_res.upper()\n",
    "        return modified_res\n",
    "    return wrapper"
   ]
  },
  {
   "cell_type": "code",
   "execution_count": 186,
   "metadata": {},
   "outputs": [
    {
     "data": {
      "text/plain": [
       "'ПРИВЕТ!'"
      ]
     },
     "execution_count": 186,
     "metadata": {},
     "output_type": "execute_result"
    }
   ],
   "source": [
    "@uppercase\n",
    "def greet():\n",
    "    return 'Привет!'\n",
    "greet()"
   ]
  },
  {
   "cell_type": "markdown",
   "metadata": {},
   "source": [
    "## Объектно-ориентированное программирование"
   ]
  },
  {
   "cell_type": "code",
   "execution_count": 221,
   "metadata": {},
   "outputs": [
    {
     "name": "stdout",
     "output_type": "stream",
     "text": [
      "<class 'type'>\n",
      "<class '__main__.Simpl'>\n"
     ]
    }
   ],
   "source": [
    "class Simpl():\n",
    "    pass\n",
    "\n",
    "print(type(Simpl))\n",
    "simp = Simpl()\n",
    "print(type(simp))"
   ]
  },
  {
   "cell_type": "code",
   "execution_count": 2,
   "metadata": {},
   "outputs": [],
   "source": [
    "class Engine:\n",
    "    def start(self):\n",
    "        pass\n",
    "    def stop(self):\n",
    "        pass\n",
    "    \n",
    "class ElectricEngine(Engine): # inheritance Is-A Engine\n",
    "    pass\n",
    "\n",
    "class V8Engine(Engine):\n",
    "    pass"
   ]
  },
  {
   "cell_type": "code",
   "execution_count": 3,
   "metadata": {},
   "outputs": [],
   "source": [
    "class Car:\n",
    "    engine_cls = Engine # создаем экземпляр объекта\n",
    "    def __init__(self):\n",
    "        self.engine = self.engine_cls() # Has-A Engine присваиваем атрибуту класса экземляр другого объекта\n",
    "    def start(self):\n",
    "        print(f'Starting engine {self.engine.__class__.__name__}',\n",
    "              f'for car {self.__class__.__name__}... Wroom, wroom!')\n",
    "        self.engine.start()\n",
    "    def stop(self):\n",
    "        self.engine.stop()\n",
    "        \n",
    "class RaceCar(Car): # наследуем от класса Car\n",
    "    engine_cls = V8Engine # создаем экземпляр объекта\n",
    "class CityCar(Car):\n",
    "    engine_cls = ElectricEngine\n",
    "class F1Car(RaceCar): # наследуем от класса RaceCar\n",
    "    pass"
   ]
  },
  {
   "cell_type": "code",
   "execution_count": 5,
   "metadata": {},
   "outputs": [
    {
     "name": "stdout",
     "output_type": "stream",
     "text": [
      "Starting engine Engine for car Car... Wroom, wroom!\n",
      "Starting engine V8Engine for car RaceCar... Wroom, wroom!\n",
      "Starting engine ElectricEngine for car CityCar... Wroom, wroom!\n",
      "Starting engine V8Engine for car F1Car... Wroom, wroom!\n"
     ]
    }
   ],
   "source": [
    "# создаем экземпляры объектов\n",
    "\n",
    "car = Car()\n",
    "racecar = RaceCar()\n",
    "citycar = CityCar()\n",
    "f1car = F1Car()\n",
    "\n",
    "cars = [car, racecar, citycar, f1car]\n",
    "for car in cars:\n",
    "    car.start()"
   ]
  },
  {
   "cell_type": "code",
   "execution_count": 12,
   "metadata": {},
   "outputs": [],
   "source": [
    "class Shape:\n",
    "    geometric_type = 'GenericShape' # a placeholder for the interface\n",
    "    def area(self):\n",
    "        raise NotImplementedError\n",
    "    def get_geometric_type(self):\n",
    "        return self.geometric_type\n",
    "    \n",
    "class Plotter:\n",
    "    def plot(self, ratio, topleft):\n",
    "        # some nice plotting logic here...\n",
    "        print('Plotting at {}, ratio {}'. format(topleft, ratio))\n",
    "    \n",
    "class Polygon(Shape, Plotter): # base class for polygons\n",
    "    geometric_type = 'Polygon'\n",
    "    \n",
    "class RegularPolygon(Polygon): # Is-A Polygon\n",
    "    geometric_type = 'Regular Polygon'\n",
    "    def __init__(self, side):\n",
    "        self.side = side\n",
    "    \n",
    "class RegularHexagon(RegularPolygon): # Is-A RegularPolygon\n",
    "    geometric_type = 'RegularHexagon'\n",
    "    def area(self):\n",
    "        return 1.5 * (3 ** .5 * self.side ** 2)\n",
    "    \n",
    "class Square(RegularPolygon):\n",
    "    geometric_type = 'Square'\n",
    "    def area(self):\n",
    "        return self.side ** 2"
   ]
  },
  {
   "cell_type": "code",
   "execution_count": 14,
   "metadata": {},
   "outputs": [
    {
     "name": "stdout",
     "output_type": "stream",
     "text": [
      "259.8076211353316\n",
      "RegularHexagon\n",
      "Plotting at (75, 77), ratio 0.8\n",
      "144\n",
      "Square\n",
      "Plotting at (74, 75), ratio 0.93\n"
     ]
    }
   ],
   "source": [
    "hexagon = RegularHexagon(10)\n",
    "print(hexagon.area())\n",
    "print(hexagon.get_geometric_type())\n",
    "hexagon.plot(0.8, (75, 77))\n",
    "square = Square(12)\n",
    "print(square.area())\n",
    "print(square.get_geometric_type())\n",
    "square.plot(0.93, (74, 75))"
   ]
  },
  {
   "cell_type": "code",
   "execution_count": 16,
   "metadata": {},
   "outputs": [
    {
     "name": "stdout",
     "output_type": "stream",
     "text": [
      "(<class '__main__.Square'>, <class '__main__.RegularPolygon'>, <class '__main__.Polygon'>, <class '__main__.Shape'>, <class '__main__.Plotter'>, <class 'object'>)\n"
     ]
    }
   ],
   "source": [
    "print(square.__class__.__mro__)"
   ]
  },
  {
   "cell_type": "code",
   "execution_count": 17,
   "metadata": {},
   "outputs": [
    {
     "name": "stdout",
     "output_type": "stream",
     "text": [
      "b\n"
     ]
    }
   ],
   "source": [
    "class A:\n",
    "    label = 'a'\n",
    "class B(A):\n",
    "    label = 'b'\n",
    "class C(A):\n",
    "    label = 'c'\n",
    "class D(B, C):\n",
    "    pass\n",
    "\n",
    "d = D()\n",
    "print(d.label)"
   ]
  },
  {
   "cell_type": "code",
   "execution_count": 36,
   "metadata": {},
   "outputs": [
    {
     "data": {
      "text/plain": [
       "'neveroddoreven'"
      ]
     },
     "execution_count": 36,
     "metadata": {},
     "output_type": "execute_result"
    }
   ],
   "source": [
    "# By calling join() on an empty string, the result is that all elements in the iterable \n",
    "# you pass to join() will be concatenated together\n",
    "s = 'Never Odd, Or Even!'\n",
    "s = ''.join(c for c in s if c.isalnum())\n",
    "s = s.lower()\n",
    "s"
   ]
  },
  {
   "cell_type": "code",
   "execution_count": 37,
   "metadata": {},
   "outputs": [
    {
     "name": "stdout",
     "output_type": "stream",
     "text": [
      "symbol on position 0 - n is equal to symbol on position -1 - n\n",
      "symbol on position 1 - e is equal to symbol on position -2 - e\n",
      "symbol on position 2 - v is equal to symbol on position -3 - v\n",
      "symbol on position 3 - e is equal to symbol on position -4 - e\n",
      "symbol on position 4 - r is equal to symbol on position -5 - r\n",
      "symbol on position 5 - o is equal to symbol on position -6 - o\n",
      "symbol on position 6 - d is equal to symbol on position -7 - d\n"
     ]
    }
   ],
   "source": [
    "for c in range(len(s) // 2):\n",
    "    if s[c] == s[-c - 1]:\n",
    "        print(f'symbol on position {c} - {s[c]} is equal to symbol on position {-c - 1} - {s[-c - 1]}')"
   ]
  },
  {
   "cell_type": "code",
   "execution_count": 38,
   "metadata": {},
   "outputs": [
    {
     "ename": "NotImplementedError",
     "evalue": "I cant do that",
     "output_type": "error",
     "traceback": [
      "\u001b[0;31m---------------------------------------------------------------------------\u001b[0m",
      "\u001b[0;31mNotImplementedError\u001b[0m                       Traceback (most recent call last)",
      "\u001b[0;32m/var/folders/lq/8xyjvtzs5m74h82472673s0h0000gn/T/ipykernel_98794/67184565.py\u001b[0m in \u001b[0;36m<module>\u001b[0;34m\u001b[0m\n\u001b[0;32m----> 1\u001b[0;31m \u001b[0;32mraise\u001b[0m \u001b[0mNotImplementedError\u001b[0m\u001b[0;34m(\u001b[0m\u001b[0;34m'I cant do that'\u001b[0m\u001b[0;34m)\u001b[0m\u001b[0;34m\u001b[0m\u001b[0;34m\u001b[0m\u001b[0m\n\u001b[0m",
      "\u001b[0;31mNotImplementedError\u001b[0m: I cant do that"
     ]
    }
   ],
   "source": [
    "raise NotImplementedError('I cant do that')"
   ]
  },
  {
   "cell_type": "code",
   "execution_count": 39,
   "metadata": {},
   "outputs": [
    {
     "name": "stdout",
     "output_type": "stream",
     "text": [
      "In the try block: 12/4\n",
      "The result is: 3.0\n",
      "Exiting\n",
      "3.0\n",
      "In the try block: 11/0\n",
      "division by zero\n",
      "Exiting\n",
      "None\n"
     ]
    }
   ],
   "source": [
    "def try_syntax(numerator, denominator):\n",
    "    try:\n",
    "        print(f'In the try block: {numerator}/{denominator}')\n",
    "        result = numerator / denominator\n",
    "    except ZeroDivisionError as zde:\n",
    "        print(zde)\n",
    "    else:\n",
    "        print('The result is:', result)\n",
    "        return result\n",
    "    finally:\n",
    "        print('Exiting')\n",
    "        \n",
    "print(try_syntax(12, 4))\n",
    "print(try_syntax(11, 0))"
   ]
  },
  {
   "cell_type": "code",
   "execution_count": 42,
   "metadata": {},
   "outputs": [
    {
     "name": "stdout",
     "output_type": "stream",
     "text": [
      "<class 'TypeError'> unsupported operand type(s) for divmod(): 'str' and 'int'\n"
     ]
    }
   ],
   "source": [
    "values = ('one', 0)\n",
    "try:\n",
    "    q, r = divmod(*values)\n",
    "except (ZeroDivisionError, TypeError) as e:\n",
    "    print(type(e), e)"
   ]
  },
  {
   "cell_type": "code",
   "execution_count": 47,
   "metadata": {},
   "outputs": [
    {
     "name": "stdout",
     "output_type": "stream",
     "text": [
      "(79, 99, 95)\n"
     ]
    }
   ],
   "source": [
    "class ExitLoopException(Exception):\n",
    "    pass\n",
    "try:\n",
    "    n = 100\n",
    "    for a in range(n):\n",
    "        for b in range(n):\n",
    "            for c in range(n):\n",
    "                if 42 * a + 17 * b + c == 5096:\n",
    "                    raise ExitLoopException(a, b, c)\n",
    "except ExitLoopException as ele:\n",
    "    print(ele.args)"
   ]
  },
  {
   "cell_type": "code",
   "execution_count": 6,
   "metadata": {},
   "outputs": [
    {
     "name": "stdout",
     "output_type": "stream",
     "text": [
      "Context(prec=5, rounding=ROUND_HALF_EVEN, Emin=-999999, Emax=999999, capitals=1, clamp=0, flags=[], traps=[InvalidOperation, DivisionByZero, Overflow])\n",
      "0.33333\n",
      "0.3333333333333333333333333333\n"
     ]
    }
   ],
   "source": [
    "# we store the current context, set a new context (with a modified precision),\n",
    "# perform our calculation, and finally restore the original context\n",
    "\n",
    "from decimal import Context, Decimal, getcontext, setcontext\n",
    "\n",
    "one = Decimal('1')\n",
    "three = Decimal('3')\n",
    "orig_ctx = getcontext()\n",
    "ctx = Context(prec=5)\n",
    "setcontext(ctx)\n",
    "print(ctx)\n",
    "print(one / three)\n",
    "setcontext(orig_ctx)\n",
    "print(one / three)"
   ]
  },
  {
   "cell_type": "code",
   "execution_count": 9,
   "metadata": {},
   "outputs": [
    {
     "name": "stdout",
     "output_type": "stream",
     "text": [
      "Context(prec=5, rounding=ROUND_HALF_EVEN, Emin=-999999, Emax=999999, capitals=1, clamp=0, flags=[], traps=[InvalidOperation, DivisionByZero, Overflow])\n",
      "0.33333\n",
      "0.3333333333333333333333333333\n"
     ]
    }
   ],
   "source": [
    "# but if an exception happened before we could restore the original context\n",
    "# We would be stuck with the wrong precision and the results of all subsequent\n",
    "# computations would be incorrect\n",
    "# We can fix this\n",
    "\n",
    "orig_ctx = getcontext()\n",
    "ctx = Context(prec=5)\n",
    "setcontext(ctx)\n",
    "\n",
    "try:\n",
    "    print(ctx)\n",
    "    print(one / three)\n",
    "finally:\n",
    "    setcontext(orig_ctx)\n",
    "print(one / three)\n",
    "\n",
    "# That is much safer"
   ]
  },
  {
   "cell_type": "code",
   "execution_count": 10,
   "metadata": {},
   "outputs": [
    {
     "name": "stdout",
     "output_type": "stream",
     "text": [
      "Context(prec=5, rounding=ROUND_HALF_EVEN, Emin=-999999, Emax=999999, capitals=1, clamp=0, flags=[], traps=[InvalidOperation, DivisionByZero, Overflow])\n",
      "0.33333\n",
      "0.3333333333333333333333333333\n"
     ]
    }
   ],
   "source": [
    "# even better way is to use context manager\n",
    "# The decimal module provides the localcontext context manager, which\n",
    "# handles setting and restoring the context for us\n",
    "\n",
    "from decimal import localcontext\n",
    "\n",
    "with localcontext(Context(prec=5)) as ctx:\n",
    "    print(ctx)\n",
    "    print(one / three)\n",
    "print(one / three)"
   ]
  },
  {
   "cell_type": "code",
   "execution_count": 19,
   "metadata": {},
   "outputs": [],
   "source": [
    "with open('new_file.txt', 'w') as fw:\n",
    "    print('Write to a file', file=fw)"
   ]
  },
  {
   "cell_type": "code",
   "execution_count": 20,
   "metadata": {},
   "outputs": [],
   "source": [
    "with open('new_file.txt', 'w') as fw:\n",
    "    fw.write(''.join('And again write to a file'))"
   ]
  },
  {
   "cell_type": "code",
   "execution_count": 25,
   "metadata": {},
   "outputs": [
    {
     "name": "stdout",
     "output_type": "stream",
     "text": [
      "/Users/April/Projects/! new_wave/python/learn_python\n",
      "True\n",
      "True\n"
     ]
    }
   ],
   "source": [
    "from pathlib import Path\n",
    "p = Path('new_file.txt')\n",
    "path = p.parent.absolute()\n",
    "print(path)\n",
    "print(p.is_file())\n",
    "print(path.is_dir())"
   ]
  },
  {
   "cell_type": "code",
   "execution_count": 26,
   "metadata": {},
   "outputs": [],
   "source": [
    "import shutil\n",
    "from pathlib import Path\n",
    "base_path = Path('ops_example')\n",
    "# let's perform an initial cleanup just in case\n",
    "if base_path.exists() and base_path.is_dir():\n",
    "    shutil.rmtree(base_path)"
   ]
  },
  {
   "cell_type": "code",
   "execution_count": 27,
   "metadata": {},
   "outputs": [],
   "source": [
    "base_path.mkdir()"
   ]
  },
  {
   "cell_type": "code",
   "execution_count": 28,
   "metadata": {},
   "outputs": [],
   "source": [
    "path_b = base_path / 'A' / 'B'\n",
    "path_c = base_path / 'A' / 'C'\n",
    "path_d = base_path / 'A' / 'D'"
   ]
  },
  {
   "cell_type": "code",
   "execution_count": 29,
   "metadata": {},
   "outputs": [],
   "source": [
    "path_b.mkdir(parents=True)\n",
    "path_c.mkdir() # no need for parents now, as 'A' has been created"
   ]
  },
  {
   "cell_type": "code",
   "execution_count": 30,
   "metadata": {},
   "outputs": [],
   "source": [
    "# we add three files in 'ops_example/A/B'\n",
    "for filename in ('ex1.txt', 'ex2.txt', 'ex3.txt'):\n",
    "    with open(path_b / filename, 'w') as stream:\n",
    "        stream.write(f'Some content here in {filename}\\n')"
   ]
  },
  {
   "cell_type": "code",
   "execution_count": 31,
   "metadata": {},
   "outputs": [
    {
     "data": {
      "text/plain": [
       "PosixPath('ops_example/A/D')"
      ]
     },
     "execution_count": 31,
     "metadata": {},
     "output_type": "execute_result"
    }
   ],
   "source": [
    "shutil.move(path_b, path_d)"
   ]
  },
  {
   "cell_type": "code",
   "execution_count": 32,
   "metadata": {},
   "outputs": [
    {
     "data": {
      "text/plain": [
       "PosixPath('ops_example/A/D/ex1.renamed.txt')"
      ]
     },
     "execution_count": 32,
     "metadata": {},
     "output_type": "execute_result"
    }
   ],
   "source": [
    "# we can also rename files\n",
    "ex1 = path_d / 'ex1.txt'\n",
    "ex1.rename(ex1.parent / 'ex1.renamed.txt')"
   ]
  },
  {
   "cell_type": "code",
   "execution_count": 33,
   "metadata": {},
   "outputs": [
    {
     "name": "stdout",
     "output_type": "stream",
     "text": [
      "/Users/April/Projects/! new_wave/python/learn_python/fear.txt\n",
      "fear.txt\n",
      "/Users/April/Projects/! new_wave/python/learn_python\n",
      ".txt\n",
      "('fear.txt',)\n",
      "('/', 'Users', 'April', 'Projects', '! new_wave', 'python', 'learn_python', 'fear.txt')\n",
      "/Users/April/Projects/! new_wave/python/learn_python/../../README.rst\n",
      "/Users/April/Projects/! new_wave/README.rst\n"
     ]
    }
   ],
   "source": [
    "from pathlib import Path\n",
    "p = Path('fear.txt')\n",
    "print(p.absolute())\n",
    "print(p.name)\n",
    "print(p.parent.absolute())\n",
    "print(p.suffix)\n",
    "print(p.parts)\n",
    "print(p.absolute().parts)\n",
    "readme_path = p.parent / '..' / '..' / 'README.rst'\n",
    "print(readme_path.absolute())\n",
    "print(readme_path.resolve())"
   ]
  },
  {
   "cell_type": "code",
   "execution_count": 36,
   "metadata": {},
   "outputs": [
    {
     "name": "stdout",
     "output_type": "stream",
     "text": [
      "Temp directory: ./tmpzu68e532\n",
      "/Users/April/Projects/! new_wave/python/learn_python/tmpzu68e532/tmpqj79p6i5\n"
     ]
    }
   ],
   "source": [
    "from tempfile import NamedTemporaryFile, TemporaryDirectory\n",
    "\n",
    "with TemporaryDirectory(dir='.') as td:\n",
    "    print('Temp directory:', td)\n",
    "    with NamedTemporaryFile(dir=td) as t:\n",
    "        name = t.name\n",
    "        print(name)"
   ]
  },
  {
   "cell_type": "code",
   "execution_count": 37,
   "metadata": {},
   "outputs": [
    {
     "name": "stdout",
     "output_type": "stream",
     "text": [
      "Folder: Learn Python Programming\n",
      "File: new_file.txt\n",
      "File: .DS_Store\n",
      "Folder: ops_example\n",
      "Folder: .ipynb_checkpoints\n",
      "File: learn_python_packt.ipynb\n",
      "File: python_o_relly.ipynb\n"
     ]
    }
   ],
   "source": [
    "p = Path('.')\n",
    "for entry in p.glob('*'):\n",
    "    print('File:' if entry.is_file() else 'Folder:', entry)"
   ]
  },
  {
   "cell_type": "code",
   "execution_count": 41,
   "metadata": {},
   "outputs": [
    {
     "name": "stdout",
     "output_type": "stream",
     "text": [
      "/Users/April/Projects/! new_wave/python/learn_python\n",
      "Directories:\n",
      "Learn Python Programming\n",
      "ops_example\n",
      ".ipynb_checkpoints\n",
      "\n",
      "Files:\n",
      "new_file.txt\n",
      ".DS_Store\n",
      "learn_python_packt.ipynb\n",
      "python_o_relly.ipynb\n",
      "\n",
      "/Users/April/Projects/! new_wave/python/learn_python/Learn Python Programming\n",
      "Files:\n",
      "10 Testing.pdf\n",
      "9 Cryptography and Tokens.pdf\n",
      "4 Functions, the Building Blocks of Code.pdf\n",
      "5 Comprehensions and Generators.pdf\n",
      "7 Exceptions and Context Managers.pdf\n",
      "1 A Gentle Introduction to Python.pdf\n",
      "14 Introduction to API Development.pdf\n",
      "13 Data Science in Brief.pdf\n",
      "15 Packaging Python Applications.pdf\n",
      "cover.png\n",
      "6 OOP, Decorators, and Iterators .pdf\n",
      "8 Files and Data Persistence.pdf\n",
      "12 GUIs and Scripting.pdf\n",
      "3 Conditionals and Iteration.pdf\n",
      "11 Debugging and Profiling.pdf\n",
      "2 Built-In Data Types.pdf\n",
      "\n",
      "/Users/April/Projects/! new_wave/python/learn_python/ops_example\n",
      "Directories:\n",
      "A\n",
      "\n",
      "/Users/April/Projects/! new_wave/python/learn_python/ops_example/A\n",
      "Directories:\n",
      "C\n",
      "D\n",
      "\n",
      "/Users/April/Projects/! new_wave/python/learn_python/ops_example/A/C\n",
      "/Users/April/Projects/! new_wave/python/learn_python/ops_example/A/D\n",
      "Files:\n",
      "ex3.txt\n",
      "ex2.txt\n",
      "ex1.renamed.txt\n",
      "\n",
      "/Users/April/Projects/! new_wave/python/learn_python/.ipynb_checkpoints\n",
      "Files:\n",
      "learn_python_packt-checkpoint.ipynb\n",
      "python_o_relly-checkpoint.ipynb\n",
      "\n"
     ]
    }
   ],
   "source": [
    "import os\n",
    "\n",
    "for root, dirs, files in os.walk('.'):\n",
    "    abs_root = os.path.abspath(root)\n",
    "    print(abs_root)\n",
    "    if dirs:\n",
    "        print('Directories:')\n",
    "        for dir_ in dirs:\n",
    "            print(dir_)\n",
    "        print()\n",
    "    if files:\n",
    "        print('Files:')\n",
    "        for filename in files:\n",
    "            print(filename)\n",
    "        print()"
   ]
  },
  {
   "cell_type": "code",
   "execution_count": null,
   "metadata": {},
   "outputs": [],
   "source": [
    "for filename in ('content1.txt', 'content2.txt', 'content3.txt', 'content4.txt'):\n",
    "    with open(filename, 'w') as stream:\n",
    "        stream.write(f'Some content here in {filename}\\n')"
   ]
  },
  {
   "cell_type": "code",
   "execution_count": 45,
   "metadata": {},
   "outputs": [],
   "source": [
    "from zipfile import ZipFile\n",
    "\n",
    "with ZipFile('example.zip', 'w') as zp:\n",
    "    zp.write('content1.txt')\n",
    "    zp.write('content2.txt')\n",
    "    zp.write('subfolder/content3.txt')\n",
    "    zp.write('subfolder/content4.txt')"
   ]
  },
  {
   "cell_type": "code",
   "execution_count": 46,
   "metadata": {},
   "outputs": [],
   "source": [
    "with ZipFile('example.zip') as zp:\n",
    "    zp.extract('content1.txt', 'extract_zip')\n",
    "    zp.extract('subfolder/content3.txt', 'extract_zip')"
   ]
  },
  {
   "cell_type": "markdown",
   "metadata": {},
   "source": [
    "## Data interchange formats"
   ]
  },
  {
   "cell_type": "code",
   "execution_count": 47,
   "metadata": {},
   "outputs": [],
   "source": [
    "import sys\n",
    "import json\n",
    "\n",
    "data = {\n",
    "    'big_number': 2 ** 3141,\n",
    "    'max_float': sys.float_info.max,\n",
    "    'a_list': [2, 3, 5, 7],\n",
    "}\n",
    "json_data = json.dumps(data)\n",
    "data_out = json.loads(json_data)\n",
    "assert data == data_out "
   ]
  },
  {
   "cell_type": "code",
   "execution_count": 52,
   "metadata": {},
   "outputs": [],
   "source": [
    "data_to_write = {\n",
    "    '1':\n",
    "    {\n",
    "        'author': 'Fyodor Dostoevsky',\n",
    "        'Titles': ['The Brothers Karamazov', 'Crime and Panishment', 'The Idiot'],\n",
    "        'year_born': 1821,\n",
    "        'year_died': 1881,\n",
    "    },\n",
    "    '2':\n",
    "    {\n",
    "        'author': 'Leo Tolstoy',\n",
    "        'Titles': ['War and Peace', 'Anna Karenina', 'Resurrection'],\n",
    "        'year_born': 1828,\n",
    "        'year_died': 1910,\n",
    "    }\n",
    "}\n",
    "json_data_to_file = json.dumps(data_to_write)\n",
    "with open('json_test.json', 'w') as stream:\n",
    "    stream.write(json_data_to_file)"
   ]
  },
  {
   "cell_type": "code",
   "execution_count": 57,
   "metadata": {},
   "outputs": [],
   "source": [
    "with open('json_test.json', 'rt') as stream:\n",
    "    data_out = json.loads(stream.read())"
   ]
  },
  {
   "cell_type": "code",
   "execution_count": 60,
   "metadata": {},
   "outputs": [
    {
     "name": "stdout",
     "output_type": "stream",
     "text": [
      "{\n",
      "  \"1\": {\n",
      "    \"Titles\": [\n",
      "      \"The Brothers Karamazov\",\n",
      "      \"Crime and Panishment\",\n",
      "      \"The Idiot\"\n",
      "    ],\n",
      "    \"author\": \"Fyodor Dostoevsky\",\n",
      "    \"year_born\": 1821,\n",
      "    \"year_died\": 1881\n",
      "  },\n",
      "  \"2\": {\n",
      "    \"Titles\": [\n",
      "      \"War and Peace\",\n",
      "      \"Anna Karenina\",\n",
      "      \"Resurrection\"\n",
      "    ],\n",
      "    \"author\": \"Leo Tolstoy\",\n",
      "    \"year_born\": 1828,\n",
      "    \"year_died\": 1910\n",
      "  }\n",
      "}\n"
     ]
    }
   ],
   "source": [
    "print(json.dumps(data_to_write, indent=2, sort_keys=True))"
   ]
  },
  {
   "cell_type": "code",
   "execution_count": 59,
   "metadata": {},
   "outputs": [
    {
     "name": "stdout",
     "output_type": "stream",
     "text": [
      "{\n",
      "  \"address\": {\n",
      "    \"city\": \"London\",\n",
      "    \"country\": \"UK\",\n",
      "    \"street\": \"221B Baker St\",\n",
      "    \"zip\": \"NW1 6XE\"\n",
      "  },\n",
      "  \"full_name\": \"Sherlock Holmes\"\n",
      "}\n"
     ]
    }
   ],
   "source": [
    "info = {\n",
    "    'full_name': 'Sherlock Holmes',\n",
    "    'address': {\n",
    "        'street': '221B Baker St',\n",
    "        'zip': 'NW1 6XE',\n",
    "        'city': 'London',\n",
    "        'country': 'UK',\n",
    "    }\n",
    "}\n",
    "print(json.dumps(info, indent=2, sort_keys=True))"
   ]
  },
  {
   "cell_type": "code",
   "execution_count": 63,
   "metadata": {},
   "outputs": [],
   "source": [
    "with open('json_test_1.json', 'w') as stream:\n",
    "    json.dump(data_to_write, stream, indent=2, sort_keys=True)"
   ]
  },
  {
   "cell_type": "code",
   "execution_count": 64,
   "metadata": {},
   "outputs": [
    {
     "data": {
      "text/plain": [
       "{'1': {'Titles': ['The Brothers Karamazov',\n",
       "   'Crime and Panishment',\n",
       "   'The Idiot'],\n",
       "  'author': 'Fyodor Dostoevsky',\n",
       "  'year_born': 1821,\n",
       "  'year_died': 1881},\n",
       " '2': {'Titles': ['War and Peace', 'Anna Karenina', 'Resurrection'],\n",
       "  'author': 'Leo Tolstoy',\n",
       "  'year_born': 1828,\n",
       "  'year_died': 1910}}"
      ]
     },
     "execution_count": 64,
     "metadata": {},
     "output_type": "execute_result"
    }
   ],
   "source": [
    "with open('json_test_1.json', 'rt') as stream:\n",
    "    data_out = json.loads(stream.read())\n",
    "data_out"
   ]
  },
  {
   "cell_type": "code",
   "execution_count": 65,
   "metadata": {},
   "outputs": [
    {
     "name": "stdout",
     "output_type": "stream",
     "text": [
      "Learning Python Programming.\n",
      "Become a Python ninja!\n",
      "\n"
     ]
    }
   ],
   "source": [
    "# Using an in-memory stream\n",
    "\n",
    "import io\n",
    "\n",
    "with io.StringIO() as stream:\n",
    "    stream.write('Learning Python Programming.\\n')\n",
    "    print('Become a Python ninja!', file=stream)\n",
    "    content = stream.getvalue()\n",
    "    print(content)"
   ]
  },
  {
   "cell_type": "code",
   "execution_count": 70,
   "metadata": {},
   "outputs": [
    {
     "name": "stdout",
     "output_type": "stream",
     "text": [
      "Requirement already satisfied: requests in /Users/April/opt/anaconda3/lib/python3.9/site-packages (2.26.0)\r\n",
      "Requirement already satisfied: idna<4,>=2.5 in /Users/April/opt/anaconda3/lib/python3.9/site-packages (from requests) (3.2)\r\n",
      "Requirement already satisfied: certifi>=2017.4.17 in /Users/April/opt/anaconda3/lib/python3.9/site-packages (from requests) (2021.10.8)\r\n",
      "Requirement already satisfied: urllib3<1.27,>=1.21.1 in /Users/April/opt/anaconda3/lib/python3.9/site-packages (from requests) (1.26.7)\r\n",
      "Requirement already satisfied: charset-normalizer~=2.0.0 in /Users/April/opt/anaconda3/lib/python3.9/site-packages (from requests) (2.0.4)\r\n"
     ]
    }
   ],
   "source": [
    "!pip install requests"
   ]
  },
  {
   "cell_type": "code",
   "execution_count": 71,
   "metadata": {},
   "outputs": [
    {
     "name": "stdout",
     "output_type": "stream",
     "text": [
      "Responce for get\n",
      "{'args': {'t': 'learn python programming'}, 'headers': {'Accept': '*/*', 'Accept-Encoding': 'gzip, deflate, br', 'Host': 'httpbin.org', 'User-Agent': 'python-requests/2.26.0', 'X-Amzn-Trace-Id': 'Root=1-62b21ae2-3b3141730a07782976b57402'}, 'origin': '95.174.99.211', 'url': 'https://httpbin.org/get?t=learn+python+programming'}\n",
      "----------------------------------------\n",
      "Responce for headers\n",
      "{'headers': {'Accept': '*/*', 'Accept-Encoding': 'gzip, deflate, br', 'Host': 'httpbin.org', 'User-Agent': 'python-requests/2.26.0', 'X-Amzn-Trace-Id': 'Root=1-62b21ae3-2886881c78cd89514e79fdb7'}}\n",
      "----------------------------------------\n",
      "Responce for ip\n",
      "{'origin': '95.174.99.211'}\n",
      "----------------------------------------\n",
      "Responce for user-agent\n",
      "{'user-agent': 'python-requests/2.26.0'}\n",
      "----------------------------------------\n",
      "Responce for UUID\n",
      "{'uuid': '7e298f2c-3d41-4ddb-be0d-0eb0639e0b93'}\n",
      "----------------------------------------\n",
      "Responce for JSON\n",
      "{'slideshow': {'author': 'Yours Truly', 'date': 'date of publication', 'slides': [{'title': 'Wake up to WonderWidgets!', 'type': 'all'}, {'items': ['Why <em>WonderWidgets</em> are great', 'Who <em>buys</em> WonderWidgets'], 'title': 'Overview', 'type': 'all'}], 'title': 'Sample Slide Show'}}\n",
      "----------------------------------------\n"
     ]
    }
   ],
   "source": [
    "# Making HTTP requests\n",
    "import requests\n",
    "\n",
    "urls = {\n",
    "    'get': 'https://httpbin.org/get?t=learn+python+programming',\n",
    "    'headers': 'https://httpbin.org/headers',\n",
    "    'ip': 'https://httpbin.org/ip',\n",
    "    'user-agent': 'https://httpbin.org/user-agent',\n",
    "    'UUID': 'https://httpbin.org/uuid',\n",
    "    'JSON': 'https://httpbin.org/json',\n",
    "}\n",
    "\n",
    "def get_content(title, url):\n",
    "    resp = requests.get(url)\n",
    "    print(f'Responce for {title}')\n",
    "    print(resp.json())\n",
    "    \n",
    "for title,url in urls.items():\n",
    "    get_content(title, url)\n",
    "    print('-' * 40)"
   ]
  },
  {
   "cell_type": "code",
   "execution_count": 73,
   "metadata": {},
   "outputs": [
    {
     "name": "stdout",
     "output_type": "stream",
     "text": [
      "Responce for POST\n",
      "{'args': {}, 'data': '', 'files': {}, 'form': {'title': 'Learn Python Programming'}, 'headers': {'Accept': '*/*', 'Accept-Encoding': 'gzip, deflate, br', 'Content-Length': '30', 'Content-Type': 'application/x-www-form-urlencoded', 'Host': 'httpbin.org', 'User-Agent': 'python-requests/2.26.0', 'X-Amzn-Trace-Id': 'Root=1-62b21e28-5d291fd732c6131420e2cab3'}, 'json': None, 'origin': '95.174.99.211', 'url': 'https://httpbin.org/post'}\n"
     ]
    }
   ],
   "source": [
    "url = 'https://httpbin.org/post'\n",
    "data = dict(title='Learn Python Programming')\n",
    "resp = requests.post(url, data=data)\n",
    "print('Responce for POST')\n",
    "print(resp.json())"
   ]
  },
  {
   "cell_type": "code",
   "execution_count": 74,
   "metadata": {},
   "outputs": [
    {
     "name": "stdout",
     "output_type": "stream",
     "text": [
      "Hi, I am Obi-Wan Kenobi and my ID is 123\n",
      "Hi, I am Anakin Skywalker and my ID is 456\n"
     ]
    }
   ],
   "source": [
    "import pickle\n",
    "from dataclasses import dataclass\n",
    "\n",
    "@dataclass\n",
    "class Person:\n",
    "    first_name: str\n",
    "    last_name: str\n",
    "    id: int\n",
    "    def greet(self):\n",
    "        print(f'Hi, I am {self.first_name} {self.last_name}' f' and my ID is {self.id}')\n",
    "\n",
    "people = [\n",
    "    Person('Obi-Wan', 'Kenobi', 123),\n",
    "    Person('Anakin', 'Skywalker', 456),\n",
    "]\n",
    "\n",
    "# save data in binary format to a file\n",
    "with open('data.pickle', 'wb') as stream:\n",
    "    pickle.dump(people, stream)\n",
    "# load data from a file\n",
    "with open('data.pickle', 'rb') as stream:\n",
    "    peeps = pickle.load(stream)\n",
    "for person in peeps:\n",
    "    person.greet()"
   ]
  },
  {
   "cell_type": "markdown",
   "metadata": {},
   "source": [
    "## Working with DB"
   ]
  },
  {
   "cell_type": "code",
   "execution_count": 75,
   "metadata": {},
   "outputs": [
    {
     "name": "stdout",
     "output_type": "stream",
     "text": [
      "Requirement already satisfied: sqlalchemy in /Users/April/opt/anaconda3/lib/python3.9/site-packages (1.4.22)\n",
      "Requirement already satisfied: greenlet!=0.4.17 in /Users/April/opt/anaconda3/lib/python3.9/site-packages (from sqlalchemy) (1.1.1)\n"
     ]
    }
   ],
   "source": [
    "!pip install sqlalchemy"
   ]
  },
  {
   "cell_type": "code",
   "execution_count": 78,
   "metadata": {},
   "outputs": [],
   "source": [
    "# import some functions and types\n",
    "\n",
    "from sqlalchemy.ext.declarative import declarative_base\n",
    "from sqlalchemy import (\n",
    "    Column, Integer, String, ForeignKey, create_engine)\n",
    "from sqlalchemy.orm import relationship"
   ]
  },
  {
   "cell_type": "code",
   "execution_count": 79,
   "metadata": {},
   "outputs": [],
   "source": [
    "# create an engine\n",
    "\n",
    "engine = create_engine('sqlite:///:memory:')\n",
    "Base = declarative_base()\n",
    "\n",
    "# each model then inherits from the Base table\n",
    "class Person(Base):\n",
    "    __tablename__ = 'person'\n",
    "    id = Column(Integer, primary_key=True)\n",
    "    name = Column(String)\n",
    "    age = Column(Integer)\n",
    "    addresses = relationship(\n",
    "        'Address',\n",
    "        back_populates='person',\n",
    "        order_by='Address.email',\n",
    "        cascade='all, delete-orphan'\n",
    "    )\n",
    "    def __repr__(self):\n",
    "        return f'{self.name}(id={self.id})'\n",
    "\n",
    "class Address(Base):\n",
    "    __tablename__ = 'address'\n",
    "    id = Column(Integer, primary_key=True)\n",
    "    email = Column(String)\n",
    "    person_id = Column(ForeignKey('person.id'))\n",
    "    person = relationship('Person', back_populates='addresses')\n",
    "    def __str__(self):\n",
    "        return self.email\n",
    "    __repr__ = __str__\n",
    "\n",
    "# tell the engine to create tables in the database according to models\n",
    "Base.metadata.create_all(engine)"
   ]
  },
  {
   "cell_type": "code",
   "execution_count": 86,
   "metadata": {},
   "outputs": [],
   "source": [
    "# now that we have our models, let's use them to persist some data\n",
    "# create session, which is the object we use to manage the database\n",
    "\n",
    "from sqlalchemy.orm import sessionmaker\n",
    "\n",
    "Session = sessionmaker(bind=engine)\n",
    "session = Session()"
   ]
  },
  {
   "cell_type": "code",
   "execution_count": 87,
   "metadata": {},
   "outputs": [],
   "source": [
    "# create two people\n",
    "\n",
    "anakin = Person(name='Anakin Skywalker', age=32)\n",
    "obi1 = Person(name='Obi-Wan Kenobi', age=40)"
   ]
  },
  {
   "cell_type": "code",
   "execution_count": 88,
   "metadata": {},
   "outputs": [],
   "source": [
    "# add email addresses to both of them, using two different techniques\n",
    "\n",
    "obi1.addresses = [\n",
    "    Address(email='obi1@example.com'),\n",
    "    Address(email='wanwan@example.com'),\n",
    "]\n",
    "anakin.addresses.append(Address(email='ani@example.com'))\n",
    "anakin.addresses.append(Address(email='evil.dart@example.com'))\n",
    "anakin.addresses.append(Address(email='vader@example.com'))"
   ]
  },
  {
   "cell_type": "code",
   "execution_count": 89,
   "metadata": {},
   "outputs": [],
   "source": [
    "# commit changes to DB\n",
    "# adding the two Person instances is enough to also add their addresses (this is thanks to\n",
    "# the cascading effect).\n",
    "\n",
    "session.add(anakin)\n",
    "session.add(obi1)\n",
    "session.commit()"
   ]
  },
  {
   "cell_type": "code",
   "execution_count": 90,
   "metadata": {},
   "outputs": [
    {
     "name": "stdout",
     "output_type": "stream",
     "text": [
      "Obi-Wan Kenobi(id=2) [obi1@example.com, wanwan@example.com]\n"
     ]
    }
   ],
   "source": [
    "# query for all the people whose name starts with Obi by using like() ,\n",
    "# which hooks to the LIKE operator in SQL\n",
    "\n",
    "obi1 = session.query(Person).filter(\n",
    "    Person.name.like('Obi%')\n",
    ").first()\n",
    "print(obi1, obi1.addresses)"
   ]
  },
  {
   "cell_type": "code",
   "execution_count": 91,
   "metadata": {},
   "outputs": [
    {
     "name": "stdout",
     "output_type": "stream",
     "text": [
      "Anakin Skywalker(id=1) [ani@example.com, evil.dart@example.com, vader@example.com]\n"
     ]
    }
   ],
   "source": [
    "# fetch anakin by using an exact match on his name\n",
    "\n",
    "anakin = session.query(Person).filter(\n",
    "    Person.name=='Anakin Skywalker'\n",
    ").first()\n",
    "print(anakin, anakin.addresses)"
   ]
  },
  {
   "cell_type": "code",
   "execution_count": 92,
   "metadata": {},
   "outputs": [],
   "source": [
    "# capture Anakin's ID, and delete the anakin object from the global frame (this\n",
    "# does not delete the entry from the database)\n",
    "\n",
    "anakin_id = anakin.id\n",
    "del anakin"
   ]
  },
  {
   "cell_type": "code",
   "execution_count": 93,
   "metadata": {},
   "outputs": [],
   "source": [
    "# prepare a function to display the full content of the database\n",
    "\n",
    "def display_info():\n",
    "    # get all addresses first\n",
    "    addresses = session.query(Address).all()\n",
    "    # display results\n",
    "    for address in addresses:\n",
    "        print(f'{address.person.name} <{address.email}>')\n",
    "    # display how many objects we have in total\n",
    "    print('people: {}, addresses: {}'.format(\n",
    "        session.query(Person).count(),\n",
    "        session.query(Address).count())\n",
    ")"
   ]
  },
  {
   "cell_type": "code",
   "execution_count": 94,
   "metadata": {},
   "outputs": [
    {
     "name": "stdout",
     "output_type": "stream",
     "text": [
      "Anakin Skywalker <ani@example.com>\n",
      "Anakin Skywalker <evil.dart@example.com>\n",
      "Anakin Skywalker <vader@example.com>\n",
      "Obi-Wan Kenobi <obi1@example.com>\n",
      "Obi-Wan Kenobi <wanwan@example.com>\n",
      "people: 2, addresses: 5\n",
      "Obi-Wan Kenobi <obi1@example.com>\n",
      "Obi-Wan Kenobi <wanwan@example.com>\n",
      "people: 1, addresses: 2\n"
     ]
    }
   ],
   "source": [
    "# display the full content of the database\n",
    "display_info()\n",
    "\n",
    "# fetch and delete anakin\n",
    "anakin = session.query(Person).get(anakin_id)\n",
    "session.delete(anakin)\n",
    "session.commit()\n",
    "\n",
    "# display the info again, to verify that he has actually disappeared from the DB\n",
    "display_info()"
   ]
  },
  {
   "cell_type": "markdown",
   "metadata": {},
   "source": [
    "## Cryptography and Tokens"
   ]
  },
  {
   "cell_type": "code",
   "execution_count": 95,
   "metadata": {},
   "outputs": [
    {
     "data": {
      "text/plain": [
       "{'blake2b',\n",
       " 'blake2s',\n",
       " 'md4',\n",
       " 'md5',\n",
       " 'md5-sha1',\n",
       " 'mdc2',\n",
       " 'ripemd160',\n",
       " 'sha1',\n",
       " 'sha224',\n",
       " 'sha256',\n",
       " 'sha384',\n",
       " 'sha3_224',\n",
       " 'sha3_256',\n",
       " 'sha3_384',\n",
       " 'sha3_512',\n",
       " 'sha512',\n",
       " 'sha512_224',\n",
       " 'sha512_256',\n",
       " 'shake_128',\n",
       " 'shake_256',\n",
       " 'sm3',\n",
       " 'whirlpool'}"
      ]
     },
     "execution_count": 95,
     "metadata": {},
     "output_type": "execute_result"
    }
   ],
   "source": [
    "import hashlib\n",
    "\n",
    "hashlib.algorithms_available"
   ]
  },
  {
   "cell_type": "code",
   "execution_count": 96,
   "metadata": {},
   "outputs": [
    {
     "data": {
      "text/plain": [
       "{'blake2b',\n",
       " 'blake2s',\n",
       " 'md5',\n",
       " 'sha1',\n",
       " 'sha224',\n",
       " 'sha256',\n",
       " 'sha384',\n",
       " 'sha3_224',\n",
       " 'sha3_256',\n",
       " 'sha3_384',\n",
       " 'sha3_512',\n",
       " 'sha512',\n",
       " 'shake_128',\n",
       " 'shake_256'}"
      ]
     },
     "execution_count": 96,
     "metadata": {},
     "output_type": "execute_result"
    }
   ],
   "source": [
    "hashlib.algorithms_guaranteed # that means every platform actually supports them"
   ]
  },
  {
   "cell_type": "code",
   "execution_count": 97,
   "metadata": {},
   "outputs": [
    {
     "data": {
      "text/plain": [
       "'56441b566db9aafcf8cdad3a4729fa4b2bfaab0ada36155ece29f52ff70e1e9d7f54cacfe44bc97c7e904cf79944357d023877929430bc58eb2dae168e73cedf'"
      ]
     },
     "execution_count": 97,
     "metadata": {},
     "output_type": "execute_result"
    }
   ],
   "source": [
    "h = hashlib.blake2b()\n",
    "h.update(b'Hash me')\n",
    "# sometimes we need to hash data that is not available all at once\n",
    "# so we can do it in steps\n",
    "h.update(b' now!')\n",
    "h.hexdigest()"
   ]
  },
  {
   "cell_type": "code",
   "execution_count": 98,
   "metadata": {},
   "outputs": [
    {
     "data": {
      "text/plain": [
       "b'VD\\x1bVm\\xb9\\xaa\\xfc\\xf8\\xcd\\xad:G)\\xfaK+\\xfa\\xab\\n\\xda6\\x15^\\xce)\\xf5/\\xf7\\x0e\\x1e\\x9d\\x7fT\\xca\\xcf\\xe4K\\xc9|~\\x90L\\xf7\\x99D5}\\x028w\\x92\\x940\\xbcX\\xeb-\\xae\\x16\\x8es\\xce\\xdf'"
      ]
     },
     "execution_count": 98,
     "metadata": {},
     "output_type": "execute_result"
    }
   ],
   "source": [
    "h.digest()"
   ]
  },
  {
   "cell_type": "code",
   "execution_count": 100,
   "metadata": {},
   "outputs": [
    {
     "data": {
      "text/plain": [
       "128"
      ]
     },
     "execution_count": 100,
     "metadata": {},
     "output_type": "execute_result"
    }
   ],
   "source": [
    "h.block_size"
   ]
  },
  {
   "cell_type": "code",
   "execution_count": 101,
   "metadata": {},
   "outputs": [
    {
     "data": {
      "text/plain": [
       "64"
      ]
     },
     "execution_count": 101,
     "metadata": {},
     "output_type": "execute_result"
    }
   ],
   "source": [
    "h.digest_size"
   ]
  },
  {
   "cell_type": "code",
   "execution_count": 102,
   "metadata": {},
   "outputs": [
    {
     "data": {
      "text/plain": [
       "'blake2b'"
      ]
     },
     "execution_count": 102,
     "metadata": {},
     "output_type": "execute_result"
    }
   ],
   "source": [
    "h.name"
   ]
  },
  {
   "cell_type": "code",
   "execution_count": 103,
   "metadata": {},
   "outputs": [
    {
     "data": {
      "text/plain": [
       "'10d561fa94a89a25ea0c7aa47708bdb353bbb062a17820292cd905a3a60d6783'"
      ]
     },
     "execution_count": 103,
     "metadata": {},
     "output_type": "execute_result"
    }
   ],
   "source": [
    "hashlib.sha256(b'Hash me now!').hexdigest()"
   ]
  },
  {
   "cell_type": "code",
   "execution_count": 104,
   "metadata": {},
   "outputs": [
    {
     "data": {
      "text/plain": [
       "'fe19752c33ed40af10247c7d0bfa13317d1a2594799cd823b1d3f41c1ff4a9ab'"
      ]
     },
     "execution_count": 104,
     "metadata": {},
     "output_type": "execute_result"
    }
   ],
   "source": [
    "import os\n",
    "\n",
    "dk = hashlib.pbkdf2_hmac('sha256', b'Password123', salt=os.urandom(16), iterations=100000)\n",
    "dk.hex()"
   ]
  },
  {
   "cell_type": "code",
   "execution_count": 154,
   "metadata": {},
   "outputs": [],
   "source": [
    "# how we can write our own random password generator\n",
    "\n",
    "import secrets\n",
    "from string import digits, ascii_letters"
   ]
  },
  {
   "cell_type": "code",
   "execution_count": 160,
   "metadata": {},
   "outputs": [],
   "source": [
    "def generate_pwd(length=8):\n",
    "    chars = digits + ascii_letters\n",
    "    return ''.join(secrets.choice(chars) for c in range(length))"
   ]
  },
  {
   "cell_type": "code",
   "execution_count": 161,
   "metadata": {},
   "outputs": [],
   "source": [
    "def generate_secure_pwd(length=16, upper=3, digit=3):\n",
    "# to avoid getting stuck in an infinite loop, we raise a ValueError if the requirements cannot be satisfied\n",
    "    if length < upper + digit + 1:\n",
    "        raise ValueError('Nice try!')\n",
    "    while True:\n",
    "        pwd = generate_pwd(length)\n",
    "        if (any(c.islower() for c in pwd)\n",
    "        and sum(c.isupper() for c in pwd) >= upper\n",
    "        and sum(c.isdigit() for c in pwd) >= digit):\n",
    "            return pwd"
   ]
  },
  {
   "cell_type": "code",
   "execution_count": 162,
   "metadata": {},
   "outputs": [
    {
     "name": "stdout",
     "output_type": "stream",
     "text": [
      "3YR55qFm9IHGM0dj\n",
      "y3H\n"
     ]
    }
   ],
   "source": [
    "print(generate_secure_pwd())\n",
    "print(generate_secure_pwd(length=3, upper=1, digit=1))"
   ]
  },
  {
   "cell_type": "code",
   "execution_count": 164,
   "metadata": {},
   "outputs": [
    {
     "data": {
      "text/plain": [
       "'0123456789abcdefghijklmnopqrstuvwxyzABCDEFGHIJKLMNOPQRSTUVWXYZ'"
      ]
     },
     "execution_count": 164,
     "metadata": {},
     "output_type": "execute_result"
    }
   ],
   "source": [
    "digits + ascii_letters"
   ]
  },
  {
   "cell_type": "code",
   "execution_count": 165,
   "metadata": {},
   "outputs": [],
   "source": [
    "# one common use of random tokens is in password reset URLs for websites\n",
    "def get_reset_pwd_url(token_length=16):\n",
    "    token = secrets.token_urlsafe(token_length)\n",
    "    return f'https://example.com/reset-pwd/{token}'"
   ]
  },
  {
   "cell_type": "code",
   "execution_count": 166,
   "metadata": {},
   "outputs": [
    {
     "name": "stdout",
     "output_type": "stream",
     "text": [
      "https://example.com/reset-pwd/D5O3hPqe2Q0nmW1REXOfTQ\n"
     ]
    }
   ],
   "source": [
    "print(get_reset_pwd_url())"
   ]
  },
  {
   "cell_type": "markdown",
   "metadata": {},
   "source": [
    "### JSON Web Tokens (JWT)\n",
    "\n",
    "JWTs are frequently used as authentication tokens to assert the identity and permissions of an authentificated user.\n",
    "\n",
    "This type of token is comprised of three sections, separated by a dot, in the format A.B.C:\n",
    "- B is the payload, which is where we put the claims\n",
    "- C is the signature, which is used to verify the validity of the token\n",
    "- A is a header, which identifies the token as a JWT, and indicates the algorithm used to compute the signature. \n",
    "\n",
    "A, B, and C are all encoded with a URL-safe Base64 encoding (which we'll refer to as Base64URL). The Base64URL encoding makes it possible to use JWTs as part of URLs (typically as query parameters); however, JWTs do also appear in many other places, including HTTP headers."
   ]
  },
  {
   "cell_type": "code",
   "execution_count": 216,
   "metadata": {},
   "outputs": [],
   "source": [
    "import jwt\n",
    "\n",
    "algs = ['HS256', 'HS512']\n",
    "data = {'payload': 'data', 'id': 123456789}"
   ]
  },
  {
   "cell_type": "code",
   "execution_count": 221,
   "metadata": {},
   "outputs": [],
   "source": [
    "def make_token(secret_key, data=data, algs=algs):\n",
    "    token = jwt.encode(data, secret_key)\n",
    "    data_out = jwt.decode(token, secret_key, algorithms=algs)\n",
    "    return (token, data_out)"
   ]
  },
  {
   "cell_type": "code",
   "execution_count": 222,
   "metadata": {},
   "outputs": [],
   "source": [
    "key1 = 'tatiana-dudal'\n",
    "token1, data_out1 = make_token(key1)"
   ]
  },
  {
   "cell_type": "code",
   "execution_count": 223,
   "metadata": {},
   "outputs": [],
   "source": [
    "key2 = 'secret-key'\n",
    "token2, data_out2 = make_token(key2)"
   ]
  },
  {
   "cell_type": "code",
   "execution_count": 224,
   "metadata": {},
   "outputs": [],
   "source": [
    "parts = ['A', 'B', 'C']"
   ]
  },
  {
   "cell_type": "code",
   "execution_count": 225,
   "metadata": {},
   "outputs": [],
   "source": [
    "token1 = dict(zip(parts, token1.split('.')))\n",
    "token2 = dict(zip(parts, token2.split('.')))"
   ]
  },
  {
   "cell_type": "code",
   "execution_count": 226,
   "metadata": {},
   "outputs": [
    {
     "name": "stdout",
     "output_type": "stream",
     "text": [
      "{'A': 'eyJ0eXAiOiJKV1QiLCJhbGciOiJIUzI1NiJ9', 'B': 'eyJwYXlsb2FkIjoiZGF0YSIsImlkIjoxMjM0NTY3ODl9', 'C': 'A_f9XZlPAn00mnnXpzRB4_SRzT0j_WV8lpBC6MFbqXo'}\n",
      "{'A': 'eyJ0eXAiOiJKV1QiLCJhbGciOiJIUzI1NiJ9', 'B': 'eyJwYXlsb2FkIjoiZGF0YSIsImlkIjoxMjM0NTY3ODl9', 'C': 'WFRY-uoACMoNYX97PXXjEfXFQO1rCyFCyiwxzOVMn40'}\n"
     ]
    }
   ],
   "source": [
    "print(token1)\n",
    "print(token2)"
   ]
  },
  {
   "cell_type": "code",
   "execution_count": 235,
   "metadata": {},
   "outputs": [
    {
     "name": "stdout",
     "output_type": "stream",
     "text": [
      "C part is not equal \n",
      "\n",
      "        token1 value: A_f9XZlPAn00mnnXpzRB4_SRzT0j_WV8lpBC6MFbqXo \n",
      "\n",
      "        token2 value: WFRY-uoACMoNYX97PXXjEfXFQO1rCyFCyiwxzOVMn40\n"
     ]
    }
   ],
   "source": [
    "for key, value in token1.items():\n",
    "    if value != token2[key]:\n",
    "        print(f'''{key} part is not equal \\n\n",
    "        token1 value: {value} \\n\n",
    "        token2 value: {token2[key]}''')"
   ]
  },
  {
   "cell_type": "code",
   "execution_count": 241,
   "metadata": {},
   "outputs": [
    {
     "name": "stdout",
     "output_type": "stream",
     "text": [
      "{'payload': 'data', 'id': 123456789} {'payload': 'data', 'id': 123456789}\n"
     ]
    }
   ],
   "source": [
    "print(data_out1, data_out2)"
   ]
  },
  {
   "cell_type": "markdown",
   "metadata": {},
   "source": [
    "## Testing"
   ]
  },
  {
   "cell_type": "code",
   "execution_count": 242,
   "metadata": {},
   "outputs": [
    {
     "name": "stdout",
     "output_type": "stream",
     "text": [
      "Collecting marshmallow\n",
      "  Downloading marshmallow-3.17.0-py3-none-any.whl (48 kB)\n",
      "\u001b[K     |████████████████████████████████| 48 kB 721 kB/s eta 0:00:01\n",
      "\u001b[?25hRequirement already satisfied: packaging>=17.0 in /Users/April/opt/anaconda3/lib/python3.9/site-packages (from marshmallow) (21.0)\n",
      "Requirement already satisfied: pyparsing>=2.0.2 in /Users/April/opt/anaconda3/lib/python3.9/site-packages (from packaging>=17.0->marshmallow) (3.0.4)\n",
      "Installing collected packages: marshmallow\n",
      "Successfully installed marshmallow-3.17.0\n"
     ]
    }
   ],
   "source": [
    "!pip install marshmallow"
   ]
  },
  {
   "cell_type": "code",
   "execution_count": 244,
   "metadata": {},
   "outputs": [],
   "source": [
    "import os\n",
    "import csv\n",
    "from copy import deepcopy\n",
    "from marshmallow import Schema, fields, pre_load\n",
    "from marshmallow.validate import Length, Range"
   ]
  },
  {
   "cell_type": "code",
   "execution_count": 246,
   "metadata": {},
   "outputs": [],
   "source": [
    "class UserSchema(Schema):\n",
    "    '''Represent a valid user.'''\n",
    "    email = fields.Email(requared=True)\n",
    "    name = fields.Str(required=True, validate=Length(min=1))\n",
    "    age = fields.Int(required=True, validate=Range(min=18, max=65))\n",
    "    role = fields.String()\n",
    "    \n",
    "    @pre_load()\n",
    "    def strip_name(self, data, **kwargs):\n",
    "        data_copy = deepcopy(data)\n",
    "        try:\n",
    "            data_copy['name'] = data_copy['name'].strip()\n",
    "        except (AttributeError, KeyError, TypeError):\n",
    "            pass\n",
    "        return data_copy\n",
    "    \n",
    "schema = UserSchema()"
   ]
  },
  {
   "cell_type": "code",
   "execution_count": 247,
   "metadata": {},
   "outputs": [],
   "source": [
    "def export(filename, users, overwrite=True):\n",
    "    '''Export a CSV file. \n",
    "       Create a CSV file and fill with valid users. \n",
    "       If 'overwrite' is False and file already exists, raise IOError.'''\n",
    "    if not overwrite and os.path.isfile(filname):\n",
    "        raise IOError(f'\"{filename}\" already exists')\n",
    "    valid_users = get_valid_users(users)\n",
    "    write_csv(filename, valid_users)"
   ]
  },
  {
   "cell_type": "code",
   "execution_count": 248,
   "metadata": {},
   "outputs": [],
   "source": [
    "def get_valid_users(users):\n",
    "    '''Yield one valid user at a time from users.'''\n",
    "    yield from filter(is_valid, users)\n",
    "\n",
    "def is_valid(user):\n",
    "    '''Return whether or not the user is valid.'''\n",
    "    return not schema.validate(user)"
   ]
  },
  {
   "cell_type": "code",
   "execution_count": 249,
   "metadata": {},
   "outputs": [],
   "source": [
    "def write_csv(filename, users):\n",
    "    '''Write a CSV given a filename and a list of users.\n",
    "       The users are assumed to be valid for the given CSV structure.'''\n",
    "    fieldnames = ['email', 'name', 'age', 'role']\n",
    "    with open(filename, 'w', newline='') as csvfile:\n",
    "        writer = csv.DictWriter(csvfile, fieldnames=fielnames)\n",
    "        writer.writeheader()\n",
    "        for user in users:\n",
    "            writer.writerow(user)"
   ]
  },
  {
   "cell_type": "code",
   "execution_count": 252,
   "metadata": {},
   "outputs": [],
   "source": [
    "# testing our export() function\n",
    "\n",
    "import re\n",
    "from unittest.mock import patch, mock_open, call\n",
    "import pytest"
   ]
  },
  {
   "cell_type": "code",
   "execution_count": 253,
   "metadata": {},
   "outputs": [],
   "source": [
    "@pytest.fixture\n",
    "def min_user():\n",
    "    \"\"\"Represents a valid user with minimal data. \"\"\"\n",
    "    return {\n",
    "        'email': 'minimal@example.com',\n",
    "        'name': 'Primus Minimus',\n",
    "        'age': 18,\n",
    "    }\n",
    "\n",
    "@pytest.fixture\n",
    "def full_user():\n",
    "    \"\"\"Represents a valid user with full data. \"\"\"\n",
    "    return {\n",
    "        'email': 'full@example.com',\n",
    "        'name': 'Maximus Plenus',\n",
    "        'age': 65,\n",
    "        'role': 'emperor',\n",
    "    }"
   ]
  },
  {
   "cell_type": "markdown",
   "metadata": {},
   "source": [
    "## Debugging and Profiling"
   ]
  },
  {
   "cell_type": "code",
   "execution_count": 1,
   "metadata": {},
   "outputs": [],
   "source": [
    "import logging"
   ]
  },
  {
   "cell_type": "code",
   "execution_count": 2,
   "metadata": {},
   "outputs": [],
   "source": [
    "logging.basicConfig(\n",
    "    filename='ch11.log',\n",
    "    level=logging.DEBUG,\n",
    "    format='[%(asctime)s] %(levelname)s: %(message)s',\n",
    "    datefmt='%m/%d/%Y %I:%M%:S% %p')"
   ]
  },
  {
   "cell_type": "code",
   "execution_count": 10,
   "metadata": {},
   "outputs": [],
   "source": [
    "mylist = [1, 2, 3]\n",
    "logging.info('Starting to process...')\n",
    "for position in range(4):\n",
    "    try:\n",
    "        logging.debug('Value at position %s is %s', position, mylist[position])\n",
    "    except IndexError:\n",
    "        logging.exception('Faulty position: %s', position)\n",
    "logging.info('Done processing.')"
   ]
  },
  {
   "cell_type": "code",
   "execution_count": 4,
   "metadata": {},
   "outputs": [],
   "source": [
    "def calc_triples(mx):\n",
    "    triples = []\n",
    "    for a in range(1, mx + 1):\n",
    "        for b in range(a, mx + 1):\n",
    "            hypotenuse = calc_hypotenuse(a, b)\n",
    "            if is_int(hypotenuse):\n",
    "                triples.append((a, b, int(hypotenuse)))\n",
    "    return triples\n",
    "\n",
    "def calc_hypotenuse(a, b):\n",
    "    return (a**2 + b**2) ** .5\n",
    "\n",
    "def is_int(n): # n is expected to be a float\n",
    "    return n.is_integer()\n",
    "\n",
    "triples = calc_triples(1000)"
   ]
  },
  {
   "cell_type": "code",
   "execution_count": 8,
   "metadata": {},
   "outputs": [
    {
     "name": "stdout",
     "output_type": "stream",
     "text": [
      "         1502538 function calls in 0.523 seconds\n",
      "\n",
      "   Ordered by: standard name\n",
      "\n",
      "   ncalls  tottime  percall  cumtime  percall filename:lineno(function)\n",
      "        1    0.111    0.111    0.523    0.523 2605254869.py:1(calc_triples)\n",
      "   500500    0.315    0.000    0.315    0.000 2605254869.py:10(calc_hypotenuse)\n",
      "   500500    0.064    0.000    0.096    0.000 2605254869.py:13(is_int)\n",
      "        1    0.000    0.000    0.523    0.523 <string>:1(<module>)\n",
      "        1    0.000    0.000    0.523    0.523 {built-in method builtins.exec}\n",
      "     1034    0.000    0.000    0.000    0.000 {method 'append' of 'list' objects}\n",
      "        1    0.000    0.000    0.000    0.000 {method 'disable' of '_lsprof.Profiler' objects}\n",
      "   500500    0.033    0.000    0.033    0.000 {method 'is_integer' of 'float' objects}\n",
      "\n",
      "\n"
     ]
    }
   ],
   "source": [
    "import cProfile\n",
    "cProfile.run('calc_triples(1000)')"
   ]
  },
  {
   "cell_type": "code",
   "execution_count": 9,
   "metadata": {},
   "outputs": [],
   "source": [
    "# ** operator is quite expensive, lets replace it with *\n",
    "def calc_hypotenuse(a, b):\n",
    "    return (a * a + b * b) ** .5"
   ]
  },
  {
   "cell_type": "code",
   "execution_count": 10,
   "metadata": {},
   "outputs": [
    {
     "name": "stdout",
     "output_type": "stream",
     "text": [
      "         1502538 function calls in 0.326 seconds\n",
      "\n",
      "   Ordered by: standard name\n",
      "\n",
      "   ncalls  tottime  percall  cumtime  percall filename:lineno(function)\n",
      "        1    0.118    0.118    0.326    0.326 2605254869.py:1(calc_triples)\n",
      "   500500    0.068    0.000    0.103    0.000 2605254869.py:13(is_int)\n",
      "   500500    0.104    0.000    0.104    0.000 66820088.py:1(calc_hypotenuse)\n",
      "        1    0.000    0.000    0.326    0.326 <string>:1(<module>)\n",
      "        1    0.000    0.000    0.326    0.326 {built-in method builtins.exec}\n",
      "     1034    0.000    0.000    0.000    0.000 {method 'append' of 'list' objects}\n",
      "        1    0.000    0.000    0.000    0.000 {method 'disable' of '_lsprof.Profiler' objects}\n",
      "   500500    0.035    0.000    0.035    0.000 {method 'is_integer' of 'float' objects}\n",
      "\n",
      "\n"
     ]
    }
   ],
   "source": [
    "# the overall time of execution decreased according to decreasing of\n",
    "# calc_hypotenuse time execution\n",
    "cProfile.run('calc_triples(1000)')"
   ]
  },
  {
   "cell_type": "code",
   "execution_count": 11,
   "metadata": {},
   "outputs": [],
   "source": [
    "# lets improve is_int()\n",
    "def is_int(n):\n",
    "    return n == int(n)"
   ]
  },
  {
   "cell_type": "code",
   "execution_count": 12,
   "metadata": {},
   "outputs": [
    {
     "name": "stdout",
     "output_type": "stream",
     "text": [
      "         1002038 function calls in 0.287 seconds\n",
      "\n",
      "   Ordered by: standard name\n",
      "\n",
      "   ncalls  tottime  percall  cumtime  percall filename:lineno(function)\n",
      "        1    0.116    0.116    0.286    0.286 2605254869.py:1(calc_triples)\n",
      "   500500    0.065    0.000    0.065    0.000 4043302406.py:2(is_int)\n",
      "   500500    0.105    0.000    0.105    0.000 66820088.py:1(calc_hypotenuse)\n",
      "        1    0.000    0.000    0.286    0.286 <string>:1(<module>)\n",
      "        1    0.000    0.000    0.287    0.287 {built-in method builtins.exec}\n",
      "     1034    0.000    0.000    0.000    0.000 {method 'append' of 'list' objects}\n",
      "        1    0.000    0.000    0.000    0.000 {method 'disable' of '_lsprof.Profiler' objects}\n",
      "\n",
      "\n"
     ]
    }
   ],
   "source": [
    "cProfile.run('calc_triples(1000)')"
   ]
  },
  {
   "cell_type": "markdown",
   "metadata": {},
   "source": [
    "## GUIs and Scripting"
   ]
  },
  {
   "cell_type": "code",
   "execution_count": 1,
   "metadata": {},
   "outputs": [],
   "source": [
    "import argparse\n",
    "import base64\n",
    "import json\n",
    "import os\n",
    "from pathlib import Path\n",
    "\n",
    "from bs4 import BeautifulSoup\n",
    "import requests"
   ]
  },
  {
   "cell_type": "code",
   "execution_count": 3,
   "metadata": {},
   "outputs": [],
   "source": [
    "def scrape(url, type_, format_):\n",
    "    try:\n",
    "        page = requests.get(url)\n",
    "    except requests.RequestException as err:\n",
    "        print(str(err))\n",
    "    else:\n",
    "        soup = BeautifulSoup(page.content, 'html.parser')\n",
    "        images = fetch_images(soup, url)\n",
    "        images = filter_images(images, type_)\n",
    "        save(images, format_)"
   ]
  },
  {
   "cell_type": "code",
   "execution_count": 2,
   "metadata": {},
   "outputs": [],
   "source": [
    "def fetch_images(soup, base_url):\n",
    "    images = []\n",
    "    for img in soup.findAll('img'):\n",
    "        src = img.get('src')\n",
    "        img_url = f'{base_url}/{src}'\n",
    "        name = img_url.split('/')[-1]\n",
    "        images.append(dict(name=name, url=img_url))\n",
    "    return images"
   ]
  },
  {
   "cell_type": "code",
   "execution_count": 5,
   "metadata": {},
   "outputs": [],
   "source": [
    "def filter_images(images, type_):\n",
    "    if type_ == 'all':\n",
    "        return images\n",
    "    ext_map = {\n",
    "        'png': ['.png'],\n",
    "        'jpg': ['.jpg', '.jpeg']\n",
    "    }\n",
    "    print('type:', type_)\n",
    "    print('dict:', ext_map)\n",
    "    for img in images:\n",
    "        print(img['name'])\n",
    "    print(ext_map[type_])\n",
    "    return [\n",
    "        img for img in images\n",
    "        if matches_extension(img['name'], ext_map[type_])\n",
    "    ]\n",
    "\n",
    "def matches_extension(filename, extension_list):\n",
    "    extension = Path(filename.lower()).suffix\n",
    "    return extension in extension_list"
   ]
  },
  {
   "cell_type": "code",
   "execution_count": 6,
   "metadata": {},
   "outputs": [],
   "source": [
    "def save(images, format_):\n",
    "    if images:\n",
    "        if format_ == 'img':\n",
    "            save_images(images)\n",
    "        else:\n",
    "            save_json(images)\n",
    "        print('Done')\n",
    "    else:\n",
    "        print('No images to save')\n",
    "        \n",
    "def save_images(images):\n",
    "    for img in images:\n",
    "        img_data = requests.get(img['url']).content\n",
    "        with open(img['name'], 'wb') as f:\n",
    "            f.write(img_data)\n",
    "            \n",
    "def save_json(images):\n",
    "    data = {}\n",
    "    for img in images:\n",
    "        img_data = requests.get(img['url']).content\n",
    "        b64_img_data = base64.b64encode(img_data)\n",
    "        str_img_data = b64_img_data.decode('utf-8')\n",
    "        data[img['name']] = str_img_data\n",
    "    with open('images.json', 'w') as ijson:\n",
    "        ijson.write(json.dumps(data))"
   ]
  },
  {
   "cell_type": "code",
   "execution_count": 7,
   "metadata": {},
   "outputs": [
    {
     "name": "stdout",
     "output_type": "stream",
     "text": [
      "type: png\n",
      "dict: {'png': ['.png'], 'jpg': ['.jpg', '.jpeg']}\n",
      "owl-alcohol.png\n",
      "owl-book.png\n",
      "owl-books.png\n",
      "owl-ebook.jpg\n",
      "owl-rose.jpeg\n",
      "['.png']\n",
      "Done\n"
     ]
    }
   ],
   "source": [
    "scrape('http://localhost:8000', 'png', 'img')"
   ]
  },
  {
   "attachments": {
    "image.png": {
     "image/png": "[encoded data removed]"
    }
   },
   "cell_type": "markdown",
   "metadata": {},
   "source": [
    "### GUI realisation\n",
    "\n",
    "![image.png](attachment:image.png)"
   ]
  },
  {
   "cell_type": "code",
   "execution_count": 1,
   "metadata": {},
   "outputs": [],
   "source": [
    "# imports for business logic\n",
    "\n",
    "import base64\n",
    "import json\n",
    "import os\n",
    "from pathlib import Path\n",
    "\n",
    "from bs4 import BeautifulSoup\n",
    "import requests"
   ]
  },
  {
   "cell_type": "code",
   "execution_count": 2,
   "metadata": {},
   "outputs": [],
   "source": [
    "#imports for GUI\n",
    "\n",
    "from tkinter import *\n",
    "from tkinter import ttk, filedialog, messagebox"
   ]
  },
  {
   "cell_type": "code",
   "execution_count": 3,
   "metadata": {},
   "outputs": [],
   "source": [
    "# same as in script part\n",
    "\n",
    "def fetch_images(soup, base_url):\n",
    "    images = []\n",
    "    for img in soup.findAll('img'):\n",
    "        src = img.get('src')\n",
    "        img_url = f'{base_url}/{src}'\n",
    "        name = img_url.split('/')[-1]\n",
    "        images.append(dict(name=name, url=img_url))\n",
    "    return images"
   ]
  },
  {
   "cell_type": "code",
   "execution_count": 4,
   "metadata": {},
   "outputs": [],
   "source": [
    "# The business logic\n",
    "\n",
    "config = {}\n",
    "def fetch_url():\n",
    "    url = _url.get()\n",
    "    config['images'] = []\n",
    "    _images.set(()) # initialized as an empty tuple\n",
    "    try:\n",
    "        page = requests.get(url)\n",
    "    except requests.RequestException as err:\n",
    "        sb(str(err))\n",
    "    else:\n",
    "        soup = BeautifulSoup(page.content, 'html.parser')\n",
    "        images = fetch_images(soup, url)\n",
    "        if images:\n",
    "            _images.set(tuple(img['name'] for img in images))\n",
    "            sb('Images found: {}'.format(len(images)))\n",
    "        else:\n",
    "            sb('No images found')\n",
    "        config['images'] = images\n",
    "        \n",
    "def save():\n",
    "    if not config.get('images'):\n",
    "        alert('No images to save')\n",
    "        return\n",
    "    if _save_method.get() == 'img':\n",
    "        dirname = filedialog.askdirectory(mustexist=True)\n",
    "        save_images(dirname)\n",
    "    else:\n",
    "        filename = filedialog.asksaveasfilename(\n",
    "            initialfile='images.json',\n",
    "            filetypes=[('JSON', '.json')])\n",
    "        save_json(filename)\n",
    "        \n",
    "def save_images(dirname):\n",
    "    if dirname and config.get('images'):\n",
    "        for img in config['images']:\n",
    "            img_data = requests.get(img['url']).content\n",
    "            filename = Path(dirname).joinpath(img['name'])\n",
    "            with open(filename, 'wb') as f:\n",
    "                f.write(img_data)\n",
    "        alert('Done')\n",
    "        \n",
    "def save_json(filename):\n",
    "    if filename and config.get('images'):\n",
    "        data = {}\n",
    "        for img in config ['images']:\n",
    "            data = {}\n",
    "            for img in config['images']:\n",
    "                img_data = requests.get(img['url']).content\n",
    "                b64_img_data = base64.b64encode(img_data)\n",
    "                str_img_data = b64_img_data.decode('utf-8')\n",
    "                data[img['name']] = str_img_data\n",
    "            with open(filename, 'w') as ijson:\n",
    "                ijson.write(json.dumps(data))\n",
    "            alert('Done')\n",
    "            \n",
    "def sb(msg):\n",
    "    _status_msg.set(msg)\n",
    "def alert(msg):\n",
    "    messagebox.showinfo(message=msg)"
   ]
  },
  {
   "cell_type": "code",
   "execution_count": 5,
   "metadata": {},
   "outputs": [
    {
     "name": "stderr",
     "output_type": "stream",
     "text": [
      "2022-07-14 09:15:52.616 python[19983:531042] Warning: Expected min height of view: (<NSButton: 0x7f957d199f40>) to be less than or equal to 30 but got a height of 32.000000. This error will be logged once per view in violation.\n",
      "2022-07-14 09:15:55.135 python[19983:531042] Warning: Expected min height of view: (<NSButton: 0x7f958d209220>) to be less than or equal to 30 but got a height of 32.000000. This error will be logged once per view in violation.\n",
      "2022-07-14 09:15:55.216 python[19983:531042] Warning: Expected min height of view: (<NSButton: 0x7f95acfebc90>) to be less than or equal to 30 but got a height of 32.000000. This error will be logged once per view in violation.\n",
      "2022-07-14 09:15:56.669 python[19983:531042] Warning: Expected min height of view: (<NSButton: 0x7f958d2096e0>) to be less than or equal to 30 but got a height of 32.000000. This error will be logged once per view in violation.\n",
      "2022-07-14 09:15:56.738 python[19983:531042] Warning: Expected min height of view: (<NSButton: 0x7f957d1b99e0>) to be less than or equal to 30 but got a height of 32.000000. This error will be logged once per view in violation.\n",
      "2022-07-14 09:15:57.469 python[19983:531042] Warning: Expected min height of view: (<NSButton: 0x7f958d30ccd0>) to be less than or equal to 30 but got a height of 32.000000. This error will be logged once per view in violation.\n",
      "2022-07-14 09:15:57.544 python[19983:531042] Warning: Expected min height of view: (<NSButton: 0x7f956dc1d390>) to be less than or equal to 30 but got a height of 32.000000. This error will be logged once per view in violation.\n",
      "2022-07-14 09:16:01.804 python[19983:531042] Warning: Expected min height of view: (<NSButton: 0x7f958d209bf0>) to be less than or equal to 30 but got a height of 32.000000. This error will be logged once per view in violation.\n",
      "2022-07-14 09:16:01.879 python[19983:531042] Warning: Expected min height of view: (<NSButton: 0x7f956dc1d4b0>) to be less than or equal to 30 but got a height of 32.000000. This error will be logged once per view in violation.\n",
      "2022-07-14 09:16:02.570 python[19983:531042] Warning: Expected min height of view: (<NSButton: 0x7f958d108160>) to be less than or equal to 30 but got a height of 32.000000. This error will be logged once per view in violation.\n",
      "2022-07-14 09:34:52.891 python[19983:531042] Warning: Expected min height of view: (<NSButton: 0x7f956dc19ad0>) to be less than or equal to 30 but got a height of 32.000000. This error will be logged once per view in violation.\n",
      "2022-07-14 09:34:58.573 python[19983:531042] Warning: Expected min height of view: (<NSButton: 0x7f956dc1a790>) to be less than or equal to 30 but got a height of 32.000000. This error will be logged once per view in violation.\n",
      "2022-07-14 09:34:58.637 python[19983:531042] Warning: Expected min height of view: (<NSButton: 0x7f956dc1a020>) to be less than or equal to 30 but got a height of 32.000000. This error will be logged once per view in violation.\n",
      "2022-07-14 09:35:01.382 python[19983:531042] Warning: Expected min height of view: (<NSButton: 0x7f956dc0f120>) to be less than or equal to 30 but got a height of 32.000000. This error will be logged once per view in violation.\n",
      "2022-07-14 09:35:01.443 python[19983:531042] Warning: Expected min height of view: (<NSButton: 0x7f956dc26840>) to be less than or equal to 30 but got a height of 32.000000. This error will be logged once per view in violation.\n",
      "2022-07-14 09:35:02.228 python[19983:531042] Warning: Expected min height of view: (<NSButton: 0x7f956dc24bf0>) to be less than or equal to 30 but got a height of 32.000000. This error will be logged once per view in violation.\n",
      "2022-07-14 09:35:02.290 python[19983:531042] Warning: Expected min height of view: (<NSButton: 0x7f956dc055d0>) to be less than or equal to 30 but got a height of 32.000000. This error will be logged once per view in violation.\n",
      "2022-07-14 09:35:02.982 python[19983:531042] Warning: Expected min height of view: (<NSButton: 0x7f956dc2b720>) to be less than or equal to 30 but got a height of 32.000000. This error will be logged once per view in violation.\n",
      "2022-07-14 09:35:03.050 python[19983:531042] Warning: Expected min height of view: (<NSButton: 0x7f956dc2a170>) to be less than or equal to 30 but got a height of 32.000000. This error will be logged once per view in violation.\n",
      "2022-07-14 09:35:03.758 python[19983:531042] Warning: Expected min height of view: (<NSButton: 0x7f956dc0ad80>) to be less than or equal to 30 but got a height of 32.000000. This error will be logged once per view in violation.\n"
     ]
    }
   ],
   "source": [
    "# The layout logic\n",
    "\n",
    "# In order to lay out frames and widgets, we will use a layout manager called grid, which\n",
    "# simply divides up the space into rows and columns, as in a matrix.\n",
    "# set up the main window, which is an instance of the Tk class\n",
    "_root = Tk()\n",
    "_root.title('Scrape app')\n",
    "\n",
    "# set up the Main Frame, it's a ttk.Frame instance\n",
    "_mainframe = ttk.Frame(_root, padding='5 5 5 5')\n",
    "_mainframe.grid(row=0, column=0, sticky=(E, W, N, S))\n",
    "\n",
    "_url_frame = ttk.LabelFrame(_mainframe, text='URL', padding='5 5 5 5')\n",
    "_url_frame.grid(row=0, column=0, sticky=(E, W, N, S))\n",
    "_url_frame.columnconfigure(0, weight=1)\n",
    "_url_frame.rowconfigure(0, weight=1)\n",
    "\n",
    "# code the layout the URL textbox and the Fetch button\n",
    "_url = StringVar()\n",
    "_url.set('http://localhost:8000')\n",
    "_url_entry = ttk.Entry(_url_frame, width=40, textvariable=_url)\n",
    "_url_entry.grid(row=0, column=0, sticky=(E, W, N, S), padx=5)\n",
    "\n",
    "# fetch button\n",
    "_fetch_btn = ttk.Button(_url_frame, text='Fetch info', command=fetch_url)\n",
    "_fetch_btn.grid(row=0, column=1, sticky=W, padx=5)\n",
    "\n",
    "# set up the img_frame, which will hold the Listbox and the Radio Frame\n",
    "_img_frame = ttk.LabelFrame(_mainframe, text='Content', padding='9 0 0 0')\n",
    "_img_frame.grid(row=1, column=0, sticky=(N, S, E, W))\n",
    "\n",
    "_images = StringVar()\n",
    "_img_listbox = Listbox(_img_frame, listvariable=_images, height=6, width=25)\n",
    "_img_listbox.grid(row=0, column=0, sticky=(E, W), pady=5)\n",
    "\n",
    "_scrollbar = ttk.Scrollbar(_img_frame, orient=VERTICAL, command=_img_listbox.yview)\n",
    "_scrollbar.grid(row=0, column=1, sticky=(S, N), pady=6)\n",
    "_img_listbox.configure(yscrollcommand=_scrollbar.set)\n",
    "\n",
    "_radio_frame = ttk.Frame(_img_frame)\n",
    "_radio_frame.grid(row=0, column=2, sticky=(N, S, W, E))\n",
    "\n",
    "_choice_lbl = ttk.Label(_radio_frame, text=\"Choose how to save images\")\n",
    "_choice_lbl.grid(row=0, column=0, padx=5, pady=5)\n",
    "\n",
    "_save_method = StringVar()\n",
    "_save_method.set('img')\n",
    "_img_only_radio = ttk.Radiobutton(_radio_frame, text='As Images', variable=_save_method, value='img')\n",
    "_img_only_radio.grid(row=1, column=0, padx=5, pady=2, sticky=W)\n",
    "_img_only_radio.configure(state='normal')\n",
    "_json_radio = ttk.Radiobutton(_radio_frame, text='As JSON', variable=_save_method, value='json')\n",
    "_json_radio.grid(row=2, column=0, padx=5, pady=2, sticky=W)\n",
    "\n",
    "_scrape_btn = ttk.Button(_mainframe, text='Scrape!', command=save)\n",
    "_scrape_btn.grid(row=2, column=0, sticky=E, pady=5)\n",
    "\n",
    "_status_frame = ttk.Frame(_root, relief='sunken', padding='2 2 2 2')\n",
    "_status_frame.grid(row=1, column=0, sticky=(E, W, S))\n",
    "_status_msg = StringVar()\n",
    "_status_msg.set('Type a URL to start scraping...')\n",
    "_status = ttk.Label(_status_frame, textvariable=_status_msg, anchor=W)\n",
    "_status.grid(row=0, column=0, sticky=(E, W))\n",
    "\n",
    "_root.mainloop()"
   ]
  },
  {
   "cell_type": "markdown",
   "metadata": {},
   "source": [
    "## Data Science in Brief"
   ]
  },
  {
   "cell_type": "markdown",
   "metadata": {},
   "source": [
    "## Populating fake data\n",
    "First let's generate fake data to work with."
   ]
  },
  {
   "cell_type": "code",
   "execution_count": 2,
   "metadata": {},
   "outputs": [
    {
     "name": "stdout",
     "output_type": "stream",
     "text": [
      "Collecting faker\n",
      "  Downloading Faker-13.15.0-py3-none-any.whl (1.6 MB)\n",
      "\u001b[K     |████████████████████████████████| 1.6 MB 1.5 MB/s eta 0:00:01\n",
      "\u001b[?25hRequirement already satisfied: python-dateutil>=2.4 in /Users/April/opt/anaconda3/lib/python3.9/site-packages (from faker) (2.8.2)\n",
      "Requirement already satisfied: six>=1.5 in /Users/April/opt/anaconda3/lib/python3.9/site-packages (from python-dateutil>=2.4->faker) (1.16.0)\n",
      "Installing collected packages: faker\n",
      "Successfully installed faker-13.15.0\n"
     ]
    }
   ],
   "source": [
    "# faker is a third-party module for generating fake data. \n",
    "# It's very useful in tests, when you prepare your fixtures, to get all sorts of things \n",
    "# such as names, email addresses, phone numbers, and credit card details.\n",
    "!pip install faker"
   ]
  },
  {
   "cell_type": "code",
   "execution_count": 7,
   "metadata": {},
   "outputs": [],
   "source": [
    "import json\n",
    "import random\n",
    "from datetime import date, timedelta\n",
    "import faker"
   ]
  },
  {
   "cell_type": "code",
   "execution_count": 8,
   "metadata": {},
   "outputs": [],
   "source": [
    "# let's prepare data\n",
    "fake = faker.Faker()"
   ]
  },
  {
   "cell_type": "code",
   "execution_count": 9,
   "metadata": {},
   "outputs": [],
   "source": [
    "# we want 1,000 unique usernames, so we loop until the usernames set has 1,000 elements. \n",
    "# A set doesn't allow duplicate elements; therefore, uniqueness is guaranteed\n",
    "usernames = set()\n",
    "usernames_no = 1000\n",
    "\n",
    "# populate the set with 1000 unique usernames\n",
    "while len(usernames) < usernames_no:\n",
    "    usernames.add(fake.user_name())"
   ]
  },
  {
   "cell_type": "code",
   "execution_count": 24,
   "metadata": {},
   "outputs": [],
   "source": [
    "def get_random_name_and_gender():\n",
    "    skew = .6 # 60% users will be female\n",
    "    male = random.random() > skew\n",
    "    if male:\n",
    "        return fake.name_male(), 'M'\n",
    "    else:\n",
    "        return fake.name_female(), 'F'"
   ]
  },
  {
   "cell_type": "code",
   "execution_count": 25,
   "metadata": {},
   "outputs": [],
   "source": [
    "def get_users(usernames):\n",
    "    users = []\n",
    "    for username in usernames:\n",
    "        name, gender = get_random_name_and_gender()\n",
    "        user = {\n",
    "            'username': username,\n",
    "            'name': name,\n",
    "            'gender': gender,\n",
    "            'email': fake.email(),\n",
    "            'age': fake.random_int(min=18, max=90),\n",
    "            'address': fake.address(),\n",
    "        }\n",
    "        users.append(json.dumps(user))\n",
    "    return users"
   ]
  },
  {
   "cell_type": "code",
   "execution_count": 26,
   "metadata": {},
   "outputs": [
    {
     "data": {
      "text/plain": [
       "['{\"username\": \"barryjason\", \"name\": \"Jonathan Brewer DDS\", \"gender\": \"M\", \"email\": \"jose23@example.com\", \"age\": 32, \"address\": \"51531 Wanda Haven\\\\nCortezport, HI 12209\"}',\n",
       " '{\"username\": \"dawnnielsen\", \"name\": \"Daniel Ramos\", \"gender\": \"M\", \"email\": \"audreyreed@example.com\", \"age\": 86, \"address\": \"267 Adams Harbor Apt. 269\\\\nWest Robert, ID 25196\"}',\n",
       " '{\"username\": \"jake36\", \"name\": \"Sue Griffin\", \"gender\": \"F\", \"email\": \"ballshelia@example.org\", \"age\": 25, \"address\": \"992 Xavier Circles\\\\nWilsonbury, AR 42268\"}']"
      ]
     },
     "execution_count": 26,
     "metadata": {},
     "output_type": "execute_result"
    }
   ],
   "source": [
    "users = get_users(usernames)\n",
    "users[:3]"
   ]
  },
  {
   "cell_type": "code",
   "execution_count": 49,
   "metadata": {},
   "outputs": [],
   "source": [
    "# generate a campaign name\n",
    "# campaign name format:\n",
    "# InternalType_StartDate_EndDate_TargetAge_TargetGender_Currency\n",
    "\n",
    "def get_type():\n",
    "    types = ['AKH', 'BYI', 'GRZ', 'KTR'] # just some gibberish internal coded\n",
    "    return random.choice(types)\n",
    "\n",
    "def get_start_end_dates():\n",
    "    duration = random.randint(1, 2 * 365)\n",
    "    offset = random.randint(-365, 365)\n",
    "    start = date.today() - timedelta(days=offset)\n",
    "    end = start + timedelta(days=duration)\n",
    "    \n",
    "    def _format_date(date_):\n",
    "        return date_.strftime('%Y%m%d')\n",
    "    return _format_date(start), _format_date(end)\n",
    "\n",
    "def get_age():\n",
    "    age = random.randrange(10, 46, 5)\n",
    "    diff = random.randrange(5, 26, 5)\n",
    "    return '{}-{}'.format(age, age + diff)\n",
    "\n",
    "def get_gender():\n",
    "    return random.choice(('M', 'F', 'B'))\n",
    "\n",
    "def get_currency():\n",
    "    return random.choice(('GBR', 'EUR', 'USD'))\n",
    "\n",
    "def get_campaign_name():\n",
    "    separator = '_'\n",
    "    type_ = get_type()\n",
    "    start, end = get_start_end_dates()\n",
    "    age = get_age()\n",
    "    gender = get_gender()\n",
    "    currency = get_currency()\n",
    "    return separator.join((type_, start, end, age, gender, currency))"
   ]
  },
  {
   "cell_type": "code",
   "execution_count": 51,
   "metadata": {},
   "outputs": [],
   "source": [
    "# campaign data:\n",
    "# name, budget, spent, clicks, impressions\n",
    "\n",
    "def get_campaign_data():\n",
    "    name = get_campaign_name()\n",
    "    \n",
    "    # randint() gives an integer between two extremes, follows a uniform distribution\n",
    "    # which means that any number in the interval has the same probability of coming up\n",
    "    budget = random.randint(10**3,10**6)\n",
    "    spent = random.randint(10**2, budget)\n",
    "    clicks = int(random.triangular(10**2, 10**5, 0.2 * 10**5)) # use different probability distribution\n",
    "    impressions = int(random.gauss(0.5 * 10**6, 2)) # use different probability distribution\n",
    "    return {\n",
    "        'cmp_name': name,\n",
    "        'cmp_bgt': budget,\n",
    "        'cmp_spent': spent,\n",
    "        'cmp_clicks': clicks,\n",
    "        'cmp_impr': impressions\n",
    "    }"
   ]
  },
  {
   "cell_type": "code",
   "execution_count": 56,
   "metadata": {},
   "outputs": [],
   "source": [
    "def get_data(users):\n",
    "    data = []\n",
    "    for user in users:\n",
    "        campaigns = [get_campaign_data()\n",
    "                    for _ in range(random.randint(2, 8))]\n",
    "        data.append({'user': user, 'campaigns': campaigns})\n",
    "    return data"
   ]
  },
  {
   "cell_type": "code",
   "execution_count": 57,
   "metadata": {},
   "outputs": [
    {
     "data": {
      "text/plain": [
       "[{'user': '{\"username\": \"barryjason\", \"name\": \"Jonathan Brewer DDS\", \"gender\": \"M\", \"email\": \"jose23@example.com\", \"age\": 32, \"address\": \"51531 Wanda Haven\\\\nCortezport, HI 12209\"}',\n",
       "  'campaigns': [{'cmp_name': 'BYI_20220409_20240407_20-30_M_USD',\n",
       "    'cmp_bgt': 975361,\n",
       "    'cmp_spent': 446295,\n",
       "    'cmp_clicks': 52632,\n",
       "    'cmp_impr': 500001},\n",
       "   {'cmp_name': 'GRZ_20230708_20240311_10-20_M_GBR',\n",
       "    'cmp_bgt': 793712,\n",
       "    'cmp_spent': 244356,\n",
       "    'cmp_clicks': 17601,\n",
       "    'cmp_impr': 500002}]},\n",
       " {'user': '{\"username\": \"dawnnielsen\", \"name\": \"Daniel Ramos\", \"gender\": \"M\", \"email\": \"audreyreed@example.com\", \"age\": 86, \"address\": \"267 Adams Harbor Apt. 269\\\\nWest Robert, ID 25196\"}',\n",
       "  'campaigns': [{'cmp_name': 'BYI_20230507_20250309_20-25_F_GBR',\n",
       "    'cmp_bgt': 446534,\n",
       "    'cmp_spent': 289979,\n",
       "    'cmp_clicks': 28684,\n",
       "    'cmp_impr': 499999},\n",
       "   {'cmp_name': 'BYI_20220815_20230805_30-50_F_USD',\n",
       "    'cmp_bgt': 317751,\n",
       "    'cmp_spent': 297513,\n",
       "    'cmp_clicks': 35405,\n",
       "    'cmp_impr': 499997},\n",
       "   {'cmp_name': 'AKH_20211017_20230814_30-45_M_USD',\n",
       "    'cmp_bgt': 939341,\n",
       "    'cmp_spent': 723829,\n",
       "    'cmp_clicks': 66985,\n",
       "    'cmp_impr': 499998},\n",
       "   {'cmp_name': 'GRZ_20210718_20211204_10-15_B_EUR',\n",
       "    'cmp_bgt': 33465,\n",
       "    'cmp_spent': 31080,\n",
       "    'cmp_clicks': 82540,\n",
       "    'cmp_impr': 499999},\n",
       "   {'cmp_name': 'GRZ_20230220_20240524_10-20_B_GBR',\n",
       "    'cmp_bgt': 705803,\n",
       "    'cmp_spent': 20192,\n",
       "    'cmp_clicks': 42790,\n",
       "    'cmp_impr': 499998},\n",
       "   {'cmp_name': 'GRZ_20220903_20230907_30-55_B_USD',\n",
       "    'cmp_bgt': 305749,\n",
       "    'cmp_spent': 106197,\n",
       "    'cmp_clicks': 61216,\n",
       "    'cmp_impr': 499998},\n",
       "   {'cmp_name': 'GRZ_20230421_20241003_45-50_B_EUR',\n",
       "    'cmp_bgt': 387761,\n",
       "    'cmp_spent': 260508,\n",
       "    'cmp_clicks': 21090,\n",
       "    'cmp_impr': 500001},\n",
       "   {'cmp_name': 'BYI_20230523_20240622_15-40_F_USD',\n",
       "    'cmp_bgt': 246405,\n",
       "    'cmp_spent': 170208,\n",
       "    'cmp_clicks': 7892,\n",
       "    'cmp_impr': 499998}]}]"
      ]
     },
     "execution_count": 57,
     "metadata": {},
     "output_type": "execute_result"
    }
   ],
   "source": [
    "rough_data = get_data(users)\n",
    "rough_data[:2]"
   ]
  },
  {
   "cell_type": "markdown",
   "metadata": {},
   "source": [
    "## Denorlalizing data\n",
    "\n",
    "To be able to work with data we need to denormalize it. **Denormalization** is a process of restructuring data into a single table. This generally involves joining together data from multiple tables\n",
    "or flattening out nested data structures."
   ]
  },
  {
   "cell_type": "code",
   "execution_count": 58,
   "metadata": {},
   "outputs": [
    {
     "data": {
      "text/plain": [
       "[{'cmp_name': 'BYI_20220409_20240407_20-30_M_USD',\n",
       "  'cmp_bgt': 975361,\n",
       "  'cmp_spent': 446295,\n",
       "  'cmp_clicks': 52632,\n",
       "  'cmp_impr': 500001,\n",
       "  'user': '{\"username\": \"barryjason\", \"name\": \"Jonathan Brewer DDS\", \"gender\": \"M\", \"email\": \"jose23@example.com\", \"age\": 32, \"address\": \"51531 Wanda Haven\\\\nCortezport, HI 12209\"}'},\n",
       " {'cmp_name': 'GRZ_20230708_20240311_10-20_M_GBR',\n",
       "  'cmp_bgt': 793712,\n",
       "  'cmp_spent': 244356,\n",
       "  'cmp_clicks': 17601,\n",
       "  'cmp_impr': 500002,\n",
       "  'user': '{\"username\": \"barryjason\", \"name\": \"Jonathan Brewer DDS\", \"gender\": \"M\", \"email\": \"jose23@example.com\", \"age\": 32, \"address\": \"51531 Wanda Haven\\\\nCortezport, HI 12209\"}'}]"
      ]
     },
     "execution_count": 58,
     "metadata": {},
     "output_type": "execute_result"
    }
   ],
   "source": [
    "data = []\n",
    "for datum in rough_data:\n",
    "    for campaign in datum['campaigns']:\n",
    "        campaign.update({'user': datum['user']})\n",
    "        data.append(campaign)\n",
    "data[:2]"
   ]
  },
  {
   "cell_type": "code",
   "execution_count": 59,
   "metadata": {},
   "outputs": [],
   "source": [
    "with open('data.json', 'w') as stream:\n",
    "    stream.write(json.dumps(data))"
   ]
  },
  {
   "cell_type": "markdown",
   "metadata": {},
   "source": [
    "## Working with data"
   ]
  },
  {
   "cell_type": "code",
   "execution_count": 61,
   "metadata": {},
   "outputs": [],
   "source": [
    "import json\n",
    "import arrow\n",
    "import numpy as np\n",
    "import pandas as pd\n",
    "from pandas import DataFrame"
   ]
  },
  {
   "cell_type": "code",
   "execution_count": 62,
   "metadata": {},
   "outputs": [
    {
     "data": {
      "text/html": [
       "<div>\n",
       "<style scoped>\n",
       "    .dataframe tbody tr th:only-of-type {\n",
       "        vertical-align: middle;\n",
       "    }\n",
       "\n",
       "    .dataframe tbody tr th {\n",
       "        vertical-align: top;\n",
       "    }\n",
       "\n",
       "    .dataframe thead th {\n",
       "        text-align: right;\n",
       "    }\n",
       "</style>\n",
       "<table border=\"1\" class=\"dataframe\">\n",
       "  <thead>\n",
       "    <tr style=\"text-align: right;\">\n",
       "      <th></th>\n",
       "      <th>cmp_name</th>\n",
       "      <th>cmp_bgt</th>\n",
       "      <th>cmp_spent</th>\n",
       "      <th>cmp_clicks</th>\n",
       "      <th>cmp_impr</th>\n",
       "      <th>user</th>\n",
       "    </tr>\n",
       "  </thead>\n",
       "  <tbody>\n",
       "    <tr>\n",
       "      <th>0</th>\n",
       "      <td>BYI_20220409_20240407_20-30_M_USD</td>\n",
       "      <td>975361</td>\n",
       "      <td>446295</td>\n",
       "      <td>52632</td>\n",
       "      <td>500001</td>\n",
       "      <td>{\"username\": \"barryjason\", \"name\": \"Jonathan B...</td>\n",
       "    </tr>\n",
       "    <tr>\n",
       "      <th>1</th>\n",
       "      <td>GRZ_20230708_20240311_10-20_M_GBR</td>\n",
       "      <td>793712</td>\n",
       "      <td>244356</td>\n",
       "      <td>17601</td>\n",
       "      <td>500002</td>\n",
       "      <td>{\"username\": \"barryjason\", \"name\": \"Jonathan B...</td>\n",
       "    </tr>\n",
       "    <tr>\n",
       "      <th>2</th>\n",
       "      <td>BYI_20230507_20250309_20-25_F_GBR</td>\n",
       "      <td>446534</td>\n",
       "      <td>289979</td>\n",
       "      <td>28684</td>\n",
       "      <td>499999</td>\n",
       "      <td>{\"username\": \"dawnnielsen\", \"name\": \"Daniel Ra...</td>\n",
       "    </tr>\n",
       "    <tr>\n",
       "      <th>3</th>\n",
       "      <td>BYI_20220815_20230805_30-50_F_USD</td>\n",
       "      <td>317751</td>\n",
       "      <td>297513</td>\n",
       "      <td>35405</td>\n",
       "      <td>499997</td>\n",
       "      <td>{\"username\": \"dawnnielsen\", \"name\": \"Daniel Ra...</td>\n",
       "    </tr>\n",
       "    <tr>\n",
       "      <th>4</th>\n",
       "      <td>AKH_20211017_20230814_30-45_M_USD</td>\n",
       "      <td>939341</td>\n",
       "      <td>723829</td>\n",
       "      <td>66985</td>\n",
       "      <td>499998</td>\n",
       "      <td>{\"username\": \"dawnnielsen\", \"name\": \"Daniel Ra...</td>\n",
       "    </tr>\n",
       "  </tbody>\n",
       "</table>\n",
       "</div>"
      ],
      "text/plain": [
       "                            cmp_name  cmp_bgt  cmp_spent  cmp_clicks  \\\n",
       "0  BYI_20220409_20240407_20-30_M_USD   975361     446295       52632   \n",
       "1  GRZ_20230708_20240311_10-20_M_GBR   793712     244356       17601   \n",
       "2  BYI_20230507_20250309_20-25_F_GBR   446534     289979       28684   \n",
       "3  BYI_20220815_20230805_30-50_F_USD   317751     297513       35405   \n",
       "4  AKH_20211017_20230814_30-45_M_USD   939341     723829       66985   \n",
       "\n",
       "   cmp_impr                                               user  \n",
       "0    500001  {\"username\": \"barryjason\", \"name\": \"Jonathan B...  \n",
       "1    500002  {\"username\": \"barryjason\", \"name\": \"Jonathan B...  \n",
       "2    499999  {\"username\": \"dawnnielsen\", \"name\": \"Daniel Ra...  \n",
       "3    499997  {\"username\": \"dawnnielsen\", \"name\": \"Daniel Ra...  \n",
       "4    499998  {\"username\": \"dawnnielsen\", \"name\": \"Daniel Ra...  "
      ]
     },
     "execution_count": 62,
     "metadata": {},
     "output_type": "execute_result"
    }
   ],
   "source": [
    "df = pd.read_json('data.json')\n",
    "df.head()"
   ]
  },
  {
   "cell_type": "code",
   "execution_count": 65,
   "metadata": {},
   "outputs": [
    {
     "data": {
      "text/plain": [
       "cmp_name      4857\n",
       "cmp_bgt       4857\n",
       "cmp_spent     4857\n",
       "cmp_clicks    4857\n",
       "cmp_impr      4857\n",
       "user          4857\n",
       "dtype: int64"
      ]
     },
     "execution_count": 65,
     "metadata": {},
     "output_type": "execute_result"
    }
   ],
   "source": [
    "# We have 4857 rows. Given that we have 1,000 users and the number of campaigns per user\n",
    "# is a random number between 2 and 8, that is exactly in line with what we would expect.\n",
    "df.count()"
   ]
  },
  {
   "cell_type": "code",
   "execution_count": 66,
   "metadata": {},
   "outputs": [
    {
     "data": {
      "text/html": [
       "<div>\n",
       "<style scoped>\n",
       "    .dataframe tbody tr th:only-of-type {\n",
       "        vertical-align: middle;\n",
       "    }\n",
       "\n",
       "    .dataframe tbody tr th {\n",
       "        vertical-align: top;\n",
       "    }\n",
       "\n",
       "    .dataframe thead th {\n",
       "        text-align: right;\n",
       "    }\n",
       "</style>\n",
       "<table border=\"1\" class=\"dataframe\">\n",
       "  <thead>\n",
       "    <tr style=\"text-align: right;\">\n",
       "      <th></th>\n",
       "      <th>cmp_bgt</th>\n",
       "      <th>cmp_spent</th>\n",
       "      <th>cmp_clicks</th>\n",
       "      <th>cmp_impr</th>\n",
       "    </tr>\n",
       "  </thead>\n",
       "  <tbody>\n",
       "    <tr>\n",
       "      <th>count</th>\n",
       "      <td>4857.000000</td>\n",
       "      <td>4857.000000</td>\n",
       "      <td>4857.000000</td>\n",
       "      <td>4857.000000</td>\n",
       "    </tr>\n",
       "    <tr>\n",
       "      <th>mean</th>\n",
       "      <td>497923.093267</td>\n",
       "      <td>249642.214330</td>\n",
       "      <td>39354.376364</td>\n",
       "      <td>499999.480338</td>\n",
       "    </tr>\n",
       "    <tr>\n",
       "      <th>std</th>\n",
       "      <td>289460.463322</td>\n",
       "      <td>220417.319723</td>\n",
       "      <td>21423.382029</td>\n",
       "      <td>2.049047</td>\n",
       "    </tr>\n",
       "    <tr>\n",
       "      <th>min</th>\n",
       "      <td>1107.000000</td>\n",
       "      <td>111.000000</td>\n",
       "      <td>555.000000</td>\n",
       "      <td>499992.000000</td>\n",
       "    </tr>\n",
       "    <tr>\n",
       "      <th>25%</th>\n",
       "      <td>246776.000000</td>\n",
       "      <td>66466.000000</td>\n",
       "      <td>22273.000000</td>\n",
       "      <td>499998.000000</td>\n",
       "    </tr>\n",
       "    <tr>\n",
       "      <th>50%</th>\n",
       "      <td>497166.000000</td>\n",
       "      <td>186535.000000</td>\n",
       "      <td>35946.000000</td>\n",
       "      <td>499999.000000</td>\n",
       "    </tr>\n",
       "    <tr>\n",
       "      <th>75%</th>\n",
       "      <td>747777.000000</td>\n",
       "      <td>385771.000000</td>\n",
       "      <td>54194.000000</td>\n",
       "      <td>500001.000000</td>\n",
       "    </tr>\n",
       "    <tr>\n",
       "      <th>max</th>\n",
       "      <td>999972.000000</td>\n",
       "      <td>992696.000000</td>\n",
       "      <td>98680.000000</td>\n",
       "      <td>500007.000000</td>\n",
       "    </tr>\n",
       "  </tbody>\n",
       "</table>\n",
       "</div>"
      ],
      "text/plain": [
       "             cmp_bgt      cmp_spent    cmp_clicks       cmp_impr\n",
       "count    4857.000000    4857.000000   4857.000000    4857.000000\n",
       "mean   497923.093267  249642.214330  39354.376364  499999.480338\n",
       "std    289460.463322  220417.319723  21423.382029       2.049047\n",
       "min      1107.000000     111.000000    555.000000  499992.000000\n",
       "25%    246776.000000   66466.000000  22273.000000  499998.000000\n",
       "50%    497166.000000  186535.000000  35946.000000  499999.000000\n",
       "75%    747777.000000  385771.000000  54194.000000  500001.000000\n",
       "max    999972.000000  992696.000000  98680.000000  500007.000000"
      ]
     },
     "execution_count": 66,
     "metadata": {},
     "output_type": "execute_result"
    }
   ],
   "source": [
    "df.describe()"
   ]
  },
  {
   "cell_type": "code",
   "execution_count": 68,
   "metadata": {},
   "outputs": [
    {
     "data": {
      "text/html": [
       "<div>\n",
       "<style scoped>\n",
       "    .dataframe tbody tr th:only-of-type {\n",
       "        vertical-align: middle;\n",
       "    }\n",
       "\n",
       "    .dataframe tbody tr th {\n",
       "        vertical-align: top;\n",
       "    }\n",
       "\n",
       "    .dataframe thead th {\n",
       "        text-align: right;\n",
       "    }\n",
       "</style>\n",
       "<table border=\"1\" class=\"dataframe\">\n",
       "  <thead>\n",
       "    <tr style=\"text-align: right;\">\n",
       "      <th></th>\n",
       "      <th>cmp_name</th>\n",
       "      <th>cmp_bgt</th>\n",
       "      <th>cmp_spent</th>\n",
       "      <th>cmp_clicks</th>\n",
       "      <th>cmp_impr</th>\n",
       "      <th>user</th>\n",
       "    </tr>\n",
       "  </thead>\n",
       "  <tbody>\n",
       "    <tr>\n",
       "      <th>1753</th>\n",
       "      <td>KTR_20220402_20231225_10-15_B_GBR</td>\n",
       "      <td>999972</td>\n",
       "      <td>821196</td>\n",
       "      <td>57509</td>\n",
       "      <td>499998</td>\n",
       "      <td>{\"username\": \"jennahess\", \"name\": \"Joe Young\",...</td>\n",
       "    </tr>\n",
       "    <tr>\n",
       "      <th>4378</th>\n",
       "      <td>BYI_20210912_20211112_40-60_F_EUR</td>\n",
       "      <td>999493</td>\n",
       "      <td>736813</td>\n",
       "      <td>32840</td>\n",
       "      <td>499998</td>\n",
       "      <td>{\"username\": \"kimberlymckay\", \"name\": \"Gabriel...</td>\n",
       "    </tr>\n",
       "    <tr>\n",
       "      <th>757</th>\n",
       "      <td>GRZ_20221124_20240927_25-45_M_GBR</td>\n",
       "      <td>999058</td>\n",
       "      <td>906343</td>\n",
       "      <td>43602</td>\n",
       "      <td>499998</td>\n",
       "      <td>{\"username\": \"jeffwood\", \"name\": \"Rhonda Yu\", ...</td>\n",
       "    </tr>\n",
       "  </tbody>\n",
       "</table>\n",
       "</div>"
      ],
      "text/plain": [
       "                               cmp_name  cmp_bgt  cmp_spent  cmp_clicks  \\\n",
       "1753  KTR_20220402_20231225_10-15_B_GBR   999972     821196       57509   \n",
       "4378  BYI_20210912_20211112_40-60_F_EUR   999493     736813       32840   \n",
       "757   GRZ_20221124_20240927_25-45_M_GBR   999058     906343       43602   \n",
       "\n",
       "      cmp_impr                                               user  \n",
       "1753    499998  {\"username\": \"jennahess\", \"name\": \"Joe Young\",...  \n",
       "4378    499998  {\"username\": \"kimberlymckay\", \"name\": \"Gabriel...  \n",
       "757     499998  {\"username\": \"jeffwood\", \"name\": \"Rhonda Yu\", ...  "
      ]
     },
     "execution_count": 68,
     "metadata": {},
     "output_type": "execute_result"
    }
   ],
   "source": [
    "# three campaigns with the highest budgets\n",
    "df.sort_values(by=['cmp_bgt'], ascending=False).head(3)"
   ]
  },
  {
   "cell_type": "code",
   "execution_count": 70,
   "metadata": {},
   "outputs": [
    {
     "data": {
      "text/html": [
       "<div>\n",
       "<style scoped>\n",
       "    .dataframe tbody tr th:only-of-type {\n",
       "        vertical-align: middle;\n",
       "    }\n",
       "\n",
       "    .dataframe tbody tr th {\n",
       "        vertical-align: top;\n",
       "    }\n",
       "\n",
       "    .dataframe thead th {\n",
       "        text-align: right;\n",
       "    }\n",
       "</style>\n",
       "<table border=\"1\" class=\"dataframe\">\n",
       "  <thead>\n",
       "    <tr style=\"text-align: right;\">\n",
       "      <th></th>\n",
       "      <th>cmp_name</th>\n",
       "      <th>cmp_bgt</th>\n",
       "      <th>cmp_spent</th>\n",
       "      <th>cmp_clicks</th>\n",
       "      <th>cmp_impr</th>\n",
       "      <th>user</th>\n",
       "    </tr>\n",
       "  </thead>\n",
       "  <tbody>\n",
       "    <tr>\n",
       "      <th>4160</th>\n",
       "      <td>BYI_20230623_20250131_25-40_B_USD</td>\n",
       "      <td>1963</td>\n",
       "      <td>873</td>\n",
       "      <td>24119</td>\n",
       "      <td>500000</td>\n",
       "      <td>{\"username\": \"jenniferdouglas\", \"name\": \"Tonya...</td>\n",
       "    </tr>\n",
       "    <tr>\n",
       "      <th>307</th>\n",
       "      <td>AKH_20220713_20240321_10-35_B_GBR</td>\n",
       "      <td>1176</td>\n",
       "      <td>154</td>\n",
       "      <td>73442</td>\n",
       "      <td>499998</td>\n",
       "      <td>{\"username\": \"jose57\", \"name\": \"Brad Lopez\", \"...</td>\n",
       "    </tr>\n",
       "    <tr>\n",
       "      <th>2059</th>\n",
       "      <td>KTR_20220310_20230504_20-35_M_GBR</td>\n",
       "      <td>1107</td>\n",
       "      <td>157</td>\n",
       "      <td>22432</td>\n",
       "      <td>499999</td>\n",
       "      <td>{\"username\": \"hfoster\", \"name\": \"Timothy White...</td>\n",
       "    </tr>\n",
       "  </tbody>\n",
       "</table>\n",
       "</div>"
      ],
      "text/plain": [
       "                               cmp_name  cmp_bgt  cmp_spent  cmp_clicks  \\\n",
       "4160  BYI_20230623_20250131_25-40_B_USD     1963        873       24119   \n",
       "307   AKH_20220713_20240321_10-35_B_GBR     1176        154       73442   \n",
       "2059  KTR_20220310_20230504_20-35_M_GBR     1107        157       22432   \n",
       "\n",
       "      cmp_impr                                               user  \n",
       "4160    500000  {\"username\": \"jenniferdouglas\", \"name\": \"Tonya...  \n",
       "307     499998  {\"username\": \"jose57\", \"name\": \"Brad Lopez\", \"...  \n",
       "2059    499999  {\"username\": \"hfoster\", \"name\": \"Timothy White...  "
      ]
     },
     "execution_count": 70,
     "metadata": {},
     "output_type": "execute_result"
    }
   ],
   "source": [
    "# and with the lowest budgets\n",
    "df.sort_values(by=['cmp_bgt'], ascending=False).tail(3)"
   ]
  },
  {
   "cell_type": "markdown",
   "metadata": {},
   "source": [
    "We want to explode campaign name into parts and put each part in its own dedicated column. \n",
    "We'll use the apply() method of the Series object.\n",
    "We can extract Series object from DataFrame by accessing it in the same way we do with a key in a dictionary."
   ]
  },
  {
   "cell_type": "code",
   "execution_count": 71,
   "metadata": {},
   "outputs": [
    {
     "data": {
      "text/html": [
       "<div>\n",
       "<style scoped>\n",
       "    .dataframe tbody tr th:only-of-type {\n",
       "        vertical-align: middle;\n",
       "    }\n",
       "\n",
       "    .dataframe tbody tr th {\n",
       "        vertical-align: top;\n",
       "    }\n",
       "\n",
       "    .dataframe thead th {\n",
       "        text-align: right;\n",
       "    }\n",
       "</style>\n",
       "<table border=\"1\" class=\"dataframe\">\n",
       "  <thead>\n",
       "    <tr style=\"text-align: right;\">\n",
       "      <th></th>\n",
       "      <th>Type</th>\n",
       "      <th>Start</th>\n",
       "      <th>End</th>\n",
       "      <th>Target Age</th>\n",
       "      <th>Target Gender</th>\n",
       "      <th>Currency</th>\n",
       "    </tr>\n",
       "  </thead>\n",
       "  <tbody>\n",
       "    <tr>\n",
       "      <th>0</th>\n",
       "      <td>BYI</td>\n",
       "      <td>2022-04-09</td>\n",
       "      <td>2024-04-07</td>\n",
       "      <td>20-30</td>\n",
       "      <td>M</td>\n",
       "      <td>USD</td>\n",
       "    </tr>\n",
       "    <tr>\n",
       "      <th>1</th>\n",
       "      <td>GRZ</td>\n",
       "      <td>2023-07-08</td>\n",
       "      <td>2024-03-11</td>\n",
       "      <td>10-20</td>\n",
       "      <td>M</td>\n",
       "      <td>GBR</td>\n",
       "    </tr>\n",
       "    <tr>\n",
       "      <th>2</th>\n",
       "      <td>BYI</td>\n",
       "      <td>2023-05-07</td>\n",
       "      <td>2025-03-09</td>\n",
       "      <td>20-25</td>\n",
       "      <td>F</td>\n",
       "      <td>GBR</td>\n",
       "    </tr>\n",
       "  </tbody>\n",
       "</table>\n",
       "</div>"
      ],
      "text/plain": [
       "  Type       Start         End Target Age Target Gender Currency\n",
       "0  BYI  2022-04-09  2024-04-07      20-30             M      USD\n",
       "1  GRZ  2023-07-08  2024-03-11      10-20             M      GBR\n",
       "2  BYI  2023-05-07  2025-03-09      20-25             F      GBR"
      ]
     },
     "execution_count": 71,
     "metadata": {},
     "output_type": "execute_result"
    }
   ],
   "source": [
    "# split campaign name into parts\n",
    "def unpack_campaign_name(name):\n",
    "    type_, start, end, age, gender, currency = name.split('_')\n",
    "    start = arrow.get(start, 'YYYYMMDD').date() # get a proper date object out of strings\n",
    "    end = arrow.get(end, 'YYYYMMDD').date()\n",
    "    return type_, start, end, age, gender, currency\n",
    "\n",
    "campaign_data = df['cmp_name'].apply(unpack_campaign_name) # apply the function to the Series\n",
    "campaign_cols = [\n",
    "    'Type', 'Start', 'End', 'Target Age', 'Target Gender', 'Currency'\n",
    "] # create a list of campaign columns names\n",
    "campaign_df = DataFrame(campaign_data.tolist(), columns=campaign_cols, index=df.index) # create campaign DF\n",
    "campaign_df.head(3)"
   ]
  },
  {
   "cell_type": "code",
   "execution_count": 72,
   "metadata": {},
   "outputs": [],
   "source": [
    "# when joining two DataFrame instances, it's imperative that they have the same index\n",
    "df = df.join(campaign_df)"
   ]
  },
  {
   "cell_type": "code",
   "execution_count": 73,
   "metadata": {},
   "outputs": [
    {
     "data": {
      "text/html": [
       "<div>\n",
       "<style scoped>\n",
       "    .dataframe tbody tr th:only-of-type {\n",
       "        vertical-align: middle;\n",
       "    }\n",
       "\n",
       "    .dataframe tbody tr th {\n",
       "        vertical-align: top;\n",
       "    }\n",
       "\n",
       "    .dataframe thead th {\n",
       "        text-align: right;\n",
       "    }\n",
       "</style>\n",
       "<table border=\"1\" class=\"dataframe\">\n",
       "  <thead>\n",
       "    <tr style=\"text-align: right;\">\n",
       "      <th></th>\n",
       "      <th>cmp_name</th>\n",
       "      <th>Type</th>\n",
       "      <th>Start</th>\n",
       "      <th>End</th>\n",
       "      <th>Target Age</th>\n",
       "      <th>Target Gender</th>\n",
       "      <th>Currency</th>\n",
       "    </tr>\n",
       "  </thead>\n",
       "  <tbody>\n",
       "    <tr>\n",
       "      <th>0</th>\n",
       "      <td>BYI_20220409_20240407_20-30_M_USD</td>\n",
       "      <td>BYI</td>\n",
       "      <td>2022-04-09</td>\n",
       "      <td>2024-04-07</td>\n",
       "      <td>20-30</td>\n",
       "      <td>M</td>\n",
       "      <td>USD</td>\n",
       "    </tr>\n",
       "    <tr>\n",
       "      <th>1</th>\n",
       "      <td>GRZ_20230708_20240311_10-20_M_GBR</td>\n",
       "      <td>GRZ</td>\n",
       "      <td>2023-07-08</td>\n",
       "      <td>2024-03-11</td>\n",
       "      <td>10-20</td>\n",
       "      <td>M</td>\n",
       "      <td>GBR</td>\n",
       "    </tr>\n",
       "    <tr>\n",
       "      <th>2</th>\n",
       "      <td>BYI_20230507_20250309_20-25_F_GBR</td>\n",
       "      <td>BYI</td>\n",
       "      <td>2023-05-07</td>\n",
       "      <td>2025-03-09</td>\n",
       "      <td>20-25</td>\n",
       "      <td>F</td>\n",
       "      <td>GBR</td>\n",
       "    </tr>\n",
       "  </tbody>\n",
       "</table>\n",
       "</div>"
      ],
      "text/plain": [
       "                            cmp_name Type       Start         End Target Age  \\\n",
       "0  BYI_20220409_20240407_20-30_M_USD  BYI  2022-04-09  2024-04-07      20-30   \n",
       "1  GRZ_20230708_20240311_10-20_M_GBR  GRZ  2023-07-08  2024-03-11      10-20   \n",
       "2  BYI_20230507_20250309_20-25_F_GBR  BYI  2023-05-07  2025-03-09      20-25   \n",
       "\n",
       "  Target Gender Currency  \n",
       "0             M      USD  \n",
       "1             M      GBR  \n",
       "2             F      GBR  "
      ]
     },
     "execution_count": 73,
     "metadata": {},
     "output_type": "execute_result"
    }
   ],
   "source": [
    "df[['cmp_name'] + campaign_cols].head(3) "
   ]
  },
  {
   "cell_type": "code",
   "execution_count": 75,
   "metadata": {},
   "outputs": [],
   "source": [
    "# unpacking the user data\n",
    "def unpack_user_json(user):\n",
    "    user = json.loads(user.strip())\n",
    "    return [\n",
    "        user['username'],\n",
    "        user['email'],\n",
    "        user['name'],\n",
    "        user['gender'],\n",
    "        user['age'],\n",
    "        user['address']\n",
    "    ]\n",
    "\n",
    "user_data = df['user'].apply(unpack_user_json)\n",
    "user_cols = ['username', 'email', 'name', 'gender', 'age', 'address']\n",
    "user_df = DataFrame(user_data.tolist(), columns=user_cols, index=df.index)"
   ]
  },
  {
   "cell_type": "code",
   "execution_count": 77,
   "metadata": {},
   "outputs": [
    {
     "data": {
      "text/html": [
       "<div>\n",
       "<style scoped>\n",
       "    .dataframe tbody tr th:only-of-type {\n",
       "        vertical-align: middle;\n",
       "    }\n",
       "\n",
       "    .dataframe tbody tr th {\n",
       "        vertical-align: top;\n",
       "    }\n",
       "\n",
       "    .dataframe thead th {\n",
       "        text-align: right;\n",
       "    }\n",
       "</style>\n",
       "<table border=\"1\" class=\"dataframe\">\n",
       "  <thead>\n",
       "    <tr style=\"text-align: right;\">\n",
       "      <th></th>\n",
       "      <th>user</th>\n",
       "      <th>username</th>\n",
       "      <th>email</th>\n",
       "      <th>name</th>\n",
       "      <th>gender</th>\n",
       "      <th>age</th>\n",
       "      <th>address</th>\n",
       "    </tr>\n",
       "  </thead>\n",
       "  <tbody>\n",
       "    <tr>\n",
       "      <th>0</th>\n",
       "      <td>{\"username\": \"barryjason\", \"name\": \"Jonathan B...</td>\n",
       "      <td>barryjason</td>\n",
       "      <td>jose23@example.com</td>\n",
       "      <td>Jonathan Brewer DDS</td>\n",
       "      <td>M</td>\n",
       "      <td>32</td>\n",
       "      <td>51531 Wanda Haven\\nCortezport, HI 12209</td>\n",
       "    </tr>\n",
       "    <tr>\n",
       "      <th>1</th>\n",
       "      <td>{\"username\": \"barryjason\", \"name\": \"Jonathan B...</td>\n",
       "      <td>barryjason</td>\n",
       "      <td>jose23@example.com</td>\n",
       "      <td>Jonathan Brewer DDS</td>\n",
       "      <td>M</td>\n",
       "      <td>32</td>\n",
       "      <td>51531 Wanda Haven\\nCortezport, HI 12209</td>\n",
       "    </tr>\n",
       "  </tbody>\n",
       "</table>\n",
       "</div>"
      ],
      "text/plain": [
       "                                                user    username  \\\n",
       "0  {\"username\": \"barryjason\", \"name\": \"Jonathan B...  barryjason   \n",
       "1  {\"username\": \"barryjason\", \"name\": \"Jonathan B...  barryjason   \n",
       "\n",
       "                email                 name gender  age  \\\n",
       "0  jose23@example.com  Jonathan Brewer DDS      M   32   \n",
       "1  jose23@example.com  Jonathan Brewer DDS      M   32   \n",
       "\n",
       "                                   address  \n",
       "0  51531 Wanda Haven\\nCortezport, HI 12209  \n",
       "1  51531 Wanda Haven\\nCortezport, HI 12209  "
      ]
     },
     "execution_count": 77,
     "metadata": {},
     "output_type": "execute_result"
    }
   ],
   "source": [
    "df = df.join(user_df)\n",
    "df[['user'] + user_cols].head(2)"
   ]
  },
  {
   "cell_type": "code",
   "execution_count": 79,
   "metadata": {},
   "outputs": [
    {
     "data": {
      "text/plain": [
       "Index(['cmp_name', 'cmp_bgt', 'cmp_spent', 'cmp_clicks', 'cmp_impr', 'user',\n",
       "       'Type', 'Start', 'End', 'Target Age', 'Target Gender', 'Currency',\n",
       "       'username', 'email', 'name', 'gender', 'age', 'address'],\n",
       "      dtype='object')"
      ]
     },
     "execution_count": 79,
     "metadata": {},
     "output_type": "execute_result"
    }
   ],
   "source": [
    "df.columns"
   ]
  },
  {
   "cell_type": "code",
   "execution_count": 80,
   "metadata": {},
   "outputs": [],
   "source": [
    "new_column_names = {\n",
    "    'cmp_bgt': 'Budget',\n",
    "    'cmp_spent': 'Spent',\n",
    "    'cmp_clicks': 'Clicks',\n",
    "    'cmp_impr': 'Impressions'\n",
    "}\n",
    "df.rename(columns=new_column_names, inplace=True)"
   ]
  },
  {
   "cell_type": "code",
   "execution_count": 83,
   "metadata": {},
   "outputs": [
    {
     "data": {
      "text/plain": [
       "Index(['cmp_name', 'Budget', 'Spent', 'Clicks', 'Impressions', 'user', 'Type',\n",
       "       'Start', 'End', 'Target Age', 'Target Gender', 'Currency', 'username',\n",
       "       'email', 'name', 'gender', 'age', 'address'],\n",
       "      dtype='object')"
      ]
     },
     "execution_count": 83,
     "metadata": {},
     "output_type": "execute_result"
    }
   ],
   "source": [
    "df.columns"
   ]
  },
  {
   "cell_type": "code",
   "execution_count": 84,
   "metadata": {},
   "outputs": [],
   "source": [
    "# let's introduce three measurement ratios: CTR, CPC, CPI which are\n",
    "# Click Through Rate, Cost Per Click, Cost Per Impression\n",
    "# CTR is the ratio between clicks and impressions\n",
    "\n",
    "def calculate_extra_columns(df):\n",
    "    df['CTR'] = df['Clicks'] / df['Impressions']\n",
    "    df['CPC'] = df['Spent'] / df['Clicks']\n",
    "    df['CPI'] = df['Spent'] / df['Impressions']\n",
    "    \n",
    "calculate_extra_columns(df)"
   ]
  },
  {
   "cell_type": "code",
   "execution_count": 87,
   "metadata": {},
   "outputs": [
    {
     "data": {
      "text/html": [
       "<div>\n",
       "<style scoped>\n",
       "    .dataframe tbody tr th:only-of-type {\n",
       "        vertical-align: middle;\n",
       "    }\n",
       "\n",
       "    .dataframe tbody tr th {\n",
       "        vertical-align: top;\n",
       "    }\n",
       "\n",
       "    .dataframe thead th {\n",
       "        text-align: right;\n",
       "    }\n",
       "</style>\n",
       "<table border=\"1\" class=\"dataframe\">\n",
       "  <thead>\n",
       "    <tr style=\"text-align: right;\">\n",
       "      <th></th>\n",
       "      <th>Spent</th>\n",
       "      <th>Clicks</th>\n",
       "      <th>Impressions</th>\n",
       "      <th>CTR</th>\n",
       "      <th>CPC</th>\n",
       "      <th>CPI</th>\n",
       "    </tr>\n",
       "  </thead>\n",
       "  <tbody>\n",
       "    <tr>\n",
       "      <th>0</th>\n",
       "      <td>446295</td>\n",
       "      <td>52632</td>\n",
       "      <td>500001</td>\n",
       "      <td>0.105264</td>\n",
       "      <td>8.479537</td>\n",
       "      <td>0.892588</td>\n",
       "    </tr>\n",
       "    <tr>\n",
       "      <th>1</th>\n",
       "      <td>244356</td>\n",
       "      <td>17601</td>\n",
       "      <td>500002</td>\n",
       "      <td>0.035202</td>\n",
       "      <td>13.883075</td>\n",
       "      <td>0.488710</td>\n",
       "    </tr>\n",
       "    <tr>\n",
       "      <th>2</th>\n",
       "      <td>289979</td>\n",
       "      <td>28684</td>\n",
       "      <td>499999</td>\n",
       "      <td>0.057368</td>\n",
       "      <td>10.109434</td>\n",
       "      <td>0.579959</td>\n",
       "    </tr>\n",
       "  </tbody>\n",
       "</table>\n",
       "</div>"
      ],
      "text/plain": [
       "    Spent  Clicks  Impressions       CTR        CPC       CPI\n",
       "0  446295   52632       500001  0.105264   8.479537  0.892588\n",
       "1  244356   17601       500002  0.035202  13.883075  0.488710\n",
       "2  289979   28684       499999  0.057368  10.109434  0.579959"
      ]
     },
     "execution_count": 87,
     "metadata": {},
     "output_type": "execute_result"
    }
   ],
   "source": [
    "df[['Spent', 'Clicks', 'Impressions', 'CTR', 'CPC', 'CPI']].head(3)"
   ]
  },
  {
   "cell_type": "code",
   "execution_count": 89,
   "metadata": {},
   "outputs": [
    {
     "name": "stdout",
     "output_type": "stream",
     "text": [
      "CTR: 0.10526378947242106 0.10526378947242106\n",
      "CPC: 8.479537163702691 8.479537163702691\n",
      "CPI: 0.8925882148235703 0.8925882148235703\n"
     ]
    }
   ],
   "source": [
    "# let's verify the accuracy of the results manually for the first row\n",
    "clicks = df['Clicks'][0]\n",
    "impressions = df['Impressions'][0]\n",
    "spent = df['Spent'][0]\n",
    "CTR = df['CTR'][0]\n",
    "CPC = df['CPC'][0]\n",
    "CPI = df['CPI'][0]\n",
    "print('CTR:', CTR, clicks / impressions)\n",
    "print('CPC:', CPC, spent / clicks)\n",
    "print('CPI:', CPI, spent / impressions)"
   ]
  },
  {
   "cell_type": "code",
   "execution_count": 90,
   "metadata": {},
   "outputs": [],
   "source": [
    "# let's add some new columns: campaign duration and date of the week when campaign starts\n",
    "def get_day_of_the_week(day):\n",
    "    return day.strftime('%A')\n",
    "\n",
    "def get_duration(row):\n",
    "    return (row['End'] - row['Start']).days\n",
    "\n",
    "df['Day of Week'] = df['Start'].apply(get_day_of_the_week)\n",
    "df['Duration'] = df.apply(get_duration, axis=1)"
   ]
  },
  {
   "cell_type": "code",
   "execution_count": 91,
   "metadata": {},
   "outputs": [
    {
     "data": {
      "text/html": [
       "<div>\n",
       "<style scoped>\n",
       "    .dataframe tbody tr th:only-of-type {\n",
       "        vertical-align: middle;\n",
       "    }\n",
       "\n",
       "    .dataframe tbody tr th {\n",
       "        vertical-align: top;\n",
       "    }\n",
       "\n",
       "    .dataframe thead th {\n",
       "        text-align: right;\n",
       "    }\n",
       "</style>\n",
       "<table border=\"1\" class=\"dataframe\">\n",
       "  <thead>\n",
       "    <tr style=\"text-align: right;\">\n",
       "      <th></th>\n",
       "      <th>Start</th>\n",
       "      <th>End</th>\n",
       "      <th>Duration</th>\n",
       "      <th>Day of Week</th>\n",
       "    </tr>\n",
       "  </thead>\n",
       "  <tbody>\n",
       "    <tr>\n",
       "      <th>0</th>\n",
       "      <td>2022-04-09</td>\n",
       "      <td>2024-04-07</td>\n",
       "      <td>729</td>\n",
       "      <td>Saturday</td>\n",
       "    </tr>\n",
       "    <tr>\n",
       "      <th>1</th>\n",
       "      <td>2023-07-08</td>\n",
       "      <td>2024-03-11</td>\n",
       "      <td>247</td>\n",
       "      <td>Saturday</td>\n",
       "    </tr>\n",
       "    <tr>\n",
       "      <th>2</th>\n",
       "      <td>2023-05-07</td>\n",
       "      <td>2025-03-09</td>\n",
       "      <td>672</td>\n",
       "      <td>Sunday</td>\n",
       "    </tr>\n",
       "  </tbody>\n",
       "</table>\n",
       "</div>"
      ],
      "text/plain": [
       "        Start         End  Duration Day of Week\n",
       "0  2022-04-09  2024-04-07       729    Saturday\n",
       "1  2023-07-08  2024-03-11       247    Saturday\n",
       "2  2023-05-07  2025-03-09       672      Sunday"
      ]
     },
     "execution_count": 91,
     "metadata": {},
     "output_type": "execute_result"
    }
   ],
   "source": [
    "df[['Start', 'End', 'Duration', 'Day of Week']].head(3)"
   ]
  },
  {
   "cell_type": "code",
   "execution_count": 95,
   "metadata": {},
   "outputs": [],
   "source": [
    "# cleaning and reordering\n",
    "final_columns = [\n",
    "    'Type', 'Start', 'End', 'Duration', 'Day of Week', 'Budget', 'Currency',\n",
    "    'Clicks', 'Impressions', 'Spent', 'CTR', 'CPC', 'CPI', 'Target Age', 'Target Gender',\n",
    "    'username', 'email', 'name', 'gender', 'age'\n",
    "]\n",
    "df = df[final_columns]"
   ]
  },
  {
   "cell_type": "code",
   "execution_count": 97,
   "metadata": {},
   "outputs": [
    {
     "data": {
      "text/html": [
       "<div>\n",
       "<style scoped>\n",
       "    .dataframe tbody tr th:only-of-type {\n",
       "        vertical-align: middle;\n",
       "    }\n",
       "\n",
       "    .dataframe tbody tr th {\n",
       "        vertical-align: top;\n",
       "    }\n",
       "\n",
       "    .dataframe thead th {\n",
       "        text-align: right;\n",
       "    }\n",
       "</style>\n",
       "<table border=\"1\" class=\"dataframe\">\n",
       "  <thead>\n",
       "    <tr style=\"text-align: right;\">\n",
       "      <th></th>\n",
       "      <th>Type</th>\n",
       "      <th>Start</th>\n",
       "      <th>End</th>\n",
       "      <th>Duration</th>\n",
       "      <th>Day of Week</th>\n",
       "      <th>Budget</th>\n",
       "      <th>Currency</th>\n",
       "      <th>Clicks</th>\n",
       "      <th>Impressions</th>\n",
       "      <th>Spent</th>\n",
       "      <th>CTR</th>\n",
       "      <th>CPC</th>\n",
       "      <th>CPI</th>\n",
       "      <th>Target Age</th>\n",
       "      <th>Target Gender</th>\n",
       "      <th>username</th>\n",
       "      <th>email</th>\n",
       "      <th>name</th>\n",
       "      <th>gender</th>\n",
       "      <th>age</th>\n",
       "    </tr>\n",
       "  </thead>\n",
       "  <tbody>\n",
       "    <tr>\n",
       "      <th>0</th>\n",
       "      <td>BYI</td>\n",
       "      <td>2022-04-09</td>\n",
       "      <td>2024-04-07</td>\n",
       "      <td>729</td>\n",
       "      <td>Saturday</td>\n",
       "      <td>975361</td>\n",
       "      <td>USD</td>\n",
       "      <td>52632</td>\n",
       "      <td>500001</td>\n",
       "      <td>446295</td>\n",
       "      <td>0.105264</td>\n",
       "      <td>8.479537</td>\n",
       "      <td>0.892588</td>\n",
       "      <td>20-30</td>\n",
       "      <td>M</td>\n",
       "      <td>barryjason</td>\n",
       "      <td>jose23@example.com</td>\n",
       "      <td>Jonathan Brewer DDS</td>\n",
       "      <td>M</td>\n",
       "      <td>32</td>\n",
       "    </tr>\n",
       "    <tr>\n",
       "      <th>1</th>\n",
       "      <td>GRZ</td>\n",
       "      <td>2023-07-08</td>\n",
       "      <td>2024-03-11</td>\n",
       "      <td>247</td>\n",
       "      <td>Saturday</td>\n",
       "      <td>793712</td>\n",
       "      <td>GBR</td>\n",
       "      <td>17601</td>\n",
       "      <td>500002</td>\n",
       "      <td>244356</td>\n",
       "      <td>0.035202</td>\n",
       "      <td>13.883075</td>\n",
       "      <td>0.488710</td>\n",
       "      <td>10-20</td>\n",
       "      <td>M</td>\n",
       "      <td>barryjason</td>\n",
       "      <td>jose23@example.com</td>\n",
       "      <td>Jonathan Brewer DDS</td>\n",
       "      <td>M</td>\n",
       "      <td>32</td>\n",
       "    </tr>\n",
       "    <tr>\n",
       "      <th>2</th>\n",
       "      <td>BYI</td>\n",
       "      <td>2023-05-07</td>\n",
       "      <td>2025-03-09</td>\n",
       "      <td>672</td>\n",
       "      <td>Sunday</td>\n",
       "      <td>446534</td>\n",
       "      <td>GBR</td>\n",
       "      <td>28684</td>\n",
       "      <td>499999</td>\n",
       "      <td>289979</td>\n",
       "      <td>0.057368</td>\n",
       "      <td>10.109434</td>\n",
       "      <td>0.579959</td>\n",
       "      <td>20-25</td>\n",
       "      <td>F</td>\n",
       "      <td>dawnnielsen</td>\n",
       "      <td>audreyreed@example.com</td>\n",
       "      <td>Daniel Ramos</td>\n",
       "      <td>M</td>\n",
       "      <td>86</td>\n",
       "    </tr>\n",
       "  </tbody>\n",
       "</table>\n",
       "</div>"
      ],
      "text/plain": [
       "  Type       Start         End  Duration Day of Week  Budget Currency  Clicks  \\\n",
       "0  BYI  2022-04-09  2024-04-07       729    Saturday  975361      USD   52632   \n",
       "1  GRZ  2023-07-08  2024-03-11       247    Saturday  793712      GBR   17601   \n",
       "2  BYI  2023-05-07  2025-03-09       672      Sunday  446534      GBR   28684   \n",
       "\n",
       "   Impressions   Spent       CTR        CPC       CPI Target Age  \\\n",
       "0       500001  446295  0.105264   8.479537  0.892588      20-30   \n",
       "1       500002  244356  0.035202  13.883075  0.488710      10-20   \n",
       "2       499999  289979  0.057368  10.109434  0.579959      20-25   \n",
       "\n",
       "  Target Gender     username                   email                 name  \\\n",
       "0             M   barryjason      jose23@example.com  Jonathan Brewer DDS   \n",
       "1             M   barryjason      jose23@example.com  Jonathan Brewer DDS   \n",
       "2             F  dawnnielsen  audreyreed@example.com         Daniel Ramos   \n",
       "\n",
       "  gender  age  \n",
       "0      M   32  \n",
       "1      M   32  \n",
       "2      M   86  "
      ]
     },
     "execution_count": 97,
     "metadata": {},
     "output_type": "execute_result"
    }
   ],
   "source": [
    "df.head(3)"
   ]
  },
  {
   "cell_type": "code",
   "execution_count": 98,
   "metadata": {},
   "outputs": [],
   "source": [
    "# how to save a DF to a file\n",
    "df.to_csv('df.csv')\n",
    "df.to_json('df.json')\n",
    "df.to_excel('df.xlsx')"
   ]
  },
  {
   "cell_type": "code",
   "execution_count": 100,
   "metadata": {},
   "outputs": [],
   "source": [
    "# load data into DF from a file\n",
    "df_csv = pd.read_csv('df.csv')\n",
    "df_excel = pd.read_excel('df.xlsx')"
   ]
  },
  {
   "cell_type": "code",
   "execution_count": 101,
   "metadata": {},
   "outputs": [
    {
     "data": {
      "text/html": [
       "<div>\n",
       "<style scoped>\n",
       "    .dataframe tbody tr th:only-of-type {\n",
       "        vertical-align: middle;\n",
       "    }\n",
       "\n",
       "    .dataframe tbody tr th {\n",
       "        vertical-align: top;\n",
       "    }\n",
       "\n",
       "    .dataframe thead th {\n",
       "        text-align: right;\n",
       "    }\n",
       "</style>\n",
       "<table border=\"1\" class=\"dataframe\">\n",
       "  <thead>\n",
       "    <tr style=\"text-align: right;\">\n",
       "      <th></th>\n",
       "      <th>Unnamed: 0</th>\n",
       "      <th>Type</th>\n",
       "      <th>Start</th>\n",
       "      <th>End</th>\n",
       "      <th>Duration</th>\n",
       "      <th>Day of Week</th>\n",
       "      <th>Budget</th>\n",
       "      <th>Currency</th>\n",
       "      <th>Clicks</th>\n",
       "      <th>Impressions</th>\n",
       "      <th>...</th>\n",
       "      <th>CTR</th>\n",
       "      <th>CPC</th>\n",
       "      <th>CPI</th>\n",
       "      <th>Target Age</th>\n",
       "      <th>Target Gender</th>\n",
       "      <th>username</th>\n",
       "      <th>email</th>\n",
       "      <th>name</th>\n",
       "      <th>gender</th>\n",
       "      <th>age</th>\n",
       "    </tr>\n",
       "  </thead>\n",
       "  <tbody>\n",
       "    <tr>\n",
       "      <th>0</th>\n",
       "      <td>0</td>\n",
       "      <td>BYI</td>\n",
       "      <td>2022-04-09</td>\n",
       "      <td>2024-04-07</td>\n",
       "      <td>729</td>\n",
       "      <td>Saturday</td>\n",
       "      <td>975361</td>\n",
       "      <td>USD</td>\n",
       "      <td>52632</td>\n",
       "      <td>500001</td>\n",
       "      <td>...</td>\n",
       "      <td>0.105264</td>\n",
       "      <td>8.479537</td>\n",
       "      <td>0.892588</td>\n",
       "      <td>20-30</td>\n",
       "      <td>M</td>\n",
       "      <td>barryjason</td>\n",
       "      <td>jose23@example.com</td>\n",
       "      <td>Jonathan Brewer DDS</td>\n",
       "      <td>M</td>\n",
       "      <td>32</td>\n",
       "    </tr>\n",
       "    <tr>\n",
       "      <th>1</th>\n",
       "      <td>1</td>\n",
       "      <td>GRZ</td>\n",
       "      <td>2023-07-08</td>\n",
       "      <td>2024-03-11</td>\n",
       "      <td>247</td>\n",
       "      <td>Saturday</td>\n",
       "      <td>793712</td>\n",
       "      <td>GBR</td>\n",
       "      <td>17601</td>\n",
       "      <td>500002</td>\n",
       "      <td>...</td>\n",
       "      <td>0.035202</td>\n",
       "      <td>13.883075</td>\n",
       "      <td>0.488710</td>\n",
       "      <td>10-20</td>\n",
       "      <td>M</td>\n",
       "      <td>barryjason</td>\n",
       "      <td>jose23@example.com</td>\n",
       "      <td>Jonathan Brewer DDS</td>\n",
       "      <td>M</td>\n",
       "      <td>32</td>\n",
       "    </tr>\n",
       "    <tr>\n",
       "      <th>2</th>\n",
       "      <td>2</td>\n",
       "      <td>BYI</td>\n",
       "      <td>2023-05-07</td>\n",
       "      <td>2025-03-09</td>\n",
       "      <td>672</td>\n",
       "      <td>Sunday</td>\n",
       "      <td>446534</td>\n",
       "      <td>GBR</td>\n",
       "      <td>28684</td>\n",
       "      <td>499999</td>\n",
       "      <td>...</td>\n",
       "      <td>0.057368</td>\n",
       "      <td>10.109434</td>\n",
       "      <td>0.579959</td>\n",
       "      <td>20-25</td>\n",
       "      <td>F</td>\n",
       "      <td>dawnnielsen</td>\n",
       "      <td>audreyreed@example.com</td>\n",
       "      <td>Daniel Ramos</td>\n",
       "      <td>M</td>\n",
       "      <td>86</td>\n",
       "    </tr>\n",
       "  </tbody>\n",
       "</table>\n",
       "<p>3 rows × 21 columns</p>\n",
       "</div>"
      ],
      "text/plain": [
       "   Unnamed: 0 Type       Start         End  Duration Day of Week  Budget  \\\n",
       "0           0  BYI  2022-04-09  2024-04-07       729    Saturday  975361   \n",
       "1           1  GRZ  2023-07-08  2024-03-11       247    Saturday  793712   \n",
       "2           2  BYI  2023-05-07  2025-03-09       672      Sunday  446534   \n",
       "\n",
       "  Currency  Clicks  Impressions  ...       CTR        CPC       CPI  \\\n",
       "0      USD   52632       500001  ...  0.105264   8.479537  0.892588   \n",
       "1      GBR   17601       500002  ...  0.035202  13.883075  0.488710   \n",
       "2      GBR   28684       499999  ...  0.057368  10.109434  0.579959   \n",
       "\n",
       "   Target Age Target Gender     username                   email  \\\n",
       "0       20-30             M   barryjason      jose23@example.com   \n",
       "1       10-20             M   barryjason      jose23@example.com   \n",
       "2       20-25             F  dawnnielsen  audreyreed@example.com   \n",
       "\n",
       "                  name gender age  \n",
       "0  Jonathan Brewer DDS      M  32  \n",
       "1  Jonathan Brewer DDS      M  32  \n",
       "2         Daniel Ramos      M  86  \n",
       "\n",
       "[3 rows x 21 columns]"
      ]
     },
     "execution_count": 101,
     "metadata": {},
     "output_type": "execute_result"
    }
   ],
   "source": [
    "df_csv.head(3)"
   ]
  },
  {
   "cell_type": "code",
   "execution_count": 102,
   "metadata": {},
   "outputs": [
    {
     "data": {
      "text/html": [
       "<div>\n",
       "<style scoped>\n",
       "    .dataframe tbody tr th:only-of-type {\n",
       "        vertical-align: middle;\n",
       "    }\n",
       "\n",
       "    .dataframe tbody tr th {\n",
       "        vertical-align: top;\n",
       "    }\n",
       "\n",
       "    .dataframe thead th {\n",
       "        text-align: right;\n",
       "    }\n",
       "</style>\n",
       "<table border=\"1\" class=\"dataframe\">\n",
       "  <thead>\n",
       "    <tr style=\"text-align: right;\">\n",
       "      <th></th>\n",
       "      <th>Unnamed: 0</th>\n",
       "      <th>Type</th>\n",
       "      <th>Start</th>\n",
       "      <th>End</th>\n",
       "      <th>Duration</th>\n",
       "      <th>Day of Week</th>\n",
       "      <th>Budget</th>\n",
       "      <th>Currency</th>\n",
       "      <th>Clicks</th>\n",
       "      <th>Impressions</th>\n",
       "      <th>...</th>\n",
       "      <th>CTR</th>\n",
       "      <th>CPC</th>\n",
       "      <th>CPI</th>\n",
       "      <th>Target Age</th>\n",
       "      <th>Target Gender</th>\n",
       "      <th>username</th>\n",
       "      <th>email</th>\n",
       "      <th>name</th>\n",
       "      <th>gender</th>\n",
       "      <th>age</th>\n",
       "    </tr>\n",
       "  </thead>\n",
       "  <tbody>\n",
       "    <tr>\n",
       "      <th>0</th>\n",
       "      <td>0</td>\n",
       "      <td>BYI</td>\n",
       "      <td>2022-04-09</td>\n",
       "      <td>2024-04-07</td>\n",
       "      <td>729</td>\n",
       "      <td>Saturday</td>\n",
       "      <td>975361</td>\n",
       "      <td>USD</td>\n",
       "      <td>52632</td>\n",
       "      <td>500001</td>\n",
       "      <td>...</td>\n",
       "      <td>0.105264</td>\n",
       "      <td>8.479537</td>\n",
       "      <td>0.892588</td>\n",
       "      <td>20-30</td>\n",
       "      <td>M</td>\n",
       "      <td>barryjason</td>\n",
       "      <td>jose23@example.com</td>\n",
       "      <td>Jonathan Brewer DDS</td>\n",
       "      <td>M</td>\n",
       "      <td>32</td>\n",
       "    </tr>\n",
       "    <tr>\n",
       "      <th>1</th>\n",
       "      <td>1</td>\n",
       "      <td>GRZ</td>\n",
       "      <td>2023-07-08</td>\n",
       "      <td>2024-03-11</td>\n",
       "      <td>247</td>\n",
       "      <td>Saturday</td>\n",
       "      <td>793712</td>\n",
       "      <td>GBR</td>\n",
       "      <td>17601</td>\n",
       "      <td>500002</td>\n",
       "      <td>...</td>\n",
       "      <td>0.035202</td>\n",
       "      <td>13.883075</td>\n",
       "      <td>0.488710</td>\n",
       "      <td>10-20</td>\n",
       "      <td>M</td>\n",
       "      <td>barryjason</td>\n",
       "      <td>jose23@example.com</td>\n",
       "      <td>Jonathan Brewer DDS</td>\n",
       "      <td>M</td>\n",
       "      <td>32</td>\n",
       "    </tr>\n",
       "    <tr>\n",
       "      <th>2</th>\n",
       "      <td>2</td>\n",
       "      <td>BYI</td>\n",
       "      <td>2023-05-07</td>\n",
       "      <td>2025-03-09</td>\n",
       "      <td>672</td>\n",
       "      <td>Sunday</td>\n",
       "      <td>446534</td>\n",
       "      <td>GBR</td>\n",
       "      <td>28684</td>\n",
       "      <td>499999</td>\n",
       "      <td>...</td>\n",
       "      <td>0.057368</td>\n",
       "      <td>10.109434</td>\n",
       "      <td>0.579959</td>\n",
       "      <td>20-25</td>\n",
       "      <td>F</td>\n",
       "      <td>dawnnielsen</td>\n",
       "      <td>audreyreed@example.com</td>\n",
       "      <td>Daniel Ramos</td>\n",
       "      <td>M</td>\n",
       "      <td>86</td>\n",
       "    </tr>\n",
       "  </tbody>\n",
       "</table>\n",
       "<p>3 rows × 21 columns</p>\n",
       "</div>"
      ],
      "text/plain": [
       "   Unnamed: 0 Type      Start        End  Duration Day of Week  Budget  \\\n",
       "0           0  BYI 2022-04-09 2024-04-07       729    Saturday  975361   \n",
       "1           1  GRZ 2023-07-08 2024-03-11       247    Saturday  793712   \n",
       "2           2  BYI 2023-05-07 2025-03-09       672      Sunday  446534   \n",
       "\n",
       "  Currency  Clicks  Impressions  ...       CTR        CPC       CPI  \\\n",
       "0      USD   52632       500001  ...  0.105264   8.479537  0.892588   \n",
       "1      GBR   17601       500002  ...  0.035202  13.883075  0.488710   \n",
       "2      GBR   28684       499999  ...  0.057368  10.109434  0.579959   \n",
       "\n",
       "   Target Age Target Gender     username                   email  \\\n",
       "0       20-30             M   barryjason      jose23@example.com   \n",
       "1       10-20             M   barryjason      jose23@example.com   \n",
       "2       20-25             F  dawnnielsen  audreyreed@example.com   \n",
       "\n",
       "                  name gender age  \n",
       "0  Jonathan Brewer DDS      M  32  \n",
       "1  Jonathan Brewer DDS      M  32  \n",
       "2         Daniel Ramos      M  86  \n",
       "\n",
       "[3 rows x 21 columns]"
      ]
     },
     "execution_count": 102,
     "metadata": {},
     "output_type": "execute_result"
    }
   ],
   "source": [
    "df_excel.head(3)"
   ]
  },
  {
   "cell_type": "markdown",
   "metadata": {},
   "source": [
    "## Visualizing the results"
   ]
  },
  {
   "cell_type": "code",
   "execution_count": 103,
   "metadata": {},
   "outputs": [],
   "source": [
    "# render Matplotlib graphs in the cell output frame, rather than in a separate window\n",
    "%matplotlib inline\n",
    "\n",
    "import matplotlib.pyplot as plt\n",
    "\n",
    "plt.style.use(['classic', 'ggplot'])\n",
    "plt.rc('font', family='serif')"
   ]
  },
  {
   "cell_type": "code",
   "execution_count": 104,
   "metadata": {},
   "outputs": [
    {
     "data": {
      "image/png": "[encoded data removed]",
      "text/plain": [
       "<Figure size 1280x480 with 4 Axes>"
      ]
     },
     "metadata": {},
     "output_type": "display_data"
    }
   ],
   "source": [
    "df[['Budget', 'Spent', 'Clicks', 'Impressions']].hist(bins=16, figsize=(16, 6));"
   ]
  },
  {
   "cell_type": "markdown",
   "metadata": {},
   "source": [
    "- **Budget** is selected randomly from an interval, so we expect a uniform distribution. Looking at the graph, that is exactly what we see: it's practically a constant line.\n",
    "- **Spent** is also uniformly distributed, but its upper limit is the budget, which is not constant. This means we should expect an approximately logarithmic curve that decreases from left to right. Again, that is exactly what the graph shows.\n",
    "- ***Clicks** was generated with a triangular distribution with a mean roughly 20% of the interval size, and you can see that the peak is right there, at about 20% to the left.\n",
    "- **Impresions** was a Gaussian distribution, which assumes the famous bell shape. The mean was exactly in the middle and we had a standard deviation of 2. You can see that the graph matches those parameters."
   ]
  },
  {
   "cell_type": "code",
   "execution_count": 111,
   "metadata": {},
   "outputs": [
    {
     "data": {
      "image/png": "[encoded data removed]",
      "text/plain": [
       "<Figure size 1280x480 with 4 Axes>"
      ]
     },
     "metadata": {},
     "output_type": "display_data"
    }
   ],
   "source": [
    "df[['CTR', 'CPC', 'CPI']].hist(bins=20, figsize=(16, 6));"
   ]
  },
  {
   "cell_type": "code",
   "execution_count": 113,
   "metadata": {},
   "outputs": [
    {
     "data": {
      "image/png": "[encoded data removed]",
      "text/plain": [
       "<Figure size 1280x480 with 4 Axes>"
      ]
     },
     "metadata": {},
     "output_type": "display_data"
    }
   ],
   "source": [
    "# how to analyze only particular segment of the data\n",
    "# apply a mask to the DF so that we get a new DF with only a rows that satisfy the mask condition\n",
    "\n",
    "selector = (df.Spent > 0.75 * df.Budget)\n",
    "df[selector][['Budget', 'Spent', 'Clicks', 'Impressions']].hist(bins=15, figsize=(16, 6), color='green');"
   ]
  },
  {
   "cell_type": "code",
   "execution_count": 117,
   "metadata": {},
   "outputs": [
    {
     "data": {
      "image/png": "[encoded data removed]",
      "text/plain": [
       "<Figure size 1280x480 with 3 Axes>"
      ]
     },
     "metadata": {},
     "output_type": "display_data"
    }
   ],
   "source": [
    "# measure spent, clicks, impressions grouped by day of the week\n",
    "\n",
    "df_weekday = df.groupby(['Day of Week']).sum()\n",
    "df_weekday[['Impressions', 'Clicks', 'Spent']].plot(figsize=(16,6), subplots=True);"
   ]
  },
  {
   "cell_type": "code",
   "execution_count": 118,
   "metadata": {},
   "outputs": [
    {
     "data": {
      "text/html": [
       "<div>\n",
       "<style scoped>\n",
       "    .dataframe tbody tr th:only-of-type {\n",
       "        vertical-align: middle;\n",
       "    }\n",
       "\n",
       "    .dataframe tbody tr th {\n",
       "        vertical-align: top;\n",
       "    }\n",
       "\n",
       "    .dataframe thead th {\n",
       "        text-align: right;\n",
       "    }\n",
       "</style>\n",
       "<table border=\"1\" class=\"dataframe\">\n",
       "  <thead>\n",
       "    <tr style=\"text-align: right;\">\n",
       "      <th></th>\n",
       "      <th>Duration</th>\n",
       "      <th>Budget</th>\n",
       "      <th>Clicks</th>\n",
       "      <th>Impressions</th>\n",
       "      <th>Spent</th>\n",
       "      <th>CTR</th>\n",
       "      <th>CPC</th>\n",
       "      <th>CPI</th>\n",
       "      <th>age</th>\n",
       "    </tr>\n",
       "    <tr>\n",
       "      <th>Day of Week</th>\n",
       "      <th></th>\n",
       "      <th></th>\n",
       "      <th></th>\n",
       "      <th></th>\n",
       "      <th></th>\n",
       "      <th></th>\n",
       "      <th></th>\n",
       "      <th></th>\n",
       "      <th></th>\n",
       "    </tr>\n",
       "  </thead>\n",
       "  <tbody>\n",
       "    <tr>\n",
       "      <th>Friday</th>\n",
       "      <td>259145</td>\n",
       "      <td>348319891</td>\n",
       "      <td>26940175</td>\n",
       "      <td>342999678</td>\n",
       "      <td>173214468</td>\n",
       "      <td>53.880407</td>\n",
       "      <td>7190.302721</td>\n",
       "      <td>346.429246</td>\n",
       "      <td>36906</td>\n",
       "    </tr>\n",
       "    <tr>\n",
       "      <th>Monday</th>\n",
       "      <td>239496</td>\n",
       "      <td>324223839</td>\n",
       "      <td>25377988</td>\n",
       "      <td>328999576</td>\n",
       "      <td>158616321</td>\n",
       "      <td>50.756044</td>\n",
       "      <td>5968.210696</td>\n",
       "      <td>317.233058</td>\n",
       "      <td>35052</td>\n",
       "    </tr>\n",
       "    <tr>\n",
       "      <th>Saturday</th>\n",
       "      <td>264950</td>\n",
       "      <td>341698439</td>\n",
       "      <td>28203785</td>\n",
       "      <td>354499568</td>\n",
       "      <td>174588371</td>\n",
       "      <td>56.407639</td>\n",
       "      <td>7182.254755</td>\n",
       "      <td>349.177175</td>\n",
       "      <td>38818</td>\n",
       "    </tr>\n",
       "    <tr>\n",
       "      <th>Sunday</th>\n",
       "      <td>257014</td>\n",
       "      <td>352109414</td>\n",
       "      <td>27967816</td>\n",
       "      <td>347999651</td>\n",
       "      <td>175823425</td>\n",
       "      <td>55.935686</td>\n",
       "      <td>7219.719379</td>\n",
       "      <td>351.647165</td>\n",
       "      <td>37545</td>\n",
       "    </tr>\n",
       "    <tr>\n",
       "      <th>Thursday</th>\n",
       "      <td>244341</td>\n",
       "      <td>329889181</td>\n",
       "      <td>25901197</td>\n",
       "      <td>338999670</td>\n",
       "      <td>166600016</td>\n",
       "      <td>51.802442</td>\n",
       "      <td>8175.058484</td>\n",
       "      <td>333.200366</td>\n",
       "      <td>36697</td>\n",
       "    </tr>\n",
       "    <tr>\n",
       "      <th>Tuesday</th>\n",
       "      <td>265546</td>\n",
       "      <td>371022629</td>\n",
       "      <td>28748865</td>\n",
       "      <td>364999687</td>\n",
       "      <td>188713430</td>\n",
       "      <td>57.497776</td>\n",
       "      <td>7436.589795</td>\n",
       "      <td>377.427222</td>\n",
       "      <td>39576</td>\n",
       "    </tr>\n",
       "    <tr>\n",
       "      <th>Wednesday</th>\n",
       "      <td>257652</td>\n",
       "      <td>351149071</td>\n",
       "      <td>28004380</td>\n",
       "      <td>349999646</td>\n",
       "      <td>174956204</td>\n",
       "      <td>56.008828</td>\n",
       "      <td>6843.002989</td>\n",
       "      <td>349.912738</td>\n",
       "      <td>38307</td>\n",
       "    </tr>\n",
       "  </tbody>\n",
       "</table>\n",
       "</div>"
      ],
      "text/plain": [
       "             Duration     Budget    Clicks  Impressions      Spent        CTR  \\\n",
       "Day of Week                                                                     \n",
       "Friday         259145  348319891  26940175    342999678  173214468  53.880407   \n",
       "Monday         239496  324223839  25377988    328999576  158616321  50.756044   \n",
       "Saturday       264950  341698439  28203785    354499568  174588371  56.407639   \n",
       "Sunday         257014  352109414  27967816    347999651  175823425  55.935686   \n",
       "Thursday       244341  329889181  25901197    338999670  166600016  51.802442   \n",
       "Tuesday        265546  371022629  28748865    364999687  188713430  57.497776   \n",
       "Wednesday      257652  351149071  28004380    349999646  174956204  56.008828   \n",
       "\n",
       "                     CPC         CPI    age  \n",
       "Day of Week                                  \n",
       "Friday       7190.302721  346.429246  36906  \n",
       "Monday       5968.210696  317.233058  35052  \n",
       "Saturday     7182.254755  349.177175  38818  \n",
       "Sunday       7219.719379  351.647165  37545  \n",
       "Thursday     8175.058484  333.200366  36697  \n",
       "Tuesday      7436.589795  377.427222  39576  \n",
       "Wednesday    6843.002989  349.912738  38307  "
      ]
     },
     "execution_count": 118,
     "metadata": {},
     "output_type": "execute_result"
    }
   ],
   "source": [
    "df_weekday"
   ]
  },
  {
   "cell_type": "code",
   "execution_count": 119,
   "metadata": {},
   "outputs": [
    {
     "data": {
      "text/html": [
       "<div>\n",
       "<style scoped>\n",
       "    .dataframe tbody tr th:only-of-type {\n",
       "        vertical-align: middle;\n",
       "    }\n",
       "\n",
       "    .dataframe tbody tr th {\n",
       "        vertical-align: top;\n",
       "    }\n",
       "\n",
       "    .dataframe thead tr th {\n",
       "        text-align: left;\n",
       "    }\n",
       "\n",
       "    .dataframe thead tr:last-of-type th {\n",
       "        text-align: right;\n",
       "    }\n",
       "</style>\n",
       "<table border=\"1\" class=\"dataframe\">\n",
       "  <thead>\n",
       "    <tr>\n",
       "      <th></th>\n",
       "      <th></th>\n",
       "      <th colspan=\"2\" halign=\"left\">Impressions</th>\n",
       "      <th colspan=\"2\" halign=\"left\">Spent</th>\n",
       "    </tr>\n",
       "    <tr>\n",
       "      <th></th>\n",
       "      <th></th>\n",
       "      <th>mean</th>\n",
       "      <th>std</th>\n",
       "      <th>mean</th>\n",
       "      <th>std</th>\n",
       "    </tr>\n",
       "    <tr>\n",
       "      <th>Target Gender</th>\n",
       "      <th>Target Age</th>\n",
       "      <th></th>\n",
       "      <th></th>\n",
       "      <th></th>\n",
       "      <th></th>\n",
       "    </tr>\n",
       "  </thead>\n",
       "  <tbody>\n",
       "    <tr>\n",
       "      <th rowspan=\"5\" valign=\"top\">B</th>\n",
       "      <th>10-15</th>\n",
       "      <td>499999.200000</td>\n",
       "      <td>1.784285</td>\n",
       "      <td>181739.520000</td>\n",
       "      <td>196910.341140</td>\n",
       "    </tr>\n",
       "    <tr>\n",
       "      <th>10-20</th>\n",
       "      <td>499999.687500</td>\n",
       "      <td>1.925005</td>\n",
       "      <td>232931.781250</td>\n",
       "      <td>207072.446294</td>\n",
       "    </tr>\n",
       "    <tr>\n",
       "      <th>10-25</th>\n",
       "      <td>499999.151515</td>\n",
       "      <td>2.093460</td>\n",
       "      <td>300033.303030</td>\n",
       "      <td>268397.449073</td>\n",
       "    </tr>\n",
       "    <tr>\n",
       "      <th>10-30</th>\n",
       "      <td>499999.085106</td>\n",
       "      <td>2.526639</td>\n",
       "      <td>273394.340426</td>\n",
       "      <td>228881.275248</td>\n",
       "    </tr>\n",
       "    <tr>\n",
       "      <th>10-35</th>\n",
       "      <td>499999.361111</td>\n",
       "      <td>2.044544</td>\n",
       "      <td>185034.972222</td>\n",
       "      <td>195908.610015</td>\n",
       "    </tr>\n",
       "    <tr>\n",
       "      <th>...</th>\n",
       "      <th>...</th>\n",
       "      <td>...</td>\n",
       "      <td>...</td>\n",
       "      <td>...</td>\n",
       "      <td>...</td>\n",
       "    </tr>\n",
       "    <tr>\n",
       "      <th rowspan=\"5\" valign=\"top\">M</th>\n",
       "      <th>45-50</th>\n",
       "      <td>499999.315789</td>\n",
       "      <td>2.014881</td>\n",
       "      <td>236957.789474</td>\n",
       "      <td>206034.574572</td>\n",
       "    </tr>\n",
       "    <tr>\n",
       "      <th>45-55</th>\n",
       "      <td>499999.408163</td>\n",
       "      <td>2.335580</td>\n",
       "      <td>211268.408163</td>\n",
       "      <td>165040.963606</td>\n",
       "    </tr>\n",
       "    <tr>\n",
       "      <th>45-60</th>\n",
       "      <td>499999.769231</td>\n",
       "      <td>2.065095</td>\n",
       "      <td>299021.038462</td>\n",
       "      <td>287396.930800</td>\n",
       "    </tr>\n",
       "    <tr>\n",
       "      <th>45-65</th>\n",
       "      <td>499999.531915</td>\n",
       "      <td>1.851569</td>\n",
       "      <td>258628.936170</td>\n",
       "      <td>215345.433342</td>\n",
       "    </tr>\n",
       "    <tr>\n",
       "      <th>45-70</th>\n",
       "      <td>499999.619048</td>\n",
       "      <td>1.873465</td>\n",
       "      <td>246121.809524</td>\n",
       "      <td>198581.164307</td>\n",
       "    </tr>\n",
       "  </tbody>\n",
       "</table>\n",
       "<p>120 rows × 4 columns</p>\n",
       "</div>"
      ],
      "text/plain": [
       "                            Impressions                    Spent  \\\n",
       "                                   mean       std           mean   \n",
       "Target Gender Target Age                                           \n",
       "B             10-15       499999.200000  1.784285  181739.520000   \n",
       "              10-20       499999.687500  1.925005  232931.781250   \n",
       "              10-25       499999.151515  2.093460  300033.303030   \n",
       "              10-30       499999.085106  2.526639  273394.340426   \n",
       "              10-35       499999.361111  2.044544  185034.972222   \n",
       "...                                 ...       ...            ...   \n",
       "M             45-50       499999.315789  2.014881  236957.789474   \n",
       "              45-55       499999.408163  2.335580  211268.408163   \n",
       "              45-60       499999.769231  2.065095  299021.038462   \n",
       "              45-65       499999.531915  1.851569  258628.936170   \n",
       "              45-70       499999.619048  1.873465  246121.809524   \n",
       "\n",
       "                                         \n",
       "                                    std  \n",
       "Target Gender Target Age                 \n",
       "B             10-15       196910.341140  \n",
       "              10-20       207072.446294  \n",
       "              10-25       268397.449073  \n",
       "              10-30       228881.275248  \n",
       "              10-35       195908.610015  \n",
       "...                                 ...  \n",
       "M             45-50       206034.574572  \n",
       "              45-55       165040.963606  \n",
       "              45-60       287396.930800  \n",
       "              45-65       215345.433342  \n",
       "              45-70       198581.164307  \n",
       "\n",
       "[120 rows x 4 columns]"
      ]
     },
     "execution_count": 119,
     "metadata": {},
     "output_type": "execute_result"
    }
   ],
   "source": [
    "# data aggregation\n",
    "\n",
    "agg_config = {\n",
    "    'Impressions': ['mean', 'std'],\n",
    "    'Spent': ['mean', 'std'],\n",
    "}\n",
    "df.groupby(['Target Gender', 'Target Age']).agg(agg_config)"
   ]
  },
  {
   "cell_type": "code",
   "execution_count": 120,
   "metadata": {},
   "outputs": [
    {
     "data": {
      "text/html": [
       "<div>\n",
       "<style scoped>\n",
       "    .dataframe tbody tr th:only-of-type {\n",
       "        vertical-align: middle;\n",
       "    }\n",
       "\n",
       "    .dataframe tbody tr th {\n",
       "        vertical-align: top;\n",
       "    }\n",
       "\n",
       "    .dataframe thead tr th {\n",
       "        text-align: left;\n",
       "    }\n",
       "\n",
       "    .dataframe thead tr:last-of-type th {\n",
       "        text-align: right;\n",
       "    }\n",
       "</style>\n",
       "<table border=\"1\" class=\"dataframe\">\n",
       "  <thead>\n",
       "    <tr>\n",
       "      <th></th>\n",
       "      <th colspan=\"3\" halign=\"left\">Clicks</th>\n",
       "      <th colspan=\"3\" halign=\"left\">Impressions</th>\n",
       "      <th colspan=\"3\" halign=\"left\">Spent</th>\n",
       "    </tr>\n",
       "    <tr>\n",
       "      <th>Target Gender</th>\n",
       "      <th>B</th>\n",
       "      <th>F</th>\n",
       "      <th>M</th>\n",
       "      <th>B</th>\n",
       "      <th>F</th>\n",
       "      <th>M</th>\n",
       "      <th>B</th>\n",
       "      <th>F</th>\n",
       "      <th>M</th>\n",
       "    </tr>\n",
       "    <tr>\n",
       "      <th>Target Age</th>\n",
       "      <th></th>\n",
       "      <th></th>\n",
       "      <th></th>\n",
       "      <th></th>\n",
       "      <th></th>\n",
       "      <th></th>\n",
       "      <th></th>\n",
       "      <th></th>\n",
       "      <th></th>\n",
       "    </tr>\n",
       "  </thead>\n",
       "  <tbody>\n",
       "    <tr>\n",
       "      <th>10-15</th>\n",
       "      <td>1905493</td>\n",
       "      <td>1068912</td>\n",
       "      <td>1847111</td>\n",
       "      <td>24999960</td>\n",
       "      <td>15499990</td>\n",
       "      <td>22999984</td>\n",
       "      <td>9086976</td>\n",
       "      <td>8592615</td>\n",
       "      <td>12057975</td>\n",
       "    </tr>\n",
       "    <tr>\n",
       "      <th>10-20</th>\n",
       "      <td>1230169</td>\n",
       "      <td>1985373</td>\n",
       "      <td>1489542</td>\n",
       "      <td>15999990</td>\n",
       "      <td>23999976</td>\n",
       "      <td>22499967</td>\n",
       "      <td>7453817</td>\n",
       "      <td>14319699</td>\n",
       "      <td>12567054</td>\n",
       "    </tr>\n",
       "    <tr>\n",
       "      <th>10-25</th>\n",
       "      <td>1401020</td>\n",
       "      <td>1608844</td>\n",
       "      <td>1318410</td>\n",
       "      <td>16499972</td>\n",
       "      <td>19499953</td>\n",
       "      <td>15499985</td>\n",
       "      <td>9901099</td>\n",
       "      <td>10980842</td>\n",
       "      <td>7346333</td>\n",
       "    </tr>\n",
       "    <tr>\n",
       "      <th>10-30</th>\n",
       "      <td>1747675</td>\n",
       "      <td>1765814</td>\n",
       "      <td>2152115</td>\n",
       "      <td>23499957</td>\n",
       "      <td>21499997</td>\n",
       "      <td>22500012</td>\n",
       "      <td>12849534</td>\n",
       "      <td>15135961</td>\n",
       "      <td>10734123</td>\n",
       "    </tr>\n",
       "    <tr>\n",
       "      <th>10-35</th>\n",
       "      <td>1560267</td>\n",
       "      <td>1745109</td>\n",
       "      <td>1040148</td>\n",
       "      <td>17999977</td>\n",
       "      <td>19499972</td>\n",
       "      <td>15499996</td>\n",
       "      <td>6661259</td>\n",
       "      <td>8011258</td>\n",
       "      <td>7873254</td>\n",
       "    </tr>\n",
       "    <tr>\n",
       "      <th>15-20</th>\n",
       "      <td>1696443</td>\n",
       "      <td>1341780</td>\n",
       "      <td>1690533</td>\n",
       "      <td>23499973</td>\n",
       "      <td>19999976</td>\n",
       "      <td>23499945</td>\n",
       "      <td>8456772</td>\n",
       "      <td>8884980</td>\n",
       "      <td>13852208</td>\n",
       "    </tr>\n",
       "    <tr>\n",
       "      <th>15-25</th>\n",
       "      <td>1525740</td>\n",
       "      <td>1729052</td>\n",
       "      <td>1314600</td>\n",
       "      <td>21499966</td>\n",
       "      <td>23499986</td>\n",
       "      <td>17999975</td>\n",
       "      <td>10959613</td>\n",
       "      <td>11721819</td>\n",
       "      <td>10179551</td>\n",
       "    </tr>\n",
       "    <tr>\n",
       "      <th>15-30</th>\n",
       "      <td>1296967</td>\n",
       "      <td>1651080</td>\n",
       "      <td>1773631</td>\n",
       "      <td>16499966</td>\n",
       "      <td>18499958</td>\n",
       "      <td>17499985</td>\n",
       "      <td>6723391</td>\n",
       "      <td>10409966</td>\n",
       "      <td>7769213</td>\n",
       "    </tr>\n",
       "    <tr>\n",
       "      <th>15-35</th>\n",
       "      <td>1761228</td>\n",
       "      <td>1439485</td>\n",
       "      <td>1870907</td>\n",
       "      <td>22499971</td>\n",
       "      <td>22499964</td>\n",
       "      <td>21999976</td>\n",
       "      <td>11163795</td>\n",
       "      <td>10519165</td>\n",
       "      <td>8834276</td>\n",
       "    </tr>\n",
       "    <tr>\n",
       "      <th>15-40</th>\n",
       "      <td>2111677</td>\n",
       "      <td>1726282</td>\n",
       "      <td>2005627</td>\n",
       "      <td>24999972</td>\n",
       "      <td>19999967</td>\n",
       "      <td>22499983</td>\n",
       "      <td>13343172</td>\n",
       "      <td>9675383</td>\n",
       "      <td>9421423</td>\n",
       "    </tr>\n",
       "    <tr>\n",
       "      <th>20-25</th>\n",
       "      <td>1379037</td>\n",
       "      <td>1517157</td>\n",
       "      <td>1980757</td>\n",
       "      <td>18999990</td>\n",
       "      <td>17499999</td>\n",
       "      <td>22499991</td>\n",
       "      <td>10392748</td>\n",
       "      <td>9405138</td>\n",
       "      <td>9815573</td>\n",
       "    </tr>\n",
       "    <tr>\n",
       "      <th>20-30</th>\n",
       "      <td>1695199</td>\n",
       "      <td>1453229</td>\n",
       "      <td>1994931</td>\n",
       "      <td>23999980</td>\n",
       "      <td>16999983</td>\n",
       "      <td>23499986</td>\n",
       "      <td>11339242</td>\n",
       "      <td>8661193</td>\n",
       "      <td>12772848</td>\n",
       "    </tr>\n",
       "    <tr>\n",
       "      <th>20-35</th>\n",
       "      <td>1760239</td>\n",
       "      <td>992844</td>\n",
       "      <td>1716907</td>\n",
       "      <td>21499977</td>\n",
       "      <td>14499975</td>\n",
       "      <td>22499980</td>\n",
       "      <td>9764464</td>\n",
       "      <td>7662021</td>\n",
       "      <td>12542062</td>\n",
       "    </tr>\n",
       "    <tr>\n",
       "      <th>20-40</th>\n",
       "      <td>1525267</td>\n",
       "      <td>1460602</td>\n",
       "      <td>1812657</td>\n",
       "      <td>19999969</td>\n",
       "      <td>20499962</td>\n",
       "      <td>21499974</td>\n",
       "      <td>7901617</td>\n",
       "      <td>9688527</td>\n",
       "      <td>11387162</td>\n",
       "    </tr>\n",
       "    <tr>\n",
       "      <th>20-45</th>\n",
       "      <td>1066162</td>\n",
       "      <td>1461298</td>\n",
       "      <td>1159175</td>\n",
       "      <td>14499961</td>\n",
       "      <td>19999979</td>\n",
       "      <td>14000009</td>\n",
       "      <td>8575247</td>\n",
       "      <td>9770585</td>\n",
       "      <td>6501746</td>\n",
       "    </tr>\n",
       "    <tr>\n",
       "      <th>25-30</th>\n",
       "      <td>1772534</td>\n",
       "      <td>1699267</td>\n",
       "      <td>1425757</td>\n",
       "      <td>22499998</td>\n",
       "      <td>19999984</td>\n",
       "      <td>17999989</td>\n",
       "      <td>11614843</td>\n",
       "      <td>9921777</td>\n",
       "      <td>8820047</td>\n",
       "    </tr>\n",
       "    <tr>\n",
       "      <th>25-35</th>\n",
       "      <td>1291574</td>\n",
       "      <td>1749821</td>\n",
       "      <td>1492060</td>\n",
       "      <td>16499988</td>\n",
       "      <td>23499988</td>\n",
       "      <td>18499971</td>\n",
       "      <td>7356266</td>\n",
       "      <td>12661674</td>\n",
       "      <td>9638583</td>\n",
       "    </tr>\n",
       "    <tr>\n",
       "      <th>25-40</th>\n",
       "      <td>1518129</td>\n",
       "      <td>1603999</td>\n",
       "      <td>1864120</td>\n",
       "      <td>21499981</td>\n",
       "      <td>19499986</td>\n",
       "      <td>22999966</td>\n",
       "      <td>9506336</td>\n",
       "      <td>7488353</td>\n",
       "      <td>12029579</td>\n",
       "    </tr>\n",
       "    <tr>\n",
       "      <th>25-45</th>\n",
       "      <td>1692534</td>\n",
       "      <td>1784067</td>\n",
       "      <td>1813777</td>\n",
       "      <td>22499978</td>\n",
       "      <td>26499961</td>\n",
       "      <td>24499974</td>\n",
       "      <td>9742042</td>\n",
       "      <td>11396115</td>\n",
       "      <td>11490287</td>\n",
       "    </tr>\n",
       "    <tr>\n",
       "      <th>25-50</th>\n",
       "      <td>2213737</td>\n",
       "      <td>1414929</td>\n",
       "      <td>1169227</td>\n",
       "      <td>26499969</td>\n",
       "      <td>21499977</td>\n",
       "      <td>13499978</td>\n",
       "      <td>13485806</td>\n",
       "      <td>11274398</td>\n",
       "      <td>3717698</td>\n",
       "    </tr>\n",
       "    <tr>\n",
       "      <th>30-35</th>\n",
       "      <td>1610576</td>\n",
       "      <td>1866739</td>\n",
       "      <td>1038735</td>\n",
       "      <td>20499983</td>\n",
       "      <td>24499955</td>\n",
       "      <td>13999977</td>\n",
       "      <td>9358416</td>\n",
       "      <td>12660574</td>\n",
       "      <td>6288476</td>\n",
       "    </tr>\n",
       "    <tr>\n",
       "      <th>30-40</th>\n",
       "      <td>1594884</td>\n",
       "      <td>1841310</td>\n",
       "      <td>1713102</td>\n",
       "      <td>18999972</td>\n",
       "      <td>24999978</td>\n",
       "      <td>17500002</td>\n",
       "      <td>9906676</td>\n",
       "      <td>12902835</td>\n",
       "      <td>8211254</td>\n",
       "    </tr>\n",
       "    <tr>\n",
       "      <th>30-45</th>\n",
       "      <td>1729530</td>\n",
       "      <td>1810158</td>\n",
       "      <td>1927650</td>\n",
       "      <td>21999972</td>\n",
       "      <td>23499963</td>\n",
       "      <td>23499978</td>\n",
       "      <td>12050299</td>\n",
       "      <td>10836782</td>\n",
       "      <td>11379241</td>\n",
       "    </tr>\n",
       "    <tr>\n",
       "      <th>30-50</th>\n",
       "      <td>1442286</td>\n",
       "      <td>1914412</td>\n",
       "      <td>1647556</td>\n",
       "      <td>18499983</td>\n",
       "      <td>23499972</td>\n",
       "      <td>18999999</td>\n",
       "      <td>10885477</td>\n",
       "      <td>13421695</td>\n",
       "      <td>9694224</td>\n",
       "    </tr>\n",
       "    <tr>\n",
       "      <th>30-55</th>\n",
       "      <td>1430402</td>\n",
       "      <td>1295836</td>\n",
       "      <td>2033735</td>\n",
       "      <td>20499969</td>\n",
       "      <td>16999974</td>\n",
       "      <td>22499986</td>\n",
       "      <td>9855973</td>\n",
       "      <td>11643689</td>\n",
       "      <td>11294130</td>\n",
       "    </tr>\n",
       "    <tr>\n",
       "      <th>35-40</th>\n",
       "      <td>1685591</td>\n",
       "      <td>1595473</td>\n",
       "      <td>1168707</td>\n",
       "      <td>20999976</td>\n",
       "      <td>19499972</td>\n",
       "      <td>14499978</td>\n",
       "      <td>8199691</td>\n",
       "      <td>12363664</td>\n",
       "      <td>6627526</td>\n",
       "    </tr>\n",
       "    <tr>\n",
       "      <th>35-45</th>\n",
       "      <td>1498299</td>\n",
       "      <td>1687121</td>\n",
       "      <td>1449851</td>\n",
       "      <td>18499983</td>\n",
       "      <td>19500014</td>\n",
       "      <td>19499992</td>\n",
       "      <td>9953511</td>\n",
       "      <td>7170181</td>\n",
       "      <td>8093891</td>\n",
       "    </tr>\n",
       "    <tr>\n",
       "      <th>35-50</th>\n",
       "      <td>1127954</td>\n",
       "      <td>1337160</td>\n",
       "      <td>1786116</td>\n",
       "      <td>16499995</td>\n",
       "      <td>19999980</td>\n",
       "      <td>24499937</td>\n",
       "      <td>8603191</td>\n",
       "      <td>11619507</td>\n",
       "      <td>13144735</td>\n",
       "    </tr>\n",
       "    <tr>\n",
       "      <th>35-55</th>\n",
       "      <td>2071700</td>\n",
       "      <td>1706614</td>\n",
       "      <td>1045374</td>\n",
       "      <td>23499970</td>\n",
       "      <td>22499973</td>\n",
       "      <td>16499974</td>\n",
       "      <td>9512628</td>\n",
       "      <td>14234268</td>\n",
       "      <td>7760153</td>\n",
       "    </tr>\n",
       "    <tr>\n",
       "      <th>35-60</th>\n",
       "      <td>1315908</td>\n",
       "      <td>1550218</td>\n",
       "      <td>1453539</td>\n",
       "      <td>17999998</td>\n",
       "      <td>19999973</td>\n",
       "      <td>18499960</td>\n",
       "      <td>8685704</td>\n",
       "      <td>11158895</td>\n",
       "      <td>10622303</td>\n",
       "    </tr>\n",
       "    <tr>\n",
       "      <th>40-45</th>\n",
       "      <td>1150346</td>\n",
       "      <td>1383095</td>\n",
       "      <td>1458643</td>\n",
       "      <td>15000002</td>\n",
       "      <td>17000006</td>\n",
       "      <td>19499985</td>\n",
       "      <td>8422956</td>\n",
       "      <td>11079623</td>\n",
       "      <td>7893983</td>\n",
       "    </tr>\n",
       "    <tr>\n",
       "      <th>40-50</th>\n",
       "      <td>1036529</td>\n",
       "      <td>1955210</td>\n",
       "      <td>1445097</td>\n",
       "      <td>16999997</td>\n",
       "      <td>21999967</td>\n",
       "      <td>16499995</td>\n",
       "      <td>8353289</td>\n",
       "      <td>12232416</td>\n",
       "      <td>8377513</td>\n",
       "    </tr>\n",
       "    <tr>\n",
       "      <th>40-55</th>\n",
       "      <td>2057836</td>\n",
       "      <td>1419858</td>\n",
       "      <td>2059066</td>\n",
       "      <td>25499983</td>\n",
       "      <td>18999980</td>\n",
       "      <td>25499999</td>\n",
       "      <td>11421874</td>\n",
       "      <td>12845203</td>\n",
       "      <td>13214839</td>\n",
       "    </tr>\n",
       "    <tr>\n",
       "      <th>40-60</th>\n",
       "      <td>1151250</td>\n",
       "      <td>1646962</td>\n",
       "      <td>1744781</td>\n",
       "      <td>15999962</td>\n",
       "      <td>21499953</td>\n",
       "      <td>19999979</td>\n",
       "      <td>7608787</td>\n",
       "      <td>10433689</td>\n",
       "      <td>9229387</td>\n",
       "    </tr>\n",
       "    <tr>\n",
       "      <th>40-65</th>\n",
       "      <td>1432498</td>\n",
       "      <td>2207459</td>\n",
       "      <td>2156633</td>\n",
       "      <td>14499984</td>\n",
       "      <td>25499982</td>\n",
       "      <td>28999965</td>\n",
       "      <td>8897307</td>\n",
       "      <td>14863128</td>\n",
       "      <td>13787965</td>\n",
       "    </tr>\n",
       "    <tr>\n",
       "      <th>45-50</th>\n",
       "      <td>1486595</td>\n",
       "      <td>1384326</td>\n",
       "      <td>1490518</td>\n",
       "      <td>19999979</td>\n",
       "      <td>18999957</td>\n",
       "      <td>18999974</td>\n",
       "      <td>9276790</td>\n",
       "      <td>6283150</td>\n",
       "      <td>9004396</td>\n",
       "    </tr>\n",
       "    <tr>\n",
       "      <th>45-55</th>\n",
       "      <td>1684513</td>\n",
       "      <td>1580462</td>\n",
       "      <td>2078964</td>\n",
       "      <td>21500003</td>\n",
       "      <td>22499977</td>\n",
       "      <td>24499971</td>\n",
       "      <td>12295147</td>\n",
       "      <td>10418344</td>\n",
       "      <td>10352152</td>\n",
       "    </tr>\n",
       "    <tr>\n",
       "      <th>45-60</th>\n",
       "      <td>1421427</td>\n",
       "      <td>2189211</td>\n",
       "      <td>1129961</td>\n",
       "      <td>15999988</td>\n",
       "      <td>26499979</td>\n",
       "      <td>12999994</td>\n",
       "      <td>8686153</td>\n",
       "      <td>11813849</td>\n",
       "      <td>7774547</td>\n",
       "    </tr>\n",
       "    <tr>\n",
       "      <th>45-65</th>\n",
       "      <td>1491364</td>\n",
       "      <td>1222326</td>\n",
       "      <td>1949724</td>\n",
       "      <td>17999968</td>\n",
       "      <td>16499997</td>\n",
       "      <td>23499978</td>\n",
       "      <td>10114264</td>\n",
       "      <td>8936452</td>\n",
       "      <td>12155560</td>\n",
       "    </tr>\n",
       "    <tr>\n",
       "      <th>45-70</th>\n",
       "      <td>1031033</td>\n",
       "      <td>1374348</td>\n",
       "      <td>1665608</td>\n",
       "      <td>13499989</td>\n",
       "      <td>22000007</td>\n",
       "      <td>20999984</td>\n",
       "      <td>6147676</td>\n",
       "      <td>10304588</td>\n",
       "      <td>10337116</td>\n",
       "    </tr>\n",
       "  </tbody>\n",
       "</table>\n",
       "</div>"
      ],
      "text/plain": [
       "                Clicks                   Impressions                      \\\n",
       "Target Gender        B        F        M           B         F         M   \n",
       "Target Age                                                                 \n",
       "10-15          1905493  1068912  1847111    24999960  15499990  22999984   \n",
       "10-20          1230169  1985373  1489542    15999990  23999976  22499967   \n",
       "10-25          1401020  1608844  1318410    16499972  19499953  15499985   \n",
       "10-30          1747675  1765814  2152115    23499957  21499997  22500012   \n",
       "10-35          1560267  1745109  1040148    17999977  19499972  15499996   \n",
       "15-20          1696443  1341780  1690533    23499973  19999976  23499945   \n",
       "15-25          1525740  1729052  1314600    21499966  23499986  17999975   \n",
       "15-30          1296967  1651080  1773631    16499966  18499958  17499985   \n",
       "15-35          1761228  1439485  1870907    22499971  22499964  21999976   \n",
       "15-40          2111677  1726282  2005627    24999972  19999967  22499983   \n",
       "20-25          1379037  1517157  1980757    18999990  17499999  22499991   \n",
       "20-30          1695199  1453229  1994931    23999980  16999983  23499986   \n",
       "20-35          1760239   992844  1716907    21499977  14499975  22499980   \n",
       "20-40          1525267  1460602  1812657    19999969  20499962  21499974   \n",
       "20-45          1066162  1461298  1159175    14499961  19999979  14000009   \n",
       "25-30          1772534  1699267  1425757    22499998  19999984  17999989   \n",
       "25-35          1291574  1749821  1492060    16499988  23499988  18499971   \n",
       "25-40          1518129  1603999  1864120    21499981  19499986  22999966   \n",
       "25-45          1692534  1784067  1813777    22499978  26499961  24499974   \n",
       "25-50          2213737  1414929  1169227    26499969  21499977  13499978   \n",
       "30-35          1610576  1866739  1038735    20499983  24499955  13999977   \n",
       "30-40          1594884  1841310  1713102    18999972  24999978  17500002   \n",
       "30-45          1729530  1810158  1927650    21999972  23499963  23499978   \n",
       "30-50          1442286  1914412  1647556    18499983  23499972  18999999   \n",
       "30-55          1430402  1295836  2033735    20499969  16999974  22499986   \n",
       "35-40          1685591  1595473  1168707    20999976  19499972  14499978   \n",
       "35-45          1498299  1687121  1449851    18499983  19500014  19499992   \n",
       "35-50          1127954  1337160  1786116    16499995  19999980  24499937   \n",
       "35-55          2071700  1706614  1045374    23499970  22499973  16499974   \n",
       "35-60          1315908  1550218  1453539    17999998  19999973  18499960   \n",
       "40-45          1150346  1383095  1458643    15000002  17000006  19499985   \n",
       "40-50          1036529  1955210  1445097    16999997  21999967  16499995   \n",
       "40-55          2057836  1419858  2059066    25499983  18999980  25499999   \n",
       "40-60          1151250  1646962  1744781    15999962  21499953  19999979   \n",
       "40-65          1432498  2207459  2156633    14499984  25499982  28999965   \n",
       "45-50          1486595  1384326  1490518    19999979  18999957  18999974   \n",
       "45-55          1684513  1580462  2078964    21500003  22499977  24499971   \n",
       "45-60          1421427  2189211  1129961    15999988  26499979  12999994   \n",
       "45-65          1491364  1222326  1949724    17999968  16499997  23499978   \n",
       "45-70          1031033  1374348  1665608    13499989  22000007  20999984   \n",
       "\n",
       "                  Spent                      \n",
       "Target Gender         B         F         M  \n",
       "Target Age                                   \n",
       "10-15           9086976   8592615  12057975  \n",
       "10-20           7453817  14319699  12567054  \n",
       "10-25           9901099  10980842   7346333  \n",
       "10-30          12849534  15135961  10734123  \n",
       "10-35           6661259   8011258   7873254  \n",
       "15-20           8456772   8884980  13852208  \n",
       "15-25          10959613  11721819  10179551  \n",
       "15-30           6723391  10409966   7769213  \n",
       "15-35          11163795  10519165   8834276  \n",
       "15-40          13343172   9675383   9421423  \n",
       "20-25          10392748   9405138   9815573  \n",
       "20-30          11339242   8661193  12772848  \n",
       "20-35           9764464   7662021  12542062  \n",
       "20-40           7901617   9688527  11387162  \n",
       "20-45           8575247   9770585   6501746  \n",
       "25-30          11614843   9921777   8820047  \n",
       "25-35           7356266  12661674   9638583  \n",
       "25-40           9506336   7488353  12029579  \n",
       "25-45           9742042  11396115  11490287  \n",
       "25-50          13485806  11274398   3717698  \n",
       "30-35           9358416  12660574   6288476  \n",
       "30-40           9906676  12902835   8211254  \n",
       "30-45          12050299  10836782  11379241  \n",
       "30-50          10885477  13421695   9694224  \n",
       "30-55           9855973  11643689  11294130  \n",
       "35-40           8199691  12363664   6627526  \n",
       "35-45           9953511   7170181   8093891  \n",
       "35-50           8603191  11619507  13144735  \n",
       "35-55           9512628  14234268   7760153  \n",
       "35-60           8685704  11158895  10622303  \n",
       "40-45           8422956  11079623   7893983  \n",
       "40-50           8353289  12232416   8377513  \n",
       "40-55          11421874  12845203  13214839  \n",
       "40-60           7608787  10433689   9229387  \n",
       "40-65           8897307  14863128  13787965  \n",
       "45-50           9276790   6283150   9004396  \n",
       "45-55          12295147  10418344  10352152  \n",
       "45-60           8686153  11813849   7774547  \n",
       "45-65          10114264   8936452  12155560  \n",
       "45-70           6147676  10304588  10337116  "
      ]
     },
     "execution_count": 120,
     "metadata": {},
     "output_type": "execute_result"
    }
   ],
   "source": [
    "# pivot table\n",
    "\n",
    "df.pivot_table(\n",
    "    values=['Impressions', 'Clicks', 'Spent'],\n",
    "    index=['Target Age'],\n",
    "    columns=['Target Gender'],\n",
    "    aggfunc=np.sum)"
   ]
  },
  {
   "cell_type": "code",
   "execution_count": 130,
   "metadata": {},
   "outputs": [
    {
     "data": {
      "text/plain": [
       "'AKX_46_F'"
      ]
     },
     "execution_count": 130,
     "metadata": {},
     "output_type": "execute_result"
    }
   ],
   "source": [
    "'_'.join(('AKX', '46', 'F'))"
   ]
  },
  {
   "cell_type": "markdown",
   "metadata": {},
   "source": [
    "## Introduction to API development"
   ]
  },
  {
   "cell_type": "code",
   "execution_count": 139,
   "metadata": {},
   "outputs": [],
   "source": [
    "# type hinting\n",
    "# we can use all the standard Python types: int, str, float, complex, bool, bytes, and so on\n",
    "\n",
    "def greet(first_name: str, last_name: str, age: int = 18) -> str:\n",
    "    return f\"Greeting {first_name} {last_name} of age {age}\""
   ]
  },
  {
   "cell_type": "code",
   "execution_count": 142,
   "metadata": {},
   "outputs": [
    {
     "data": {
      "text/plain": [
       "'Greeting Tanya Dudal of age 18'"
      ]
     },
     "execution_count": 142,
     "metadata": {},
     "output_type": "execute_result"
    }
   ],
   "source": [
    "greet('Tanya', 'Dudal')"
   ]
  },
  {
   "cell_type": "markdown",
   "metadata": {},
   "source": [
    "There are some Python data structures that can contain other values, such as \n",
    "- list, \n",
    "- dict, \n",
    "- set,\n",
    "- tuple. \n",
    "\n",
    "Their internal values can have their own type too. To declare those types, and the types of their internal values, we need to use the **typing** module from the standard library."
   ]
  },
  {
   "cell_type": "code",
   "execution_count": 144,
   "metadata": {},
   "outputs": [],
   "source": [
    "from typing import List\n",
    "\n",
    "def process_words(words: List[str]):\n",
    "    for word in words:\n",
    "        # do something with word\n",
    "        pass"
   ]
  },
  {
   "cell_type": "code",
   "execution_count": 145,
   "metadata": {},
   "outputs": [],
   "source": [
    "from typing import Dict\n",
    "\n",
    "def process_users(users: Dict[str, int]):\n",
    "    for name, age in users.items():\n",
    "        # do something with name and age\n",
    "        pass"
   ]
  },
  {
   "cell_type": "code",
   "execution_count": 146,
   "metadata": {},
   "outputs": [],
   "source": [
    "# to declare that an argument has a certain type, but that it could also be None (that is, it's optional)\n",
    "# we can use Optional module\n",
    "\n",
    "from typing import Optional\n",
    "\n",
    "def greet_again(name: Optional[str] = None):\n",
    "    if name is not None:\n",
    "        print(f\"Hello {name}!\")\n",
    "    else:\n",
    "        print(\"Hey dude\")"
   ]
  },
  {
   "cell_type": "code",
   "execution_count": 147,
   "metadata": {},
   "outputs": [
    {
     "name": "stdout",
     "output_type": "stream",
     "text": [
      "Hey dude\n"
     ]
    }
   ],
   "source": [
    "greet_again()"
   ]
  },
  {
   "cell_type": "markdown",
   "metadata": {},
   "source": [
    "I skipped the other content of this chapter as soon as it has no sence for my goals today."
   ]
  },
  {
   "cell_type": "code",
   "execution_count": null,
   "metadata": {},
   "outputs": [],
   "source": []
  }
 ],
 "metadata": {
  "kernelspec": {
   "display_name": "Python 3 (ipykernel)",
   "language": "python",
   "name": "python3"
  },
  "language_info": {
   "codemirror_mode": {
    "name": "ipython",
    "version": 3
   },
   "file_extension": ".py",
   "mimetype": "text/x-python",
   "name": "python",
   "nbconvert_exporter": "python",
   "pygments_lexer": "ipython3",
   "version": "3.9.7"
  },
  "toc": {
   "base_numbering": 1,
   "nav_menu": {},
   "number_sections": true,
   "sideBar": true,
   "skip_h1_title": false,
   "title_cell": "Table of Contents",
   "title_sidebar": "Contents",
   "toc_cell": false,
   "toc_position": {},
   "toc_section_display": true,
   "toc_window_display": false
  }
 },
 "nbformat": 4,
 "nbformat_minor": 4
}
